{
 "cells": [
  {
   "cell_type": "markdown",
   "metadata": {},
   "source": [
    "![This is an image](Quant-Trading.jpg)"
   ]
  },
  {
   "cell_type": "markdown",
   "metadata": {},
   "source": [
    "<font size=\"3\">\n",
    "Please visit our website <a href=\"https://www.quant-trading.co\" target=\"_blank\">quant-trading.co</a> for more tools on quantitative finance and data science.\n",
    "</font>"
   ]
  },
  {
   "cell_type": "markdown",
   "metadata": {},
   "source": [
    "# **How to make a treemap chart for market cap and daily returns?**\n",
    "\n",
    "## **Treemap chart for market cap and daily returns**\n",
    "\n",
    "<font size=\"3\"> Many of you have seen treemap charts where the market cap defines the sizes of the boxes and daily returns the colors. In this notebook we will learn how to built a treemap chart for market cap and daily returns using python code. A lot of people think they need a fancy financial system like Bloomberg to get this kind of charts, but the reality is that you can make this treemap charts using public APIs like the one of <a href=\"https://quant-trading.co/how-to-download-data-from-yahoo-finance-api/\" target=\"_blank\">Yahoo Finance</a> and open code libraries like plotly. Let's see how to make a treemap for the stock market cap. "
   ]
  },
  {
   "cell_type": "code",
   "execution_count": 1,
   "metadata": {},
   "outputs": [],
   "source": [
    "import warnings\n",
    "warnings.filterwarnings('ignore')\n",
    "\n",
    "import numpy as np\n",
    "import pandas as pd\n",
    "import yfinance as yf\n",
    "import plotly.express as px"
   ]
  },
  {
   "cell_type": "markdown",
   "metadata": {},
   "source": [
    "## **Get the information from the stocks you want to visualize**\n",
    "\n",
    "<font size=\"3\"> We will show a treemap of the S&P500 which contains 500 stocks. How can we get the tickers of all these stocks? An easy way to do it is looking at the information provided by ETFs that replicate than stock index. The ETF by BlackRock, IVV, replicates the S&P500 and has the information of all its constituents on their <a href=\"https://www.ishares.com/us/products/239726/ishares-core-sp-500-etf/\" target=\"_blank\">webpage</a>. We downloaded that data and store it into a csv file, which we read with the pandas library as you can see below:<br><br>"
   ]
  },
  {
   "cell_type": "code",
   "execution_count": 2,
   "metadata": {},
   "outputs": [],
   "source": [
    "df = pd.read_csv('IVV.csv')"
   ]
  },
  {
   "cell_type": "markdown",
   "metadata": {},
   "source": [
    "## **Get all the tickers**\n",
    "\n",
    "<font size=\"3\">We need to get all the tickers that are in the ETF. To do that we can simply use the function unique on the column Ticker as follows: <br><br>"
   ]
  },
  {
   "cell_type": "code",
   "execution_count": 3,
   "metadata": {},
   "outputs": [],
   "source": [
    "ticker_list = df['Ticker'].unique()"
   ]
  },
  {
   "cell_type": "markdown",
   "metadata": {},
   "source": [
    "## **Get the market cap, the day return and the sector for each ticker**\n",
    "\n",
    "<font size=\"3\">We are going to use the Yahoo Finance API to download that information. Remember, that if you want to learn how to use that API you can look in the following <a href=\"https://quant-trading.co/how-to-download-data-from-yahoo-finance-api/\" target=\"_blank\">link</a>. In this case we are looping through all the tickers in ticker_list, which is the python list we just defined<br><br>"
   ]
  },
  {
   "cell_type": "code",
   "execution_count": 4,
   "metadata": {
    "scrolled": true
   },
   "outputs": [
    {
     "name": "stderr",
     "output_type": "stream",
     "text": [
      "404 Client Error: Not Found for url: https://query2.finance.yahoo.com/v10/finance/quoteSummary/XTSLA?modules=financialData%2CquoteType%2CdefaultKeyStatistics%2CassetProfile%2CsummaryDetail&corsDomain=finance.yahoo.com&formatted=false&symbol=XTSLA&crumb=urZuIFACEdg\n",
      "404 Client Error: Not Found for url: https://query2.finance.yahoo.com/v10/finance/quoteSummary/SGAFT?modules=financialData%2CquoteType%2CdefaultKeyStatistics%2CassetProfile%2CsummaryDetail&corsDomain=finance.yahoo.com&formatted=false&symbol=SGAFT&crumb=urZuIFACEdg\n",
      "404 Client Error: Not Found for url: https://query2.finance.yahoo.com/v10/finance/quoteSummary/ESU4?modules=financialData%2CquoteType%2CdefaultKeyStatistics%2CassetProfile%2CsummaryDetail&corsDomain=finance.yahoo.com&formatted=false&symbol=ESU4&crumb=urZuIFACEdg\n"
     ]
    },
    {
     "data": {
      "text/html": [
       "<div>\n",
       "<style scoped>\n",
       "    .dataframe tbody tr th:only-of-type {\n",
       "        vertical-align: middle;\n",
       "    }\n",
       "\n",
       "    .dataframe tbody tr th {\n",
       "        vertical-align: top;\n",
       "    }\n",
       "\n",
       "    .dataframe thead th {\n",
       "        text-align: right;\n",
       "    }\n",
       "</style>\n",
       "<table border=\"1\" class=\"dataframe\">\n",
       "  <thead>\n",
       "    <tr style=\"text-align: right;\">\n",
       "      <th></th>\n",
       "      <th>ticker</th>\n",
       "      <th>mkt_cap</th>\n",
       "      <th>daily_return</th>\n",
       "      <th>sector</th>\n",
       "    </tr>\n",
       "  </thead>\n",
       "  <tbody>\n",
       "    <tr>\n",
       "      <th>0</th>\n",
       "      <td>AAPL</td>\n",
       "      <td>3661198000128</td>\n",
       "      <td>-0.011388</td>\n",
       "      <td>Technology</td>\n",
       "    </tr>\n",
       "    <tr>\n",
       "      <th>1</th>\n",
       "      <td>MSFT</td>\n",
       "      <td>3140270161920</td>\n",
       "      <td>-0.012808</td>\n",
       "      <td>Technology</td>\n",
       "    </tr>\n",
       "    <tr>\n",
       "      <th>2</th>\n",
       "      <td>NVDA</td>\n",
       "      <td>3432028569600</td>\n",
       "      <td>-0.06217</td>\n",
       "      <td>Technology</td>\n",
       "    </tr>\n",
       "    <tr>\n",
       "      <th>3</th>\n",
       "      <td>AMZN</td>\n",
       "      <td>2335486771200</td>\n",
       "      <td>-0.024164</td>\n",
       "      <td>Consumer Cyclical</td>\n",
       "    </tr>\n",
       "    <tr>\n",
       "      <th>4</th>\n",
       "      <td>META</td>\n",
       "      <td>1559857201152</td>\n",
       "      <td>-0.019533</td>\n",
       "      <td>Communication Services</td>\n",
       "    </tr>\n",
       "    <tr>\n",
       "      <th>5</th>\n",
       "      <td>GOOG</td>\n",
       "      <td>2399744032768</td>\n",
       "      <td>-0.006314</td>\n",
       "      <td>Communication Services</td>\n",
       "    </tr>\n",
       "    <tr>\n",
       "      <th>6</th>\n",
       "      <td>BRKB</td>\n",
       "      <td>NaN</td>\n",
       "      <td>NaN</td>\n",
       "      <td>NaN</td>\n",
       "    </tr>\n",
       "    <tr>\n",
       "      <th>7</th>\n",
       "      <td>LLY</td>\n",
       "      <td>695432052736</td>\n",
       "      <td>0.010704</td>\n",
       "      <td>Healthcare</td>\n",
       "    </tr>\n",
       "    <tr>\n",
       "      <th>8</th>\n",
       "      <td>AVGO</td>\n",
       "      <td>1071718006784</td>\n",
       "      <td>-0.032867</td>\n",
       "      <td>Technology</td>\n",
       "    </tr>\n",
       "    <tr>\n",
       "      <th>9</th>\n",
       "      <td>TSLA</td>\n",
       "      <td>1265919197184</td>\n",
       "      <td>-0.040603</td>\n",
       "      <td>Consumer Cyclical</td>\n",
       "    </tr>\n",
       "  </tbody>\n",
       "</table>\n",
       "</div>"
      ],
      "text/plain": [
       "  ticker        mkt_cap daily_return                  sector\n",
       "0   AAPL  3661198000128    -0.011388              Technology\n",
       "1   MSFT  3140270161920    -0.012808              Technology\n",
       "2   NVDA  3432028569600     -0.06217              Technology\n",
       "3   AMZN  2335486771200    -0.024164       Consumer Cyclical\n",
       "4   META  1559857201152    -0.019533  Communication Services\n",
       "5   GOOG  2399744032768    -0.006314  Communication Services\n",
       "6   BRKB            NaN          NaN                     NaN\n",
       "7    LLY   695432052736     0.010704              Healthcare\n",
       "8   AVGO  1071718006784    -0.032867              Technology\n",
       "9   TSLA  1265919197184    -0.040603       Consumer Cyclical"
      ]
     },
     "execution_count": 4,
     "metadata": {},
     "output_type": "execute_result"
    }
   ],
   "source": [
    "df2 = pd.DataFrame(ticker_list,columns=['ticker'])\n",
    "df2['mkt_cap'] = ''\n",
    "df2['daily_return'] = ''\n",
    "df2['sector'] = ''\n",
    "\n",
    "i = 0\n",
    "\n",
    "for ticker in ticker_list:\n",
    "    my_ticker = yf.Ticker(ticker)   \n",
    "    try:\n",
    "        df2['mkt_cap'].iloc[i] = my_ticker.info['marketCap']        \n",
    "    except:\n",
    "        df2['mkt_cap'].iloc[i] = np.nan\n",
    "\n",
    "    try:\n",
    "        df2['daily_return'].iloc[i] = my_ticker.info['currentPrice'] / my_ticker.info['previousClose'] -1       \n",
    "    except:\n",
    "        df2['daily_return'].iloc[i] = np.nan\n",
    "        \n",
    "    try:\n",
    "        df2['sector'].iloc[i] = my_ticker.info['sector']\n",
    "    except:\n",
    "        df2['sector'].iloc[i] = np.nan\n",
    "\n",
    "    i = i + 1\n",
    "    \n",
    "df2.head(10)"
   ]
  },
  {
   "cell_type": "markdown",
   "metadata": {},
   "source": [
    "## **Delete empty roward and multiply the returns by 100**\n",
    "\n",
    "<font size=\"3\">we need to delete all the empty rows since that will give us some errors when making the treemap chart. We also want to multiply the returns by 100 to show that number in an easier way later. You can do that as follows<br><br>"
   ]
  },
  {
   "cell_type": "code",
   "execution_count": 5,
   "metadata": {},
   "outputs": [
    {
     "data": {
      "text/html": [
       "<div>\n",
       "<style scoped>\n",
       "    .dataframe tbody tr th:only-of-type {\n",
       "        vertical-align: middle;\n",
       "    }\n",
       "\n",
       "    .dataframe tbody tr th {\n",
       "        vertical-align: top;\n",
       "    }\n",
       "\n",
       "    .dataframe thead th {\n",
       "        text-align: right;\n",
       "    }\n",
       "</style>\n",
       "<table border=\"1\" class=\"dataframe\">\n",
       "  <thead>\n",
       "    <tr style=\"text-align: right;\">\n",
       "      <th></th>\n",
       "      <th>ticker</th>\n",
       "      <th>mkt_cap</th>\n",
       "      <th>daily_return</th>\n",
       "      <th>sector</th>\n",
       "    </tr>\n",
       "  </thead>\n",
       "  <tbody>\n",
       "    <tr>\n",
       "      <th>0</th>\n",
       "      <td>AAPL</td>\n",
       "      <td>3661198000128</td>\n",
       "      <td>-1.138776</td>\n",
       "      <td>Technology</td>\n",
       "    </tr>\n",
       "    <tr>\n",
       "      <th>1</th>\n",
       "      <td>MSFT</td>\n",
       "      <td>3140270161920</td>\n",
       "      <td>-1.280823</td>\n",
       "      <td>Technology</td>\n",
       "    </tr>\n",
       "    <tr>\n",
       "      <th>2</th>\n",
       "      <td>NVDA</td>\n",
       "      <td>3432028569600</td>\n",
       "      <td>-6.216958</td>\n",
       "      <td>Technology</td>\n",
       "    </tr>\n",
       "    <tr>\n",
       "      <th>3</th>\n",
       "      <td>AMZN</td>\n",
       "      <td>2335486771200</td>\n",
       "      <td>-2.416414</td>\n",
       "      <td>Consumer Cyclical</td>\n",
       "    </tr>\n",
       "    <tr>\n",
       "      <th>4</th>\n",
       "      <td>META</td>\n",
       "      <td>1559857201152</td>\n",
       "      <td>-1.953348</td>\n",
       "      <td>Communication Services</td>\n",
       "    </tr>\n",
       "    <tr>\n",
       "      <th>5</th>\n",
       "      <td>GOOG</td>\n",
       "      <td>2399744032768</td>\n",
       "      <td>-0.631441</td>\n",
       "      <td>Communication Services</td>\n",
       "    </tr>\n",
       "    <tr>\n",
       "      <th>7</th>\n",
       "      <td>LLY</td>\n",
       "      <td>695432052736</td>\n",
       "      <td>1.070448</td>\n",
       "      <td>Healthcare</td>\n",
       "    </tr>\n",
       "    <tr>\n",
       "      <th>8</th>\n",
       "      <td>AVGO</td>\n",
       "      <td>1071718006784</td>\n",
       "      <td>-3.286663</td>\n",
       "      <td>Technology</td>\n",
       "    </tr>\n",
       "    <tr>\n",
       "      <th>9</th>\n",
       "      <td>TSLA</td>\n",
       "      <td>1265919197184</td>\n",
       "      <td>-4.060333</td>\n",
       "      <td>Consumer Cyclical</td>\n",
       "    </tr>\n",
       "    <tr>\n",
       "      <th>10</th>\n",
       "      <td>JPM</td>\n",
       "      <td>684606226432</td>\n",
       "      <td>0.963255</td>\n",
       "      <td>Financial Services</td>\n",
       "    </tr>\n",
       "  </tbody>\n",
       "</table>\n",
       "</div>"
      ],
      "text/plain": [
       "   ticker        mkt_cap daily_return                  sector\n",
       "0    AAPL  3661198000128    -1.138776              Technology\n",
       "1    MSFT  3140270161920    -1.280823              Technology\n",
       "2    NVDA  3432028569600    -6.216958              Technology\n",
       "3    AMZN  2335486771200    -2.416414       Consumer Cyclical\n",
       "4    META  1559857201152    -1.953348  Communication Services\n",
       "5    GOOG  2399744032768    -0.631441  Communication Services\n",
       "7     LLY   695432052736     1.070448              Healthcare\n",
       "8    AVGO  1071718006784    -3.286663              Technology\n",
       "9    TSLA  1265919197184    -4.060333       Consumer Cyclical\n",
       "10    JPM   684606226432     0.963255      Financial Services"
      ]
     },
     "execution_count": 5,
     "metadata": {},
     "output_type": "execute_result"
    }
   ],
   "source": [
    "df2 = df2[df2['mkt_cap'].notna()]\n",
    "df2 = df2[df2['daily_return'].notna()]\n",
    "df2 = df2[df2['sector'].notna()]\n",
    "\n",
    "df2[\"daily_return\"] = df2[\"daily_return\"]*100\n",
    "    \n",
    "df2.head(10)"
   ]
  },
  {
   "cell_type": "markdown",
   "metadata": {},
   "source": [
    "## **Create a new colum with label all**\n",
    "\n",
    "<font size=\"3\">For a treemap chart it is very important to have different categories. In this case, we will create the first category as \"all\", representing all stocks<br><br>"
   ]
  },
  {
   "cell_type": "code",
   "execution_count": 6,
   "metadata": {
    "scrolled": true
   },
   "outputs": [],
   "source": [
    "df2[\"all\"] = \"all\""
   ]
  },
  {
   "cell_type": "markdown",
   "metadata": {},
   "source": [
    "## **Define different categories for the stock returns**\n",
    "\n",
    "<font size=\"3\">Since we will be showing the stock returns in different colors, it is a good idea to make categories for those returns. The reason, is that you might have very high daily returns for some random stocks, and then it will have a very strong color compared to the rest of stocks. For instance, if you have a +30% return in a single stock, then all the remaining that have returns between 1% and 2% won't show up very clearly in your chart. That's why we do what is shown in the scrip below. If you want to understand the logic behind that please look <a href=\"https://quant-trading.co/mean-and-median-return-calculations-using-python/\" target=\"_blank\">here</a>  <br><br>"
   ]
  },
  {
   "cell_type": "code",
   "execution_count": 13,
   "metadata": {
    "scrolled": true
   },
   "outputs": [
    {
     "data": {
      "text/html": [
       "<div>\n",
       "<style scoped>\n",
       "    .dataframe tbody tr th:only-of-type {\n",
       "        vertical-align: middle;\n",
       "    }\n",
       "\n",
       "    .dataframe tbody tr th {\n",
       "        vertical-align: top;\n",
       "    }\n",
       "\n",
       "    .dataframe thead th {\n",
       "        text-align: right;\n",
       "    }\n",
       "</style>\n",
       "<table border=\"1\" class=\"dataframe\">\n",
       "  <thead>\n",
       "    <tr style=\"text-align: right;\">\n",
       "      <th></th>\n",
       "      <th>ticker</th>\n",
       "      <th>mkt_cap</th>\n",
       "      <th>daily_return</th>\n",
       "      <th>sector</th>\n",
       "      <th>all</th>\n",
       "      <th>daily_return2</th>\n",
       "      <th>daily_return_str</th>\n",
       "      <th>ticker_plus_return</th>\n",
       "    </tr>\n",
       "  </thead>\n",
       "  <tbody>\n",
       "    <tr>\n",
       "      <th>0</th>\n",
       "      <td>AAPL</td>\n",
       "      <td>3661198000128</td>\n",
       "      <td>-1.138776</td>\n",
       "      <td>Technology</td>\n",
       "      <td>all</td>\n",
       "      <td>4</td>\n",
       "      <td>-1.14</td>\n",
       "      <td>AAPL -1.14%</td>\n",
       "    </tr>\n",
       "    <tr>\n",
       "      <th>1</th>\n",
       "      <td>MSFT</td>\n",
       "      <td>3140270161920</td>\n",
       "      <td>-1.280823</td>\n",
       "      <td>Technology</td>\n",
       "      <td>all</td>\n",
       "      <td>4</td>\n",
       "      <td>-1.28</td>\n",
       "      <td>MSFT -1.28%</td>\n",
       "    </tr>\n",
       "    <tr>\n",
       "      <th>2</th>\n",
       "      <td>NVDA</td>\n",
       "      <td>3432028569600</td>\n",
       "      <td>-6.216958</td>\n",
       "      <td>Technology</td>\n",
       "      <td>all</td>\n",
       "      <td>3</td>\n",
       "      <td>-6.22</td>\n",
       "      <td>NVDA -6.22%</td>\n",
       "    </tr>\n",
       "    <tr>\n",
       "      <th>3</th>\n",
       "      <td>AMZN</td>\n",
       "      <td>2335486771200</td>\n",
       "      <td>-2.416414</td>\n",
       "      <td>Consumer Cyclical</td>\n",
       "      <td>all</td>\n",
       "      <td>4</td>\n",
       "      <td>-2.42</td>\n",
       "      <td>AMZN -2.42%</td>\n",
       "    </tr>\n",
       "    <tr>\n",
       "      <th>4</th>\n",
       "      <td>META</td>\n",
       "      <td>1559857201152</td>\n",
       "      <td>-1.953348</td>\n",
       "      <td>Communication Services</td>\n",
       "      <td>all</td>\n",
       "      <td>4</td>\n",
       "      <td>-1.95</td>\n",
       "      <td>META -1.95%</td>\n",
       "    </tr>\n",
       "    <tr>\n",
       "      <th>...</th>\n",
       "      <td>...</td>\n",
       "      <td>...</td>\n",
       "      <td>...</td>\n",
       "      <td>...</td>\n",
       "      <td>...</td>\n",
       "      <td>...</td>\n",
       "      <td>...</td>\n",
       "      <td>...</td>\n",
       "    </tr>\n",
       "    <tr>\n",
       "      <th>500</th>\n",
       "      <td>BIO</td>\n",
       "      <td>9537294336</td>\n",
       "      <td>0.151396</td>\n",
       "      <td>Healthcare</td>\n",
       "      <td>all</td>\n",
       "      <td>5</td>\n",
       "      <td>0.15</td>\n",
       "      <td>BIO 0.15%</td>\n",
       "    </tr>\n",
       "    <tr>\n",
       "      <th>501</th>\n",
       "      <td>RL</td>\n",
       "      <td>15060079616</td>\n",
       "      <td>-0.1811</td>\n",
       "      <td>Consumer Cyclical</td>\n",
       "      <td>all</td>\n",
       "      <td>4</td>\n",
       "      <td>-0.18</td>\n",
       "      <td>RL -0.18%</td>\n",
       "    </tr>\n",
       "    <tr>\n",
       "      <th>502</th>\n",
       "      <td>PARA</td>\n",
       "      <td>7739991040</td>\n",
       "      <td>-0.365965</td>\n",
       "      <td>Communication Services</td>\n",
       "      <td>all</td>\n",
       "      <td>4</td>\n",
       "      <td>-0.37</td>\n",
       "      <td>PARA -0.37%</td>\n",
       "    </tr>\n",
       "    <tr>\n",
       "      <th>503</th>\n",
       "      <td>FOX</td>\n",
       "      <td>21915037696</td>\n",
       "      <td>-0.552369</td>\n",
       "      <td>Communication Services</td>\n",
       "      <td>all</td>\n",
       "      <td>4</td>\n",
       "      <td>-0.55</td>\n",
       "      <td>FOX -0.55%</td>\n",
       "    </tr>\n",
       "    <tr>\n",
       "      <th>504</th>\n",
       "      <td>NWS</td>\n",
       "      <td>16211938304</td>\n",
       "      <td>0.627684</td>\n",
       "      <td>Communication Services</td>\n",
       "      <td>all</td>\n",
       "      <td>5</td>\n",
       "      <td>0.63</td>\n",
       "      <td>NWS 0.63%</td>\n",
       "    </tr>\n",
       "  </tbody>\n",
       "</table>\n",
       "<p>498 rows × 8 columns</p>\n",
       "</div>"
      ],
      "text/plain": [
       "    ticker        mkt_cap daily_return                  sector  all  \\\n",
       "0     AAPL  3661198000128    -1.138776              Technology  all   \n",
       "1     MSFT  3140270161920    -1.280823              Technology  all   \n",
       "2     NVDA  3432028569600    -6.216958              Technology  all   \n",
       "3     AMZN  2335486771200    -2.416414       Consumer Cyclical  all   \n",
       "4     META  1559857201152    -1.953348  Communication Services  all   \n",
       "..     ...            ...          ...                     ...  ...   \n",
       "500    BIO     9537294336     0.151396              Healthcare  all   \n",
       "501     RL    15060079616      -0.1811       Consumer Cyclical  all   \n",
       "502   PARA     7739991040    -0.365965  Communication Services  all   \n",
       "503    FOX    21915037696    -0.552369  Communication Services  all   \n",
       "504    NWS    16211938304     0.627684  Communication Services  all   \n",
       "\n",
       "     daily_return2 daily_return_str ticker_plus_return  \n",
       "0                4            -1.14        AAPL -1.14%  \n",
       "1                4            -1.28        MSFT -1.28%  \n",
       "2                3            -6.22        NVDA -6.22%  \n",
       "3                4            -2.42        AMZN -2.42%  \n",
       "4                4            -1.95        META -1.95%  \n",
       "..             ...              ...                ...  \n",
       "500              5             0.15          BIO 0.15%  \n",
       "501              4            -0.18          RL -0.18%  \n",
       "502              4            -0.37        PARA -0.37%  \n",
       "503              4            -0.55         FOX -0.55%  \n",
       "504              5             0.63          NWS 0.63%  \n",
       "\n",
       "[498 rows x 8 columns]"
      ]
     },
     "execution_count": 13,
     "metadata": {},
     "output_type": "execute_result"
    }
   ],
   "source": [
    "conditions = [ (df2['daily_return'] >= -50)&(df2['daily_return'] < -20) , \n",
    "               (df2['daily_return'] >= -20)&(df2['daily_return'] < -10) , \n",
    "               (df2['daily_return'] >= -10)&(df2['daily_return'] < -5) , \n",
    "               (df2['daily_return'] >= -5)&(df2['daily_return'] < -0.01) , \n",
    "               (df2['daily_return'] >= 0.01)&(df2['daily_return'] < 1) , \n",
    "               (df2['daily_return'] >= 1)&(df2['daily_return'] < 5) , \n",
    "               (df2['daily_return'] >= 5)&(df2['daily_return'] < 10) , \n",
    "              (df2['daily_return'] >= 10)&(df2['daily_return'] < 20),\n",
    "              (df2['daily_return'] >= 20)&(df2['daily_return'] < 100)\n",
    "               ]     \n",
    "\n",
    "choices = [1,2,3,4,5,6,7,8,9]\n",
    "\n",
    "df2['daily_return2'] = np.select(conditions, choices, default=5)\n",
    "\n",
    "\n",
    "df2"
   ]
  },
  {
   "cell_type": "markdown",
   "metadata": {},
   "source": [
    "## **Make the treemap chart**\n",
    "\n",
    "<font size=\"3\">You can make a treemap chart using the library plotly express and the function treemap. In this case, the path parameter will indicate the different categories to make the grouping. In our case, they will be \"all\", \"sector\" and \"ticker\". The size of the boxes will be determined by the values parameters, which in this case is \"mkt_cap\". The colors will be defined by the returns, which is this case are \"daily_return2\" <br><br>"
   ]
  },
  {
   "cell_type": "code",
   "execution_count": 21,
   "metadata": {},
   "outputs": [
    {
     "data": {
      "application/vnd.plotly.v1+json": {
       "config": {
        "plotlyServerURL": "https://plot.ly"
       },
       "data": [
        {
         "branchvalues": "total",
         "customdata": [
          [
           0.9703196347031984,
           5
          ],
          [
           -1.138775510204082,
           4
          ],
          [
           -0.3164908384230891,
           4
          ],
          [
           -2.892011834319519,
           4
          ],
          [
           0.31847133757960666,
           5
          ],
          [
           1.6640952171038226,
           6
          ],
          [
           1.4402413685139281,
           6
          ],
          [
           -1.9829305626420601,
           4
          ],
          [
           -0.9770642201834878,
           4
          ],
          [
           -0.4029820672980078,
           4
          ],
          [
           0.44230836206595736,
           5
          ],
          [
           -0.5777580253666481,
           4
          ],
          [
           1.2547484747323479,
           6
          ],
          [
           0.16607617360495652,
           5
          ],
          [
           -0.4611837048424272,
           4
          ],
          [
           1.0315355142941351,
           6
          ],
          [
           0.1655857596246868,
           5
          ],
          [
           -0.31782721756717924,
           4
          ],
          [
           1.21192388394471,
           6
          ],
          [
           -0.9101616875468399,
           4
          ],
          [
           -0.23284177846767395,
           4
          ],
          [
           -0.6030701754385914,
           4
          ],
          [
           0.06992630842881375,
           5
          ],
          [
           -1.3166047087980193,
           4
          ],
          [
           0.19157088122605526,
           5
          ],
          [
           0.7423117709437932,
           5
          ],
          [
           -1.7136240833655059,
           4
          ],
          [
           -0.41241709858999,
           4
          ],
          [
           1.3418925712517904,
           6
          ],
          [
           -0.3730148263973776,
           4
          ],
          [
           -1.7141906135581975,
           4
          ],
          [
           -2.4164140415623203,
           4
          ],
          [
           -3.1013615733736732,
           4
          ],
          [
           -0.8238594419016532,
           4
          ],
          [
           -0.008609062473108331,
           5
          ],
          [
           -0.8708272859216382,
           4
          ],
          [
           0,
           5
          ],
          [
           1.0909476062702872,
           6
          ],
          [
           0.4639392661324404,
           5
          ],
          [
           0.7168458781362075,
           5
          ],
          [
           -0.37859408574645315,
           4
          ],
          [
           0.08790564793788036,
           5
          ],
          [
           -0.7284519221731456,
           4
          ],
          [
           -3.2866630007190922,
           4
          ],
          [
           -0.7179323548181182,
           4
          ],
          [
           -0.2787570714110066,
           4
          ],
          [
           -1.5209125475285301,
           4
          ],
          [
           0.046376043460982785,
           5
          ],
          [
           -1.0186855161441244,
           4
          ],
          [
           1.0129991802318772,
           6
          ],
          [
           1.497797356828201,
           6
          ],
          [
           -0.6108848574602144,
           4
          ],
          [
           -0.2697235333782966,
           4
          ],
          [
           0.8207934336525335,
           5
          ],
          [
           -0.578034682080919,
           4
          ],
          [
           0.628521889900302,
           5
          ],
          [
           -1.3000000000000123,
           4
          ],
          [
           -0.2180046165683569,
           4
          ],
          [
           -0.07829320806420625,
           4
          ],
          [
           0.15139604623402025,
           5
          ],
          [
           0.05133470225870962,
           5
          ],
          [
           -2.315577651997325,
           4
          ],
          [
           1.3308428671491956,
           6
          ],
          [
           -1.5997253690353652,
           4
          ],
          [
           -3.157770010071692,
           4
          ],
          [
           0.8115737473535667,
           5
          ],
          [
           0.3903477643719011,
           5
          ],
          [
           0.14863258026158732,
           5
          ],
          [
           0.7667871617920818,
           5
          ],
          [
           0.5922693266833035,
           5
          ],
          [
           -1.9737971279821465,
           4
          ],
          [
           -2.3058758160855675,
           4
          ],
          [
           1.2922738520759092,
           6
          ],
          [
           -0.9669021941242195,
           4
          ],
          [
           1.479561982780253,
           6
          ],
          [
           -0.7276961141027494,
           4
          ],
          [
           -0.32948929159801743,
           4
          ],
          [
           0.5424413602184597,
           5
          ],
          [
           -0.479766374634949,
           4
          ],
          [
           -2.832540222071156,
           4
          ],
          [
           -1.2197876665913876,
           4
          ],
          [
           -1.2018234562784835,
           4
          ],
          [
           -2.099694943856678,
           4
          ],
          [
           0.9426069496346612,
           5
          ],
          [
           0.37850113550341735,
           5
          ],
          [
           -3.2730437414862923,
           4
          ],
          [
           -1.125222816399296,
           4
          ],
          [
           -0.22321428571426827,
           4
          ],
          [
           1.111438969214129,
           6
          ],
          [
           0.5119783616692519,
           5
          ],
          [
           -0.5492776426834545,
           4
          ],
          [
           0.0965458056211066,
           5
          ],
          [
           0.39506172839507414,
           5
          ],
          [
           -0.17135023989034437,
           4
          ],
          [
           1.3389174440002538,
           6
          ],
          [
           -0.8268871699119829,
           4
          ],
          [
           0.526968381897075,
           5
          ],
          [
           -1.377551020408152,
           4
          ],
          [
           0.5418389006814905,
           5
          ],
          [
           0.4432895139101056,
           5
          ],
          [
           -0.12761205933961017,
           4
          ],
          [
           -0.5797101449275366,
           4
          ],
          [
           -0.8881865736704575,
           4
          ],
          [
           -0.3440490269863483,
           4
          ],
          [
           1.6801680168016864,
           6
          ],
          [
           2.341838518000694,
           6
          ],
          [
           -0.1452243933630304,
           4
          ],
          [
           1.536349563337902,
           6
          ],
          [
           -1.3580246913580174,
           4
          ],
          [
           -0.6009190526687802,
           4
          ],
          [
           -2.7763088313061846,
           4
          ],
          [
           0.11607048644086682,
           5
          ],
          [
           -1.6942486309865834,
           4
          ],
          [
           -1.7551042690250096,
           4
          ],
          [
           0.27224774544836183,
           5
          ],
          [
           -1.1936525768852624,
           4
          ],
          [
           0.5937499999999929,
           5
          ],
          [
           1.9556996218260458,
           6
          ],
          [
           0,
           5
          ],
          [
           0.45731707317073766,
           5
          ],
          [
           -0.382031352917922,
           4
          ],
          [
           0.15806111696523573,
           5
          ],
          [
           -0.08729812309035134,
           4
          ],
          [
           1.5822355018334955,
           6
          ],
          [
           -1.0182689427972513,
           4
          ],
          [
           0.6895266492732199,
           5
          ],
          [
           1.8987341772152,
           6
          ],
          [
           -3.4038513696772354,
           4
          ],
          [
           -0.23917087430243011,
           4
          ],
          [
           -1.131578947368428,
           4
          ],
          [
           -1.6165395500551627,
           4
          ],
          [
           -0.8983873667764097,
           4
          ],
          [
           -1.448312516609096,
           4
          ],
          [
           0.8997176068824997,
           5
          ],
          [
           -1.0907003444316943,
           4
          ],
          [
           0.37783375314861534,
           5
          ],
          [
           0.3061683926159464,
           5
          ],
          [
           0.15590200445434466,
           5
          ],
          [
           -2.088500195796883,
           4
          ],
          [
           -0.5494505494505475,
           4
          ],
          [
           -0.026591501356176828,
           4
          ],
          [
           -0.8553459119496898,
           4
          ],
          [
           -3.2037691401649027,
           4
          ],
          [
           0.20656664492280097,
           5
          ],
          [
           0.5932982368179074,
           5
          ],
          [
           0.4136504653567741,
           5
          ],
          [
           0.7655249785520901,
           5
          ],
          [
           2.7851851851851794,
           6
          ],
          [
           -0.6634952428642982,
           4
          ],
          [
           -0.3993115318416618,
           4
          ],
          [
           0.3654273911662065,
           5
          ],
          [
           0.025931368311860048,
           5
          ],
          [
           -0.41869412696616815,
           4
          ],
          [
           -1.3105000803987799,
           4
          ],
          [
           2.5852296292199872,
           6
          ],
          [
           -0.29956514736673157,
           4
          ],
          [
           0.8155498165012931,
           5
          ],
          [
           0.28974055050705605,
           5
          ],
          [
           -0.19176536943034117,
           4
          ],
          [
           -1.1548857400278445,
           4
          ],
          [
           2.984029139815081,
           6
          ],
          [
           0.9257061476382722,
           5
          ],
          [
           -1.0996147019351588,
           4
          ],
          [
           0.00744680851063606,
           5
          ],
          [
           -1.3744699517473258,
           4
          ],
          [
           1.0705289672544138,
           6
          ],
          [
           -0.2667615152054048,
           4
          ],
          [
           -1.000769822940728,
           4
          ],
          [
           -1.3340601331191082,
           4
          ],
          [
           0.93010895562049,
           5
          ],
          [
           -4.645822292881119,
           4
          ],
          [
           0.44798407167745413,
           5
          ],
          [
           0.13598041881968115,
           5
          ],
          [
           -0.7142857142857006,
           4
          ],
          [
           0.2610026100261065,
           5
          ],
          [
           -1.4379155630034002,
           4
          ],
          [
           -0.08750673128702369,
           4
          ],
          [
           -1.6129032258064502,
           4
          ],
          [
           1.6387644423484948,
           6
          ],
          [
           0.4724190634986858,
           5
          ],
          [
           0.44075706507649137,
           5
          ],
          [
           -1.1479947642855537,
           4
          ],
          [
           0.37595357155892906,
           5
          ],
          [
           0.10185892538834285,
           5
          ],
          [
           -0.9279938390450382,
           4
          ],
          [
           -0.8802217575256566,
           4
          ],
          [
           -1.6691988353717657,
           4
          ],
          [
           0.15182186234816708,
           5
          ],
          [
           -0.18630647414997759,
           4
          ],
          [
           2.9394000402657605,
           6
          ],
          [
           -0.5523688124070447,
           4
          ],
          [
           -0.8059641345960267,
           4
          ],
          [
           -1.539327951942937,
           4
          ],
          [
           3.377424583050126,
           6
          ],
          [
           -2.0522769042270683,
           4
          ],
          [
           0.16989022477784665,
           5
          ],
          [
           0.6434357920849454,
           5
          ],
          [
           -1.8912410956155368,
           4
          ],
          [
           -0.08118295158016098,
           4
          ],
          [
           2.0190895741556636,
           6
          ],
          [
           -1.6405395552314905,
           4
          ],
          [
           -0.7540665733060448,
           4
          ],
          [
           -0.6576783952647269,
           4
          ],
          [
           -0.9918699186991842,
           4
          ],
          [
           0.2607913669064654,
           5
          ],
          [
           -1.0136532892014882,
           4
          ],
          [
           -2.895572576125549,
           4
          ],
          [
           0.5872797700862131,
           5
          ],
          [
           -0.6314406950899132,
           4
          ],
          [
           -0.6475249211894019,
           4
          ],
          [
           -0.6635406529239996,
           4
          ],
          [
           0.3464369917721255,
           5
          ],
          [
           -0.5605169783506669,
           4
          ],
          [
           0.8292141440783274,
           5
          ],
          [
           0.32537960954446277,
           5
          ],
          [
           0.38671119704694057,
           5
          ],
          [
           0.1209921355111998,
           5
          ],
          [
           3.8023710090259843,
           6
          ],
          [
           -1.3200811567403714,
           4
          ],
          [
           1.9791053560918481,
           6
          ],
          [
           0.3405430280717825,
           5
          ],
          [
           1.258703802892347,
           6
          ],
          [
           -0.890987476904137,
           4
          ],
          [
           -1.464009760065066,
           4
          ],
          [
           -0.5005862722107013,
           4
          ],
          [
           -2.494529540481405,
           4
          ],
          [
           -0.5904930617065096,
           4
          ],
          [
           -1.7601043024771834,
           4
          ],
          [
           -0.12541806020067714,
           4
          ],
          [
           -1.331018518518523,
           4
          ],
          [
           -0.731678061652874,
           4
          ],
          [
           -1.4958574509136402,
           4
          ],
          [
           1.1048469484278511,
           6
          ],
          [
           -0.7201920512136639,
           4
          ],
          [
           0.579332644720898,
           5
          ],
          [
           -0.09551098376314737,
           4
          ],
          [
           -0.4427253238885376,
           4
          ],
          [
           -0.6306134148671871,
           4
          ],
          [
           0.5480453050785483,
           5
          ],
          [
           1.7800027812543417,
           6
          ],
          [
           0.7045797684952282,
           5
          ],
          [
           -1.556401561200338,
           4
          ],
          [
           -0.7374158384097496,
           4
          ],
          [
           0.20560747663551648,
           5
          ],
          [
           -1.0360843158270794,
           4
          ],
          [
           1.6910879164993897,
           6
          ],
          [
           -2.3118220663964073,
           4
          ],
          [
           -2.649134680460219,
           4
          ],
          [
           -1.9341040249276298,
           4
          ],
          [
           -0.048808264866184725,
           4
          ],
          [
           -0.7069819459977644,
           4
          ],
          [
           -1.4367816091954033,
           4
          ],
          [
           -0.7676676450666164,
           4
          ],
          [
           0.0453514739228833,
           5
          ],
          [
           0.46704381002498074,
           5
          ],
          [
           -0.1261511290525985,
           4
          ],
          [
           1.008076401579916,
           6
          ],
          [
           1.788946122789925,
           6
          ],
          [
           0.8688783570300229,
           5
          ],
          [
           0.9632551380527321,
           5
          ],
          [
           0.16005909874414748,
           5
          ],
          [
           -1.287001287001277,
           4
          ],
          [
           -1.0932105868814546,
           4
          ],
          [
           0.5325264750378089,
           5
          ],
          [
           -0.9317803660565782,
           4
          ],
          [
           -1.6562220232766434,
           4
          ],
          [
           -2.7331829640440564,
           4
          ],
          [
           -0.1448645516442082,
           4
          ],
          [
           0.9356168728195335,
           5
          ],
          [
           -0.07186489399928497,
           4
          ],
          [
           -0.7899686520376092,
           4
          ],
          [
           0.049333991119882015,
           5
          ],
          [
           -2.4414384691520907,
           4
          ],
          [
           -0.28422548555187,
           4
          ],
          [
           -0.6341068537506711,
           4
          ],
          [
           -1.4215904042647831,
           4
          ],
          [
           2.252957550452339,
           6
          ],
          [
           -0.6314552841548693,
           4
          ],
          [
           0.4940543944200737,
           5
          ],
          [
           -0.7344940152339441,
           4
          ],
          [
           1.0704483074107873,
           6
          ],
          [
           -0.43776824034335027,
           4
          ],
          [
           0.08724480893387287,
           5
          ],
          [
           -1.2693200928966197,
           4
          ],
          [
           -0.5898948448320174,
           4
          ],
          [
           -0.4679871493258547,
           4
          ],
          [
           -2.808158439255082,
           4
          ],
          [
           -2.8077753779697567,
           4
          ],
          [
           -2.172878667724021,
           4
          ],
          [
           0.05415651232061336,
           5
          ],
          [
           0.28622263479536336,
           5
          ],
          [
           -0.10352977946204156,
           4
          ],
          [
           -1.008212592642066,
           4
          ],
          [
           -1.041743085613689,
           4
          ],
          [
           -1.9151846785225635,
           4
          ],
          [
           -0.9720035594496634,
           4
          ],
          [
           -1.4067593069137074,
           4
          ],
          [
           0.828695966783255,
           5
          ],
          [
           -1.9317749503318216,
           4
          ],
          [
           0.12023359670216838,
           5
          ],
          [
           0.0375751503006061,
           5
          ],
          [
           0.18294914013905483,
           5
          ],
          [
           -1.9533481434465316,
           4
          ],
          [
           -2.0919269298762533,
           4
          ],
          [
           -0.399082958308572,
           4
          ],
          [
           0.25630648860111016,
           5
          ],
          [
           -1.4032562741746912,
           4
          ],
          [
           -1.685447552042063,
           4
          ],
          [
           0.719493476592481,
           5
          ],
          [
           1.9034461585693663,
           6
          ],
          [
           -0.6169269327164106,
           4
          ],
          [
           -1.2094451910155568,
           4
          ],
          [
           -0.6134558010123636,
           4
          ],
          [
           -0.5513981882630969,
           4
          ],
          [
           0.8040987689461376,
           5
          ],
          [
           -0.9871652669941389,
           4
          ],
          [
           1.3036502206177358,
           6
          ],
          [
           11.651397697909328,
           8
          ],
          [
           -1.279391424619647,
           4
          ],
          [
           -1.3681592039800905,
           4
          ],
          [
           -0.8933060704588769,
           4
          ],
          [
           -1.2808227182423804,
           4
          ],
          [
           -0.28480666009420563,
           4
          ],
          [
           -0.6261319534282106,
           4
          ],
          [
           -2.9358897543439344,
           4
          ],
          [
           0.21880614893192707,
           5
          ],
          [
           2.669756195849282,
           6
          ],
          [
           -0.5070202808112323,
           4
          ],
          [
           -0.5988023952095745,
           4
          ],
          [
           -0.7392732895245446,
           4
          ],
          [
           -1.1370016844469255,
           4
          ],
          [
           0.9790949986768993,
           5
          ],
          [
           -0.2948547840188609,
           4
          ],
          [
           0.5622715771717912,
           5
          ],
          [
           0.12499999999999734,
           5
          ],
          [
           -0.6042096937206143,
           4
          ],
          [
           -2.1261779861659003,
           4
          ],
          [
           -2.015802269043754,
           4
          ],
          [
           0.33760972316001503,
           5
          ],
          [
           -0.6949152542372827,
           4
          ],
          [
           -0.4456932467784114,
           4
          ],
          [
           0.5471729398109693,
           5
          ],
          [
           -6.216957772870257,
           3
          ],
          [
           -1.1475001470833024,
           4
          ],
          [
           0.6276841757515639,
           5
          ],
          [
           0.5830903790087438,
           5
          ],
          [
           -0.38892273089358165,
           4
          ],
          [
           -0.41721979897590966,
           4
          ],
          [
           -1.1112935895330356,
           4
          ],
          [
           -0.00984058256249254,
           5
          ],
          [
           -0.5522914218566433,
           4
          ],
          [
           -2.759262129902351,
           4
          ],
          [
           -2.2089444142676107,
           4
          ],
          [
           -0.8880847935099578,
           4
          ],
          [
           -0.18420197204463973,
           4
          ],
          [
           1.5363403584794044,
           6
          ],
          [
           -2.2228412256267482,
           4
          ],
          [
           -0.36596523330282293,
           4
          ],
          [
           -2.3812973965125828,
           4
          ],
          [
           2.3519035719535397,
           6
          ],
          [
           2.1633718761656207,
           6
          ],
          [
           0.6042296072507503,
           5
          ],
          [
           -0.3383897316219464,
           4
          ],
          [
           -0.5947904560060224,
           4
          ],
          [
           0.8925251022684932,
           5
          ],
          [
           0.6168080185042557,
           5
          ],
          [
           0.4358655043586568,
           5
          ],
          [
           1.122751366918484,
           6
          ],
          [
           -0.9001560062402492,
           4
          ],
          [
           -1.0098228219957872,
           4
          ],
          [
           -0.48441078034173746,
           4
          ],
          [
           -0.07500468779298997,
           4
          ],
          [
           0.33057851239670644,
           5
          ],
          [
           -0.41924433764507496,
           4
          ],
          [
           -0.8440514469453264,
           4
          ],
          [
           0.132386568780829,
           5
          ],
          [
           -1.0282776349614609,
           4
          ],
          [
           -1.3653724700008918,
           4
          ],
          [
           0.6865386286608155,
           5
          ],
          [
           0.8509297195083532,
           5
          ],
          [
           0.45515846257586645,
           5
          ],
          [
           0.801135787445495,
           5
          ],
          [
           0.01736563341148134,
           5
          ],
          [
           -0.9414056159714357,
           4
          ],
          [
           -2.5147838809973733,
           4
          ],
          [
           -1.7424327041215215,
           4
          ],
          [
           0.41914294651237416,
           5
          ],
          [
           2.065428333795394,
           6
          ],
          [
           -1.348452344468276,
           4
          ],
          [
           -1.294316263365225,
           4
          ],
          [
           1.9601820567950234,
           6
          ],
          [
           0.2943650126156383,
           5
          ],
          [
           -0.556702320635527,
           4
          ],
          [
           -0.18109976950938522,
           4
          ],
          [
           0.5572333999744883,
           5
          ],
          [
           -0.05329354082284077,
           4
          ],
          [
           0.21905805038335835,
           5
          ],
          [
           0,
           5
          ],
          [
           -2.18780251694094,
           4
          ],
          [
           1.0450360786265378,
           6
          ],
          [
           0.6134969325153339,
           5
          ],
          [
           0.8737780084782321,
           5
          ],
          [
           -1.528175740210136,
           4
          ],
          [
           -0.3113926769032438,
           4
          ],
          [
           -2.9806659505907662,
           4
          ],
          [
           -1.0123734533183382,
           4
          ],
          [
           -1.5481861487724458,
           4
          ],
          [
           1.573787409700711,
           6
          ],
          [
           -5.679012345679013,
           3
          ],
          [
           0.3227927550959464,
           5
          ],
          [
           -2.6823134953897765,
           4
          ],
          [
           0.16057312252966138,
           5
          ],
          [
           1.372864028041465,
           6
          ],
          [
           -0.13760678860157416,
           4
          ],
          [
           -0.5746777555191263,
           4
          ],
          [
           -0.3313217370725319,
           4
          ],
          [
           1.215626684966442,
           6
          ],
          [
           0.9861766689143625,
           5
          ],
          [
           -0.7213247993497984,
           4
          ],
          [
           0.54988216810683,
           5
          ],
          [
           -1.9826851478042529,
           4
          ],
          [
           -2.324273664479859,
           4
          ],
          [
           -1.2099213551119203,
           4
          ],
          [
           1.9305868764094347,
           6
          ],
          [
           -1.6107580907344543,
           4
          ],
          [
           -1.7102058888642913,
           4
          ],
          [
           -0.25421461065024964,
           4
          ],
          [
           -1.7699115044247926,
           4
          ],
          [
           -1.375982844889212,
           4
          ],
          [
           0.0647316433846079,
           5
          ],
          [
           0.7178766657153446,
           5
          ],
          [
           0.70033670033669,
           5
          ],
          [
           0.2230897936419396,
           5
          ],
          [
           -0.8428571428571452,
           4
          ],
          [
           -0.2947845804988747,
           4
          ],
          [
           -0.38783312094853306,
           4
          ],
          [
           -0.028717065115935192,
           4
          ],
          [
           -0.6121773659827912,
           4
          ],
          [
           1.5748617807479492,
           6
          ],
          [
           -0.021188435822572238,
           4
          ],
          [
           -0.4433934377771176,
           4
          ],
          [
           0.8917060593038206,
           5
          ],
          [
           1.293952180028124,
           6
          ],
          [
           -1.058339893291349,
           4
          ],
          [
           -0.08268562923763323,
           4
          ],
          [
           0.41006523765143577,
           5
          ],
          [
           -4.060333292786766,
           4
          ],
          [
           -2.1478873239436647,
           4
          ],
          [
           -0.928243637880688,
           4
          ],
          [
           -3.82580167213461,
           4
          ],
          [
           0.015610365282547889,
           5
          ],
          [
           0.25195597400875513,
           5
          ],
          [
           -2.1360100027785656,
           4
          ],
          [
           2.678299685502683,
           6
          ],
          [
           -0.24129090634895656,
           4
          ],
          [
           -1.0122921185827916,
           4
          ],
          [
           2.728377333480614,
           6
          ],
          [
           -0.7025272432181873,
           4
          ],
          [
           0.11291295968229864,
           5
          ],
          [
           0.2304247641406798,
           5
          ],
          [
           0.6199178810079697,
           5
          ],
          [
           0.20614035087718197,
           5
          ],
          [
           -0.06156371844858732,
           4
          ],
          [
           -0.4376437515972387,
           4
          ],
          [
           -1.048714479025703,
           4
          ],
          [
           1.531280707500815,
           6
          ],
          [
           0.4744489473164082,
           5
          ],
          [
           -2.098065117724768,
           4
          ],
          [
           0.19047619047618536,
           5
          ],
          [
           -0.6929941142965634,
           4
          ],
          [
           1.448483192129002,
           6
          ],
          [
           -0.35376639219273365,
           4
          ],
          [
           0.2987697715290061,
           5
          ],
          [
           0.4184100418409997,
           5
          ],
          [
           -1.7419843473870156,
           4
          ],
          [
           -1.6074494095614678,
           4
          ],
          [
           -0.01856271546010202,
           4
          ],
          [
           2.11193241816261,
           6
          ],
          [
           -2.9547553093259515,
           4
          ],
          [
           -1.1881188118811892,
           4
          ],
          [
           1.161528441163684,
           6
          ],
          [
           0.15316404675533857,
           5
          ],
          [
           -0.6108565875329708,
           4
          ],
          [
           0.8078905630451994,
           5
          ],
          [
           -0.465866332198539,
           4
          ],
          [
           -0.6781144044624376,
           4
          ],
          [
           0.4893393918210531,
           5
          ],
          [
           -0.05710507333495096,
           4
          ],
          [
           0.7794918626267799,
           5
          ],
          [
           -1.7192982456140316,
           4
          ],
          [
           -2.552889729346408,
           4
          ],
          [
           0.7675775253300543,
           5
          ],
          [
           0.9374419899758735,
           5
          ],
          [
           -0.9072235535775408,
           4
          ],
          [
           -1.2445263885687785,
           4
          ],
          [
           -0.4152182309772212,
           4
          ],
          [
           0.19730351857942807,
           5
          ],
          [
           -1.4526823387582821,
           4
          ],
          [
           "(?)",
           4.785943415984684
          ],
          [
           "(?)",
           4.047634814613096
          ],
          [
           "(?)",
           4.044940196926343
          ],
          [
           "(?)",
           4.354744188967903
          ],
          [
           "(?)",
           5.3493997198369385
          ],
          [
           "(?)",
           4.549261645239168
          ],
          [
           "(?)",
           5.199068159171019
          ],
          [
           "(?)",
           4.5670282038700805
          ],
          [
           "(?)",
           4.2853612148463895
          ],
          [
           "(?)",
           3.949250824673315
          ],
          [
           "(?)",
           4.514028575294182
          ],
          [
           "(?)",
           4.3178264700862625
          ]
         ],
         "domain": {
          "x": [
           0,
           1
          ],
          "y": [
           0,
           1
          ]
         },
         "hovertemplate": "labels=%{label}<br>mkt_cap=%{value}<br>parent=%{parent}<br>id=%{id}<br>daily_return=%{customdata[0]}<br>daily_return2=%{color}<extra></extra>",
         "ids": [
          "all/Industrials/AAL",
          "all/Technology/AAPL",
          "all/Healthcare/ABBV",
          "all/Consumer Cyclical/ABNB",
          "all/Healthcare/ABT",
          "all/Financial Services/ACGL",
          "all/Technology/ACN",
          "all/Technology/ADBE",
          "all/Technology/ADI",
          "all/Consumer Defensive/ADM",
          "all/Technology/ADP",
          "all/Technology/ADSK",
          "all/Utilities/AEE",
          "all/Utilities/AEP",
          "all/Utilities/AES",
          "all/Financial Services/AFL",
          "all/Financial Services/AIG",
          "all/Financial Services/AIZ",
          "all/Financial Services/AJG",
          "all/Technology/AKAM",
          "all/Basic Materials/ALB",
          "all/Healthcare/ALGN",
          "all/Financial Services/ALL",
          "all/Industrials/ALLE",
          "all/Technology/AMAT",
          "all/Consumer Cyclical/AMCR",
          "all/Technology/AMD",
          "all/Industrials/AME",
          "all/Healthcare/AMGN",
          "all/Financial Services/AMP",
          "all/Real Estate/AMT",
          "all/Consumer Cyclical/AMZN",
          "all/Technology/ANET",
          "all/Technology/ANSS",
          "all/Financial Services/AON",
          "all/Industrials/AOS",
          "all/Energy/APA",
          "all/Basic Materials/APD",
          "all/Technology/APH",
          "all/Consumer Cyclical/APTV",
          "all/Real Estate/ARE",
          "all/Utilities/ATO",
          "all/Real Estate/AVB",
          "all/Technology/AVGO",
          "all/Consumer Cyclical/AVY",
          "all/Utilities/AWK",
          "all/Industrials/AXON",
          "all/Financial Services/AXP",
          "all/Consumer Cyclical/AZO",
          "all/Industrials/BA",
          "all/Financial Services/BAC",
          "all/Consumer Cyclical/BALL",
          "all/Healthcare/BAX",
          "all/Consumer Cyclical/BBWI",
          "all/Consumer Cyclical/BBY",
          "all/Healthcare/BDX",
          "all/Financial Services/BEN",
          "all/Consumer Defensive/BG",
          "all/Healthcare/BIIB",
          "all/Healthcare/BIO",
          "all/Financial Services/BK",
          "all/Consumer Cyclical/BKNG",
          "all/Energy/BKR",
          "all/Industrials/BLDR",
          "all/Financial Services/BLK",
          "all/Healthcare/BMY",
          "all/Technology/BR",
          "all/Financial Services/BRO",
          "all/Healthcare/BSX",
          "all/Consumer Cyclical/BWA",
          "all/Financial Services/BX",
          "all/Real Estate/BXP",
          "all/Financial Services/C",
          "all/Consumer Defensive/CAG",
          "all/Healthcare/CAH",
          "all/Industrials/CARR",
          "all/Industrials/CAT",
          "all/Financial Services/CB",
          "all/Financial Services/CBOE",
          "all/Real Estate/CBRE",
          "all/Real Estate/CCI",
          "all/Consumer Cyclical/CCL",
          "all/Technology/CDNS",
          "all/Technology/CDW",
          "all/Basic Materials/CE",
          "all/Utilities/CEG",
          "all/Basic Materials/CF",
          "all/Financial Services/CFG",
          "all/Consumer Defensive/CHD",
          "all/Industrials/CHRW",
          "all/Communication Services/CHTR",
          "all/Healthcare/CI",
          "all/Financial Services/CINF",
          "all/Consumer Defensive/CL",
          "all/Consumer Defensive/CLX",
          "all/Communication Services/CMCSA",
          "all/Financial Services/CME",
          "all/Consumer Cyclical/CMG",
          "all/Industrials/CMI",
          "all/Utilities/CMS",
          "all/Healthcare/CNC",
          "all/Utilities/CNP",
          "all/Financial Services/COF",
          "all/Healthcare/COO",
          "all/Energy/COP",
          "all/Healthcare/COR",
          "all/Consumer Defensive/COST",
          "all/Technology/CPAY",
          "all/Consumer Defensive/CPB",
          "all/Industrials/CPRT",
          "all/Real Estate/CPT",
          "all/Healthcare/CRL",
          "all/Technology/CRM",
          "all/Technology/CRWD",
          "all/Technology/CSCO",
          "all/Real Estate/CSGP",
          "all/Industrials/CSX",
          "all/Industrials/CTAS",
          "all/Healthcare/CTLT",
          "all/Energy/CTRA",
          "all/Technology/CTSH",
          "all/Basic Materials/CTVA",
          "all/Healthcare/CVS",
          "all/Energy/CVX",
          "all/Consumer Cyclical/CZR",
          "all/Utilities/D",
          "all/Industrials/DAL",
          "all/Technology/DAY",
          "all/Basic Materials/DD",
          "all/Industrials/DE",
          "all/Consumer Cyclical/DECK",
          "all/Financial Services/DFS",
          "all/Consumer Defensive/DG",
          "all/Healthcare/DGX",
          "all/Consumer Cyclical/DHI",
          "all/Healthcare/DHR",
          "all/Communication Services/DIS",
          "all/Real Estate/DLR",
          "all/Consumer Defensive/DLTR",
          "all/Real Estate/DOC",
          "all/Industrials/DOV",
          "all/Basic Materials/DOW",
          "all/Consumer Cyclical/DPZ",
          "all/Consumer Cyclical/DRI",
          "all/Utilities/DTE",
          "all/Utilities/DUK",
          "all/Healthcare/DVA",
          "all/Energy/DVN",
          "all/Healthcare/DXCM",
          "all/Communication Services/EA",
          "all/Consumer Cyclical/EBAY",
          "all/Basic Materials/ECL",
          "all/Utilities/ED",
          "all/Industrials/EFX",
          "all/Financial Services/EG",
          "all/Utilities/EIX",
          "all/Consumer Defensive/EL",
          "all/Healthcare/ELV",
          "all/Basic Materials/EMN",
          "all/Industrials/EMR",
          "all/Technology/ENPH",
          "all/Energy/EOG",
          "all/Technology/EPAM",
          "all/Real Estate/EQIX",
          "all/Real Estate/EQR",
          "all/Energy/EQT",
          "all/Utilities/ES",
          "all/Real Estate/ESS",
          "all/Industrials/ETN",
          "all/Utilities/ETR",
          "all/Consumer Cyclical/ETSY",
          "all/Utilities/EVRG",
          "all/Healthcare/EW",
          "all/Utilities/EXC",
          "all/Industrials/EXPD",
          "all/Consumer Cyclical/EXPE",
          "all/Real Estate/EXR",
          "all/Consumer Cyclical/F",
          "all/Energy/FANG",
          "all/Industrials/FAST",
          "all/Basic Materials/FCX",
          "all/Financial Services/FDS",
          "all/Industrials/FDX",
          "all/Utilities/FE",
          "all/Technology/FFIV",
          "all/Technology/FI",
          "all/Technology/FICO",
          "all/Technology/FIS",
          "all/Financial Services/FITB",
          "all/Basic Materials/FMC",
          "all/Communication Services/FOX",
          "all/Communication Services/FOXA",
          "all/Real Estate/FRT",
          "all/Technology/FSLR",
          "all/Technology/FTNT",
          "all/Technology/FTV",
          "all/Industrials/GD",
          "all/Technology/GDDY",
          "all/Industrials/GE",
          "all/Healthcare/GEHC",
          "all/Technology/GEN",
          "all/Utilities/GEV",
          "all/Healthcare/GILD",
          "all/Consumer Defensive/GIS",
          "all/Financial Services/GL",
          "all/Technology/GLW",
          "all/Consumer Cyclical/GM",
          "all/Industrials/GNRC",
          "all/Communication Services/GOOG",
          "all/Consumer Cyclical/GPC",
          "all/Industrials/GPN",
          "all/Technology/GRMN",
          "all/Financial Services/GS",
          "all/Industrials/GWW",
          "all/Energy/HAL",
          "all/Consumer Cyclical/HAS",
          "all/Financial Services/HBAN",
          "all/Healthcare/HCA",
          "all/Consumer Cyclical/HD",
          "all/Energy/HES",
          "all/Financial Services/HIG",
          "all/Industrials/HII",
          "all/Consumer Cyclical/HLT",
          "all/Healthcare/HOLX",
          "all/Industrials/HON",
          "all/Technology/HPE",
          "all/Technology/HPQ",
          "all/Consumer Defensive/HRL",
          "all/Healthcare/HSIC",
          "all/Real Estate/HST",
          "all/Consumer Defensive/HSY",
          "all/Industrials/HUBB",
          "all/Healthcare/HUM",
          "all/Industrials/HWM",
          "all/Technology/IBM",
          "all/Financial Services/ICE",
          "all/Healthcare/IDXX",
          "all/Industrials/IEX",
          "all/Basic Materials/IFF",
          "all/Healthcare/INCY",
          "all/Technology/INTC",
          "all/Technology/INTU",
          "all/Real Estate/INVH",
          "all/Consumer Cyclical/IP",
          "all/Communication Services/IPG",
          "all/Healthcare/IQV",
          "all/Industrials/IR",
          "all/Real Estate/IRM",
          "all/Healthcare/ISRG",
          "all/Technology/IT",
          "all/Industrials/ITW",
          "all/Financial Services/IVZ",
          "all/Industrials/J",
          "all/Industrials/JBHT",
          "all/Technology/JBL",
          "all/Industrials/JCI",
          "all/Technology/JKHY",
          "all/Healthcare/JNJ",
          "all/Technology/JNPR",
          "all/Financial Services/JPM",
          "all/Consumer Defensive/K",
          "all/Consumer Defensive/KDP",
          "all/Financial Services/KEY",
          "all/Technology/KEYS",
          "all/Consumer Defensive/KHC",
          "all/Real Estate/KIM",
          "all/Financial Services/KKR",
          "all/Technology/KLAC",
          "all/Consumer Defensive/KMB",
          "all/Energy/KMI",
          "all/Consumer Cyclical/KMX",
          "all/Consumer Defensive/KO",
          "all/Consumer Defensive/KR",
          "all/Consumer Defensive/KVUE",
          "all/Technology/LDOS",
          "all/Consumer Cyclical/LEN",
          "all/Healthcare/LH",
          "all/Industrials/LHX",
          "all/Basic Materials/LIN",
          "all/Consumer Cyclical/LKQ",
          "all/Healthcare/LLY",
          "all/Industrials/LMT",
          "all/Utilities/LNT",
          "all/Consumer Cyclical/LOW",
          "all/Technology/LRCX",
          "all/Consumer Cyclical/LULU",
          "all/Industrials/LUV",
          "all/Consumer Cyclical/LVS",
          "all/Consumer Defensive/LW",
          "all/Basic Materials/LYB",
          "all/Communication Services/LYV",
          "all/Financial Services/MA",
          "all/Real Estate/MAA",
          "all/Consumer Cyclical/MAR",
          "all/Industrials/MAS",
          "all/Consumer Cyclical/MCD",
          "all/Technology/MCHP",
          "all/Healthcare/MCK",
          "all/Financial Services/MCO",
          "all/Consumer Defensive/MDLZ",
          "all/Healthcare/MDT",
          "all/Financial Services/MET",
          "all/Communication Services/META",
          "all/Consumer Cyclical/MGM",
          "all/Consumer Cyclical/MHK",
          "all/Consumer Defensive/MKC",
          "all/Financial Services/MKTX",
          "all/Basic Materials/MLM",
          "all/Financial Services/MMC",
          "all/Industrials/MMM",
          "all/Consumer Defensive/MNST",
          "all/Consumer Defensive/MO",
          "all/Healthcare/MOH",
          "all/Basic Materials/MOS",
          "all/Energy/MPC",
          "all/Technology/MPWR",
          "all/Healthcare/MRK",
          "all/Healthcare/MRNA",
          "all/Energy/MRO",
          "all/Financial Services/MS",
          "all/Financial Services/MSCI",
          "all/Technology/MSFT",
          "all/Technology/MSI",
          "all/Financial Services/MTB",
          "all/Communication Services/MTCH",
          "all/Healthcare/MTD",
          "all/Technology/MU",
          "all/Consumer Cyclical/NCLH",
          "all/Financial Services/NDAQ",
          "all/Industrials/NDSN",
          "all/Utilities/NEE",
          "all/Basic Materials/NEM",
          "all/Communication Services/NFLX",
          "all/Utilities/NI",
          "all/Consumer Cyclical/NKE",
          "all/Industrials/NOC",
          "all/Technology/NOW",
          "all/Utilities/NRG",
          "all/Industrials/NSC",
          "all/Technology/NTAP",
          "all/Financial Services/NTRS",
          "all/Basic Materials/NUE",
          "all/Technology/NVDA",
          "all/Consumer Cyclical/NVR",
          "all/Communication Services/NWS",
          "all/Communication Services/NWSA",
          "all/Technology/NXPI",
          "all/Real Estate/O",
          "all/Industrials/ODFL",
          "all/Energy/OKE",
          "all/Communication Services/OMC",
          "all/Technology/ON",
          "all/Technology/ORCL",
          "all/Consumer Cyclical/ORLY",
          "all/Industrials/OTIS",
          "all/Energy/OXY",
          "all/Technology/PANW",
          "all/Communication Services/PARA",
          "all/Technology/PAYC",
          "all/Technology/PAYX",
          "all/Industrials/PCAR",
          "all/Utilities/PCG",
          "all/Utilities/PEG",
          "all/Consumer Defensive/PEP",
          "all/Healthcare/PFE",
          "all/Financial Services/PFG",
          "all/Consumer Defensive/PG",
          "all/Financial Services/PGR",
          "all/Industrials/PH",
          "all/Consumer Cyclical/PHM",
          "all/Consumer Cyclical/PKG",
          "all/Real Estate/PLD",
          "all/Consumer Defensive/PM",
          "all/Financial Services/PNC",
          "all/Industrials/PNR",
          "all/Utilities/PNW",
          "all/Healthcare/PODD",
          "all/Industrials/POOL",
          "all/Basic Materials/PPG",
          "all/Utilities/PPL",
          "all/Financial Services/PRU",
          "all/Real Estate/PSA",
          "all/Energy/PSX",
          "all/Technology/PTC",
          "all/Industrials/PWR",
          "all/Financial Services/PYPL",
          "all/Technology/QCOM",
          "all/Technology/QRVO",
          "all/Consumer Cyclical/RCL",
          "all/Real Estate/REG",
          "all/Healthcare/REGN",
          "all/Financial Services/RF",
          "all/Financial Services/RJF",
          "all/Consumer Cyclical/RL",
          "all/Healthcare/RMD",
          "all/Industrials/ROK",
          "all/Consumer Cyclical/ROL",
          "all/Technology/ROP",
          "all/Consumer Cyclical/ROST",
          "all/Industrials/RSG",
          "all/Industrials/RTX",
          "all/Healthcare/RVTY",
          "all/Real Estate/SBAC",
          "all/Consumer Cyclical/SBUX",
          "all/Financial Services/SCHW",
          "all/Basic Materials/SHW",
          "all/Consumer Defensive/SJM",
          "all/Energy/SLB",
          "all/Technology/SMCI",
          "all/Industrials/SNA",
          "all/Technology/SNPS",
          "all/Utilities/SO",
          "all/Healthcare/SOLV",
          "all/Real Estate/SPG",
          "all/Financial Services/SPGI",
          "all/Utilities/SRE",
          "all/Healthcare/STE",
          "all/Basic Materials/STLD",
          "all/Financial Services/STT",
          "all/Technology/STX",
          "all/Consumer Defensive/STZ",
          "all/Consumer Cyclical/SW",
          "all/Industrials/SWK",
          "all/Technology/SWKS",
          "all/Financial Services/SYF",
          "all/Healthcare/SYK",
          "all/Consumer Defensive/SYY",
          "all/Communication Services/T",
          "all/Consumer Defensive/TAP",
          "all/Industrials/TDG",
          "all/Technology/TDY",
          "all/Healthcare/TECH",
          "all/Technology/TEL",
          "all/Technology/TER",
          "all/Financial Services/TFC",
          "all/Healthcare/TFX",
          "all/Consumer Defensive/TGT",
          "all/Consumer Cyclical/TJX",
          "all/Healthcare/TMO",
          "all/Communication Services/TMUS",
          "all/Consumer Cyclical/TPR",
          "all/Energy/TRGP",
          "all/Technology/TRMB",
          "all/Financial Services/TROW",
          "all/Financial Services/TRV",
          "all/Consumer Cyclical/TSCO",
          "all/Consumer Cyclical/TSLA",
          "all/Consumer Defensive/TSN",
          "all/Industrials/TT",
          "all/Communication Services/TTWO",
          "all/Technology/TXN",
          "all/Industrials/TXT",
          "all/Technology/TYL",
          "all/Industrials/UAL",
          "all/Technology/UBER",
          "all/Real Estate/UDR",
          "all/Healthcare/UHS",
          "all/Consumer Cyclical/ULTA",
          "all/Healthcare/UNH",
          "all/Industrials/UNP",
          "all/Industrials/UPS",
          "all/Industrials/URI",
          "all/Financial Services/USB",
          "all/Financial Services/V",
          "all/Real Estate/VICI",
          "all/Energy/VLO",
          "all/Industrials/VLTO",
          "all/Basic Materials/VMC",
          "all/Industrials/VRSK",
          "all/Technology/VRSN",
          "all/Healthcare/VRTX",
          "all/Utilities/VST",
          "all/Real Estate/VTR",
          "all/Healthcare/VTRS",
          "all/Communication Services/VZ",
          "all/Industrials/WAB",
          "all/Healthcare/WAT",
          "all/Healthcare/WBA",
          "all/Communication Services/WBD",
          "all/Technology/WDC",
          "all/Utilities/WEC",
          "all/Real Estate/WELL",
          "all/Financial Services/WFC",
          "all/Industrials/WM",
          "all/Energy/WMB",
          "all/Consumer Defensive/WMT",
          "all/Financial Services/WRB",
          "all/Healthcare/WST",
          "all/Financial Services/WTW",
          "all/Real Estate/WY",
          "all/Consumer Cyclical/WYNN",
          "all/Utilities/XEL",
          "all/Energy/XOM",
          "all/Industrials/XYL",
          "all/Consumer Cyclical/YUM",
          "all/Healthcare/ZBH",
          "all/Technology/ZBRA",
          "all/Healthcare/ZTS",
          "all/Basic Materials",
          "all/Communication Services",
          "all/Consumer Cyclical",
          "all/Consumer Defensive",
          "all/Energy",
          "all/Financial Services",
          "all/Healthcare",
          "all/Industrials",
          "all/Real Estate",
          "all/Technology",
          "all/Utilities",
          "all"
         ],
         "labels": [
          "AAL",
          "AAPL",
          "ABBV",
          "ABNB",
          "ABT",
          "ACGL",
          "ACN",
          "ADBE",
          "ADI",
          "ADM",
          "ADP",
          "ADSK",
          "AEE",
          "AEP",
          "AES",
          "AFL",
          "AIG",
          "AIZ",
          "AJG",
          "AKAM",
          "ALB",
          "ALGN",
          "ALL",
          "ALLE",
          "AMAT",
          "AMCR",
          "AMD",
          "AME",
          "AMGN",
          "AMP",
          "AMT",
          "AMZN",
          "ANET",
          "ANSS",
          "AON",
          "AOS",
          "APA",
          "APD",
          "APH",
          "APTV",
          "ARE",
          "ATO",
          "AVB",
          "AVGO",
          "AVY",
          "AWK",
          "AXON",
          "AXP",
          "AZO",
          "BA",
          "BAC",
          "BALL",
          "BAX",
          "BBWI",
          "BBY",
          "BDX",
          "BEN",
          "BG",
          "BIIB",
          "BIO",
          "BK",
          "BKNG",
          "BKR",
          "BLDR",
          "BLK",
          "BMY",
          "BR",
          "BRO",
          "BSX",
          "BWA",
          "BX",
          "BXP",
          "C",
          "CAG",
          "CAH",
          "CARR",
          "CAT",
          "CB",
          "CBOE",
          "CBRE",
          "CCI",
          "CCL",
          "CDNS",
          "CDW",
          "CE",
          "CEG",
          "CF",
          "CFG",
          "CHD",
          "CHRW",
          "CHTR",
          "CI",
          "CINF",
          "CL",
          "CLX",
          "CMCSA",
          "CME",
          "CMG",
          "CMI",
          "CMS",
          "CNC",
          "CNP",
          "COF",
          "COO",
          "COP",
          "COR",
          "COST",
          "CPAY",
          "CPB",
          "CPRT",
          "CPT",
          "CRL",
          "CRM",
          "CRWD",
          "CSCO",
          "CSGP",
          "CSX",
          "CTAS",
          "CTLT",
          "CTRA",
          "CTSH",
          "CTVA",
          "CVS",
          "CVX",
          "CZR",
          "D",
          "DAL",
          "DAY",
          "DD",
          "DE",
          "DECK",
          "DFS",
          "DG",
          "DGX",
          "DHI",
          "DHR",
          "DIS",
          "DLR",
          "DLTR",
          "DOC",
          "DOV",
          "DOW",
          "DPZ",
          "DRI",
          "DTE",
          "DUK",
          "DVA",
          "DVN",
          "DXCM",
          "EA",
          "EBAY",
          "ECL",
          "ED",
          "EFX",
          "EG",
          "EIX",
          "EL",
          "ELV",
          "EMN",
          "EMR",
          "ENPH",
          "EOG",
          "EPAM",
          "EQIX",
          "EQR",
          "EQT",
          "ES",
          "ESS",
          "ETN",
          "ETR",
          "ETSY",
          "EVRG",
          "EW",
          "EXC",
          "EXPD",
          "EXPE",
          "EXR",
          "F",
          "FANG",
          "FAST",
          "FCX",
          "FDS",
          "FDX",
          "FE",
          "FFIV",
          "FI",
          "FICO",
          "FIS",
          "FITB",
          "FMC",
          "FOX",
          "FOXA",
          "FRT",
          "FSLR",
          "FTNT",
          "FTV",
          "GD",
          "GDDY",
          "GE",
          "GEHC",
          "GEN",
          "GEV",
          "GILD",
          "GIS",
          "GL",
          "GLW",
          "GM",
          "GNRC",
          "GOOG",
          "GPC",
          "GPN",
          "GRMN",
          "GS",
          "GWW",
          "HAL",
          "HAS",
          "HBAN",
          "HCA",
          "HD",
          "HES",
          "HIG",
          "HII",
          "HLT",
          "HOLX",
          "HON",
          "HPE",
          "HPQ",
          "HRL",
          "HSIC",
          "HST",
          "HSY",
          "HUBB",
          "HUM",
          "HWM",
          "IBM",
          "ICE",
          "IDXX",
          "IEX",
          "IFF",
          "INCY",
          "INTC",
          "INTU",
          "INVH",
          "IP",
          "IPG",
          "IQV",
          "IR",
          "IRM",
          "ISRG",
          "IT",
          "ITW",
          "IVZ",
          "J",
          "JBHT",
          "JBL",
          "JCI",
          "JKHY",
          "JNJ",
          "JNPR",
          "JPM",
          "K",
          "KDP",
          "KEY",
          "KEYS",
          "KHC",
          "KIM",
          "KKR",
          "KLAC",
          "KMB",
          "KMI",
          "KMX",
          "KO",
          "KR",
          "KVUE",
          "LDOS",
          "LEN",
          "LH",
          "LHX",
          "LIN",
          "LKQ",
          "LLY",
          "LMT",
          "LNT",
          "LOW",
          "LRCX",
          "LULU",
          "LUV",
          "LVS",
          "LW",
          "LYB",
          "LYV",
          "MA",
          "MAA",
          "MAR",
          "MAS",
          "MCD",
          "MCHP",
          "MCK",
          "MCO",
          "MDLZ",
          "MDT",
          "MET",
          "META",
          "MGM",
          "MHK",
          "MKC",
          "MKTX",
          "MLM",
          "MMC",
          "MMM",
          "MNST",
          "MO",
          "MOH",
          "MOS",
          "MPC",
          "MPWR",
          "MRK",
          "MRNA",
          "MRO",
          "MS",
          "MSCI",
          "MSFT",
          "MSI",
          "MTB",
          "MTCH",
          "MTD",
          "MU",
          "NCLH",
          "NDAQ",
          "NDSN",
          "NEE",
          "NEM",
          "NFLX",
          "NI",
          "NKE",
          "NOC",
          "NOW",
          "NRG",
          "NSC",
          "NTAP",
          "NTRS",
          "NUE",
          "NVDA",
          "NVR",
          "NWS",
          "NWSA",
          "NXPI",
          "O",
          "ODFL",
          "OKE",
          "OMC",
          "ON",
          "ORCL",
          "ORLY",
          "OTIS",
          "OXY",
          "PANW",
          "PARA",
          "PAYC",
          "PAYX",
          "PCAR",
          "PCG",
          "PEG",
          "PEP",
          "PFE",
          "PFG",
          "PG",
          "PGR",
          "PH",
          "PHM",
          "PKG",
          "PLD",
          "PM",
          "PNC",
          "PNR",
          "PNW",
          "PODD",
          "POOL",
          "PPG",
          "PPL",
          "PRU",
          "PSA",
          "PSX",
          "PTC",
          "PWR",
          "PYPL",
          "QCOM",
          "QRVO",
          "RCL",
          "REG",
          "REGN",
          "RF",
          "RJF",
          "RL",
          "RMD",
          "ROK",
          "ROL",
          "ROP",
          "ROST",
          "RSG",
          "RTX",
          "RVTY",
          "SBAC",
          "SBUX",
          "SCHW",
          "SHW",
          "SJM",
          "SLB",
          "SMCI",
          "SNA",
          "SNPS",
          "SO",
          "SOLV",
          "SPG",
          "SPGI",
          "SRE",
          "STE",
          "STLD",
          "STT",
          "STX",
          "STZ",
          "SW",
          "SWK",
          "SWKS",
          "SYF",
          "SYK",
          "SYY",
          "T",
          "TAP",
          "TDG",
          "TDY",
          "TECH",
          "TEL",
          "TER",
          "TFC",
          "TFX",
          "TGT",
          "TJX",
          "TMO",
          "TMUS",
          "TPR",
          "TRGP",
          "TRMB",
          "TROW",
          "TRV",
          "TSCO",
          "TSLA",
          "TSN",
          "TT",
          "TTWO",
          "TXN",
          "TXT",
          "TYL",
          "UAL",
          "UBER",
          "UDR",
          "UHS",
          "ULTA",
          "UNH",
          "UNP",
          "UPS",
          "URI",
          "USB",
          "V",
          "VICI",
          "VLO",
          "VLTO",
          "VMC",
          "VRSK",
          "VRSN",
          "VRTX",
          "VST",
          "VTR",
          "VTRS",
          "VZ",
          "WAB",
          "WAT",
          "WBA",
          "WBD",
          "WDC",
          "WEC",
          "WELL",
          "WFC",
          "WM",
          "WMB",
          "WMT",
          "WRB",
          "WST",
          "WTW",
          "WY",
          "WYNN",
          "XEL",
          "XOM",
          "XYL",
          "YUM",
          "ZBH",
          "ZBRA",
          "ZTS",
          "Basic Materials",
          "Communication Services",
          "Consumer Cyclical",
          "Consumer Defensive",
          "Energy",
          "Financial Services",
          "Healthcare",
          "Industrials",
          "Real Estate",
          "Technology",
          "Utilities",
          "all"
         ],
         "marker": {
          "coloraxis": "coloraxis",
          "colors": [
           5,
           4,
           4,
           4,
           5,
           6,
           6,
           4,
           4,
           4,
           5,
           4,
           6,
           5,
           4,
           6,
           5,
           4,
           6,
           4,
           4,
           4,
           5,
           4,
           5,
           5,
           4,
           4,
           6,
           4,
           4,
           4,
           4,
           4,
           5,
           4,
           5,
           6,
           5,
           5,
           4,
           5,
           4,
           4,
           4,
           4,
           4,
           5,
           4,
           6,
           6,
           4,
           4,
           5,
           4,
           5,
           4,
           4,
           4,
           5,
           5,
           4,
           6,
           4,
           4,
           5,
           5,
           5,
           5,
           5,
           4,
           4,
           6,
           4,
           6,
           4,
           4,
           5,
           4,
           4,
           4,
           4,
           4,
           5,
           5,
           4,
           4,
           4,
           6,
           5,
           4,
           5,
           5,
           4,
           6,
           4,
           5,
           4,
           5,
           5,
           4,
           4,
           4,
           4,
           6,
           6,
           4,
           6,
           4,
           4,
           4,
           5,
           4,
           4,
           5,
           4,
           5,
           6,
           5,
           5,
           4,
           5,
           4,
           6,
           4,
           5,
           6,
           4,
           4,
           4,
           4,
           4,
           4,
           5,
           4,
           5,
           5,
           5,
           4,
           4,
           4,
           4,
           4,
           5,
           5,
           5,
           5,
           6,
           4,
           4,
           5,
           5,
           4,
           4,
           6,
           4,
           5,
           5,
           4,
           4,
           6,
           5,
           4,
           5,
           4,
           6,
           4,
           4,
           4,
           5,
           4,
           5,
           5,
           4,
           5,
           4,
           4,
           4,
           6,
           5,
           5,
           4,
           5,
           5,
           4,
           4,
           4,
           5,
           4,
           6,
           4,
           4,
           4,
           6,
           4,
           5,
           5,
           4,
           4,
           6,
           4,
           4,
           4,
           4,
           5,
           4,
           4,
           5,
           4,
           4,
           4,
           5,
           4,
           5,
           5,
           5,
           5,
           6,
           4,
           6,
           5,
           6,
           4,
           4,
           4,
           4,
           4,
           4,
           4,
           4,
           4,
           4,
           6,
           4,
           5,
           4,
           4,
           4,
           5,
           6,
           5,
           4,
           4,
           5,
           4,
           6,
           4,
           4,
           4,
           4,
           4,
           4,
           4,
           5,
           5,
           4,
           6,
           6,
           5,
           5,
           5,
           4,
           4,
           5,
           4,
           4,
           4,
           4,
           5,
           4,
           4,
           5,
           4,
           4,
           4,
           4,
           6,
           4,
           5,
           4,
           6,
           4,
           5,
           4,
           4,
           4,
           4,
           4,
           4,
           5,
           5,
           4,
           4,
           4,
           4,
           4,
           4,
           5,
           4,
           5,
           5,
           5,
           4,
           4,
           4,
           5,
           4,
           4,
           5,
           6,
           4,
           4,
           4,
           4,
           5,
           4,
           6,
           8,
           4,
           4,
           4,
           4,
           4,
           4,
           4,
           5,
           6,
           4,
           4,
           4,
           4,
           5,
           4,
           5,
           5,
           4,
           4,
           4,
           5,
           4,
           4,
           5,
           3,
           4,
           5,
           5,
           4,
           4,
           4,
           5,
           4,
           4,
           4,
           4,
           4,
           6,
           4,
           4,
           4,
           6,
           6,
           5,
           4,
           4,
           5,
           5,
           5,
           6,
           4,
           4,
           4,
           4,
           5,
           4,
           4,
           5,
           4,
           4,
           5,
           5,
           5,
           5,
           5,
           4,
           4,
           4,
           5,
           6,
           4,
           4,
           6,
           5,
           4,
           4,
           5,
           4,
           5,
           5,
           4,
           6,
           5,
           5,
           4,
           4,
           4,
           4,
           4,
           6,
           3,
           5,
           4,
           5,
           6,
           4,
           4,
           4,
           6,
           5,
           4,
           5,
           4,
           4,
           4,
           6,
           4,
           4,
           4,
           4,
           4,
           5,
           5,
           5,
           5,
           4,
           4,
           4,
           4,
           4,
           6,
           4,
           4,
           5,
           6,
           4,
           4,
           5,
           4,
           4,
           4,
           4,
           5,
           5,
           4,
           6,
           4,
           4,
           6,
           4,
           5,
           5,
           5,
           5,
           4,
           4,
           4,
           6,
           5,
           4,
           5,
           4,
           6,
           4,
           5,
           5,
           4,
           4,
           4,
           6,
           4,
           4,
           6,
           5,
           4,
           5,
           4,
           4,
           5,
           4,
           5,
           4,
           4,
           5,
           5,
           4,
           4,
           4,
           5,
           4,
           4.785943415984684,
           4.047634814613096,
           4.044940196926343,
           4.354744188967903,
           5.3493997198369385,
           4.549261645239168,
           5.199068159171019,
           4.5670282038700805,
           4.2853612148463895,
           3.949250824673315,
           4.514028575294182,
           4.3178264700862625
          ]
         },
         "name": "",
         "parents": [
          "all/Industrials",
          "all/Technology",
          "all/Healthcare",
          "all/Consumer Cyclical",
          "all/Healthcare",
          "all/Financial Services",
          "all/Technology",
          "all/Technology",
          "all/Technology",
          "all/Consumer Defensive",
          "all/Technology",
          "all/Technology",
          "all/Utilities",
          "all/Utilities",
          "all/Utilities",
          "all/Financial Services",
          "all/Financial Services",
          "all/Financial Services",
          "all/Financial Services",
          "all/Technology",
          "all/Basic Materials",
          "all/Healthcare",
          "all/Financial Services",
          "all/Industrials",
          "all/Technology",
          "all/Consumer Cyclical",
          "all/Technology",
          "all/Industrials",
          "all/Healthcare",
          "all/Financial Services",
          "all/Real Estate",
          "all/Consumer Cyclical",
          "all/Technology",
          "all/Technology",
          "all/Financial Services",
          "all/Industrials",
          "all/Energy",
          "all/Basic Materials",
          "all/Technology",
          "all/Consumer Cyclical",
          "all/Real Estate",
          "all/Utilities",
          "all/Real Estate",
          "all/Technology",
          "all/Consumer Cyclical",
          "all/Utilities",
          "all/Industrials",
          "all/Financial Services",
          "all/Consumer Cyclical",
          "all/Industrials",
          "all/Financial Services",
          "all/Consumer Cyclical",
          "all/Healthcare",
          "all/Consumer Cyclical",
          "all/Consumer Cyclical",
          "all/Healthcare",
          "all/Financial Services",
          "all/Consumer Defensive",
          "all/Healthcare",
          "all/Healthcare",
          "all/Financial Services",
          "all/Consumer Cyclical",
          "all/Energy",
          "all/Industrials",
          "all/Financial Services",
          "all/Healthcare",
          "all/Technology",
          "all/Financial Services",
          "all/Healthcare",
          "all/Consumer Cyclical",
          "all/Financial Services",
          "all/Real Estate",
          "all/Financial Services",
          "all/Consumer Defensive",
          "all/Healthcare",
          "all/Industrials",
          "all/Industrials",
          "all/Financial Services",
          "all/Financial Services",
          "all/Real Estate",
          "all/Real Estate",
          "all/Consumer Cyclical",
          "all/Technology",
          "all/Technology",
          "all/Basic Materials",
          "all/Utilities",
          "all/Basic Materials",
          "all/Financial Services",
          "all/Consumer Defensive",
          "all/Industrials",
          "all/Communication Services",
          "all/Healthcare",
          "all/Financial Services",
          "all/Consumer Defensive",
          "all/Consumer Defensive",
          "all/Communication Services",
          "all/Financial Services",
          "all/Consumer Cyclical",
          "all/Industrials",
          "all/Utilities",
          "all/Healthcare",
          "all/Utilities",
          "all/Financial Services",
          "all/Healthcare",
          "all/Energy",
          "all/Healthcare",
          "all/Consumer Defensive",
          "all/Technology",
          "all/Consumer Defensive",
          "all/Industrials",
          "all/Real Estate",
          "all/Healthcare",
          "all/Technology",
          "all/Technology",
          "all/Technology",
          "all/Real Estate",
          "all/Industrials",
          "all/Industrials",
          "all/Healthcare",
          "all/Energy",
          "all/Technology",
          "all/Basic Materials",
          "all/Healthcare",
          "all/Energy",
          "all/Consumer Cyclical",
          "all/Utilities",
          "all/Industrials",
          "all/Technology",
          "all/Basic Materials",
          "all/Industrials",
          "all/Consumer Cyclical",
          "all/Financial Services",
          "all/Consumer Defensive",
          "all/Healthcare",
          "all/Consumer Cyclical",
          "all/Healthcare",
          "all/Communication Services",
          "all/Real Estate",
          "all/Consumer Defensive",
          "all/Real Estate",
          "all/Industrials",
          "all/Basic Materials",
          "all/Consumer Cyclical",
          "all/Consumer Cyclical",
          "all/Utilities",
          "all/Utilities",
          "all/Healthcare",
          "all/Energy",
          "all/Healthcare",
          "all/Communication Services",
          "all/Consumer Cyclical",
          "all/Basic Materials",
          "all/Utilities",
          "all/Industrials",
          "all/Financial Services",
          "all/Utilities",
          "all/Consumer Defensive",
          "all/Healthcare",
          "all/Basic Materials",
          "all/Industrials",
          "all/Technology",
          "all/Energy",
          "all/Technology",
          "all/Real Estate",
          "all/Real Estate",
          "all/Energy",
          "all/Utilities",
          "all/Real Estate",
          "all/Industrials",
          "all/Utilities",
          "all/Consumer Cyclical",
          "all/Utilities",
          "all/Healthcare",
          "all/Utilities",
          "all/Industrials",
          "all/Consumer Cyclical",
          "all/Real Estate",
          "all/Consumer Cyclical",
          "all/Energy",
          "all/Industrials",
          "all/Basic Materials",
          "all/Financial Services",
          "all/Industrials",
          "all/Utilities",
          "all/Technology",
          "all/Technology",
          "all/Technology",
          "all/Technology",
          "all/Financial Services",
          "all/Basic Materials",
          "all/Communication Services",
          "all/Communication Services",
          "all/Real Estate",
          "all/Technology",
          "all/Technology",
          "all/Technology",
          "all/Industrials",
          "all/Technology",
          "all/Industrials",
          "all/Healthcare",
          "all/Technology",
          "all/Utilities",
          "all/Healthcare",
          "all/Consumer Defensive",
          "all/Financial Services",
          "all/Technology",
          "all/Consumer Cyclical",
          "all/Industrials",
          "all/Communication Services",
          "all/Consumer Cyclical",
          "all/Industrials",
          "all/Technology",
          "all/Financial Services",
          "all/Industrials",
          "all/Energy",
          "all/Consumer Cyclical",
          "all/Financial Services",
          "all/Healthcare",
          "all/Consumer Cyclical",
          "all/Energy",
          "all/Financial Services",
          "all/Industrials",
          "all/Consumer Cyclical",
          "all/Healthcare",
          "all/Industrials",
          "all/Technology",
          "all/Technology",
          "all/Consumer Defensive",
          "all/Healthcare",
          "all/Real Estate",
          "all/Consumer Defensive",
          "all/Industrials",
          "all/Healthcare",
          "all/Industrials",
          "all/Technology",
          "all/Financial Services",
          "all/Healthcare",
          "all/Industrials",
          "all/Basic Materials",
          "all/Healthcare",
          "all/Technology",
          "all/Technology",
          "all/Real Estate",
          "all/Consumer Cyclical",
          "all/Communication Services",
          "all/Healthcare",
          "all/Industrials",
          "all/Real Estate",
          "all/Healthcare",
          "all/Technology",
          "all/Industrials",
          "all/Financial Services",
          "all/Industrials",
          "all/Industrials",
          "all/Technology",
          "all/Industrials",
          "all/Technology",
          "all/Healthcare",
          "all/Technology",
          "all/Financial Services",
          "all/Consumer Defensive",
          "all/Consumer Defensive",
          "all/Financial Services",
          "all/Technology",
          "all/Consumer Defensive",
          "all/Real Estate",
          "all/Financial Services",
          "all/Technology",
          "all/Consumer Defensive",
          "all/Energy",
          "all/Consumer Cyclical",
          "all/Consumer Defensive",
          "all/Consumer Defensive",
          "all/Consumer Defensive",
          "all/Technology",
          "all/Consumer Cyclical",
          "all/Healthcare",
          "all/Industrials",
          "all/Basic Materials",
          "all/Consumer Cyclical",
          "all/Healthcare",
          "all/Industrials",
          "all/Utilities",
          "all/Consumer Cyclical",
          "all/Technology",
          "all/Consumer Cyclical",
          "all/Industrials",
          "all/Consumer Cyclical",
          "all/Consumer Defensive",
          "all/Basic Materials",
          "all/Communication Services",
          "all/Financial Services",
          "all/Real Estate",
          "all/Consumer Cyclical",
          "all/Industrials",
          "all/Consumer Cyclical",
          "all/Technology",
          "all/Healthcare",
          "all/Financial Services",
          "all/Consumer Defensive",
          "all/Healthcare",
          "all/Financial Services",
          "all/Communication Services",
          "all/Consumer Cyclical",
          "all/Consumer Cyclical",
          "all/Consumer Defensive",
          "all/Financial Services",
          "all/Basic Materials",
          "all/Financial Services",
          "all/Industrials",
          "all/Consumer Defensive",
          "all/Consumer Defensive",
          "all/Healthcare",
          "all/Basic Materials",
          "all/Energy",
          "all/Technology",
          "all/Healthcare",
          "all/Healthcare",
          "all/Energy",
          "all/Financial Services",
          "all/Financial Services",
          "all/Technology",
          "all/Technology",
          "all/Financial Services",
          "all/Communication Services",
          "all/Healthcare",
          "all/Technology",
          "all/Consumer Cyclical",
          "all/Financial Services",
          "all/Industrials",
          "all/Utilities",
          "all/Basic Materials",
          "all/Communication Services",
          "all/Utilities",
          "all/Consumer Cyclical",
          "all/Industrials",
          "all/Technology",
          "all/Utilities",
          "all/Industrials",
          "all/Technology",
          "all/Financial Services",
          "all/Basic Materials",
          "all/Technology",
          "all/Consumer Cyclical",
          "all/Communication Services",
          "all/Communication Services",
          "all/Technology",
          "all/Real Estate",
          "all/Industrials",
          "all/Energy",
          "all/Communication Services",
          "all/Technology",
          "all/Technology",
          "all/Consumer Cyclical",
          "all/Industrials",
          "all/Energy",
          "all/Technology",
          "all/Communication Services",
          "all/Technology",
          "all/Technology",
          "all/Industrials",
          "all/Utilities",
          "all/Utilities",
          "all/Consumer Defensive",
          "all/Healthcare",
          "all/Financial Services",
          "all/Consumer Defensive",
          "all/Financial Services",
          "all/Industrials",
          "all/Consumer Cyclical",
          "all/Consumer Cyclical",
          "all/Real Estate",
          "all/Consumer Defensive",
          "all/Financial Services",
          "all/Industrials",
          "all/Utilities",
          "all/Healthcare",
          "all/Industrials",
          "all/Basic Materials",
          "all/Utilities",
          "all/Financial Services",
          "all/Real Estate",
          "all/Energy",
          "all/Technology",
          "all/Industrials",
          "all/Financial Services",
          "all/Technology",
          "all/Technology",
          "all/Consumer Cyclical",
          "all/Real Estate",
          "all/Healthcare",
          "all/Financial Services",
          "all/Financial Services",
          "all/Consumer Cyclical",
          "all/Healthcare",
          "all/Industrials",
          "all/Consumer Cyclical",
          "all/Technology",
          "all/Consumer Cyclical",
          "all/Industrials",
          "all/Industrials",
          "all/Healthcare",
          "all/Real Estate",
          "all/Consumer Cyclical",
          "all/Financial Services",
          "all/Basic Materials",
          "all/Consumer Defensive",
          "all/Energy",
          "all/Technology",
          "all/Industrials",
          "all/Technology",
          "all/Utilities",
          "all/Healthcare",
          "all/Real Estate",
          "all/Financial Services",
          "all/Utilities",
          "all/Healthcare",
          "all/Basic Materials",
          "all/Financial Services",
          "all/Technology",
          "all/Consumer Defensive",
          "all/Consumer Cyclical",
          "all/Industrials",
          "all/Technology",
          "all/Financial Services",
          "all/Healthcare",
          "all/Consumer Defensive",
          "all/Communication Services",
          "all/Consumer Defensive",
          "all/Industrials",
          "all/Technology",
          "all/Healthcare",
          "all/Technology",
          "all/Technology",
          "all/Financial Services",
          "all/Healthcare",
          "all/Consumer Defensive",
          "all/Consumer Cyclical",
          "all/Healthcare",
          "all/Communication Services",
          "all/Consumer Cyclical",
          "all/Energy",
          "all/Technology",
          "all/Financial Services",
          "all/Financial Services",
          "all/Consumer Cyclical",
          "all/Consumer Cyclical",
          "all/Consumer Defensive",
          "all/Industrials",
          "all/Communication Services",
          "all/Technology",
          "all/Industrials",
          "all/Technology",
          "all/Industrials",
          "all/Technology",
          "all/Real Estate",
          "all/Healthcare",
          "all/Consumer Cyclical",
          "all/Healthcare",
          "all/Industrials",
          "all/Industrials",
          "all/Industrials",
          "all/Financial Services",
          "all/Financial Services",
          "all/Real Estate",
          "all/Energy",
          "all/Industrials",
          "all/Basic Materials",
          "all/Industrials",
          "all/Technology",
          "all/Healthcare",
          "all/Utilities",
          "all/Real Estate",
          "all/Healthcare",
          "all/Communication Services",
          "all/Industrials",
          "all/Healthcare",
          "all/Healthcare",
          "all/Communication Services",
          "all/Technology",
          "all/Utilities",
          "all/Real Estate",
          "all/Financial Services",
          "all/Industrials",
          "all/Energy",
          "all/Consumer Defensive",
          "all/Financial Services",
          "all/Healthcare",
          "all/Financial Services",
          "all/Real Estate",
          "all/Consumer Cyclical",
          "all/Utilities",
          "all/Energy",
          "all/Industrials",
          "all/Consumer Cyclical",
          "all/Healthcare",
          "all/Technology",
          "all/Healthcare",
          "all",
          "all",
          "all",
          "all",
          "all",
          "all",
          "all",
          "all",
          "all",
          "all",
          "all",
          ""
         ],
         "type": "treemap",
         "values": [
          11624647680,
          3661198000128,
          317254631424,
          82026307584,
          196687773696,
          34708324352,
          222914822144,
          186041729024,
          107135631360,
          23653937152,
          117510594560,
          62674325504,
          23478986752,
          48181153792,
          9207799808,
          57130496000,
          45279391744,
          10616492032,
          69887385600,
          13902007296,
          10576249856,
          16241528832,
          49263951872,
          11076531200,
          144689463296,
          13730729984,
          206632402944,
          41332428800,
          140865896448,
          51304230912,
          82789588992,
          2335486771200,
          145237737472,
          29370955776,
          75355725824,
          9903159296,
          8752946176,
          63673778176,
          86152888320,
          14529925120,
          17014828032,
          21235308544,
          30044719104,
          1071718006784,
          14999869440,
          23704956928,
          42857488384,
          212756463616,
          54708461568,
          129067835392,
          353566326784,
          16022491136,
          15103193088,
          7981046272,
          18018725888,
          67325353984,
          10343424000,
          10864376832,
          22316865536,
          9537294336,
          56682999808,
          158735089664,
          42945429504,
          16493982720,
          151899144192,
          115890200576,
          26454319104,
          28901777408,
          135577616384,
          7057448960,
          207814852608,
          12404383744,
          139348033536,
          12711030784,
          29380014080,
          61199851520,
          175257124864,
          108336619520,
          19978276864,
          39366152192,
          38009942016,
          31182721024,
          82736922624,
          24118118400,
          7247386112,
          79952633856,
          15444275200,
          19699335168,
          25185796096,
          12299230208,
          49427423232,
          77863362560,
          22245187584,
          71398588416,
          19767824384,
          142270758912,
          81805770752,
          79016591360,
          49382776832,
          19633162240,
          31609597952,
          20118812672,
          69341929472,
          18499348480,
          131516252160,
          45273907200,
          408995233792,
          24233635840,
          11909454848,
          54188814336,
          11767981056,
          9703605248,
          310957998080,
          88654716928,
          234704044032,
          28844785664,
          62075834368,
          76147769344,
          11522381824,
          19412690944,
          37494210560,
          39196319744,
          57610006528,
          266706993152,
          7022464000,
          45385740288,
          39478292480,
          11232971776,
          31380062208,
          112233799680,
          31159203840,
          44632838144,
          16311911424,
          17148528640,
          44223066112,
          172695961600,
          201720610816,
          60819046400,
          16130076672,
          13925910528,
          25789351936,
          27590627328,
          14189198336,
          21594877952,
          24930816000,
          82508800000,
          12524244992,
          22787858432,
          30993713152,
          37943033856,
          30258429952,
          65535008768,
          30488301568,
          30430216192,
          15945919488,
          29957666816,
          26625396736,
          88304689152,
          10255982592,
          68731002880,
          9931716608,
          71746117632,
          12958003200,
          90705666048,
          26379220992,
          28730337280,
          20547823616,
          17985968128,
          135913234432,
          32572862464,
          6072317952,
          13922747392,
          43432869888,
          37711269888,
          15593326592,
          23401326592,
          32737865728,
          38789070848,
          50344742912,
          41425387520,
          55666671616,
          17500680192,
          66234028032,
          22655021056,
          15081028608,
          115957071872,
          47117082624,
          42616102912,
          28453982208,
          6382864896,
          21915037696,
          21915029504,
          8978663424,
          21168578560,
          73525837824,
          26593640448,
          71395696640,
          27456270336,
          186489389056,
          38089502720,
          16627665920,
          101583634432,
          112949444608,
          33564452864,
          9359039488,
          40969601024,
          57157206016,
          9579065344,
          2399744032768,
          16212987904,
          28574699520,
          40046813184,
          182105473024,
          51756138496,
          24378431488,
          7966901760,
          24044003328,
          78068662272,
          381679894528,
          42708238336,
          31603916800,
          7397394432,
          58843619328,
          16496340992,
          143463989248,
          29305554944,
          31575658496,
          16547251200,
          8935886848,
          12080418816,
          33493800960,
          23290849280,
          32175022080,
          45363105792,
          207083503616,
          84082483200,
          34986057728,
          15750445056,
          21109104640,
          14100054016,
          86303129600,
          172269305856,
          18966282240,
          18624542720,
          10318665728,
          36780974080,
          35932553216,
          29548488704,
          189444489216,
          37909966848,
          73408626688,
          7707895808,
          16351642624,
          17794478080,
          17058871296,
          52425187328,
          12500845568,
          352066273280,
          12684019712,
          684606226432,
          28041181184,
          41615888384,
          19021252608,
          28769230848,
          35996991488,
          14809560064,
          135300636672,
          92200763392,
          42452639744,
          61783805952,
          12168656896,
          262086557696,
          42794057728,
          40358322176,
          19654680576,
          35996131328,
          19663599616,
          38502604800,
          197581766656,
          9485940736,
          695432052736,
          109974757376,
          14718519296,
          139225743360,
          99744210944,
          47917129728,
          19719354368,
          35888787456,
          8798096384,
          23999541248,
          29894854656,
          469378760704,
          17784676352,
          74969972736,
          15469202432,
          207346843648,
          30861965312,
          74290364416,
          84091191296,
          77944807424,
          102416506880,
          56875376640,
          1559857201152,
          9893900288,
          7404128768,
          19945555968,
          8265558528,
          31087720448,
          103125794816,
          72301101056,
          50133405696,
          87214923776,
          16958656512,
          8020535808,
          45527965696,
          30481158144,
          255544213504,
          18290399232,
          15971154944,
          204408750080,
          46343299072,
          3140270161920,
          76065120256,
          31863465984,
          8135349248,
          26483677184,
          113545068544,
          11216951296,
          43888521216,
          11712796672,
          144832249856,
          43443253248,
          375816781824,
          16696685568,
          106630471680,
          65910968320,
          217489063936,
          19594209280,
          53790822400,
          23823396864,
          20366899200,
          28478119936,
          3432028569600,
          24195461120,
          16211938304,
          16211936256,
          54028484608,
          45957328896,
          38566277120,
          59233857536,
          16622263296,
          26710245376,
          453191434240,
          69260673024,
          36798349312,
          48371580928,
          115169656832,
          7739991040,
          11653490688,
          50142371840,
          57442414592,
          43826327552,
          42553397248,
          199487340544,
          153745440768,
          17909245952,
          379867955200,
          141930283008,
          81766801408,
          22113992704,
          20294109184,
          98711732224,
          188756361216,
          77281427456,
          16304996352,
          9459840000,
          18633965568,
          12481061888,
          26879520768,
          23615039488,
          42419859456,
          52239577088,
          47572201472,
          22035980288,
          47207792640,
          88193449984,
          178337742848,
          6960001024,
          60585607168,
          12811357184,
          80252665856,
          21676406784,
          32439072768,
          15060079616,
          34702573568,
          31797313536,
          22156953600,
          54375825408,
          50004037632,
          63585513472,
          152801099776,
          14190452736,
          21062680576,
          105261981696,
          132276273152,
          84219641856,
          11436527616,
          55596343296,
          20131725312,
          17618726912,
          75375321088,
          88848687104,
          11991063552,
          65396129792,
          152465899520,
          53351198720,
          20382070784,
          18240473088,
          28646717440,
          18953086976,
          39678574592,
          27105329152,
          12587491328,
          14818279424,
          25922525184,
          135400292352,
          36620898304,
          159291441152,
          11375928320,
          70407774208,
          21380202496,
          11880354816,
          43007524864,
          22608363520,
          58371055616,
          8350112256,
          63806021632,
          135056580608,
          208711139328,
          246412656640,
          15697305600,
          40956596224,
          17587859456,
          25130627072,
          54865952768,
          28777084928,
          1265919197184,
          19796094976,
          85500116992,
          31920207872,
          175337242624,
          14024707072,
          24118722560,
          33285539840,
          139292721152,
          15428356096,
          12269601792,
          19859949568,
          473256067072,
          139766497280,
          106654187520,
          44978245632,
          75973459968,
          603539636224,
          30834472960,
          39253372928,
          25138857984,
          33276729344,
          38624034816,
          20106041344,
          105154240512,
          55582715904,
          23941492736,
          14323080192,
          163838787584,
          32511275008,
          22386608128,
          8349928960,
          25782816768,
          22426079232,
          29481027584,
          77363003392,
          238358167552,
          81633837056,
          67716005888,
          729512148992,
          21911468032,
          24082620416,
          31124025344,
          20351561728,
          9054246912,
          37693243392,
          477966041088,
          28128169984,
          35874705408,
          20530501632,
          20431353856,
          73760964608,
          849285633536,
          5542990818304,
          6215113240064,
          3144879411200,
          1669978963968,
          6099673657856,
          5258888508416,
          3724702064640,
          1069061840896,
          16905618918400,
          1268030639104,
          51748223696384
         ]
        }
       ],
       "layout": {
        "coloraxis": {
         "cmid": 4.3178264700862625,
         "colorbar": {
          "title": {
           "text": "daily_return2"
          }
         },
         "colorscale": [
          [
           0,
           "red"
          ],
          [
           0.25,
           "red"
          ],
          [
           0.5,
           "white"
          ],
          [
           0.75,
           "green"
          ],
          [
           1,
           "green"
          ]
         ]
        },
        "legend": {
         "tracegroupgap": 0
        },
        "margin": {
         "b": 25,
         "l": 25,
         "r": 25,
         "t": 50
        },
        "template": {
         "data": {
          "bar": [
           {
            "error_x": {
             "color": "#2a3f5f"
            },
            "error_y": {
             "color": "#2a3f5f"
            },
            "marker": {
             "line": {
              "color": "#E5ECF6",
              "width": 0.5
             },
             "pattern": {
              "fillmode": "overlay",
              "size": 10,
              "solidity": 0.2
             }
            },
            "type": "bar"
           }
          ],
          "barpolar": [
           {
            "marker": {
             "line": {
              "color": "#E5ECF6",
              "width": 0.5
             },
             "pattern": {
              "fillmode": "overlay",
              "size": 10,
              "solidity": 0.2
             }
            },
            "type": "barpolar"
           }
          ],
          "carpet": [
           {
            "aaxis": {
             "endlinecolor": "#2a3f5f",
             "gridcolor": "white",
             "linecolor": "white",
             "minorgridcolor": "white",
             "startlinecolor": "#2a3f5f"
            },
            "baxis": {
             "endlinecolor": "#2a3f5f",
             "gridcolor": "white",
             "linecolor": "white",
             "minorgridcolor": "white",
             "startlinecolor": "#2a3f5f"
            },
            "type": "carpet"
           }
          ],
          "choropleth": [
           {
            "colorbar": {
             "outlinewidth": 0,
             "ticks": ""
            },
            "type": "choropleth"
           }
          ],
          "contour": [
           {
            "colorbar": {
             "outlinewidth": 0,
             "ticks": ""
            },
            "colorscale": [
             [
              0,
              "#0d0887"
             ],
             [
              0.1111111111111111,
              "#46039f"
             ],
             [
              0.2222222222222222,
              "#7201a8"
             ],
             [
              0.3333333333333333,
              "#9c179e"
             ],
             [
              0.4444444444444444,
              "#bd3786"
             ],
             [
              0.5555555555555556,
              "#d8576b"
             ],
             [
              0.6666666666666666,
              "#ed7953"
             ],
             [
              0.7777777777777778,
              "#fb9f3a"
             ],
             [
              0.8888888888888888,
              "#fdca26"
             ],
             [
              1,
              "#f0f921"
             ]
            ],
            "type": "contour"
           }
          ],
          "contourcarpet": [
           {
            "colorbar": {
             "outlinewidth": 0,
             "ticks": ""
            },
            "type": "contourcarpet"
           }
          ],
          "heatmap": [
           {
            "colorbar": {
             "outlinewidth": 0,
             "ticks": ""
            },
            "colorscale": [
             [
              0,
              "#0d0887"
             ],
             [
              0.1111111111111111,
              "#46039f"
             ],
             [
              0.2222222222222222,
              "#7201a8"
             ],
             [
              0.3333333333333333,
              "#9c179e"
             ],
             [
              0.4444444444444444,
              "#bd3786"
             ],
             [
              0.5555555555555556,
              "#d8576b"
             ],
             [
              0.6666666666666666,
              "#ed7953"
             ],
             [
              0.7777777777777778,
              "#fb9f3a"
             ],
             [
              0.8888888888888888,
              "#fdca26"
             ],
             [
              1,
              "#f0f921"
             ]
            ],
            "type": "heatmap"
           }
          ],
          "heatmapgl": [
           {
            "colorbar": {
             "outlinewidth": 0,
             "ticks": ""
            },
            "colorscale": [
             [
              0,
              "#0d0887"
             ],
             [
              0.1111111111111111,
              "#46039f"
             ],
             [
              0.2222222222222222,
              "#7201a8"
             ],
             [
              0.3333333333333333,
              "#9c179e"
             ],
             [
              0.4444444444444444,
              "#bd3786"
             ],
             [
              0.5555555555555556,
              "#d8576b"
             ],
             [
              0.6666666666666666,
              "#ed7953"
             ],
             [
              0.7777777777777778,
              "#fb9f3a"
             ],
             [
              0.8888888888888888,
              "#fdca26"
             ],
             [
              1,
              "#f0f921"
             ]
            ],
            "type": "heatmapgl"
           }
          ],
          "histogram": [
           {
            "marker": {
             "pattern": {
              "fillmode": "overlay",
              "size": 10,
              "solidity": 0.2
             }
            },
            "type": "histogram"
           }
          ],
          "histogram2d": [
           {
            "colorbar": {
             "outlinewidth": 0,
             "ticks": ""
            },
            "colorscale": [
             [
              0,
              "#0d0887"
             ],
             [
              0.1111111111111111,
              "#46039f"
             ],
             [
              0.2222222222222222,
              "#7201a8"
             ],
             [
              0.3333333333333333,
              "#9c179e"
             ],
             [
              0.4444444444444444,
              "#bd3786"
             ],
             [
              0.5555555555555556,
              "#d8576b"
             ],
             [
              0.6666666666666666,
              "#ed7953"
             ],
             [
              0.7777777777777778,
              "#fb9f3a"
             ],
             [
              0.8888888888888888,
              "#fdca26"
             ],
             [
              1,
              "#f0f921"
             ]
            ],
            "type": "histogram2d"
           }
          ],
          "histogram2dcontour": [
           {
            "colorbar": {
             "outlinewidth": 0,
             "ticks": ""
            },
            "colorscale": [
             [
              0,
              "#0d0887"
             ],
             [
              0.1111111111111111,
              "#46039f"
             ],
             [
              0.2222222222222222,
              "#7201a8"
             ],
             [
              0.3333333333333333,
              "#9c179e"
             ],
             [
              0.4444444444444444,
              "#bd3786"
             ],
             [
              0.5555555555555556,
              "#d8576b"
             ],
             [
              0.6666666666666666,
              "#ed7953"
             ],
             [
              0.7777777777777778,
              "#fb9f3a"
             ],
             [
              0.8888888888888888,
              "#fdca26"
             ],
             [
              1,
              "#f0f921"
             ]
            ],
            "type": "histogram2dcontour"
           }
          ],
          "mesh3d": [
           {
            "colorbar": {
             "outlinewidth": 0,
             "ticks": ""
            },
            "type": "mesh3d"
           }
          ],
          "parcoords": [
           {
            "line": {
             "colorbar": {
              "outlinewidth": 0,
              "ticks": ""
             }
            },
            "type": "parcoords"
           }
          ],
          "pie": [
           {
            "automargin": true,
            "type": "pie"
           }
          ],
          "scatter": [
           {
            "fillpattern": {
             "fillmode": "overlay",
             "size": 10,
             "solidity": 0.2
            },
            "type": "scatter"
           }
          ],
          "scatter3d": [
           {
            "line": {
             "colorbar": {
              "outlinewidth": 0,
              "ticks": ""
             }
            },
            "marker": {
             "colorbar": {
              "outlinewidth": 0,
              "ticks": ""
             }
            },
            "type": "scatter3d"
           }
          ],
          "scattercarpet": [
           {
            "marker": {
             "colorbar": {
              "outlinewidth": 0,
              "ticks": ""
             }
            },
            "type": "scattercarpet"
           }
          ],
          "scattergeo": [
           {
            "marker": {
             "colorbar": {
              "outlinewidth": 0,
              "ticks": ""
             }
            },
            "type": "scattergeo"
           }
          ],
          "scattergl": [
           {
            "marker": {
             "colorbar": {
              "outlinewidth": 0,
              "ticks": ""
             }
            },
            "type": "scattergl"
           }
          ],
          "scattermapbox": [
           {
            "marker": {
             "colorbar": {
              "outlinewidth": 0,
              "ticks": ""
             }
            },
            "type": "scattermapbox"
           }
          ],
          "scatterpolar": [
           {
            "marker": {
             "colorbar": {
              "outlinewidth": 0,
              "ticks": ""
             }
            },
            "type": "scatterpolar"
           }
          ],
          "scatterpolargl": [
           {
            "marker": {
             "colorbar": {
              "outlinewidth": 0,
              "ticks": ""
             }
            },
            "type": "scatterpolargl"
           }
          ],
          "scatterternary": [
           {
            "marker": {
             "colorbar": {
              "outlinewidth": 0,
              "ticks": ""
             }
            },
            "type": "scatterternary"
           }
          ],
          "surface": [
           {
            "colorbar": {
             "outlinewidth": 0,
             "ticks": ""
            },
            "colorscale": [
             [
              0,
              "#0d0887"
             ],
             [
              0.1111111111111111,
              "#46039f"
             ],
             [
              0.2222222222222222,
              "#7201a8"
             ],
             [
              0.3333333333333333,
              "#9c179e"
             ],
             [
              0.4444444444444444,
              "#bd3786"
             ],
             [
              0.5555555555555556,
              "#d8576b"
             ],
             [
              0.6666666666666666,
              "#ed7953"
             ],
             [
              0.7777777777777778,
              "#fb9f3a"
             ],
             [
              0.8888888888888888,
              "#fdca26"
             ],
             [
              1,
              "#f0f921"
             ]
            ],
            "type": "surface"
           }
          ],
          "table": [
           {
            "cells": {
             "fill": {
              "color": "#EBF0F8"
             },
             "line": {
              "color": "white"
             }
            },
            "header": {
             "fill": {
              "color": "#C8D4E3"
             },
             "line": {
              "color": "white"
             }
            },
            "type": "table"
           }
          ]
         },
         "layout": {
          "annotationdefaults": {
           "arrowcolor": "#2a3f5f",
           "arrowhead": 0,
           "arrowwidth": 1
          },
          "autotypenumbers": "strict",
          "coloraxis": {
           "colorbar": {
            "outlinewidth": 0,
            "ticks": ""
           }
          },
          "colorscale": {
           "diverging": [
            [
             0,
             "#8e0152"
            ],
            [
             0.1,
             "#c51b7d"
            ],
            [
             0.2,
             "#de77ae"
            ],
            [
             0.3,
             "#f1b6da"
            ],
            [
             0.4,
             "#fde0ef"
            ],
            [
             0.5,
             "#f7f7f7"
            ],
            [
             0.6,
             "#e6f5d0"
            ],
            [
             0.7,
             "#b8e186"
            ],
            [
             0.8,
             "#7fbc41"
            ],
            [
             0.9,
             "#4d9221"
            ],
            [
             1,
             "#276419"
            ]
           ],
           "sequential": [
            [
             0,
             "#0d0887"
            ],
            [
             0.1111111111111111,
             "#46039f"
            ],
            [
             0.2222222222222222,
             "#7201a8"
            ],
            [
             0.3333333333333333,
             "#9c179e"
            ],
            [
             0.4444444444444444,
             "#bd3786"
            ],
            [
             0.5555555555555556,
             "#d8576b"
            ],
            [
             0.6666666666666666,
             "#ed7953"
            ],
            [
             0.7777777777777778,
             "#fb9f3a"
            ],
            [
             0.8888888888888888,
             "#fdca26"
            ],
            [
             1,
             "#f0f921"
            ]
           ],
           "sequentialminus": [
            [
             0,
             "#0d0887"
            ],
            [
             0.1111111111111111,
             "#46039f"
            ],
            [
             0.2222222222222222,
             "#7201a8"
            ],
            [
             0.3333333333333333,
             "#9c179e"
            ],
            [
             0.4444444444444444,
             "#bd3786"
            ],
            [
             0.5555555555555556,
             "#d8576b"
            ],
            [
             0.6666666666666666,
             "#ed7953"
            ],
            [
             0.7777777777777778,
             "#fb9f3a"
            ],
            [
             0.8888888888888888,
             "#fdca26"
            ],
            [
             1,
             "#f0f921"
            ]
           ]
          },
          "colorway": [
           "#636efa",
           "#EF553B",
           "#00cc96",
           "#ab63fa",
           "#FFA15A",
           "#19d3f3",
           "#FF6692",
           "#B6E880",
           "#FF97FF",
           "#FECB52"
          ],
          "font": {
           "color": "#2a3f5f"
          },
          "geo": {
           "bgcolor": "white",
           "lakecolor": "white",
           "landcolor": "#E5ECF6",
           "showlakes": true,
           "showland": true,
           "subunitcolor": "white"
          },
          "hoverlabel": {
           "align": "left"
          },
          "hovermode": "closest",
          "mapbox": {
           "style": "light"
          },
          "paper_bgcolor": "white",
          "plot_bgcolor": "#E5ECF6",
          "polar": {
           "angularaxis": {
            "gridcolor": "white",
            "linecolor": "white",
            "ticks": ""
           },
           "bgcolor": "#E5ECF6",
           "radialaxis": {
            "gridcolor": "white",
            "linecolor": "white",
            "ticks": ""
           }
          },
          "scene": {
           "xaxis": {
            "backgroundcolor": "#E5ECF6",
            "gridcolor": "white",
            "gridwidth": 2,
            "linecolor": "white",
            "showbackground": true,
            "ticks": "",
            "zerolinecolor": "white"
           },
           "yaxis": {
            "backgroundcolor": "#E5ECF6",
            "gridcolor": "white",
            "gridwidth": 2,
            "linecolor": "white",
            "showbackground": true,
            "ticks": "",
            "zerolinecolor": "white"
           },
           "zaxis": {
            "backgroundcolor": "#E5ECF6",
            "gridcolor": "white",
            "gridwidth": 2,
            "linecolor": "white",
            "showbackground": true,
            "ticks": "",
            "zerolinecolor": "white"
           }
          },
          "shapedefaults": {
           "line": {
            "color": "#2a3f5f"
           }
          },
          "ternary": {
           "aaxis": {
            "gridcolor": "white",
            "linecolor": "white",
            "ticks": ""
           },
           "baxis": {
            "gridcolor": "white",
            "linecolor": "white",
            "ticks": ""
           },
           "bgcolor": "#E5ECF6",
           "caxis": {
            "gridcolor": "white",
            "linecolor": "white",
            "ticks": ""
           }
          },
          "title": {
           "x": 0.05
          },
          "xaxis": {
           "automargin": true,
           "gridcolor": "white",
           "linecolor": "white",
           "ticks": "",
           "title": {
            "standoff": 15
           },
           "zerolinecolor": "white",
           "zerolinewidth": 2
          },
          "yaxis": {
           "automargin": true,
           "gridcolor": "white",
           "linecolor": "white",
           "ticks": "",
           "title": {
            "standoff": 15
           },
           "zerolinecolor": "white",
           "zerolinewidth": 2
          }
         }
        }
       }
      },
      "text/html": [
       "<div>                            <div id=\"d1169bf7-30df-434d-aff8-1d3a7b0969b4\" class=\"plotly-graph-div\" style=\"height:525px; width:100%;\"></div>            <script type=\"text/javascript\">                require([\"plotly\"], function(Plotly) {                    window.PLOTLYENV=window.PLOTLYENV || {};                                    if (document.getElementById(\"d1169bf7-30df-434d-aff8-1d3a7b0969b4\")) {                    Plotly.newPlot(                        \"d1169bf7-30df-434d-aff8-1d3a7b0969b4\",                        [{\"branchvalues\":\"total\",\"customdata\":[[0.9703196347031984,5.0],[-1.138775510204082,4.0],[-0.3164908384230891,4.0],[-2.892011834319519,4.0],[0.31847133757960666,5.0],[1.6640952171038226,6.0],[1.4402413685139281,6.0],[-1.9829305626420601,4.0],[-0.9770642201834878,4.0],[-0.4029820672980078,4.0],[0.44230836206595736,5.0],[-0.5777580253666481,4.0],[1.2547484747323479,6.0],[0.16607617360495652,5.0],[-0.4611837048424272,4.0],[1.0315355142941351,6.0],[0.1655857596246868,5.0],[-0.31782721756717924,4.0],[1.21192388394471,6.0],[-0.9101616875468399,4.0],[-0.23284177846767395,4.0],[-0.6030701754385914,4.0],[0.06992630842881375,5.0],[-1.3166047087980193,4.0],[0.19157088122605526,5.0],[0.7423117709437932,5.0],[-1.7136240833655059,4.0],[-0.41241709858999,4.0],[1.3418925712517904,6.0],[-0.3730148263973776,4.0],[-1.7141906135581975,4.0],[-2.4164140415623203,4.0],[-3.1013615733736732,4.0],[-0.8238594419016532,4.0],[-0.008609062473108331,5.0],[-0.8708272859216382,4.0],[0.0,5.0],[1.0909476062702872,6.0],[0.4639392661324404,5.0],[0.7168458781362075,5.0],[-0.37859408574645315,4.0],[0.08790564793788036,5.0],[-0.7284519221731456,4.0],[-3.2866630007190922,4.0],[-0.7179323548181182,4.0],[-0.2787570714110066,4.0],[-1.5209125475285301,4.0],[0.046376043460982785,5.0],[-1.0186855161441244,4.0],[1.0129991802318772,6.0],[1.497797356828201,6.0],[-0.6108848574602144,4.0],[-0.2697235333782966,4.0],[0.8207934336525335,5.0],[-0.578034682080919,4.0],[0.628521889900302,5.0],[-1.3000000000000123,4.0],[-0.2180046165683569,4.0],[-0.07829320806420625,4.0],[0.15139604623402025,5.0],[0.05133470225870962,5.0],[-2.315577651997325,4.0],[1.3308428671491956,6.0],[-1.5997253690353652,4.0],[-3.157770010071692,4.0],[0.8115737473535667,5.0],[0.3903477643719011,5.0],[0.14863258026158732,5.0],[0.7667871617920818,5.0],[0.5922693266833035,5.0],[-1.9737971279821465,4.0],[-2.3058758160855675,4.0],[1.2922738520759092,6.0],[-0.9669021941242195,4.0],[1.479561982780253,6.0],[-0.7276961141027494,4.0],[-0.32948929159801743,4.0],[0.5424413602184597,5.0],[-0.479766374634949,4.0],[-2.832540222071156,4.0],[-1.2197876665913876,4.0],[-1.2018234562784835,4.0],[-2.099694943856678,4.0],[0.9426069496346612,5.0],[0.37850113550341735,5.0],[-3.2730437414862923,4.0],[-1.125222816399296,4.0],[-0.22321428571426827,4.0],[1.111438969214129,6.0],[0.5119783616692519,5.0],[-0.5492776426834545,4.0],[0.0965458056211066,5.0],[0.39506172839507414,5.0],[-0.17135023989034437,4.0],[1.3389174440002538,6.0],[-0.8268871699119829,4.0],[0.526968381897075,5.0],[-1.377551020408152,4.0],[0.5418389006814905,5.0],[0.4432895139101056,5.0],[-0.12761205933961017,4.0],[-0.5797101449275366,4.0],[-0.8881865736704575,4.0],[-0.3440490269863483,4.0],[1.6801680168016864,6.0],[2.341838518000694,6.0],[-0.1452243933630304,4.0],[1.536349563337902,6.0],[-1.3580246913580174,4.0],[-0.6009190526687802,4.0],[-2.7763088313061846,4.0],[0.11607048644086682,5.0],[-1.6942486309865834,4.0],[-1.7551042690250096,4.0],[0.27224774544836183,5.0],[-1.1936525768852624,4.0],[0.5937499999999929,5.0],[1.9556996218260458,6.0],[0.0,5.0],[0.45731707317073766,5.0],[-0.382031352917922,4.0],[0.15806111696523573,5.0],[-0.08729812309035134,4.0],[1.5822355018334955,6.0],[-1.0182689427972513,4.0],[0.6895266492732199,5.0],[1.8987341772152,6.0],[-3.4038513696772354,4.0],[-0.23917087430243011,4.0],[-1.131578947368428,4.0],[-1.6165395500551627,4.0],[-0.8983873667764097,4.0],[-1.448312516609096,4.0],[0.8997176068824997,5.0],[-1.0907003444316943,4.0],[0.37783375314861534,5.0],[0.3061683926159464,5.0],[0.15590200445434466,5.0],[-2.088500195796883,4.0],[-0.5494505494505475,4.0],[-0.026591501356176828,4.0],[-0.8553459119496898,4.0],[-3.2037691401649027,4.0],[0.20656664492280097,5.0],[0.5932982368179074,5.0],[0.4136504653567741,5.0],[0.7655249785520901,5.0],[2.7851851851851794,6.0],[-0.6634952428642982,4.0],[-0.3993115318416618,4.0],[0.3654273911662065,5.0],[0.025931368311860048,5.0],[-0.41869412696616815,4.0],[-1.3105000803987799,4.0],[2.5852296292199872,6.0],[-0.29956514736673157,4.0],[0.8155498165012931,5.0],[0.28974055050705605,5.0],[-0.19176536943034117,4.0],[-1.1548857400278445,4.0],[2.984029139815081,6.0],[0.9257061476382722,5.0],[-1.0996147019351588,4.0],[0.00744680851063606,5.0],[-1.3744699517473258,4.0],[1.0705289672544138,6.0],[-0.2667615152054048,4.0],[-1.000769822940728,4.0],[-1.3340601331191082,4.0],[0.93010895562049,5.0],[-4.645822292881119,4.0],[0.44798407167745413,5.0],[0.13598041881968115,5.0],[-0.7142857142857006,4.0],[0.2610026100261065,5.0],[-1.4379155630034002,4.0],[-0.08750673128702369,4.0],[-1.6129032258064502,4.0],[1.6387644423484948,6.0],[0.4724190634986858,5.0],[0.44075706507649137,5.0],[-1.1479947642855537,4.0],[0.37595357155892906,5.0],[0.10185892538834285,5.0],[-0.9279938390450382,4.0],[-0.8802217575256566,4.0],[-1.6691988353717657,4.0],[0.15182186234816708,5.0],[-0.18630647414997759,4.0],[2.9394000402657605,6.0],[-0.5523688124070447,4.0],[-0.8059641345960267,4.0],[-1.539327951942937,4.0],[3.377424583050126,6.0],[-2.0522769042270683,4.0],[0.16989022477784665,5.0],[0.6434357920849454,5.0],[-1.8912410956155368,4.0],[-0.08118295158016098,4.0],[2.0190895741556636,6.0],[-1.6405395552314905,4.0],[-0.7540665733060448,4.0],[-0.6576783952647269,4.0],[-0.9918699186991842,4.0],[0.2607913669064654,5.0],[-1.0136532892014882,4.0],[-2.895572576125549,4.0],[0.5872797700862131,5.0],[-0.6314406950899132,4.0],[-0.6475249211894019,4.0],[-0.6635406529239996,4.0],[0.3464369917721255,5.0],[-0.5605169783506669,4.0],[0.8292141440783274,5.0],[0.32537960954446277,5.0],[0.38671119704694057,5.0],[0.1209921355111998,5.0],[3.8023710090259843,6.0],[-1.3200811567403714,4.0],[1.9791053560918481,6.0],[0.3405430280717825,5.0],[1.258703802892347,6.0],[-0.890987476904137,4.0],[-1.464009760065066,4.0],[-0.5005862722107013,4.0],[-2.494529540481405,4.0],[-0.5904930617065096,4.0],[-1.7601043024771834,4.0],[-0.12541806020067714,4.0],[-1.331018518518523,4.0],[-0.731678061652874,4.0],[-1.4958574509136402,4.0],[1.1048469484278511,6.0],[-0.7201920512136639,4.0],[0.579332644720898,5.0],[-0.09551098376314737,4.0],[-0.4427253238885376,4.0],[-0.6306134148671871,4.0],[0.5480453050785483,5.0],[1.7800027812543417,6.0],[0.7045797684952282,5.0],[-1.556401561200338,4.0],[-0.7374158384097496,4.0],[0.20560747663551648,5.0],[-1.0360843158270794,4.0],[1.6910879164993897,6.0],[-2.3118220663964073,4.0],[-2.649134680460219,4.0],[-1.9341040249276298,4.0],[-0.048808264866184725,4.0],[-0.7069819459977644,4.0],[-1.4367816091954033,4.0],[-0.7676676450666164,4.0],[0.0453514739228833,5.0],[0.46704381002498074,5.0],[-0.1261511290525985,4.0],[1.008076401579916,6.0],[1.788946122789925,6.0],[0.8688783570300229,5.0],[0.9632551380527321,5.0],[0.16005909874414748,5.0],[-1.287001287001277,4.0],[-1.0932105868814546,4.0],[0.5325264750378089,5.0],[-0.9317803660565782,4.0],[-1.6562220232766434,4.0],[-2.7331829640440564,4.0],[-0.1448645516442082,4.0],[0.9356168728195335,5.0],[-0.07186489399928497,4.0],[-0.7899686520376092,4.0],[0.049333991119882015,5.0],[-2.4414384691520907,4.0],[-0.28422548555187,4.0],[-0.6341068537506711,4.0],[-1.4215904042647831,4.0],[2.252957550452339,6.0],[-0.6314552841548693,4.0],[0.4940543944200737,5.0],[-0.7344940152339441,4.0],[1.0704483074107873,6.0],[-0.43776824034335027,4.0],[0.08724480893387287,5.0],[-1.2693200928966197,4.0],[-0.5898948448320174,4.0],[-0.4679871493258547,4.0],[-2.808158439255082,4.0],[-2.8077753779697567,4.0],[-2.172878667724021,4.0],[0.05415651232061336,5.0],[0.28622263479536336,5.0],[-0.10352977946204156,4.0],[-1.008212592642066,4.0],[-1.041743085613689,4.0],[-1.9151846785225635,4.0],[-0.9720035594496634,4.0],[-1.4067593069137074,4.0],[0.828695966783255,5.0],[-1.9317749503318216,4.0],[0.12023359670216838,5.0],[0.0375751503006061,5.0],[0.18294914013905483,5.0],[-1.9533481434465316,4.0],[-2.0919269298762533,4.0],[-0.399082958308572,4.0],[0.25630648860111016,5.0],[-1.4032562741746912,4.0],[-1.685447552042063,4.0],[0.719493476592481,5.0],[1.9034461585693663,6.0],[-0.6169269327164106,4.0],[-1.2094451910155568,4.0],[-0.6134558010123636,4.0],[-0.5513981882630969,4.0],[0.8040987689461376,5.0],[-0.9871652669941389,4.0],[1.3036502206177358,6.0],[11.651397697909328,8.0],[-1.279391424619647,4.0],[-1.3681592039800905,4.0],[-0.8933060704588769,4.0],[-1.2808227182423804,4.0],[-0.28480666009420563,4.0],[-0.6261319534282106,4.0],[-2.9358897543439344,4.0],[0.21880614893192707,5.0],[2.669756195849282,6.0],[-0.5070202808112323,4.0],[-0.5988023952095745,4.0],[-0.7392732895245446,4.0],[-1.1370016844469255,4.0],[0.9790949986768993,5.0],[-0.2948547840188609,4.0],[0.5622715771717912,5.0],[0.12499999999999734,5.0],[-0.6042096937206143,4.0],[-2.1261779861659003,4.0],[-2.015802269043754,4.0],[0.33760972316001503,5.0],[-0.6949152542372827,4.0],[-0.4456932467784114,4.0],[0.5471729398109693,5.0],[-6.216957772870257,3.0],[-1.1475001470833024,4.0],[0.6276841757515639,5.0],[0.5830903790087438,5.0],[-0.38892273089358165,4.0],[-0.41721979897590966,4.0],[-1.1112935895330356,4.0],[-0.00984058256249254,5.0],[-0.5522914218566433,4.0],[-2.759262129902351,4.0],[-2.2089444142676107,4.0],[-0.8880847935099578,4.0],[-0.18420197204463973,4.0],[1.5363403584794044,6.0],[-2.2228412256267482,4.0],[-0.36596523330282293,4.0],[-2.3812973965125828,4.0],[2.3519035719535397,6.0],[2.1633718761656207,6.0],[0.6042296072507503,5.0],[-0.3383897316219464,4.0],[-0.5947904560060224,4.0],[0.8925251022684932,5.0],[0.6168080185042557,5.0],[0.4358655043586568,5.0],[1.122751366918484,6.0],[-0.9001560062402492,4.0],[-1.0098228219957872,4.0],[-0.48441078034173746,4.0],[-0.07500468779298997,4.0],[0.33057851239670644,5.0],[-0.41924433764507496,4.0],[-0.8440514469453264,4.0],[0.132386568780829,5.0],[-1.0282776349614609,4.0],[-1.3653724700008918,4.0],[0.6865386286608155,5.0],[0.8509297195083532,5.0],[0.45515846257586645,5.0],[0.801135787445495,5.0],[0.01736563341148134,5.0],[-0.9414056159714357,4.0],[-2.5147838809973733,4.0],[-1.7424327041215215,4.0],[0.41914294651237416,5.0],[2.065428333795394,6.0],[-1.348452344468276,4.0],[-1.294316263365225,4.0],[1.9601820567950234,6.0],[0.2943650126156383,5.0],[-0.556702320635527,4.0],[-0.18109976950938522,4.0],[0.5572333999744883,5.0],[-0.05329354082284077,4.0],[0.21905805038335835,5.0],[0.0,5.0],[-2.18780251694094,4.0],[1.0450360786265378,6.0],[0.6134969325153339,5.0],[0.8737780084782321,5.0],[-1.528175740210136,4.0],[-0.3113926769032438,4.0],[-2.9806659505907662,4.0],[-1.0123734533183382,4.0],[-1.5481861487724458,4.0],[1.573787409700711,6.0],[-5.679012345679013,3.0],[0.3227927550959464,5.0],[-2.6823134953897765,4.0],[0.16057312252966138,5.0],[1.372864028041465,6.0],[-0.13760678860157416,4.0],[-0.5746777555191263,4.0],[-0.3313217370725319,4.0],[1.215626684966442,6.0],[0.9861766689143625,5.0],[-0.7213247993497984,4.0],[0.54988216810683,5.0],[-1.9826851478042529,4.0],[-2.324273664479859,4.0],[-1.2099213551119203,4.0],[1.9305868764094347,6.0],[-1.6107580907344543,4.0],[-1.7102058888642913,4.0],[-0.25421461065024964,4.0],[-1.7699115044247926,4.0],[-1.375982844889212,4.0],[0.0647316433846079,5.0],[0.7178766657153446,5.0],[0.70033670033669,5.0],[0.2230897936419396,5.0],[-0.8428571428571452,4.0],[-0.2947845804988747,4.0],[-0.38783312094853306,4.0],[-0.028717065115935192,4.0],[-0.6121773659827912,4.0],[1.5748617807479492,6.0],[-0.021188435822572238,4.0],[-0.4433934377771176,4.0],[0.8917060593038206,5.0],[1.293952180028124,6.0],[-1.058339893291349,4.0],[-0.08268562923763323,4.0],[0.41006523765143577,5.0],[-4.060333292786766,4.0],[-2.1478873239436647,4.0],[-0.928243637880688,4.0],[-3.82580167213461,4.0],[0.015610365282547889,5.0],[0.25195597400875513,5.0],[-2.1360100027785656,4.0],[2.678299685502683,6.0],[-0.24129090634895656,4.0],[-1.0122921185827916,4.0],[2.728377333480614,6.0],[-0.7025272432181873,4.0],[0.11291295968229864,5.0],[0.2304247641406798,5.0],[0.6199178810079697,5.0],[0.20614035087718197,5.0],[-0.06156371844858732,4.0],[-0.4376437515972387,4.0],[-1.048714479025703,4.0],[1.531280707500815,6.0],[0.4744489473164082,5.0],[-2.098065117724768,4.0],[0.19047619047618536,5.0],[-0.6929941142965634,4.0],[1.448483192129002,6.0],[-0.35376639219273365,4.0],[0.2987697715290061,5.0],[0.4184100418409997,5.0],[-1.7419843473870156,4.0],[-1.6074494095614678,4.0],[-0.01856271546010202,4.0],[2.11193241816261,6.0],[-2.9547553093259515,4.0],[-1.1881188118811892,4.0],[1.161528441163684,6.0],[0.15316404675533857,5.0],[-0.6108565875329708,4.0],[0.8078905630451994,5.0],[-0.465866332198539,4.0],[-0.6781144044624376,4.0],[0.4893393918210531,5.0],[-0.05710507333495096,4.0],[0.7794918626267799,5.0],[-1.7192982456140316,4.0],[-2.552889729346408,4.0],[0.7675775253300543,5.0],[0.9374419899758735,5.0],[-0.9072235535775408,4.0],[-1.2445263885687785,4.0],[-0.4152182309772212,4.0],[0.19730351857942807,5.0],[-1.4526823387582821,4.0],[\"(?)\",4.785943415984684],[\"(?)\",4.047634814613096],[\"(?)\",4.044940196926343],[\"(?)\",4.354744188967903],[\"(?)\",5.3493997198369385],[\"(?)\",4.549261645239168],[\"(?)\",5.199068159171019],[\"(?)\",4.5670282038700805],[\"(?)\",4.2853612148463895],[\"(?)\",3.949250824673315],[\"(?)\",4.514028575294182],[\"(?)\",4.3178264700862625]],\"domain\":{\"x\":[0.0,1.0],\"y\":[0.0,1.0]},\"hovertemplate\":\"labels=%{label}<br>mkt_cap=%{value}<br>parent=%{parent}<br>id=%{id}<br>daily_return=%{customdata[0]}<br>daily_return2=%{color}<extra></extra>\",\"ids\":[\"all/Industrials/AAL\",\"all/Technology/AAPL\",\"all/Healthcare/ABBV\",\"all/Consumer Cyclical/ABNB\",\"all/Healthcare/ABT\",\"all/Financial Services/ACGL\",\"all/Technology/ACN\",\"all/Technology/ADBE\",\"all/Technology/ADI\",\"all/Consumer Defensive/ADM\",\"all/Technology/ADP\",\"all/Technology/ADSK\",\"all/Utilities/AEE\",\"all/Utilities/AEP\",\"all/Utilities/AES\",\"all/Financial Services/AFL\",\"all/Financial Services/AIG\",\"all/Financial Services/AIZ\",\"all/Financial Services/AJG\",\"all/Technology/AKAM\",\"all/Basic Materials/ALB\",\"all/Healthcare/ALGN\",\"all/Financial Services/ALL\",\"all/Industrials/ALLE\",\"all/Technology/AMAT\",\"all/Consumer Cyclical/AMCR\",\"all/Technology/AMD\",\"all/Industrials/AME\",\"all/Healthcare/AMGN\",\"all/Financial Services/AMP\",\"all/Real Estate/AMT\",\"all/Consumer Cyclical/AMZN\",\"all/Technology/ANET\",\"all/Technology/ANSS\",\"all/Financial Services/AON\",\"all/Industrials/AOS\",\"all/Energy/APA\",\"all/Basic Materials/APD\",\"all/Technology/APH\",\"all/Consumer Cyclical/APTV\",\"all/Real Estate/ARE\",\"all/Utilities/ATO\",\"all/Real Estate/AVB\",\"all/Technology/AVGO\",\"all/Consumer Cyclical/AVY\",\"all/Utilities/AWK\",\"all/Industrials/AXON\",\"all/Financial Services/AXP\",\"all/Consumer Cyclical/AZO\",\"all/Industrials/BA\",\"all/Financial Services/BAC\",\"all/Consumer Cyclical/BALL\",\"all/Healthcare/BAX\",\"all/Consumer Cyclical/BBWI\",\"all/Consumer Cyclical/BBY\",\"all/Healthcare/BDX\",\"all/Financial Services/BEN\",\"all/Consumer Defensive/BG\",\"all/Healthcare/BIIB\",\"all/Healthcare/BIO\",\"all/Financial Services/BK\",\"all/Consumer Cyclical/BKNG\",\"all/Energy/BKR\",\"all/Industrials/BLDR\",\"all/Financial Services/BLK\",\"all/Healthcare/BMY\",\"all/Technology/BR\",\"all/Financial Services/BRO\",\"all/Healthcare/BSX\",\"all/Consumer Cyclical/BWA\",\"all/Financial Services/BX\",\"all/Real Estate/BXP\",\"all/Financial Services/C\",\"all/Consumer Defensive/CAG\",\"all/Healthcare/CAH\",\"all/Industrials/CARR\",\"all/Industrials/CAT\",\"all/Financial Services/CB\",\"all/Financial Services/CBOE\",\"all/Real Estate/CBRE\",\"all/Real Estate/CCI\",\"all/Consumer Cyclical/CCL\",\"all/Technology/CDNS\",\"all/Technology/CDW\",\"all/Basic Materials/CE\",\"all/Utilities/CEG\",\"all/Basic Materials/CF\",\"all/Financial Services/CFG\",\"all/Consumer Defensive/CHD\",\"all/Industrials/CHRW\",\"all/Communication Services/CHTR\",\"all/Healthcare/CI\",\"all/Financial Services/CINF\",\"all/Consumer Defensive/CL\",\"all/Consumer Defensive/CLX\",\"all/Communication Services/CMCSA\",\"all/Financial Services/CME\",\"all/Consumer Cyclical/CMG\",\"all/Industrials/CMI\",\"all/Utilities/CMS\",\"all/Healthcare/CNC\",\"all/Utilities/CNP\",\"all/Financial Services/COF\",\"all/Healthcare/COO\",\"all/Energy/COP\",\"all/Healthcare/COR\",\"all/Consumer Defensive/COST\",\"all/Technology/CPAY\",\"all/Consumer Defensive/CPB\",\"all/Industrials/CPRT\",\"all/Real Estate/CPT\",\"all/Healthcare/CRL\",\"all/Technology/CRM\",\"all/Technology/CRWD\",\"all/Technology/CSCO\",\"all/Real Estate/CSGP\",\"all/Industrials/CSX\",\"all/Industrials/CTAS\",\"all/Healthcare/CTLT\",\"all/Energy/CTRA\",\"all/Technology/CTSH\",\"all/Basic Materials/CTVA\",\"all/Healthcare/CVS\",\"all/Energy/CVX\",\"all/Consumer Cyclical/CZR\",\"all/Utilities/D\",\"all/Industrials/DAL\",\"all/Technology/DAY\",\"all/Basic Materials/DD\",\"all/Industrials/DE\",\"all/Consumer Cyclical/DECK\",\"all/Financial Services/DFS\",\"all/Consumer Defensive/DG\",\"all/Healthcare/DGX\",\"all/Consumer Cyclical/DHI\",\"all/Healthcare/DHR\",\"all/Communication Services/DIS\",\"all/Real Estate/DLR\",\"all/Consumer Defensive/DLTR\",\"all/Real Estate/DOC\",\"all/Industrials/DOV\",\"all/Basic Materials/DOW\",\"all/Consumer Cyclical/DPZ\",\"all/Consumer Cyclical/DRI\",\"all/Utilities/DTE\",\"all/Utilities/DUK\",\"all/Healthcare/DVA\",\"all/Energy/DVN\",\"all/Healthcare/DXCM\",\"all/Communication Services/EA\",\"all/Consumer Cyclical/EBAY\",\"all/Basic Materials/ECL\",\"all/Utilities/ED\",\"all/Industrials/EFX\",\"all/Financial Services/EG\",\"all/Utilities/EIX\",\"all/Consumer Defensive/EL\",\"all/Healthcare/ELV\",\"all/Basic Materials/EMN\",\"all/Industrials/EMR\",\"all/Technology/ENPH\",\"all/Energy/EOG\",\"all/Technology/EPAM\",\"all/Real Estate/EQIX\",\"all/Real Estate/EQR\",\"all/Energy/EQT\",\"all/Utilities/ES\",\"all/Real Estate/ESS\",\"all/Industrials/ETN\",\"all/Utilities/ETR\",\"all/Consumer Cyclical/ETSY\",\"all/Utilities/EVRG\",\"all/Healthcare/EW\",\"all/Utilities/EXC\",\"all/Industrials/EXPD\",\"all/Consumer Cyclical/EXPE\",\"all/Real Estate/EXR\",\"all/Consumer Cyclical/F\",\"all/Energy/FANG\",\"all/Industrials/FAST\",\"all/Basic Materials/FCX\",\"all/Financial Services/FDS\",\"all/Industrials/FDX\",\"all/Utilities/FE\",\"all/Technology/FFIV\",\"all/Technology/FI\",\"all/Technology/FICO\",\"all/Technology/FIS\",\"all/Financial Services/FITB\",\"all/Basic Materials/FMC\",\"all/Communication Services/FOX\",\"all/Communication Services/FOXA\",\"all/Real Estate/FRT\",\"all/Technology/FSLR\",\"all/Technology/FTNT\",\"all/Technology/FTV\",\"all/Industrials/GD\",\"all/Technology/GDDY\",\"all/Industrials/GE\",\"all/Healthcare/GEHC\",\"all/Technology/GEN\",\"all/Utilities/GEV\",\"all/Healthcare/GILD\",\"all/Consumer Defensive/GIS\",\"all/Financial Services/GL\",\"all/Technology/GLW\",\"all/Consumer Cyclical/GM\",\"all/Industrials/GNRC\",\"all/Communication Services/GOOG\",\"all/Consumer Cyclical/GPC\",\"all/Industrials/GPN\",\"all/Technology/GRMN\",\"all/Financial Services/GS\",\"all/Industrials/GWW\",\"all/Energy/HAL\",\"all/Consumer Cyclical/HAS\",\"all/Financial Services/HBAN\",\"all/Healthcare/HCA\",\"all/Consumer Cyclical/HD\",\"all/Energy/HES\",\"all/Financial Services/HIG\",\"all/Industrials/HII\",\"all/Consumer Cyclical/HLT\",\"all/Healthcare/HOLX\",\"all/Industrials/HON\",\"all/Technology/HPE\",\"all/Technology/HPQ\",\"all/Consumer Defensive/HRL\",\"all/Healthcare/HSIC\",\"all/Real Estate/HST\",\"all/Consumer Defensive/HSY\",\"all/Industrials/HUBB\",\"all/Healthcare/HUM\",\"all/Industrials/HWM\",\"all/Technology/IBM\",\"all/Financial Services/ICE\",\"all/Healthcare/IDXX\",\"all/Industrials/IEX\",\"all/Basic Materials/IFF\",\"all/Healthcare/INCY\",\"all/Technology/INTC\",\"all/Technology/INTU\",\"all/Real Estate/INVH\",\"all/Consumer Cyclical/IP\",\"all/Communication Services/IPG\",\"all/Healthcare/IQV\",\"all/Industrials/IR\",\"all/Real Estate/IRM\",\"all/Healthcare/ISRG\",\"all/Technology/IT\",\"all/Industrials/ITW\",\"all/Financial Services/IVZ\",\"all/Industrials/J\",\"all/Industrials/JBHT\",\"all/Technology/JBL\",\"all/Industrials/JCI\",\"all/Technology/JKHY\",\"all/Healthcare/JNJ\",\"all/Technology/JNPR\",\"all/Financial Services/JPM\",\"all/Consumer Defensive/K\",\"all/Consumer Defensive/KDP\",\"all/Financial Services/KEY\",\"all/Technology/KEYS\",\"all/Consumer Defensive/KHC\",\"all/Real Estate/KIM\",\"all/Financial Services/KKR\",\"all/Technology/KLAC\",\"all/Consumer Defensive/KMB\",\"all/Energy/KMI\",\"all/Consumer Cyclical/KMX\",\"all/Consumer Defensive/KO\",\"all/Consumer Defensive/KR\",\"all/Consumer Defensive/KVUE\",\"all/Technology/LDOS\",\"all/Consumer Cyclical/LEN\",\"all/Healthcare/LH\",\"all/Industrials/LHX\",\"all/Basic Materials/LIN\",\"all/Consumer Cyclical/LKQ\",\"all/Healthcare/LLY\",\"all/Industrials/LMT\",\"all/Utilities/LNT\",\"all/Consumer Cyclical/LOW\",\"all/Technology/LRCX\",\"all/Consumer Cyclical/LULU\",\"all/Industrials/LUV\",\"all/Consumer Cyclical/LVS\",\"all/Consumer Defensive/LW\",\"all/Basic Materials/LYB\",\"all/Communication Services/LYV\",\"all/Financial Services/MA\",\"all/Real Estate/MAA\",\"all/Consumer Cyclical/MAR\",\"all/Industrials/MAS\",\"all/Consumer Cyclical/MCD\",\"all/Technology/MCHP\",\"all/Healthcare/MCK\",\"all/Financial Services/MCO\",\"all/Consumer Defensive/MDLZ\",\"all/Healthcare/MDT\",\"all/Financial Services/MET\",\"all/Communication Services/META\",\"all/Consumer Cyclical/MGM\",\"all/Consumer Cyclical/MHK\",\"all/Consumer Defensive/MKC\",\"all/Financial Services/MKTX\",\"all/Basic Materials/MLM\",\"all/Financial Services/MMC\",\"all/Industrials/MMM\",\"all/Consumer Defensive/MNST\",\"all/Consumer Defensive/MO\",\"all/Healthcare/MOH\",\"all/Basic Materials/MOS\",\"all/Energy/MPC\",\"all/Technology/MPWR\",\"all/Healthcare/MRK\",\"all/Healthcare/MRNA\",\"all/Energy/MRO\",\"all/Financial Services/MS\",\"all/Financial Services/MSCI\",\"all/Technology/MSFT\",\"all/Technology/MSI\",\"all/Financial Services/MTB\",\"all/Communication Services/MTCH\",\"all/Healthcare/MTD\",\"all/Technology/MU\",\"all/Consumer Cyclical/NCLH\",\"all/Financial Services/NDAQ\",\"all/Industrials/NDSN\",\"all/Utilities/NEE\",\"all/Basic Materials/NEM\",\"all/Communication Services/NFLX\",\"all/Utilities/NI\",\"all/Consumer Cyclical/NKE\",\"all/Industrials/NOC\",\"all/Technology/NOW\",\"all/Utilities/NRG\",\"all/Industrials/NSC\",\"all/Technology/NTAP\",\"all/Financial Services/NTRS\",\"all/Basic Materials/NUE\",\"all/Technology/NVDA\",\"all/Consumer Cyclical/NVR\",\"all/Communication Services/NWS\",\"all/Communication Services/NWSA\",\"all/Technology/NXPI\",\"all/Real Estate/O\",\"all/Industrials/ODFL\",\"all/Energy/OKE\",\"all/Communication Services/OMC\",\"all/Technology/ON\",\"all/Technology/ORCL\",\"all/Consumer Cyclical/ORLY\",\"all/Industrials/OTIS\",\"all/Energy/OXY\",\"all/Technology/PANW\",\"all/Communication Services/PARA\",\"all/Technology/PAYC\",\"all/Technology/PAYX\",\"all/Industrials/PCAR\",\"all/Utilities/PCG\",\"all/Utilities/PEG\",\"all/Consumer Defensive/PEP\",\"all/Healthcare/PFE\",\"all/Financial Services/PFG\",\"all/Consumer Defensive/PG\",\"all/Financial Services/PGR\",\"all/Industrials/PH\",\"all/Consumer Cyclical/PHM\",\"all/Consumer Cyclical/PKG\",\"all/Real Estate/PLD\",\"all/Consumer Defensive/PM\",\"all/Financial Services/PNC\",\"all/Industrials/PNR\",\"all/Utilities/PNW\",\"all/Healthcare/PODD\",\"all/Industrials/POOL\",\"all/Basic Materials/PPG\",\"all/Utilities/PPL\",\"all/Financial Services/PRU\",\"all/Real Estate/PSA\",\"all/Energy/PSX\",\"all/Technology/PTC\",\"all/Industrials/PWR\",\"all/Financial Services/PYPL\",\"all/Technology/QCOM\",\"all/Technology/QRVO\",\"all/Consumer Cyclical/RCL\",\"all/Real Estate/REG\",\"all/Healthcare/REGN\",\"all/Financial Services/RF\",\"all/Financial Services/RJF\",\"all/Consumer Cyclical/RL\",\"all/Healthcare/RMD\",\"all/Industrials/ROK\",\"all/Consumer Cyclical/ROL\",\"all/Technology/ROP\",\"all/Consumer Cyclical/ROST\",\"all/Industrials/RSG\",\"all/Industrials/RTX\",\"all/Healthcare/RVTY\",\"all/Real Estate/SBAC\",\"all/Consumer Cyclical/SBUX\",\"all/Financial Services/SCHW\",\"all/Basic Materials/SHW\",\"all/Consumer Defensive/SJM\",\"all/Energy/SLB\",\"all/Technology/SMCI\",\"all/Industrials/SNA\",\"all/Technology/SNPS\",\"all/Utilities/SO\",\"all/Healthcare/SOLV\",\"all/Real Estate/SPG\",\"all/Financial Services/SPGI\",\"all/Utilities/SRE\",\"all/Healthcare/STE\",\"all/Basic Materials/STLD\",\"all/Financial Services/STT\",\"all/Technology/STX\",\"all/Consumer Defensive/STZ\",\"all/Consumer Cyclical/SW\",\"all/Industrials/SWK\",\"all/Technology/SWKS\",\"all/Financial Services/SYF\",\"all/Healthcare/SYK\",\"all/Consumer Defensive/SYY\",\"all/Communication Services/T\",\"all/Consumer Defensive/TAP\",\"all/Industrials/TDG\",\"all/Technology/TDY\",\"all/Healthcare/TECH\",\"all/Technology/TEL\",\"all/Technology/TER\",\"all/Financial Services/TFC\",\"all/Healthcare/TFX\",\"all/Consumer Defensive/TGT\",\"all/Consumer Cyclical/TJX\",\"all/Healthcare/TMO\",\"all/Communication Services/TMUS\",\"all/Consumer Cyclical/TPR\",\"all/Energy/TRGP\",\"all/Technology/TRMB\",\"all/Financial Services/TROW\",\"all/Financial Services/TRV\",\"all/Consumer Cyclical/TSCO\",\"all/Consumer Cyclical/TSLA\",\"all/Consumer Defensive/TSN\",\"all/Industrials/TT\",\"all/Communication Services/TTWO\",\"all/Technology/TXN\",\"all/Industrials/TXT\",\"all/Technology/TYL\",\"all/Industrials/UAL\",\"all/Technology/UBER\",\"all/Real Estate/UDR\",\"all/Healthcare/UHS\",\"all/Consumer Cyclical/ULTA\",\"all/Healthcare/UNH\",\"all/Industrials/UNP\",\"all/Industrials/UPS\",\"all/Industrials/URI\",\"all/Financial Services/USB\",\"all/Financial Services/V\",\"all/Real Estate/VICI\",\"all/Energy/VLO\",\"all/Industrials/VLTO\",\"all/Basic Materials/VMC\",\"all/Industrials/VRSK\",\"all/Technology/VRSN\",\"all/Healthcare/VRTX\",\"all/Utilities/VST\",\"all/Real Estate/VTR\",\"all/Healthcare/VTRS\",\"all/Communication Services/VZ\",\"all/Industrials/WAB\",\"all/Healthcare/WAT\",\"all/Healthcare/WBA\",\"all/Communication Services/WBD\",\"all/Technology/WDC\",\"all/Utilities/WEC\",\"all/Real Estate/WELL\",\"all/Financial Services/WFC\",\"all/Industrials/WM\",\"all/Energy/WMB\",\"all/Consumer Defensive/WMT\",\"all/Financial Services/WRB\",\"all/Healthcare/WST\",\"all/Financial Services/WTW\",\"all/Real Estate/WY\",\"all/Consumer Cyclical/WYNN\",\"all/Utilities/XEL\",\"all/Energy/XOM\",\"all/Industrials/XYL\",\"all/Consumer Cyclical/YUM\",\"all/Healthcare/ZBH\",\"all/Technology/ZBRA\",\"all/Healthcare/ZTS\",\"all/Basic Materials\",\"all/Communication Services\",\"all/Consumer Cyclical\",\"all/Consumer Defensive\",\"all/Energy\",\"all/Financial Services\",\"all/Healthcare\",\"all/Industrials\",\"all/Real Estate\",\"all/Technology\",\"all/Utilities\",\"all\"],\"labels\":[\"AAL\",\"AAPL\",\"ABBV\",\"ABNB\",\"ABT\",\"ACGL\",\"ACN\",\"ADBE\",\"ADI\",\"ADM\",\"ADP\",\"ADSK\",\"AEE\",\"AEP\",\"AES\",\"AFL\",\"AIG\",\"AIZ\",\"AJG\",\"AKAM\",\"ALB\",\"ALGN\",\"ALL\",\"ALLE\",\"AMAT\",\"AMCR\",\"AMD\",\"AME\",\"AMGN\",\"AMP\",\"AMT\",\"AMZN\",\"ANET\",\"ANSS\",\"AON\",\"AOS\",\"APA\",\"APD\",\"APH\",\"APTV\",\"ARE\",\"ATO\",\"AVB\",\"AVGO\",\"AVY\",\"AWK\",\"AXON\",\"AXP\",\"AZO\",\"BA\",\"BAC\",\"BALL\",\"BAX\",\"BBWI\",\"BBY\",\"BDX\",\"BEN\",\"BG\",\"BIIB\",\"BIO\",\"BK\",\"BKNG\",\"BKR\",\"BLDR\",\"BLK\",\"BMY\",\"BR\",\"BRO\",\"BSX\",\"BWA\",\"BX\",\"BXP\",\"C\",\"CAG\",\"CAH\",\"CARR\",\"CAT\",\"CB\",\"CBOE\",\"CBRE\",\"CCI\",\"CCL\",\"CDNS\",\"CDW\",\"CE\",\"CEG\",\"CF\",\"CFG\",\"CHD\",\"CHRW\",\"CHTR\",\"CI\",\"CINF\",\"CL\",\"CLX\",\"CMCSA\",\"CME\",\"CMG\",\"CMI\",\"CMS\",\"CNC\",\"CNP\",\"COF\",\"COO\",\"COP\",\"COR\",\"COST\",\"CPAY\",\"CPB\",\"CPRT\",\"CPT\",\"CRL\",\"CRM\",\"CRWD\",\"CSCO\",\"CSGP\",\"CSX\",\"CTAS\",\"CTLT\",\"CTRA\",\"CTSH\",\"CTVA\",\"CVS\",\"CVX\",\"CZR\",\"D\",\"DAL\",\"DAY\",\"DD\",\"DE\",\"DECK\",\"DFS\",\"DG\",\"DGX\",\"DHI\",\"DHR\",\"DIS\",\"DLR\",\"DLTR\",\"DOC\",\"DOV\",\"DOW\",\"DPZ\",\"DRI\",\"DTE\",\"DUK\",\"DVA\",\"DVN\",\"DXCM\",\"EA\",\"EBAY\",\"ECL\",\"ED\",\"EFX\",\"EG\",\"EIX\",\"EL\",\"ELV\",\"EMN\",\"EMR\",\"ENPH\",\"EOG\",\"EPAM\",\"EQIX\",\"EQR\",\"EQT\",\"ES\",\"ESS\",\"ETN\",\"ETR\",\"ETSY\",\"EVRG\",\"EW\",\"EXC\",\"EXPD\",\"EXPE\",\"EXR\",\"F\",\"FANG\",\"FAST\",\"FCX\",\"FDS\",\"FDX\",\"FE\",\"FFIV\",\"FI\",\"FICO\",\"FIS\",\"FITB\",\"FMC\",\"FOX\",\"FOXA\",\"FRT\",\"FSLR\",\"FTNT\",\"FTV\",\"GD\",\"GDDY\",\"GE\",\"GEHC\",\"GEN\",\"GEV\",\"GILD\",\"GIS\",\"GL\",\"GLW\",\"GM\",\"GNRC\",\"GOOG\",\"GPC\",\"GPN\",\"GRMN\",\"GS\",\"GWW\",\"HAL\",\"HAS\",\"HBAN\",\"HCA\",\"HD\",\"HES\",\"HIG\",\"HII\",\"HLT\",\"HOLX\",\"HON\",\"HPE\",\"HPQ\",\"HRL\",\"HSIC\",\"HST\",\"HSY\",\"HUBB\",\"HUM\",\"HWM\",\"IBM\",\"ICE\",\"IDXX\",\"IEX\",\"IFF\",\"INCY\",\"INTC\",\"INTU\",\"INVH\",\"IP\",\"IPG\",\"IQV\",\"IR\",\"IRM\",\"ISRG\",\"IT\",\"ITW\",\"IVZ\",\"J\",\"JBHT\",\"JBL\",\"JCI\",\"JKHY\",\"JNJ\",\"JNPR\",\"JPM\",\"K\",\"KDP\",\"KEY\",\"KEYS\",\"KHC\",\"KIM\",\"KKR\",\"KLAC\",\"KMB\",\"KMI\",\"KMX\",\"KO\",\"KR\",\"KVUE\",\"LDOS\",\"LEN\",\"LH\",\"LHX\",\"LIN\",\"LKQ\",\"LLY\",\"LMT\",\"LNT\",\"LOW\",\"LRCX\",\"LULU\",\"LUV\",\"LVS\",\"LW\",\"LYB\",\"LYV\",\"MA\",\"MAA\",\"MAR\",\"MAS\",\"MCD\",\"MCHP\",\"MCK\",\"MCO\",\"MDLZ\",\"MDT\",\"MET\",\"META\",\"MGM\",\"MHK\",\"MKC\",\"MKTX\",\"MLM\",\"MMC\",\"MMM\",\"MNST\",\"MO\",\"MOH\",\"MOS\",\"MPC\",\"MPWR\",\"MRK\",\"MRNA\",\"MRO\",\"MS\",\"MSCI\",\"MSFT\",\"MSI\",\"MTB\",\"MTCH\",\"MTD\",\"MU\",\"NCLH\",\"NDAQ\",\"NDSN\",\"NEE\",\"NEM\",\"NFLX\",\"NI\",\"NKE\",\"NOC\",\"NOW\",\"NRG\",\"NSC\",\"NTAP\",\"NTRS\",\"NUE\",\"NVDA\",\"NVR\",\"NWS\",\"NWSA\",\"NXPI\",\"O\",\"ODFL\",\"OKE\",\"OMC\",\"ON\",\"ORCL\",\"ORLY\",\"OTIS\",\"OXY\",\"PANW\",\"PARA\",\"PAYC\",\"PAYX\",\"PCAR\",\"PCG\",\"PEG\",\"PEP\",\"PFE\",\"PFG\",\"PG\",\"PGR\",\"PH\",\"PHM\",\"PKG\",\"PLD\",\"PM\",\"PNC\",\"PNR\",\"PNW\",\"PODD\",\"POOL\",\"PPG\",\"PPL\",\"PRU\",\"PSA\",\"PSX\",\"PTC\",\"PWR\",\"PYPL\",\"QCOM\",\"QRVO\",\"RCL\",\"REG\",\"REGN\",\"RF\",\"RJF\",\"RL\",\"RMD\",\"ROK\",\"ROL\",\"ROP\",\"ROST\",\"RSG\",\"RTX\",\"RVTY\",\"SBAC\",\"SBUX\",\"SCHW\",\"SHW\",\"SJM\",\"SLB\",\"SMCI\",\"SNA\",\"SNPS\",\"SO\",\"SOLV\",\"SPG\",\"SPGI\",\"SRE\",\"STE\",\"STLD\",\"STT\",\"STX\",\"STZ\",\"SW\",\"SWK\",\"SWKS\",\"SYF\",\"SYK\",\"SYY\",\"T\",\"TAP\",\"TDG\",\"TDY\",\"TECH\",\"TEL\",\"TER\",\"TFC\",\"TFX\",\"TGT\",\"TJX\",\"TMO\",\"TMUS\",\"TPR\",\"TRGP\",\"TRMB\",\"TROW\",\"TRV\",\"TSCO\",\"TSLA\",\"TSN\",\"TT\",\"TTWO\",\"TXN\",\"TXT\",\"TYL\",\"UAL\",\"UBER\",\"UDR\",\"UHS\",\"ULTA\",\"UNH\",\"UNP\",\"UPS\",\"URI\",\"USB\",\"V\",\"VICI\",\"VLO\",\"VLTO\",\"VMC\",\"VRSK\",\"VRSN\",\"VRTX\",\"VST\",\"VTR\",\"VTRS\",\"VZ\",\"WAB\",\"WAT\",\"WBA\",\"WBD\",\"WDC\",\"WEC\",\"WELL\",\"WFC\",\"WM\",\"WMB\",\"WMT\",\"WRB\",\"WST\",\"WTW\",\"WY\",\"WYNN\",\"XEL\",\"XOM\",\"XYL\",\"YUM\",\"ZBH\",\"ZBRA\",\"ZTS\",\"Basic Materials\",\"Communication Services\",\"Consumer Cyclical\",\"Consumer Defensive\",\"Energy\",\"Financial Services\",\"Healthcare\",\"Industrials\",\"Real Estate\",\"Technology\",\"Utilities\",\"all\"],\"marker\":{\"coloraxis\":\"coloraxis\",\"colors\":[5.0,4.0,4.0,4.0,5.0,6.0,6.0,4.0,4.0,4.0,5.0,4.0,6.0,5.0,4.0,6.0,5.0,4.0,6.0,4.0,4.0,4.0,5.0,4.0,5.0,5.0,4.0,4.0,6.0,4.0,4.0,4.0,4.0,4.0,5.0,4.0,5.0,6.0,5.0,5.0,4.0,5.0,4.0,4.0,4.0,4.0,4.0,5.0,4.0,6.0,6.0,4.0,4.0,5.0,4.0,5.0,4.0,4.0,4.0,5.0,5.0,4.0,6.0,4.0,4.0,5.0,5.0,5.0,5.0,5.0,4.0,4.0,6.0,4.0,6.0,4.0,4.0,5.0,4.0,4.0,4.0,4.0,4.0,5.0,5.0,4.0,4.0,4.0,6.0,5.0,4.0,5.0,5.0,4.0,6.0,4.0,5.0,4.0,5.0,5.0,4.0,4.0,4.0,4.0,6.0,6.0,4.0,6.0,4.0,4.0,4.0,5.0,4.0,4.0,5.0,4.0,5.0,6.0,5.0,5.0,4.0,5.0,4.0,6.0,4.0,5.0,6.0,4.0,4.0,4.0,4.0,4.0,4.0,5.0,4.0,5.0,5.0,5.0,4.0,4.0,4.0,4.0,4.0,5.0,5.0,5.0,5.0,6.0,4.0,4.0,5.0,5.0,4.0,4.0,6.0,4.0,5.0,5.0,4.0,4.0,6.0,5.0,4.0,5.0,4.0,6.0,4.0,4.0,4.0,5.0,4.0,5.0,5.0,4.0,5.0,4.0,4.0,4.0,6.0,5.0,5.0,4.0,5.0,5.0,4.0,4.0,4.0,5.0,4.0,6.0,4.0,4.0,4.0,6.0,4.0,5.0,5.0,4.0,4.0,6.0,4.0,4.0,4.0,4.0,5.0,4.0,4.0,5.0,4.0,4.0,4.0,5.0,4.0,5.0,5.0,5.0,5.0,6.0,4.0,6.0,5.0,6.0,4.0,4.0,4.0,4.0,4.0,4.0,4.0,4.0,4.0,4.0,6.0,4.0,5.0,4.0,4.0,4.0,5.0,6.0,5.0,4.0,4.0,5.0,4.0,6.0,4.0,4.0,4.0,4.0,4.0,4.0,4.0,5.0,5.0,4.0,6.0,6.0,5.0,5.0,5.0,4.0,4.0,5.0,4.0,4.0,4.0,4.0,5.0,4.0,4.0,5.0,4.0,4.0,4.0,4.0,6.0,4.0,5.0,4.0,6.0,4.0,5.0,4.0,4.0,4.0,4.0,4.0,4.0,5.0,5.0,4.0,4.0,4.0,4.0,4.0,4.0,5.0,4.0,5.0,5.0,5.0,4.0,4.0,4.0,5.0,4.0,4.0,5.0,6.0,4.0,4.0,4.0,4.0,5.0,4.0,6.0,8.0,4.0,4.0,4.0,4.0,4.0,4.0,4.0,5.0,6.0,4.0,4.0,4.0,4.0,5.0,4.0,5.0,5.0,4.0,4.0,4.0,5.0,4.0,4.0,5.0,3.0,4.0,5.0,5.0,4.0,4.0,4.0,5.0,4.0,4.0,4.0,4.0,4.0,6.0,4.0,4.0,4.0,6.0,6.0,5.0,4.0,4.0,5.0,5.0,5.0,6.0,4.0,4.0,4.0,4.0,5.0,4.0,4.0,5.0,4.0,4.0,5.0,5.0,5.0,5.0,5.0,4.0,4.0,4.0,5.0,6.0,4.0,4.0,6.0,5.0,4.0,4.0,5.0,4.0,5.0,5.0,4.0,6.0,5.0,5.0,4.0,4.0,4.0,4.0,4.0,6.0,3.0,5.0,4.0,5.0,6.0,4.0,4.0,4.0,6.0,5.0,4.0,5.0,4.0,4.0,4.0,6.0,4.0,4.0,4.0,4.0,4.0,5.0,5.0,5.0,5.0,4.0,4.0,4.0,4.0,4.0,6.0,4.0,4.0,5.0,6.0,4.0,4.0,5.0,4.0,4.0,4.0,4.0,5.0,5.0,4.0,6.0,4.0,4.0,6.0,4.0,5.0,5.0,5.0,5.0,4.0,4.0,4.0,6.0,5.0,4.0,5.0,4.0,6.0,4.0,5.0,5.0,4.0,4.0,4.0,6.0,4.0,4.0,6.0,5.0,4.0,5.0,4.0,4.0,5.0,4.0,5.0,4.0,4.0,5.0,5.0,4.0,4.0,4.0,5.0,4.0,4.785943415984684,4.047634814613096,4.044940196926343,4.354744188967903,5.3493997198369385,4.549261645239168,5.199068159171019,4.5670282038700805,4.2853612148463895,3.949250824673315,4.514028575294182,4.3178264700862625]},\"name\":\"\",\"parents\":[\"all/Industrials\",\"all/Technology\",\"all/Healthcare\",\"all/Consumer Cyclical\",\"all/Healthcare\",\"all/Financial Services\",\"all/Technology\",\"all/Technology\",\"all/Technology\",\"all/Consumer Defensive\",\"all/Technology\",\"all/Technology\",\"all/Utilities\",\"all/Utilities\",\"all/Utilities\",\"all/Financial Services\",\"all/Financial Services\",\"all/Financial Services\",\"all/Financial Services\",\"all/Technology\",\"all/Basic Materials\",\"all/Healthcare\",\"all/Financial Services\",\"all/Industrials\",\"all/Technology\",\"all/Consumer Cyclical\",\"all/Technology\",\"all/Industrials\",\"all/Healthcare\",\"all/Financial Services\",\"all/Real Estate\",\"all/Consumer Cyclical\",\"all/Technology\",\"all/Technology\",\"all/Financial Services\",\"all/Industrials\",\"all/Energy\",\"all/Basic Materials\",\"all/Technology\",\"all/Consumer Cyclical\",\"all/Real Estate\",\"all/Utilities\",\"all/Real Estate\",\"all/Technology\",\"all/Consumer Cyclical\",\"all/Utilities\",\"all/Industrials\",\"all/Financial Services\",\"all/Consumer Cyclical\",\"all/Industrials\",\"all/Financial Services\",\"all/Consumer Cyclical\",\"all/Healthcare\",\"all/Consumer Cyclical\",\"all/Consumer Cyclical\",\"all/Healthcare\",\"all/Financial Services\",\"all/Consumer Defensive\",\"all/Healthcare\",\"all/Healthcare\",\"all/Financial Services\",\"all/Consumer Cyclical\",\"all/Energy\",\"all/Industrials\",\"all/Financial Services\",\"all/Healthcare\",\"all/Technology\",\"all/Financial Services\",\"all/Healthcare\",\"all/Consumer Cyclical\",\"all/Financial Services\",\"all/Real Estate\",\"all/Financial Services\",\"all/Consumer Defensive\",\"all/Healthcare\",\"all/Industrials\",\"all/Industrials\",\"all/Financial Services\",\"all/Financial Services\",\"all/Real Estate\",\"all/Real Estate\",\"all/Consumer Cyclical\",\"all/Technology\",\"all/Technology\",\"all/Basic Materials\",\"all/Utilities\",\"all/Basic Materials\",\"all/Financial Services\",\"all/Consumer Defensive\",\"all/Industrials\",\"all/Communication Services\",\"all/Healthcare\",\"all/Financial Services\",\"all/Consumer Defensive\",\"all/Consumer Defensive\",\"all/Communication Services\",\"all/Financial Services\",\"all/Consumer Cyclical\",\"all/Industrials\",\"all/Utilities\",\"all/Healthcare\",\"all/Utilities\",\"all/Financial Services\",\"all/Healthcare\",\"all/Energy\",\"all/Healthcare\",\"all/Consumer Defensive\",\"all/Technology\",\"all/Consumer Defensive\",\"all/Industrials\",\"all/Real Estate\",\"all/Healthcare\",\"all/Technology\",\"all/Technology\",\"all/Technology\",\"all/Real Estate\",\"all/Industrials\",\"all/Industrials\",\"all/Healthcare\",\"all/Energy\",\"all/Technology\",\"all/Basic Materials\",\"all/Healthcare\",\"all/Energy\",\"all/Consumer Cyclical\",\"all/Utilities\",\"all/Industrials\",\"all/Technology\",\"all/Basic Materials\",\"all/Industrials\",\"all/Consumer Cyclical\",\"all/Financial Services\",\"all/Consumer Defensive\",\"all/Healthcare\",\"all/Consumer Cyclical\",\"all/Healthcare\",\"all/Communication Services\",\"all/Real Estate\",\"all/Consumer Defensive\",\"all/Real Estate\",\"all/Industrials\",\"all/Basic Materials\",\"all/Consumer Cyclical\",\"all/Consumer Cyclical\",\"all/Utilities\",\"all/Utilities\",\"all/Healthcare\",\"all/Energy\",\"all/Healthcare\",\"all/Communication Services\",\"all/Consumer Cyclical\",\"all/Basic Materials\",\"all/Utilities\",\"all/Industrials\",\"all/Financial Services\",\"all/Utilities\",\"all/Consumer Defensive\",\"all/Healthcare\",\"all/Basic Materials\",\"all/Industrials\",\"all/Technology\",\"all/Energy\",\"all/Technology\",\"all/Real Estate\",\"all/Real Estate\",\"all/Energy\",\"all/Utilities\",\"all/Real Estate\",\"all/Industrials\",\"all/Utilities\",\"all/Consumer Cyclical\",\"all/Utilities\",\"all/Healthcare\",\"all/Utilities\",\"all/Industrials\",\"all/Consumer Cyclical\",\"all/Real Estate\",\"all/Consumer Cyclical\",\"all/Energy\",\"all/Industrials\",\"all/Basic Materials\",\"all/Financial Services\",\"all/Industrials\",\"all/Utilities\",\"all/Technology\",\"all/Technology\",\"all/Technology\",\"all/Technology\",\"all/Financial Services\",\"all/Basic Materials\",\"all/Communication Services\",\"all/Communication Services\",\"all/Real Estate\",\"all/Technology\",\"all/Technology\",\"all/Technology\",\"all/Industrials\",\"all/Technology\",\"all/Industrials\",\"all/Healthcare\",\"all/Technology\",\"all/Utilities\",\"all/Healthcare\",\"all/Consumer Defensive\",\"all/Financial Services\",\"all/Technology\",\"all/Consumer Cyclical\",\"all/Industrials\",\"all/Communication Services\",\"all/Consumer Cyclical\",\"all/Industrials\",\"all/Technology\",\"all/Financial Services\",\"all/Industrials\",\"all/Energy\",\"all/Consumer Cyclical\",\"all/Financial Services\",\"all/Healthcare\",\"all/Consumer Cyclical\",\"all/Energy\",\"all/Financial Services\",\"all/Industrials\",\"all/Consumer Cyclical\",\"all/Healthcare\",\"all/Industrials\",\"all/Technology\",\"all/Technology\",\"all/Consumer Defensive\",\"all/Healthcare\",\"all/Real Estate\",\"all/Consumer Defensive\",\"all/Industrials\",\"all/Healthcare\",\"all/Industrials\",\"all/Technology\",\"all/Financial Services\",\"all/Healthcare\",\"all/Industrials\",\"all/Basic Materials\",\"all/Healthcare\",\"all/Technology\",\"all/Technology\",\"all/Real Estate\",\"all/Consumer Cyclical\",\"all/Communication Services\",\"all/Healthcare\",\"all/Industrials\",\"all/Real Estate\",\"all/Healthcare\",\"all/Technology\",\"all/Industrials\",\"all/Financial Services\",\"all/Industrials\",\"all/Industrials\",\"all/Technology\",\"all/Industrials\",\"all/Technology\",\"all/Healthcare\",\"all/Technology\",\"all/Financial Services\",\"all/Consumer Defensive\",\"all/Consumer Defensive\",\"all/Financial Services\",\"all/Technology\",\"all/Consumer Defensive\",\"all/Real Estate\",\"all/Financial Services\",\"all/Technology\",\"all/Consumer Defensive\",\"all/Energy\",\"all/Consumer Cyclical\",\"all/Consumer Defensive\",\"all/Consumer Defensive\",\"all/Consumer Defensive\",\"all/Technology\",\"all/Consumer Cyclical\",\"all/Healthcare\",\"all/Industrials\",\"all/Basic Materials\",\"all/Consumer Cyclical\",\"all/Healthcare\",\"all/Industrials\",\"all/Utilities\",\"all/Consumer Cyclical\",\"all/Technology\",\"all/Consumer Cyclical\",\"all/Industrials\",\"all/Consumer Cyclical\",\"all/Consumer Defensive\",\"all/Basic Materials\",\"all/Communication Services\",\"all/Financial Services\",\"all/Real Estate\",\"all/Consumer Cyclical\",\"all/Industrials\",\"all/Consumer Cyclical\",\"all/Technology\",\"all/Healthcare\",\"all/Financial Services\",\"all/Consumer Defensive\",\"all/Healthcare\",\"all/Financial Services\",\"all/Communication Services\",\"all/Consumer Cyclical\",\"all/Consumer Cyclical\",\"all/Consumer Defensive\",\"all/Financial Services\",\"all/Basic Materials\",\"all/Financial Services\",\"all/Industrials\",\"all/Consumer Defensive\",\"all/Consumer Defensive\",\"all/Healthcare\",\"all/Basic Materials\",\"all/Energy\",\"all/Technology\",\"all/Healthcare\",\"all/Healthcare\",\"all/Energy\",\"all/Financial Services\",\"all/Financial Services\",\"all/Technology\",\"all/Technology\",\"all/Financial Services\",\"all/Communication Services\",\"all/Healthcare\",\"all/Technology\",\"all/Consumer Cyclical\",\"all/Financial Services\",\"all/Industrials\",\"all/Utilities\",\"all/Basic Materials\",\"all/Communication Services\",\"all/Utilities\",\"all/Consumer Cyclical\",\"all/Industrials\",\"all/Technology\",\"all/Utilities\",\"all/Industrials\",\"all/Technology\",\"all/Financial Services\",\"all/Basic Materials\",\"all/Technology\",\"all/Consumer Cyclical\",\"all/Communication Services\",\"all/Communication Services\",\"all/Technology\",\"all/Real Estate\",\"all/Industrials\",\"all/Energy\",\"all/Communication Services\",\"all/Technology\",\"all/Technology\",\"all/Consumer Cyclical\",\"all/Industrials\",\"all/Energy\",\"all/Technology\",\"all/Communication Services\",\"all/Technology\",\"all/Technology\",\"all/Industrials\",\"all/Utilities\",\"all/Utilities\",\"all/Consumer Defensive\",\"all/Healthcare\",\"all/Financial Services\",\"all/Consumer Defensive\",\"all/Financial Services\",\"all/Industrials\",\"all/Consumer Cyclical\",\"all/Consumer Cyclical\",\"all/Real Estate\",\"all/Consumer Defensive\",\"all/Financial Services\",\"all/Industrials\",\"all/Utilities\",\"all/Healthcare\",\"all/Industrials\",\"all/Basic Materials\",\"all/Utilities\",\"all/Financial Services\",\"all/Real Estate\",\"all/Energy\",\"all/Technology\",\"all/Industrials\",\"all/Financial Services\",\"all/Technology\",\"all/Technology\",\"all/Consumer Cyclical\",\"all/Real Estate\",\"all/Healthcare\",\"all/Financial Services\",\"all/Financial Services\",\"all/Consumer Cyclical\",\"all/Healthcare\",\"all/Industrials\",\"all/Consumer Cyclical\",\"all/Technology\",\"all/Consumer Cyclical\",\"all/Industrials\",\"all/Industrials\",\"all/Healthcare\",\"all/Real Estate\",\"all/Consumer Cyclical\",\"all/Financial Services\",\"all/Basic Materials\",\"all/Consumer Defensive\",\"all/Energy\",\"all/Technology\",\"all/Industrials\",\"all/Technology\",\"all/Utilities\",\"all/Healthcare\",\"all/Real Estate\",\"all/Financial Services\",\"all/Utilities\",\"all/Healthcare\",\"all/Basic Materials\",\"all/Financial Services\",\"all/Technology\",\"all/Consumer Defensive\",\"all/Consumer Cyclical\",\"all/Industrials\",\"all/Technology\",\"all/Financial Services\",\"all/Healthcare\",\"all/Consumer Defensive\",\"all/Communication Services\",\"all/Consumer Defensive\",\"all/Industrials\",\"all/Technology\",\"all/Healthcare\",\"all/Technology\",\"all/Technology\",\"all/Financial Services\",\"all/Healthcare\",\"all/Consumer Defensive\",\"all/Consumer Cyclical\",\"all/Healthcare\",\"all/Communication Services\",\"all/Consumer Cyclical\",\"all/Energy\",\"all/Technology\",\"all/Financial Services\",\"all/Financial Services\",\"all/Consumer Cyclical\",\"all/Consumer Cyclical\",\"all/Consumer Defensive\",\"all/Industrials\",\"all/Communication Services\",\"all/Technology\",\"all/Industrials\",\"all/Technology\",\"all/Industrials\",\"all/Technology\",\"all/Real Estate\",\"all/Healthcare\",\"all/Consumer Cyclical\",\"all/Healthcare\",\"all/Industrials\",\"all/Industrials\",\"all/Industrials\",\"all/Financial Services\",\"all/Financial Services\",\"all/Real Estate\",\"all/Energy\",\"all/Industrials\",\"all/Basic Materials\",\"all/Industrials\",\"all/Technology\",\"all/Healthcare\",\"all/Utilities\",\"all/Real Estate\",\"all/Healthcare\",\"all/Communication Services\",\"all/Industrials\",\"all/Healthcare\",\"all/Healthcare\",\"all/Communication Services\",\"all/Technology\",\"all/Utilities\",\"all/Real Estate\",\"all/Financial Services\",\"all/Industrials\",\"all/Energy\",\"all/Consumer Defensive\",\"all/Financial Services\",\"all/Healthcare\",\"all/Financial Services\",\"all/Real Estate\",\"all/Consumer Cyclical\",\"all/Utilities\",\"all/Energy\",\"all/Industrials\",\"all/Consumer Cyclical\",\"all/Healthcare\",\"all/Technology\",\"all/Healthcare\",\"all\",\"all\",\"all\",\"all\",\"all\",\"all\",\"all\",\"all\",\"all\",\"all\",\"all\",\"\"],\"values\":[11624647680,3661198000128,317254631424,82026307584,196687773696,34708324352,222914822144,186041729024,107135631360,23653937152,117510594560,62674325504,23478986752,48181153792,9207799808,57130496000,45279391744,10616492032,69887385600,13902007296,10576249856,16241528832,49263951872,11076531200,144689463296,13730729984,206632402944,41332428800,140865896448,51304230912,82789588992,2335486771200,145237737472,29370955776,75355725824,9903159296,8752946176,63673778176,86152888320,14529925120,17014828032,21235308544,30044719104,1071718006784,14999869440,23704956928,42857488384,212756463616,54708461568,129067835392,353566326784,16022491136,15103193088,7981046272,18018725888,67325353984,10343424000,10864376832,22316865536,9537294336,56682999808,158735089664,42945429504,16493982720,151899144192,115890200576,26454319104,28901777408,135577616384,7057448960,207814852608,12404383744,139348033536,12711030784,29380014080,61199851520,175257124864,108336619520,19978276864,39366152192,38009942016,31182721024,82736922624,24118118400,7247386112,79952633856,15444275200,19699335168,25185796096,12299230208,49427423232,77863362560,22245187584,71398588416,19767824384,142270758912,81805770752,79016591360,49382776832,19633162240,31609597952,20118812672,69341929472,18499348480,131516252160,45273907200,408995233792,24233635840,11909454848,54188814336,11767981056,9703605248,310957998080,88654716928,234704044032,28844785664,62075834368,76147769344,11522381824,19412690944,37494210560,39196319744,57610006528,266706993152,7022464000,45385740288,39478292480,11232971776,31380062208,112233799680,31159203840,44632838144,16311911424,17148528640,44223066112,172695961600,201720610816,60819046400,16130076672,13925910528,25789351936,27590627328,14189198336,21594877952,24930816000,82508800000,12524244992,22787858432,30993713152,37943033856,30258429952,65535008768,30488301568,30430216192,15945919488,29957666816,26625396736,88304689152,10255982592,68731002880,9931716608,71746117632,12958003200,90705666048,26379220992,28730337280,20547823616,17985968128,135913234432,32572862464,6072317952,13922747392,43432869888,37711269888,15593326592,23401326592,32737865728,38789070848,50344742912,41425387520,55666671616,17500680192,66234028032,22655021056,15081028608,115957071872,47117082624,42616102912,28453982208,6382864896,21915037696,21915029504,8978663424,21168578560,73525837824,26593640448,71395696640,27456270336,186489389056,38089502720,16627665920,101583634432,112949444608,33564452864,9359039488,40969601024,57157206016,9579065344,2399744032768,16212987904,28574699520,40046813184,182105473024,51756138496,24378431488,7966901760,24044003328,78068662272,381679894528,42708238336,31603916800,7397394432,58843619328,16496340992,143463989248,29305554944,31575658496,16547251200,8935886848,12080418816,33493800960,23290849280,32175022080,45363105792,207083503616,84082483200,34986057728,15750445056,21109104640,14100054016,86303129600,172269305856,18966282240,18624542720,10318665728,36780974080,35932553216,29548488704,189444489216,37909966848,73408626688,7707895808,16351642624,17794478080,17058871296,52425187328,12500845568,352066273280,12684019712,684606226432,28041181184,41615888384,19021252608,28769230848,35996991488,14809560064,135300636672,92200763392,42452639744,61783805952,12168656896,262086557696,42794057728,40358322176,19654680576,35996131328,19663599616,38502604800,197581766656,9485940736,695432052736,109974757376,14718519296,139225743360,99744210944,47917129728,19719354368,35888787456,8798096384,23999541248,29894854656,469378760704,17784676352,74969972736,15469202432,207346843648,30861965312,74290364416,84091191296,77944807424,102416506880,56875376640,1559857201152,9893900288,7404128768,19945555968,8265558528,31087720448,103125794816,72301101056,50133405696,87214923776,16958656512,8020535808,45527965696,30481158144,255544213504,18290399232,15971154944,204408750080,46343299072,3140270161920,76065120256,31863465984,8135349248,26483677184,113545068544,11216951296,43888521216,11712796672,144832249856,43443253248,375816781824,16696685568,106630471680,65910968320,217489063936,19594209280,53790822400,23823396864,20366899200,28478119936,3432028569600,24195461120,16211938304,16211936256,54028484608,45957328896,38566277120,59233857536,16622263296,26710245376,453191434240,69260673024,36798349312,48371580928,115169656832,7739991040,11653490688,50142371840,57442414592,43826327552,42553397248,199487340544,153745440768,17909245952,379867955200,141930283008,81766801408,22113992704,20294109184,98711732224,188756361216,77281427456,16304996352,9459840000,18633965568,12481061888,26879520768,23615039488,42419859456,52239577088,47572201472,22035980288,47207792640,88193449984,178337742848,6960001024,60585607168,12811357184,80252665856,21676406784,32439072768,15060079616,34702573568,31797313536,22156953600,54375825408,50004037632,63585513472,152801099776,14190452736,21062680576,105261981696,132276273152,84219641856,11436527616,55596343296,20131725312,17618726912,75375321088,88848687104,11991063552,65396129792,152465899520,53351198720,20382070784,18240473088,28646717440,18953086976,39678574592,27105329152,12587491328,14818279424,25922525184,135400292352,36620898304,159291441152,11375928320,70407774208,21380202496,11880354816,43007524864,22608363520,58371055616,8350112256,63806021632,135056580608,208711139328,246412656640,15697305600,40956596224,17587859456,25130627072,54865952768,28777084928,1265919197184,19796094976,85500116992,31920207872,175337242624,14024707072,24118722560,33285539840,139292721152,15428356096,12269601792,19859949568,473256067072,139766497280,106654187520,44978245632,75973459968,603539636224,30834472960,39253372928,25138857984,33276729344,38624034816,20106041344,105154240512,55582715904,23941492736,14323080192,163838787584,32511275008,22386608128,8349928960,25782816768,22426079232,29481027584,77363003392,238358167552,81633837056,67716005888,729512148992,21911468032,24082620416,31124025344,20351561728,9054246912,37693243392,477966041088,28128169984,35874705408,20530501632,20431353856,73760964608,849285633536,5542990818304,6215113240064,3144879411200,1669978963968,6099673657856,5258888508416,3724702064640,1069061840896,16905618918400,1268030639104,51748223696384],\"type\":\"treemap\"}],                        {\"template\":{\"data\":{\"histogram2dcontour\":[{\"type\":\"histogram2dcontour\",\"colorbar\":{\"outlinewidth\":0,\"ticks\":\"\"},\"colorscale\":[[0.0,\"#0d0887\"],[0.1111111111111111,\"#46039f\"],[0.2222222222222222,\"#7201a8\"],[0.3333333333333333,\"#9c179e\"],[0.4444444444444444,\"#bd3786\"],[0.5555555555555556,\"#d8576b\"],[0.6666666666666666,\"#ed7953\"],[0.7777777777777778,\"#fb9f3a\"],[0.8888888888888888,\"#fdca26\"],[1.0,\"#f0f921\"]]}],\"choropleth\":[{\"type\":\"choropleth\",\"colorbar\":{\"outlinewidth\":0,\"ticks\":\"\"}}],\"histogram2d\":[{\"type\":\"histogram2d\",\"colorbar\":{\"outlinewidth\":0,\"ticks\":\"\"},\"colorscale\":[[0.0,\"#0d0887\"],[0.1111111111111111,\"#46039f\"],[0.2222222222222222,\"#7201a8\"],[0.3333333333333333,\"#9c179e\"],[0.4444444444444444,\"#bd3786\"],[0.5555555555555556,\"#d8576b\"],[0.6666666666666666,\"#ed7953\"],[0.7777777777777778,\"#fb9f3a\"],[0.8888888888888888,\"#fdca26\"],[1.0,\"#f0f921\"]]}],\"heatmap\":[{\"type\":\"heatmap\",\"colorbar\":{\"outlinewidth\":0,\"ticks\":\"\"},\"colorscale\":[[0.0,\"#0d0887\"],[0.1111111111111111,\"#46039f\"],[0.2222222222222222,\"#7201a8\"],[0.3333333333333333,\"#9c179e\"],[0.4444444444444444,\"#bd3786\"],[0.5555555555555556,\"#d8576b\"],[0.6666666666666666,\"#ed7953\"],[0.7777777777777778,\"#fb9f3a\"],[0.8888888888888888,\"#fdca26\"],[1.0,\"#f0f921\"]]}],\"heatmapgl\":[{\"type\":\"heatmapgl\",\"colorbar\":{\"outlinewidth\":0,\"ticks\":\"\"},\"colorscale\":[[0.0,\"#0d0887\"],[0.1111111111111111,\"#46039f\"],[0.2222222222222222,\"#7201a8\"],[0.3333333333333333,\"#9c179e\"],[0.4444444444444444,\"#bd3786\"],[0.5555555555555556,\"#d8576b\"],[0.6666666666666666,\"#ed7953\"],[0.7777777777777778,\"#fb9f3a\"],[0.8888888888888888,\"#fdca26\"],[1.0,\"#f0f921\"]]}],\"contourcarpet\":[{\"type\":\"contourcarpet\",\"colorbar\":{\"outlinewidth\":0,\"ticks\":\"\"}}],\"contour\":[{\"type\":\"contour\",\"colorbar\":{\"outlinewidth\":0,\"ticks\":\"\"},\"colorscale\":[[0.0,\"#0d0887\"],[0.1111111111111111,\"#46039f\"],[0.2222222222222222,\"#7201a8\"],[0.3333333333333333,\"#9c179e\"],[0.4444444444444444,\"#bd3786\"],[0.5555555555555556,\"#d8576b\"],[0.6666666666666666,\"#ed7953\"],[0.7777777777777778,\"#fb9f3a\"],[0.8888888888888888,\"#fdca26\"],[1.0,\"#f0f921\"]]}],\"surface\":[{\"type\":\"surface\",\"colorbar\":{\"outlinewidth\":0,\"ticks\":\"\"},\"colorscale\":[[0.0,\"#0d0887\"],[0.1111111111111111,\"#46039f\"],[0.2222222222222222,\"#7201a8\"],[0.3333333333333333,\"#9c179e\"],[0.4444444444444444,\"#bd3786\"],[0.5555555555555556,\"#d8576b\"],[0.6666666666666666,\"#ed7953\"],[0.7777777777777778,\"#fb9f3a\"],[0.8888888888888888,\"#fdca26\"],[1.0,\"#f0f921\"]]}],\"mesh3d\":[{\"type\":\"mesh3d\",\"colorbar\":{\"outlinewidth\":0,\"ticks\":\"\"}}],\"scatter\":[{\"fillpattern\":{\"fillmode\":\"overlay\",\"size\":10,\"solidity\":0.2},\"type\":\"scatter\"}],\"parcoords\":[{\"type\":\"parcoords\",\"line\":{\"colorbar\":{\"outlinewidth\":0,\"ticks\":\"\"}}}],\"scatterpolargl\":[{\"type\":\"scatterpolargl\",\"marker\":{\"colorbar\":{\"outlinewidth\":0,\"ticks\":\"\"}}}],\"bar\":[{\"error_x\":{\"color\":\"#2a3f5f\"},\"error_y\":{\"color\":\"#2a3f5f\"},\"marker\":{\"line\":{\"color\":\"#E5ECF6\",\"width\":0.5},\"pattern\":{\"fillmode\":\"overlay\",\"size\":10,\"solidity\":0.2}},\"type\":\"bar\"}],\"scattergeo\":[{\"type\":\"scattergeo\",\"marker\":{\"colorbar\":{\"outlinewidth\":0,\"ticks\":\"\"}}}],\"scatterpolar\":[{\"type\":\"scatterpolar\",\"marker\":{\"colorbar\":{\"outlinewidth\":0,\"ticks\":\"\"}}}],\"histogram\":[{\"marker\":{\"pattern\":{\"fillmode\":\"overlay\",\"size\":10,\"solidity\":0.2}},\"type\":\"histogram\"}],\"scattergl\":[{\"type\":\"scattergl\",\"marker\":{\"colorbar\":{\"outlinewidth\":0,\"ticks\":\"\"}}}],\"scatter3d\":[{\"type\":\"scatter3d\",\"line\":{\"colorbar\":{\"outlinewidth\":0,\"ticks\":\"\"}},\"marker\":{\"colorbar\":{\"outlinewidth\":0,\"ticks\":\"\"}}}],\"scattermapbox\":[{\"type\":\"scattermapbox\",\"marker\":{\"colorbar\":{\"outlinewidth\":0,\"ticks\":\"\"}}}],\"scatterternary\":[{\"type\":\"scatterternary\",\"marker\":{\"colorbar\":{\"outlinewidth\":0,\"ticks\":\"\"}}}],\"scattercarpet\":[{\"type\":\"scattercarpet\",\"marker\":{\"colorbar\":{\"outlinewidth\":0,\"ticks\":\"\"}}}],\"carpet\":[{\"aaxis\":{\"endlinecolor\":\"#2a3f5f\",\"gridcolor\":\"white\",\"linecolor\":\"white\",\"minorgridcolor\":\"white\",\"startlinecolor\":\"#2a3f5f\"},\"baxis\":{\"endlinecolor\":\"#2a3f5f\",\"gridcolor\":\"white\",\"linecolor\":\"white\",\"minorgridcolor\":\"white\",\"startlinecolor\":\"#2a3f5f\"},\"type\":\"carpet\"}],\"table\":[{\"cells\":{\"fill\":{\"color\":\"#EBF0F8\"},\"line\":{\"color\":\"white\"}},\"header\":{\"fill\":{\"color\":\"#C8D4E3\"},\"line\":{\"color\":\"white\"}},\"type\":\"table\"}],\"barpolar\":[{\"marker\":{\"line\":{\"color\":\"#E5ECF6\",\"width\":0.5},\"pattern\":{\"fillmode\":\"overlay\",\"size\":10,\"solidity\":0.2}},\"type\":\"barpolar\"}],\"pie\":[{\"automargin\":true,\"type\":\"pie\"}]},\"layout\":{\"autotypenumbers\":\"strict\",\"colorway\":[\"#636efa\",\"#EF553B\",\"#00cc96\",\"#ab63fa\",\"#FFA15A\",\"#19d3f3\",\"#FF6692\",\"#B6E880\",\"#FF97FF\",\"#FECB52\"],\"font\":{\"color\":\"#2a3f5f\"},\"hovermode\":\"closest\",\"hoverlabel\":{\"align\":\"left\"},\"paper_bgcolor\":\"white\",\"plot_bgcolor\":\"#E5ECF6\",\"polar\":{\"bgcolor\":\"#E5ECF6\",\"angularaxis\":{\"gridcolor\":\"white\",\"linecolor\":\"white\",\"ticks\":\"\"},\"radialaxis\":{\"gridcolor\":\"white\",\"linecolor\":\"white\",\"ticks\":\"\"}},\"ternary\":{\"bgcolor\":\"#E5ECF6\",\"aaxis\":{\"gridcolor\":\"white\",\"linecolor\":\"white\",\"ticks\":\"\"},\"baxis\":{\"gridcolor\":\"white\",\"linecolor\":\"white\",\"ticks\":\"\"},\"caxis\":{\"gridcolor\":\"white\",\"linecolor\":\"white\",\"ticks\":\"\"}},\"coloraxis\":{\"colorbar\":{\"outlinewidth\":0,\"ticks\":\"\"}},\"colorscale\":{\"sequential\":[[0.0,\"#0d0887\"],[0.1111111111111111,\"#46039f\"],[0.2222222222222222,\"#7201a8\"],[0.3333333333333333,\"#9c179e\"],[0.4444444444444444,\"#bd3786\"],[0.5555555555555556,\"#d8576b\"],[0.6666666666666666,\"#ed7953\"],[0.7777777777777778,\"#fb9f3a\"],[0.8888888888888888,\"#fdca26\"],[1.0,\"#f0f921\"]],\"sequentialminus\":[[0.0,\"#0d0887\"],[0.1111111111111111,\"#46039f\"],[0.2222222222222222,\"#7201a8\"],[0.3333333333333333,\"#9c179e\"],[0.4444444444444444,\"#bd3786\"],[0.5555555555555556,\"#d8576b\"],[0.6666666666666666,\"#ed7953\"],[0.7777777777777778,\"#fb9f3a\"],[0.8888888888888888,\"#fdca26\"],[1.0,\"#f0f921\"]],\"diverging\":[[0,\"#8e0152\"],[0.1,\"#c51b7d\"],[0.2,\"#de77ae\"],[0.3,\"#f1b6da\"],[0.4,\"#fde0ef\"],[0.5,\"#f7f7f7\"],[0.6,\"#e6f5d0\"],[0.7,\"#b8e186\"],[0.8,\"#7fbc41\"],[0.9,\"#4d9221\"],[1,\"#276419\"]]},\"xaxis\":{\"gridcolor\":\"white\",\"linecolor\":\"white\",\"ticks\":\"\",\"title\":{\"standoff\":15},\"zerolinecolor\":\"white\",\"automargin\":true,\"zerolinewidth\":2},\"yaxis\":{\"gridcolor\":\"white\",\"linecolor\":\"white\",\"ticks\":\"\",\"title\":{\"standoff\":15},\"zerolinecolor\":\"white\",\"automargin\":true,\"zerolinewidth\":2},\"scene\":{\"xaxis\":{\"backgroundcolor\":\"#E5ECF6\",\"gridcolor\":\"white\",\"linecolor\":\"white\",\"showbackground\":true,\"ticks\":\"\",\"zerolinecolor\":\"white\",\"gridwidth\":2},\"yaxis\":{\"backgroundcolor\":\"#E5ECF6\",\"gridcolor\":\"white\",\"linecolor\":\"white\",\"showbackground\":true,\"ticks\":\"\",\"zerolinecolor\":\"white\",\"gridwidth\":2},\"zaxis\":{\"backgroundcolor\":\"#E5ECF6\",\"gridcolor\":\"white\",\"linecolor\":\"white\",\"showbackground\":true,\"ticks\":\"\",\"zerolinecolor\":\"white\",\"gridwidth\":2}},\"shapedefaults\":{\"line\":{\"color\":\"#2a3f5f\"}},\"annotationdefaults\":{\"arrowcolor\":\"#2a3f5f\",\"arrowhead\":0,\"arrowwidth\":1},\"geo\":{\"bgcolor\":\"white\",\"landcolor\":\"#E5ECF6\",\"subunitcolor\":\"white\",\"showland\":true,\"showlakes\":true,\"lakecolor\":\"white\"},\"title\":{\"x\":0.05},\"mapbox\":{\"style\":\"light\"}}},\"coloraxis\":{\"colorbar\":{\"title\":{\"text\":\"daily_return2\"}},\"colorscale\":[[0.0,\"red\"],[0.25,\"red\"],[0.5,\"white\"],[0.75,\"green\"],[1.0,\"green\"]],\"cmid\":4.3178264700862625},\"legend\":{\"tracegroupgap\":0},\"margin\":{\"t\":50,\"l\":25,\"r\":25,\"b\":25}},                        {\"responsive\": true}                    ).then(function(){\n",
       "                            \n",
       "var gd = document.getElementById('d1169bf7-30df-434d-aff8-1d3a7b0969b4');\n",
       "var x = new MutationObserver(function (mutations, observer) {{\n",
       "        var display = window.getComputedStyle(gd).display;\n",
       "        if (!display || display === 'none') {{\n",
       "            console.log([gd, 'removed!']);\n",
       "            Plotly.purge(gd);\n",
       "            observer.disconnect();\n",
       "        }}\n",
       "}});\n",
       "\n",
       "// Listen for the removal of the full notebook cells\n",
       "var notebookContainer = gd.closest('#notebook-container');\n",
       "if (notebookContainer) {{\n",
       "    x.observe(notebookContainer, {childList: true});\n",
       "}}\n",
       "\n",
       "// Listen for the clearing of the current output cell\n",
       "var outputEl = gd.closest('.output');\n",
       "if (outputEl) {{\n",
       "    x.observe(outputEl, {childList: true});\n",
       "}}\n",
       "\n",
       "                        })                };                });            </script>        </div>"
      ]
     },
     "metadata": {},
     "output_type": "display_data"
    }
   ],
   "source": [
    "fig = px.treemap(df2,\n",
    "                 path=['all','sector','ticker'], \n",
    "                 values='mkt_cap',\n",
    "                 color='daily_return2',\n",
    "                 hover_data=['daily_return'],\n",
    "                 color_continuous_scale=[\"red\", \"red\",\"white\",\"green\" ,\"green\"],  \n",
    "                 color_continuous_midpoint=np.average(df2['daily_return2'], weights=df2['mkt_cap'])                 \n",
    "                )\n",
    "\n",
    "\n",
    "fig.update_layout(margin = dict(t=50, l=25, r=25, b=25))\n",
    "fig.show()"
   ]
  },
  {
   "cell_type": "markdown",
   "metadata": {},
   "source": [
    "## **Improve the treemap chart**\n",
    "\n",
    "<font size=\"3\">we can make a little improvement of the chart, visualizing the returns inside the box and hiding the bar in the right hand side of the chart. You can do this as following:\" <br><br>"
   ]
  },
  {
   "cell_type": "code",
   "execution_count": 22,
   "metadata": {},
   "outputs": [
    {
     "data": {
      "text/html": [
       "<div>\n",
       "<style scoped>\n",
       "    .dataframe tbody tr th:only-of-type {\n",
       "        vertical-align: middle;\n",
       "    }\n",
       "\n",
       "    .dataframe tbody tr th {\n",
       "        vertical-align: top;\n",
       "    }\n",
       "\n",
       "    .dataframe thead th {\n",
       "        text-align: right;\n",
       "    }\n",
       "</style>\n",
       "<table border=\"1\" class=\"dataframe\">\n",
       "  <thead>\n",
       "    <tr style=\"text-align: right;\">\n",
       "      <th></th>\n",
       "      <th>ticker</th>\n",
       "      <th>mkt_cap</th>\n",
       "      <th>daily_return</th>\n",
       "      <th>sector</th>\n",
       "      <th>all</th>\n",
       "      <th>daily_return2</th>\n",
       "      <th>daily_return_str</th>\n",
       "      <th>ticker_plus_return</th>\n",
       "    </tr>\n",
       "  </thead>\n",
       "  <tbody>\n",
       "    <tr>\n",
       "      <th>0</th>\n",
       "      <td>AAPL</td>\n",
       "      <td>3661198000128</td>\n",
       "      <td>-1.138776</td>\n",
       "      <td>Technology</td>\n",
       "      <td>all</td>\n",
       "      <td>4</td>\n",
       "      <td>-1.14</td>\n",
       "      <td>AAPL -1.14%</td>\n",
       "    </tr>\n",
       "    <tr>\n",
       "      <th>1</th>\n",
       "      <td>MSFT</td>\n",
       "      <td>3140270161920</td>\n",
       "      <td>-1.280823</td>\n",
       "      <td>Technology</td>\n",
       "      <td>all</td>\n",
       "      <td>4</td>\n",
       "      <td>-1.28</td>\n",
       "      <td>MSFT -1.28%</td>\n",
       "    </tr>\n",
       "    <tr>\n",
       "      <th>2</th>\n",
       "      <td>NVDA</td>\n",
       "      <td>3432028569600</td>\n",
       "      <td>-6.216958</td>\n",
       "      <td>Technology</td>\n",
       "      <td>all</td>\n",
       "      <td>3</td>\n",
       "      <td>-6.22</td>\n",
       "      <td>NVDA -6.22%</td>\n",
       "    </tr>\n",
       "    <tr>\n",
       "      <th>3</th>\n",
       "      <td>AMZN</td>\n",
       "      <td>2335486771200</td>\n",
       "      <td>-2.416414</td>\n",
       "      <td>Consumer Cyclical</td>\n",
       "      <td>all</td>\n",
       "      <td>4</td>\n",
       "      <td>-2.42</td>\n",
       "      <td>AMZN -2.42%</td>\n",
       "    </tr>\n",
       "    <tr>\n",
       "      <th>4</th>\n",
       "      <td>META</td>\n",
       "      <td>1559857201152</td>\n",
       "      <td>-1.953348</td>\n",
       "      <td>Communication Services</td>\n",
       "      <td>all</td>\n",
       "      <td>4</td>\n",
       "      <td>-1.95</td>\n",
       "      <td>META -1.95%</td>\n",
       "    </tr>\n",
       "    <tr>\n",
       "      <th>...</th>\n",
       "      <td>...</td>\n",
       "      <td>...</td>\n",
       "      <td>...</td>\n",
       "      <td>...</td>\n",
       "      <td>...</td>\n",
       "      <td>...</td>\n",
       "      <td>...</td>\n",
       "      <td>...</td>\n",
       "    </tr>\n",
       "    <tr>\n",
       "      <th>500</th>\n",
       "      <td>BIO</td>\n",
       "      <td>9537294336</td>\n",
       "      <td>0.151396</td>\n",
       "      <td>Healthcare</td>\n",
       "      <td>all</td>\n",
       "      <td>5</td>\n",
       "      <td>0.15</td>\n",
       "      <td>BIO 0.15%</td>\n",
       "    </tr>\n",
       "    <tr>\n",
       "      <th>501</th>\n",
       "      <td>RL</td>\n",
       "      <td>15060079616</td>\n",
       "      <td>-0.1811</td>\n",
       "      <td>Consumer Cyclical</td>\n",
       "      <td>all</td>\n",
       "      <td>4</td>\n",
       "      <td>-0.18</td>\n",
       "      <td>RL -0.18%</td>\n",
       "    </tr>\n",
       "    <tr>\n",
       "      <th>502</th>\n",
       "      <td>PARA</td>\n",
       "      <td>7739991040</td>\n",
       "      <td>-0.365965</td>\n",
       "      <td>Communication Services</td>\n",
       "      <td>all</td>\n",
       "      <td>4</td>\n",
       "      <td>-0.37</td>\n",
       "      <td>PARA -0.37%</td>\n",
       "    </tr>\n",
       "    <tr>\n",
       "      <th>503</th>\n",
       "      <td>FOX</td>\n",
       "      <td>21915037696</td>\n",
       "      <td>-0.552369</td>\n",
       "      <td>Communication Services</td>\n",
       "      <td>all</td>\n",
       "      <td>4</td>\n",
       "      <td>-0.55</td>\n",
       "      <td>FOX -0.55%</td>\n",
       "    </tr>\n",
       "    <tr>\n",
       "      <th>504</th>\n",
       "      <td>NWS</td>\n",
       "      <td>16211938304</td>\n",
       "      <td>0.627684</td>\n",
       "      <td>Communication Services</td>\n",
       "      <td>all</td>\n",
       "      <td>5</td>\n",
       "      <td>0.63</td>\n",
       "      <td>NWS 0.63%</td>\n",
       "    </tr>\n",
       "  </tbody>\n",
       "</table>\n",
       "<p>498 rows × 8 columns</p>\n",
       "</div>"
      ],
      "text/plain": [
       "    ticker        mkt_cap daily_return                  sector  all  \\\n",
       "0     AAPL  3661198000128    -1.138776              Technology  all   \n",
       "1     MSFT  3140270161920    -1.280823              Technology  all   \n",
       "2     NVDA  3432028569600    -6.216958              Technology  all   \n",
       "3     AMZN  2335486771200    -2.416414       Consumer Cyclical  all   \n",
       "4     META  1559857201152    -1.953348  Communication Services  all   \n",
       "..     ...            ...          ...                     ...  ...   \n",
       "500    BIO     9537294336     0.151396              Healthcare  all   \n",
       "501     RL    15060079616      -0.1811       Consumer Cyclical  all   \n",
       "502   PARA     7739991040    -0.365965  Communication Services  all   \n",
       "503    FOX    21915037696    -0.552369  Communication Services  all   \n",
       "504    NWS    16211938304     0.627684  Communication Services  all   \n",
       "\n",
       "     daily_return2 daily_return_str ticker_plus_return  \n",
       "0                4            -1.14        AAPL -1.14%  \n",
       "1                4            -1.28        MSFT -1.28%  \n",
       "2                3            -6.22        NVDA -6.22%  \n",
       "3                4            -2.42        AMZN -2.42%  \n",
       "4                4            -1.95        META -1.95%  \n",
       "..             ...              ...                ...  \n",
       "500              5             0.15          BIO 0.15%  \n",
       "501              4            -0.18          RL -0.18%  \n",
       "502              4            -0.37        PARA -0.37%  \n",
       "503              4            -0.55         FOX -0.55%  \n",
       "504              5             0.63          NWS 0.63%  \n",
       "\n",
       "[498 rows x 8 columns]"
      ]
     },
     "execution_count": 22,
     "metadata": {},
     "output_type": "execute_result"
    }
   ],
   "source": [
    "df2['daily_return_str'] = df2[\"daily_return\"].apply(lambda x: round(x, 2)).astype('str')\n",
    "df2['ticker_plus_return'] = df2['ticker'] + \" \" + df2['daily_return_str'] + \"%\"\n",
    "df2"
   ]
  },
  {
   "cell_type": "code",
   "execution_count": 31,
   "metadata": {},
   "outputs": [
    {
     "data": {
      "application/vnd.plotly.v1+json": {
       "config": {
        "plotlyServerURL": "https://plot.ly"
       },
       "data": [
        {
         "branchvalues": "total",
         "customdata": [
          [
           0.9703196347031984,
           5
          ],
          [
           -1.138775510204082,
           4
          ],
          [
           -0.3164908384230891,
           4
          ],
          [
           -2.892011834319519,
           4
          ],
          [
           0.31847133757960666,
           5
          ],
          [
           1.6640952171038226,
           6
          ],
          [
           1.4402413685139281,
           6
          ],
          [
           -1.9829305626420601,
           4
          ],
          [
           -0.9770642201834878,
           4
          ],
          [
           -0.4029820672980078,
           4
          ],
          [
           0.44230836206595736,
           5
          ],
          [
           -0.5777580253666481,
           4
          ],
          [
           1.2547484747323479,
           6
          ],
          [
           0.16607617360495652,
           5
          ],
          [
           -0.4611837048424272,
           4
          ],
          [
           1.0315355142941351,
           6
          ],
          [
           0.1655857596246868,
           5
          ],
          [
           -0.31782721756717924,
           4
          ],
          [
           1.21192388394471,
           6
          ],
          [
           -0.9101616875468399,
           4
          ],
          [
           -0.23284177846767395,
           4
          ],
          [
           -0.6030701754385914,
           4
          ],
          [
           0.06992630842881375,
           5
          ],
          [
           -1.3166047087980193,
           4
          ],
          [
           0.19157088122605526,
           5
          ],
          [
           0.7423117709437932,
           5
          ],
          [
           -1.7136240833655059,
           4
          ],
          [
           -0.41241709858999,
           4
          ],
          [
           1.3418925712517904,
           6
          ],
          [
           -0.3730148263973776,
           4
          ],
          [
           -1.7141906135581975,
           4
          ],
          [
           -2.4164140415623203,
           4
          ],
          [
           -3.1013615733736732,
           4
          ],
          [
           -0.8238594419016532,
           4
          ],
          [
           -0.008609062473108331,
           5
          ],
          [
           -0.8708272859216382,
           4
          ],
          [
           0,
           5
          ],
          [
           1.0909476062702872,
           6
          ],
          [
           0.4639392661324404,
           5
          ],
          [
           0.7168458781362075,
           5
          ],
          [
           -0.37859408574645315,
           4
          ],
          [
           0.08790564793788036,
           5
          ],
          [
           -0.7284519221731456,
           4
          ],
          [
           -3.2866630007190922,
           4
          ],
          [
           -0.7179323548181182,
           4
          ],
          [
           -0.2787570714110066,
           4
          ],
          [
           -1.5209125475285301,
           4
          ],
          [
           0.046376043460982785,
           5
          ],
          [
           -1.0186855161441244,
           4
          ],
          [
           1.0129991802318772,
           6
          ],
          [
           1.497797356828201,
           6
          ],
          [
           -0.6108848574602144,
           4
          ],
          [
           -0.2697235333782966,
           4
          ],
          [
           0.8207934336525335,
           5
          ],
          [
           -0.578034682080919,
           4
          ],
          [
           0.628521889900302,
           5
          ],
          [
           -1.3000000000000123,
           4
          ],
          [
           -0.2180046165683569,
           4
          ],
          [
           -0.07829320806420625,
           4
          ],
          [
           0.15139604623402025,
           5
          ],
          [
           0.05133470225870962,
           5
          ],
          [
           -2.315577651997325,
           4
          ],
          [
           1.3308428671491956,
           6
          ],
          [
           -1.5997253690353652,
           4
          ],
          [
           -3.157770010071692,
           4
          ],
          [
           0.8115737473535667,
           5
          ],
          [
           0.3903477643719011,
           5
          ],
          [
           0.14863258026158732,
           5
          ],
          [
           0.7667871617920818,
           5
          ],
          [
           0.5922693266833035,
           5
          ],
          [
           -1.9737971279821465,
           4
          ],
          [
           -2.3058758160855675,
           4
          ],
          [
           1.2922738520759092,
           6
          ],
          [
           -0.9669021941242195,
           4
          ],
          [
           1.479561982780253,
           6
          ],
          [
           -0.7276961141027494,
           4
          ],
          [
           -0.32948929159801743,
           4
          ],
          [
           0.5424413602184597,
           5
          ],
          [
           -0.479766374634949,
           4
          ],
          [
           -2.832540222071156,
           4
          ],
          [
           -1.2197876665913876,
           4
          ],
          [
           -1.2018234562784835,
           4
          ],
          [
           -2.099694943856678,
           4
          ],
          [
           0.9426069496346612,
           5
          ],
          [
           0.37850113550341735,
           5
          ],
          [
           -3.2730437414862923,
           4
          ],
          [
           -1.125222816399296,
           4
          ],
          [
           -0.22321428571426827,
           4
          ],
          [
           1.111438969214129,
           6
          ],
          [
           0.5119783616692519,
           5
          ],
          [
           -0.5492776426834545,
           4
          ],
          [
           0.0965458056211066,
           5
          ],
          [
           0.39506172839507414,
           5
          ],
          [
           -0.17135023989034437,
           4
          ],
          [
           1.3389174440002538,
           6
          ],
          [
           -0.8268871699119829,
           4
          ],
          [
           0.526968381897075,
           5
          ],
          [
           -1.377551020408152,
           4
          ],
          [
           0.5418389006814905,
           5
          ],
          [
           0.4432895139101056,
           5
          ],
          [
           -0.12761205933961017,
           4
          ],
          [
           -0.5797101449275366,
           4
          ],
          [
           -0.8881865736704575,
           4
          ],
          [
           -0.3440490269863483,
           4
          ],
          [
           1.6801680168016864,
           6
          ],
          [
           2.341838518000694,
           6
          ],
          [
           -0.1452243933630304,
           4
          ],
          [
           1.536349563337902,
           6
          ],
          [
           -1.3580246913580174,
           4
          ],
          [
           -0.6009190526687802,
           4
          ],
          [
           -2.7763088313061846,
           4
          ],
          [
           0.11607048644086682,
           5
          ],
          [
           -1.6942486309865834,
           4
          ],
          [
           -1.7551042690250096,
           4
          ],
          [
           0.27224774544836183,
           5
          ],
          [
           -1.1936525768852624,
           4
          ],
          [
           0.5937499999999929,
           5
          ],
          [
           1.9556996218260458,
           6
          ],
          [
           0,
           5
          ],
          [
           0.45731707317073766,
           5
          ],
          [
           -0.382031352917922,
           4
          ],
          [
           0.15806111696523573,
           5
          ],
          [
           -0.08729812309035134,
           4
          ],
          [
           1.5822355018334955,
           6
          ],
          [
           -1.0182689427972513,
           4
          ],
          [
           0.6895266492732199,
           5
          ],
          [
           1.8987341772152,
           6
          ],
          [
           -3.4038513696772354,
           4
          ],
          [
           -0.23917087430243011,
           4
          ],
          [
           -1.131578947368428,
           4
          ],
          [
           -1.6165395500551627,
           4
          ],
          [
           -0.8983873667764097,
           4
          ],
          [
           -1.448312516609096,
           4
          ],
          [
           0.8997176068824997,
           5
          ],
          [
           -1.0907003444316943,
           4
          ],
          [
           0.37783375314861534,
           5
          ],
          [
           0.3061683926159464,
           5
          ],
          [
           0.15590200445434466,
           5
          ],
          [
           -2.088500195796883,
           4
          ],
          [
           -0.5494505494505475,
           4
          ],
          [
           -0.026591501356176828,
           4
          ],
          [
           -0.8553459119496898,
           4
          ],
          [
           -3.2037691401649027,
           4
          ],
          [
           0.20656664492280097,
           5
          ],
          [
           0.5932982368179074,
           5
          ],
          [
           0.4136504653567741,
           5
          ],
          [
           0.7655249785520901,
           5
          ],
          [
           2.7851851851851794,
           6
          ],
          [
           -0.6634952428642982,
           4
          ],
          [
           -0.3993115318416618,
           4
          ],
          [
           0.3654273911662065,
           5
          ],
          [
           0.025931368311860048,
           5
          ],
          [
           -0.41869412696616815,
           4
          ],
          [
           -1.3105000803987799,
           4
          ],
          [
           2.5852296292199872,
           6
          ],
          [
           -0.29956514736673157,
           4
          ],
          [
           0.8155498165012931,
           5
          ],
          [
           0.28974055050705605,
           5
          ],
          [
           -0.19176536943034117,
           4
          ],
          [
           -1.1548857400278445,
           4
          ],
          [
           2.984029139815081,
           6
          ],
          [
           0.9257061476382722,
           5
          ],
          [
           -1.0996147019351588,
           4
          ],
          [
           0.00744680851063606,
           5
          ],
          [
           -1.3744699517473258,
           4
          ],
          [
           1.0705289672544138,
           6
          ],
          [
           -0.2667615152054048,
           4
          ],
          [
           -1.000769822940728,
           4
          ],
          [
           -1.3340601331191082,
           4
          ],
          [
           0.93010895562049,
           5
          ],
          [
           -4.645822292881119,
           4
          ],
          [
           0.44798407167745413,
           5
          ],
          [
           0.13598041881968115,
           5
          ],
          [
           -0.7142857142857006,
           4
          ],
          [
           0.2610026100261065,
           5
          ],
          [
           -1.4379155630034002,
           4
          ],
          [
           -0.08750673128702369,
           4
          ],
          [
           -1.6129032258064502,
           4
          ],
          [
           1.6387644423484948,
           6
          ],
          [
           0.4724190634986858,
           5
          ],
          [
           0.44075706507649137,
           5
          ],
          [
           -1.1479947642855537,
           4
          ],
          [
           0.37595357155892906,
           5
          ],
          [
           0.10185892538834285,
           5
          ],
          [
           -0.9279938390450382,
           4
          ],
          [
           -0.8802217575256566,
           4
          ],
          [
           -1.6691988353717657,
           4
          ],
          [
           0.15182186234816708,
           5
          ],
          [
           -0.18630647414997759,
           4
          ],
          [
           2.9394000402657605,
           6
          ],
          [
           -0.5523688124070447,
           4
          ],
          [
           -0.8059641345960267,
           4
          ],
          [
           -1.539327951942937,
           4
          ],
          [
           3.377424583050126,
           6
          ],
          [
           -2.0522769042270683,
           4
          ],
          [
           0.16989022477784665,
           5
          ],
          [
           0.6434357920849454,
           5
          ],
          [
           -1.8912410956155368,
           4
          ],
          [
           -0.08118295158016098,
           4
          ],
          [
           2.0190895741556636,
           6
          ],
          [
           -1.6405395552314905,
           4
          ],
          [
           -0.7540665733060448,
           4
          ],
          [
           -0.6576783952647269,
           4
          ],
          [
           -0.9918699186991842,
           4
          ],
          [
           0.2607913669064654,
           5
          ],
          [
           -1.0136532892014882,
           4
          ],
          [
           -2.895572576125549,
           4
          ],
          [
           0.5872797700862131,
           5
          ],
          [
           -0.6314406950899132,
           4
          ],
          [
           -0.6475249211894019,
           4
          ],
          [
           -0.6635406529239996,
           4
          ],
          [
           0.3464369917721255,
           5
          ],
          [
           -0.5605169783506669,
           4
          ],
          [
           0.8292141440783274,
           5
          ],
          [
           0.32537960954446277,
           5
          ],
          [
           0.38671119704694057,
           5
          ],
          [
           0.1209921355111998,
           5
          ],
          [
           3.8023710090259843,
           6
          ],
          [
           -1.3200811567403714,
           4
          ],
          [
           1.9791053560918481,
           6
          ],
          [
           0.3405430280717825,
           5
          ],
          [
           1.258703802892347,
           6
          ],
          [
           -0.890987476904137,
           4
          ],
          [
           -1.464009760065066,
           4
          ],
          [
           -0.5005862722107013,
           4
          ],
          [
           -2.494529540481405,
           4
          ],
          [
           -0.5904930617065096,
           4
          ],
          [
           -1.7601043024771834,
           4
          ],
          [
           -0.12541806020067714,
           4
          ],
          [
           -1.331018518518523,
           4
          ],
          [
           -0.731678061652874,
           4
          ],
          [
           -1.4958574509136402,
           4
          ],
          [
           1.1048469484278511,
           6
          ],
          [
           -0.7201920512136639,
           4
          ],
          [
           0.579332644720898,
           5
          ],
          [
           -0.09551098376314737,
           4
          ],
          [
           -0.4427253238885376,
           4
          ],
          [
           -0.6306134148671871,
           4
          ],
          [
           0.5480453050785483,
           5
          ],
          [
           1.7800027812543417,
           6
          ],
          [
           0.7045797684952282,
           5
          ],
          [
           -1.556401561200338,
           4
          ],
          [
           -0.7374158384097496,
           4
          ],
          [
           0.20560747663551648,
           5
          ],
          [
           -1.0360843158270794,
           4
          ],
          [
           1.6910879164993897,
           6
          ],
          [
           -2.3118220663964073,
           4
          ],
          [
           -2.649134680460219,
           4
          ],
          [
           -1.9341040249276298,
           4
          ],
          [
           -0.048808264866184725,
           4
          ],
          [
           -0.7069819459977644,
           4
          ],
          [
           -1.4367816091954033,
           4
          ],
          [
           -0.7676676450666164,
           4
          ],
          [
           0.0453514739228833,
           5
          ],
          [
           0.46704381002498074,
           5
          ],
          [
           -0.1261511290525985,
           4
          ],
          [
           1.008076401579916,
           6
          ],
          [
           1.788946122789925,
           6
          ],
          [
           0.8688783570300229,
           5
          ],
          [
           0.9632551380527321,
           5
          ],
          [
           0.16005909874414748,
           5
          ],
          [
           -1.287001287001277,
           4
          ],
          [
           -1.0932105868814546,
           4
          ],
          [
           0.5325264750378089,
           5
          ],
          [
           -0.9317803660565782,
           4
          ],
          [
           -1.6562220232766434,
           4
          ],
          [
           -2.7331829640440564,
           4
          ],
          [
           -0.1448645516442082,
           4
          ],
          [
           0.9356168728195335,
           5
          ],
          [
           -0.07186489399928497,
           4
          ],
          [
           -0.7899686520376092,
           4
          ],
          [
           0.049333991119882015,
           5
          ],
          [
           -2.4414384691520907,
           4
          ],
          [
           -0.28422548555187,
           4
          ],
          [
           -0.6341068537506711,
           4
          ],
          [
           -1.4215904042647831,
           4
          ],
          [
           2.252957550452339,
           6
          ],
          [
           -0.6314552841548693,
           4
          ],
          [
           0.4940543944200737,
           5
          ],
          [
           -0.7344940152339441,
           4
          ],
          [
           1.0704483074107873,
           6
          ],
          [
           -0.43776824034335027,
           4
          ],
          [
           0.08724480893387287,
           5
          ],
          [
           -1.2693200928966197,
           4
          ],
          [
           -0.5898948448320174,
           4
          ],
          [
           -0.4679871493258547,
           4
          ],
          [
           -2.808158439255082,
           4
          ],
          [
           -2.8077753779697567,
           4
          ],
          [
           -2.172878667724021,
           4
          ],
          [
           0.05415651232061336,
           5
          ],
          [
           0.28622263479536336,
           5
          ],
          [
           -0.10352977946204156,
           4
          ],
          [
           -1.008212592642066,
           4
          ],
          [
           -1.041743085613689,
           4
          ],
          [
           -1.9151846785225635,
           4
          ],
          [
           -0.9720035594496634,
           4
          ],
          [
           -1.4067593069137074,
           4
          ],
          [
           0.828695966783255,
           5
          ],
          [
           -1.9317749503318216,
           4
          ],
          [
           0.12023359670216838,
           5
          ],
          [
           0.0375751503006061,
           5
          ],
          [
           0.18294914013905483,
           5
          ],
          [
           -1.9533481434465316,
           4
          ],
          [
           -2.0919269298762533,
           4
          ],
          [
           -0.399082958308572,
           4
          ],
          [
           0.25630648860111016,
           5
          ],
          [
           -1.4032562741746912,
           4
          ],
          [
           -1.685447552042063,
           4
          ],
          [
           0.719493476592481,
           5
          ],
          [
           1.9034461585693663,
           6
          ],
          [
           -0.6169269327164106,
           4
          ],
          [
           -1.2094451910155568,
           4
          ],
          [
           -0.6134558010123636,
           4
          ],
          [
           -0.5513981882630969,
           4
          ],
          [
           0.8040987689461376,
           5
          ],
          [
           -0.9871652669941389,
           4
          ],
          [
           1.3036502206177358,
           6
          ],
          [
           11.651397697909328,
           8
          ],
          [
           -1.279391424619647,
           4
          ],
          [
           -1.3681592039800905,
           4
          ],
          [
           -0.8933060704588769,
           4
          ],
          [
           -1.2808227182423804,
           4
          ],
          [
           -0.28480666009420563,
           4
          ],
          [
           -0.6261319534282106,
           4
          ],
          [
           -2.9358897543439344,
           4
          ],
          [
           0.21880614893192707,
           5
          ],
          [
           2.669756195849282,
           6
          ],
          [
           -0.5070202808112323,
           4
          ],
          [
           -0.5988023952095745,
           4
          ],
          [
           -0.7392732895245446,
           4
          ],
          [
           -1.1370016844469255,
           4
          ],
          [
           0.9790949986768993,
           5
          ],
          [
           -0.2948547840188609,
           4
          ],
          [
           0.5622715771717912,
           5
          ],
          [
           0.12499999999999734,
           5
          ],
          [
           -0.6042096937206143,
           4
          ],
          [
           -2.1261779861659003,
           4
          ],
          [
           -2.015802269043754,
           4
          ],
          [
           0.33760972316001503,
           5
          ],
          [
           -0.6949152542372827,
           4
          ],
          [
           -0.4456932467784114,
           4
          ],
          [
           0.5471729398109693,
           5
          ],
          [
           -6.216957772870257,
           3
          ],
          [
           -1.1475001470833024,
           4
          ],
          [
           0.6276841757515639,
           5
          ],
          [
           0.5830903790087438,
           5
          ],
          [
           -0.38892273089358165,
           4
          ],
          [
           -0.41721979897590966,
           4
          ],
          [
           -1.1112935895330356,
           4
          ],
          [
           -0.00984058256249254,
           5
          ],
          [
           -0.5522914218566433,
           4
          ],
          [
           -2.759262129902351,
           4
          ],
          [
           -2.2089444142676107,
           4
          ],
          [
           -0.8880847935099578,
           4
          ],
          [
           -0.18420197204463973,
           4
          ],
          [
           1.5363403584794044,
           6
          ],
          [
           -2.2228412256267482,
           4
          ],
          [
           -0.36596523330282293,
           4
          ],
          [
           -2.3812973965125828,
           4
          ],
          [
           2.3519035719535397,
           6
          ],
          [
           2.1633718761656207,
           6
          ],
          [
           0.6042296072507503,
           5
          ],
          [
           -0.3383897316219464,
           4
          ],
          [
           -0.5947904560060224,
           4
          ],
          [
           0.8925251022684932,
           5
          ],
          [
           0.6168080185042557,
           5
          ],
          [
           0.4358655043586568,
           5
          ],
          [
           1.122751366918484,
           6
          ],
          [
           -0.9001560062402492,
           4
          ],
          [
           -1.0098228219957872,
           4
          ],
          [
           -0.48441078034173746,
           4
          ],
          [
           -0.07500468779298997,
           4
          ],
          [
           0.33057851239670644,
           5
          ],
          [
           -0.41924433764507496,
           4
          ],
          [
           -0.8440514469453264,
           4
          ],
          [
           0.132386568780829,
           5
          ],
          [
           -1.0282776349614609,
           4
          ],
          [
           -1.3653724700008918,
           4
          ],
          [
           0.6865386286608155,
           5
          ],
          [
           0.8509297195083532,
           5
          ],
          [
           0.45515846257586645,
           5
          ],
          [
           0.801135787445495,
           5
          ],
          [
           0.01736563341148134,
           5
          ],
          [
           -0.9414056159714357,
           4
          ],
          [
           -2.5147838809973733,
           4
          ],
          [
           -1.7424327041215215,
           4
          ],
          [
           0.41914294651237416,
           5
          ],
          [
           2.065428333795394,
           6
          ],
          [
           -1.348452344468276,
           4
          ],
          [
           -1.294316263365225,
           4
          ],
          [
           1.9601820567950234,
           6
          ],
          [
           0.2943650126156383,
           5
          ],
          [
           -0.556702320635527,
           4
          ],
          [
           -0.18109976950938522,
           4
          ],
          [
           0.5572333999744883,
           5
          ],
          [
           -0.05329354082284077,
           4
          ],
          [
           0.21905805038335835,
           5
          ],
          [
           0,
           5
          ],
          [
           -2.18780251694094,
           4
          ],
          [
           1.0450360786265378,
           6
          ],
          [
           0.6134969325153339,
           5
          ],
          [
           0.8737780084782321,
           5
          ],
          [
           -1.528175740210136,
           4
          ],
          [
           -0.3113926769032438,
           4
          ],
          [
           -2.9806659505907662,
           4
          ],
          [
           -1.0123734533183382,
           4
          ],
          [
           -1.5481861487724458,
           4
          ],
          [
           1.573787409700711,
           6
          ],
          [
           -5.679012345679013,
           3
          ],
          [
           0.3227927550959464,
           5
          ],
          [
           -2.6823134953897765,
           4
          ],
          [
           0.16057312252966138,
           5
          ],
          [
           1.372864028041465,
           6
          ],
          [
           -0.13760678860157416,
           4
          ],
          [
           -0.5746777555191263,
           4
          ],
          [
           -0.3313217370725319,
           4
          ],
          [
           1.215626684966442,
           6
          ],
          [
           0.9861766689143625,
           5
          ],
          [
           -0.7213247993497984,
           4
          ],
          [
           0.54988216810683,
           5
          ],
          [
           -1.9826851478042529,
           4
          ],
          [
           -2.324273664479859,
           4
          ],
          [
           -1.2099213551119203,
           4
          ],
          [
           1.9305868764094347,
           6
          ],
          [
           -1.6107580907344543,
           4
          ],
          [
           -1.7102058888642913,
           4
          ],
          [
           -0.25421461065024964,
           4
          ],
          [
           -1.7699115044247926,
           4
          ],
          [
           -1.375982844889212,
           4
          ],
          [
           0.0647316433846079,
           5
          ],
          [
           0.7178766657153446,
           5
          ],
          [
           0.70033670033669,
           5
          ],
          [
           0.2230897936419396,
           5
          ],
          [
           -0.8428571428571452,
           4
          ],
          [
           -0.2947845804988747,
           4
          ],
          [
           -0.38783312094853306,
           4
          ],
          [
           -0.028717065115935192,
           4
          ],
          [
           -0.6121773659827912,
           4
          ],
          [
           1.5748617807479492,
           6
          ],
          [
           -0.021188435822572238,
           4
          ],
          [
           -0.4433934377771176,
           4
          ],
          [
           0.8917060593038206,
           5
          ],
          [
           1.293952180028124,
           6
          ],
          [
           -1.058339893291349,
           4
          ],
          [
           -0.08268562923763323,
           4
          ],
          [
           0.41006523765143577,
           5
          ],
          [
           -4.060333292786766,
           4
          ],
          [
           -2.1478873239436647,
           4
          ],
          [
           -0.928243637880688,
           4
          ],
          [
           -3.82580167213461,
           4
          ],
          [
           0.015610365282547889,
           5
          ],
          [
           0.25195597400875513,
           5
          ],
          [
           -2.1360100027785656,
           4
          ],
          [
           2.678299685502683,
           6
          ],
          [
           -0.24129090634895656,
           4
          ],
          [
           -1.0122921185827916,
           4
          ],
          [
           2.728377333480614,
           6
          ],
          [
           -0.7025272432181873,
           4
          ],
          [
           0.11291295968229864,
           5
          ],
          [
           0.2304247641406798,
           5
          ],
          [
           0.6199178810079697,
           5
          ],
          [
           0.20614035087718197,
           5
          ],
          [
           -0.06156371844858732,
           4
          ],
          [
           -0.4376437515972387,
           4
          ],
          [
           -1.048714479025703,
           4
          ],
          [
           1.531280707500815,
           6
          ],
          [
           0.4744489473164082,
           5
          ],
          [
           -2.098065117724768,
           4
          ],
          [
           0.19047619047618536,
           5
          ],
          [
           -0.6929941142965634,
           4
          ],
          [
           1.448483192129002,
           6
          ],
          [
           -0.35376639219273365,
           4
          ],
          [
           0.2987697715290061,
           5
          ],
          [
           0.4184100418409997,
           5
          ],
          [
           -1.7419843473870156,
           4
          ],
          [
           -1.6074494095614678,
           4
          ],
          [
           -0.01856271546010202,
           4
          ],
          [
           2.11193241816261,
           6
          ],
          [
           -2.9547553093259515,
           4
          ],
          [
           -1.1881188118811892,
           4
          ],
          [
           1.161528441163684,
           6
          ],
          [
           0.15316404675533857,
           5
          ],
          [
           -0.6108565875329708,
           4
          ],
          [
           0.8078905630451994,
           5
          ],
          [
           -0.465866332198539,
           4
          ],
          [
           -0.6781144044624376,
           4
          ],
          [
           0.4893393918210531,
           5
          ],
          [
           -0.05710507333495096,
           4
          ],
          [
           0.7794918626267799,
           5
          ],
          [
           -1.7192982456140316,
           4
          ],
          [
           -2.552889729346408,
           4
          ],
          [
           0.7675775253300543,
           5
          ],
          [
           0.9374419899758735,
           5
          ],
          [
           -0.9072235535775408,
           4
          ],
          [
           -1.2445263885687785,
           4
          ],
          [
           -0.4152182309772212,
           4
          ],
          [
           0.19730351857942807,
           5
          ],
          [
           -1.4526823387582821,
           4
          ],
          [
           "(?)",
           4.785943415984684
          ],
          [
           "(?)",
           4.047634814613096
          ],
          [
           "(?)",
           4.044940196926343
          ],
          [
           "(?)",
           4.354744188967903
          ],
          [
           "(?)",
           5.3493997198369385
          ],
          [
           "(?)",
           4.549261645239168
          ],
          [
           "(?)",
           5.199068159171019
          ],
          [
           "(?)",
           4.5670282038700805
          ],
          [
           "(?)",
           4.2853612148463895
          ],
          [
           "(?)",
           3.949250824673315
          ],
          [
           "(?)",
           4.514028575294182
          ],
          [
           "(?)",
           4.3178264700862625
          ]
         ],
         "domain": {
          "x": [
           0,
           1
          ],
          "y": [
           0,
           1
          ]
         },
         "hovertemplate": "labels=%{label}<br>mkt_cap=%{value}<br>parent=%{parent}<br>id=%{id}<br>daily_return=%{customdata[0]}<br>daily_return2=%{color}<extra></extra>",
         "ids": [
          "all/Industrials/AAL 0.97%",
          "all/Technology/AAPL -1.14%",
          "all/Healthcare/ABBV -0.32%",
          "all/Consumer Cyclical/ABNB -2.89%",
          "all/Healthcare/ABT 0.32%",
          "all/Financial Services/ACGL 1.66%",
          "all/Technology/ACN 1.44%",
          "all/Technology/ADBE -1.98%",
          "all/Technology/ADI -0.98%",
          "all/Consumer Defensive/ADM -0.4%",
          "all/Technology/ADP 0.44%",
          "all/Technology/ADSK -0.58%",
          "all/Utilities/AEE 1.25%",
          "all/Utilities/AEP 0.17%",
          "all/Utilities/AES -0.46%",
          "all/Financial Services/AFL 1.03%",
          "all/Financial Services/AIG 0.17%",
          "all/Financial Services/AIZ -0.32%",
          "all/Financial Services/AJG 1.21%",
          "all/Technology/AKAM -0.91%",
          "all/Basic Materials/ALB -0.23%",
          "all/Healthcare/ALGN -0.6%",
          "all/Financial Services/ALL 0.07%",
          "all/Industrials/ALLE -1.32%",
          "all/Technology/AMAT 0.19%",
          "all/Consumer Cyclical/AMCR 0.74%",
          "all/Technology/AMD -1.71%",
          "all/Industrials/AME -0.41%",
          "all/Healthcare/AMGN 1.34%",
          "all/Financial Services/AMP -0.37%",
          "all/Real Estate/AMT -1.71%",
          "all/Consumer Cyclical/AMZN -2.42%",
          "all/Technology/ANET -3.1%",
          "all/Technology/ANSS -0.82%",
          "all/Financial Services/AON -0.01%",
          "all/Industrials/AOS -0.87%",
          "all/Energy/APA 0.0%",
          "all/Basic Materials/APD 1.09%",
          "all/Technology/APH 0.46%",
          "all/Consumer Cyclical/APTV 0.72%",
          "all/Real Estate/ARE -0.38%",
          "all/Utilities/ATO 0.09%",
          "all/Real Estate/AVB -0.73%",
          "all/Technology/AVGO -3.29%",
          "all/Consumer Cyclical/AVY -0.72%",
          "all/Utilities/AWK -0.28%",
          "all/Industrials/AXON -1.52%",
          "all/Financial Services/AXP 0.05%",
          "all/Consumer Cyclical/AZO -1.02%",
          "all/Industrials/BA 1.01%",
          "all/Financial Services/BAC 1.5%",
          "all/Consumer Cyclical/BALL -0.61%",
          "all/Healthcare/BAX -0.27%",
          "all/Consumer Cyclical/BBWI 0.82%",
          "all/Consumer Cyclical/BBY -0.58%",
          "all/Healthcare/BDX 0.63%",
          "all/Financial Services/BEN -1.3%",
          "all/Consumer Defensive/BG -0.22%",
          "all/Healthcare/BIIB -0.08%",
          "all/Healthcare/BIO 0.15%",
          "all/Financial Services/BK 0.05%",
          "all/Consumer Cyclical/BKNG -2.32%",
          "all/Energy/BKR 1.33%",
          "all/Industrials/BLDR -1.6%",
          "all/Financial Services/BLK -3.16%",
          "all/Healthcare/BMY 0.81%",
          "all/Technology/BR 0.39%",
          "all/Financial Services/BRO 0.15%",
          "all/Healthcare/BSX 0.77%",
          "all/Consumer Cyclical/BWA 0.59%",
          "all/Financial Services/BX -1.97%",
          "all/Real Estate/BXP -2.31%",
          "all/Financial Services/C 1.29%",
          "all/Consumer Defensive/CAG -0.97%",
          "all/Healthcare/CAH 1.48%",
          "all/Industrials/CARR -0.73%",
          "all/Industrials/CAT -0.33%",
          "all/Financial Services/CB 0.54%",
          "all/Financial Services/CBOE -0.48%",
          "all/Real Estate/CBRE -2.83%",
          "all/Real Estate/CCI -1.22%",
          "all/Consumer Cyclical/CCL -1.2%",
          "all/Technology/CDNS -2.1%",
          "all/Technology/CDW 0.94%",
          "all/Basic Materials/CE 0.38%",
          "all/Utilities/CEG -3.27%",
          "all/Basic Materials/CF -1.13%",
          "all/Financial Services/CFG -0.22%",
          "all/Consumer Defensive/CHD 1.11%",
          "all/Industrials/CHRW 0.51%",
          "all/Communication Services/CHTR -0.55%",
          "all/Healthcare/CI 0.1%",
          "all/Financial Services/CINF 0.4%",
          "all/Consumer Defensive/CL -0.17%",
          "all/Consumer Defensive/CLX 1.34%",
          "all/Communication Services/CMCSA -0.83%",
          "all/Financial Services/CME 0.53%",
          "all/Consumer Cyclical/CMG -1.38%",
          "all/Industrials/CMI 0.54%",
          "all/Utilities/CMS 0.44%",
          "all/Healthcare/CNC -0.13%",
          "all/Utilities/CNP -0.58%",
          "all/Financial Services/COF -0.89%",
          "all/Healthcare/COO -0.34%",
          "all/Energy/COP 1.68%",
          "all/Healthcare/COR 2.34%",
          "all/Consumer Defensive/COST -0.15%",
          "all/Technology/CPAY 1.54%",
          "all/Consumer Defensive/CPB -1.36%",
          "all/Industrials/CPRT -0.6%",
          "all/Real Estate/CPT -2.78%",
          "all/Healthcare/CRL 0.12%",
          "all/Technology/CRM -1.69%",
          "all/Technology/CRWD -1.76%",
          "all/Technology/CSCO 0.27%",
          "all/Real Estate/CSGP -1.19%",
          "all/Industrials/CSX 0.59%",
          "all/Industrials/CTAS 1.96%",
          "all/Healthcare/CTLT 0.0%",
          "all/Energy/CTRA 0.46%",
          "all/Technology/CTSH -0.38%",
          "all/Basic Materials/CTVA 0.16%",
          "all/Healthcare/CVS -0.09%",
          "all/Energy/CVX 1.58%",
          "all/Consumer Cyclical/CZR -1.02%",
          "all/Utilities/D 0.69%",
          "all/Industrials/DAL 1.9%",
          "all/Technology/DAY -3.4%",
          "all/Basic Materials/DD -0.24%",
          "all/Industrials/DE -1.13%",
          "all/Consumer Cyclical/DECK -1.62%",
          "all/Financial Services/DFS -0.9%",
          "all/Consumer Defensive/DG -1.45%",
          "all/Healthcare/DGX 0.9%",
          "all/Consumer Cyclical/DHI -1.09%",
          "all/Healthcare/DHR 0.38%",
          "all/Communication Services/DIS 0.31%",
          "all/Real Estate/DLR 0.16%",
          "all/Consumer Defensive/DLTR -2.09%",
          "all/Real Estate/DOC -0.55%",
          "all/Industrials/DOV -0.03%",
          "all/Basic Materials/DOW -0.86%",
          "all/Consumer Cyclical/DPZ -3.2%",
          "all/Consumer Cyclical/DRI 0.21%",
          "all/Utilities/DTE 0.59%",
          "all/Utilities/DUK 0.41%",
          "all/Healthcare/DVA 0.77%",
          "all/Energy/DVN 2.79%",
          "all/Healthcare/DXCM -0.66%",
          "all/Communication Services/EA -0.4%",
          "all/Consumer Cyclical/EBAY 0.37%",
          "all/Basic Materials/ECL 0.03%",
          "all/Utilities/ED -0.42%",
          "all/Industrials/EFX -1.31%",
          "all/Financial Services/EG 2.59%",
          "all/Utilities/EIX -0.3%",
          "all/Consumer Defensive/EL 0.82%",
          "all/Healthcare/ELV 0.29%",
          "all/Basic Materials/EMN -0.19%",
          "all/Industrials/EMR -1.15%",
          "all/Technology/ENPH 2.98%",
          "all/Energy/EOG 0.93%",
          "all/Technology/EPAM -1.1%",
          "all/Real Estate/EQIX 0.01%",
          "all/Real Estate/EQR -1.37%",
          "all/Energy/EQT 1.07%",
          "all/Utilities/ES -0.27%",
          "all/Real Estate/ESS -1.0%",
          "all/Industrials/ETN -1.33%",
          "all/Utilities/ETR 0.93%",
          "all/Consumer Cyclical/ETSY -4.65%",
          "all/Utilities/EVRG 0.45%",
          "all/Healthcare/EW 0.14%",
          "all/Utilities/EXC -0.71%",
          "all/Industrials/EXPD 0.26%",
          "all/Consumer Cyclical/EXPE -1.44%",
          "all/Real Estate/EXR -0.09%",
          "all/Consumer Cyclical/F -1.61%",
          "all/Energy/FANG 1.64%",
          "all/Industrials/FAST 0.47%",
          "all/Basic Materials/FCX 0.44%",
          "all/Financial Services/FDS -1.15%",
          "all/Industrials/FDX 0.38%",
          "all/Utilities/FE 0.1%",
          "all/Technology/FFIV -0.93%",
          "all/Technology/FI -0.88%",
          "all/Technology/FICO -1.67%",
          "all/Technology/FIS 0.15%",
          "all/Financial Services/FITB -0.19%",
          "all/Basic Materials/FMC 2.94%",
          "all/Communication Services/FOX -0.55%",
          "all/Communication Services/FOXA -0.81%",
          "all/Real Estate/FRT -1.54%",
          "all/Technology/FSLR 3.38%",
          "all/Technology/FTNT -2.05%",
          "all/Technology/FTV 0.17%",
          "all/Industrials/GD 0.64%",
          "all/Technology/GDDY -1.89%",
          "all/Industrials/GE -0.08%",
          "all/Healthcare/GEHC 2.02%",
          "all/Technology/GEN -1.64%",
          "all/Utilities/GEV -0.75%",
          "all/Healthcare/GILD -0.66%",
          "all/Consumer Defensive/GIS -0.99%",
          "all/Financial Services/GL 0.26%",
          "all/Technology/GLW -1.01%",
          "all/Consumer Cyclical/GM -2.9%",
          "all/Industrials/GNRC 0.59%",
          "all/Communication Services/GOOG -0.63%",
          "all/Consumer Cyclical/GPC -0.65%",
          "all/Industrials/GPN -0.66%",
          "all/Technology/GRMN 0.35%",
          "all/Financial Services/GS -0.56%",
          "all/Industrials/GWW 0.83%",
          "all/Energy/HAL 0.33%",
          "all/Consumer Cyclical/HAS 0.39%",
          "all/Financial Services/HBAN 0.12%",
          "all/Healthcare/HCA 3.8%",
          "all/Consumer Cyclical/HD -1.32%",
          "all/Energy/HES 1.98%",
          "all/Financial Services/HIG 0.34%",
          "all/Industrials/HII 1.26%",
          "all/Consumer Cyclical/HLT -0.89%",
          "all/Healthcare/HOLX -1.46%",
          "all/Industrials/HON -0.5%",
          "all/Technology/HPE -2.49%",
          "all/Technology/HPQ -0.59%",
          "all/Consumer Defensive/HRL -1.76%",
          "all/Healthcare/HSIC -0.13%",
          "all/Real Estate/HST -1.33%",
          "all/Consumer Defensive/HSY -0.73%",
          "all/Industrials/HUBB -1.5%",
          "all/Healthcare/HUM 1.1%",
          "all/Industrials/HWM -0.72%",
          "all/Technology/IBM 0.58%",
          "all/Financial Services/ICE -0.1%",
          "all/Healthcare/IDXX -0.44%",
          "all/Industrials/IEX -0.63%",
          "all/Basic Materials/IFF 0.55%",
          "all/Healthcare/INCY 1.78%",
          "all/Technology/INTC 0.7%",
          "all/Technology/INTU -1.56%",
          "all/Real Estate/INVH -0.74%",
          "all/Consumer Cyclical/IP 0.21%",
          "all/Communication Services/IPG -1.04%",
          "all/Healthcare/IQV 1.69%",
          "all/Industrials/IR -2.31%",
          "all/Real Estate/IRM -2.65%",
          "all/Healthcare/ISRG -1.93%",
          "all/Technology/IT -0.05%",
          "all/Industrials/ITW -0.71%",
          "all/Financial Services/IVZ -1.44%",
          "all/Industrials/J -0.77%",
          "all/Industrials/JBHT 0.05%",
          "all/Technology/JBL 0.47%",
          "all/Industrials/JCI -0.13%",
          "all/Technology/JKHY 1.01%",
          "all/Healthcare/JNJ 1.79%",
          "all/Technology/JNPR 0.87%",
          "all/Financial Services/JPM 0.96%",
          "all/Consumer Defensive/K 0.16%",
          "all/Consumer Defensive/KDP -1.29%",
          "all/Financial Services/KEY -1.09%",
          "all/Technology/KEYS 0.53%",
          "all/Consumer Defensive/KHC -0.93%",
          "all/Real Estate/KIM -1.66%",
          "all/Financial Services/KKR -2.73%",
          "all/Technology/KLAC -0.14%",
          "all/Consumer Defensive/KMB 0.94%",
          "all/Energy/KMI -0.07%",
          "all/Consumer Cyclical/KMX -0.79%",
          "all/Consumer Defensive/KO 0.05%",
          "all/Consumer Defensive/KR -2.44%",
          "all/Consumer Defensive/KVUE -0.28%",
          "all/Technology/LDOS -0.63%",
          "all/Consumer Cyclical/LEN -1.42%",
          "all/Healthcare/LH 2.25%",
          "all/Industrials/LHX -0.63%",
          "all/Basic Materials/LIN 0.49%",
          "all/Consumer Cyclical/LKQ -0.73%",
          "all/Healthcare/LLY 1.07%",
          "all/Industrials/LMT -0.44%",
          "all/Utilities/LNT 0.09%",
          "all/Consumer Cyclical/LOW -1.27%",
          "all/Technology/LRCX -0.59%",
          "all/Consumer Cyclical/LULU -0.47%",
          "all/Industrials/LUV -2.81%",
          "all/Consumer Cyclical/LVS -2.81%",
          "all/Consumer Defensive/LW -2.17%",
          "all/Basic Materials/LYB 0.05%",
          "all/Communication Services/LYV 0.29%",
          "all/Financial Services/MA -0.1%",
          "all/Real Estate/MAA -1.01%",
          "all/Consumer Cyclical/MAR -1.04%",
          "all/Industrials/MAS -1.92%",
          "all/Consumer Cyclical/MCD -0.97%",
          "all/Technology/MCHP -1.41%",
          "all/Healthcare/MCK 0.83%",
          "all/Financial Services/MCO -1.93%",
          "all/Consumer Defensive/MDLZ 0.12%",
          "all/Healthcare/MDT 0.04%",
          "all/Financial Services/MET 0.18%",
          "all/Communication Services/META -1.95%",
          "all/Consumer Cyclical/MGM -2.09%",
          "all/Consumer Cyclical/MHK -0.4%",
          "all/Consumer Defensive/MKC 0.26%",
          "all/Financial Services/MKTX -1.4%",
          "all/Basic Materials/MLM -1.69%",
          "all/Financial Services/MMC 0.72%",
          "all/Industrials/MMM 1.9%",
          "all/Consumer Defensive/MNST -0.62%",
          "all/Consumer Defensive/MO -1.21%",
          "all/Healthcare/MOH -0.61%",
          "all/Basic Materials/MOS -0.55%",
          "all/Energy/MPC 0.8%",
          "all/Technology/MPWR -0.99%",
          "all/Healthcare/MRK 1.3%",
          "all/Healthcare/MRNA 11.65%",
          "all/Energy/MRO -1.28%",
          "all/Financial Services/MS -1.37%",
          "all/Financial Services/MSCI -0.89%",
          "all/Technology/MSFT -1.28%",
          "all/Technology/MSI -0.28%",
          "all/Financial Services/MTB -0.63%",
          "all/Communication Services/MTCH -2.94%",
          "all/Healthcare/MTD 0.22%",
          "all/Technology/MU 2.67%",
          "all/Consumer Cyclical/NCLH -0.51%",
          "all/Financial Services/NDAQ -0.6%",
          "all/Industrials/NDSN -0.74%",
          "all/Utilities/NEE -1.14%",
          "all/Basic Materials/NEM 0.98%",
          "all/Communication Services/NFLX -0.29%",
          "all/Utilities/NI 0.56%",
          "all/Consumer Cyclical/NKE 0.12%",
          "all/Industrials/NOC -0.6%",
          "all/Technology/NOW -2.13%",
          "all/Utilities/NRG -2.02%",
          "all/Industrials/NSC 0.34%",
          "all/Technology/NTAP -0.69%",
          "all/Financial Services/NTRS -0.45%",
          "all/Basic Materials/NUE 0.55%",
          "all/Technology/NVDA -6.22%",
          "all/Consumer Cyclical/NVR -1.15%",
          "all/Communication Services/NWS 0.63%",
          "all/Communication Services/NWSA 0.58%",
          "all/Technology/NXPI -0.39%",
          "all/Real Estate/O -0.42%",
          "all/Industrials/ODFL -1.11%",
          "all/Energy/OKE -0.01%",
          "all/Communication Services/OMC -0.55%",
          "all/Technology/ON -2.76%",
          "all/Technology/ORCL -2.21%",
          "all/Consumer Cyclical/ORLY -0.89%",
          "all/Industrials/OTIS -0.18%",
          "all/Energy/OXY 1.54%",
          "all/Technology/PANW -2.22%",
          "all/Communication Services/PARA -0.37%",
          "all/Technology/PAYC -2.38%",
          "all/Technology/PAYX 2.35%",
          "all/Industrials/PCAR 2.16%",
          "all/Utilities/PCG 0.6%",
          "all/Utilities/PEG -0.34%",
          "all/Consumer Defensive/PEP -0.59%",
          "all/Healthcare/PFE 0.89%",
          "all/Financial Services/PFG 0.62%",
          "all/Consumer Defensive/PG 0.44%",
          "all/Financial Services/PGR 1.12%",
          "all/Industrials/PH -0.9%",
          "all/Consumer Cyclical/PHM -1.01%",
          "all/Consumer Cyclical/PKG -0.48%",
          "all/Real Estate/PLD -0.08%",
          "all/Consumer Defensive/PM 0.33%",
          "all/Financial Services/PNC -0.42%",
          "all/Industrials/PNR -0.84%",
          "all/Utilities/PNW 0.13%",
          "all/Healthcare/PODD -1.03%",
          "all/Industrials/POOL -1.37%",
          "all/Basic Materials/PPG 0.69%",
          "all/Utilities/PPL 0.85%",
          "all/Financial Services/PRU 0.46%",
          "all/Real Estate/PSA 0.8%",
          "all/Energy/PSX 0.02%",
          "all/Technology/PTC -0.94%",
          "all/Industrials/PWR -2.51%",
          "all/Financial Services/PYPL -1.74%",
          "all/Technology/QCOM 0.42%",
          "all/Technology/QRVO 2.07%",
          "all/Consumer Cyclical/RCL -1.35%",
          "all/Real Estate/REG -1.29%",
          "all/Healthcare/REGN 1.96%",
          "all/Financial Services/RF 0.29%",
          "all/Financial Services/RJF -0.56%",
          "all/Consumer Cyclical/RL -0.18%",
          "all/Healthcare/RMD 0.56%",
          "all/Industrials/ROK -0.05%",
          "all/Consumer Cyclical/ROL 0.22%",
          "all/Technology/ROP 0.0%",
          "all/Consumer Cyclical/ROST -2.19%",
          "all/Industrials/RSG 1.05%",
          "all/Industrials/RTX 0.61%",
          "all/Healthcare/RVTY 0.87%",
          "all/Real Estate/SBAC -1.53%",
          "all/Consumer Cyclical/SBUX -0.31%",
          "all/Financial Services/SCHW -2.98%",
          "all/Basic Materials/SHW -1.01%",
          "all/Consumer Defensive/SJM -1.55%",
          "all/Energy/SLB 1.57%",
          "all/Technology/SMCI -5.68%",
          "all/Industrials/SNA 0.32%",
          "all/Technology/SNPS -2.68%",
          "all/Utilities/SO 0.16%",
          "all/Healthcare/SOLV 1.37%",
          "all/Real Estate/SPG -0.14%",
          "all/Financial Services/SPGI -0.57%",
          "all/Utilities/SRE -0.33%",
          "all/Healthcare/STE 1.22%",
          "all/Basic Materials/STLD 0.99%",
          "all/Financial Services/STT -0.72%",
          "all/Technology/STX 0.55%",
          "all/Consumer Defensive/STZ -1.98%",
          "all/Consumer Cyclical/SW -2.32%",
          "all/Industrials/SWK -1.21%",
          "all/Technology/SWKS 1.93%",
          "all/Financial Services/SYF -1.61%",
          "all/Healthcare/SYK -1.71%",
          "all/Consumer Defensive/SYY -0.25%",
          "all/Communication Services/T -1.77%",
          "all/Consumer Defensive/TAP -1.38%",
          "all/Industrials/TDG 0.06%",
          "all/Technology/TDY 0.72%",
          "all/Healthcare/TECH 0.7%",
          "all/Technology/TEL 0.22%",
          "all/Technology/TER -0.84%",
          "all/Financial Services/TFC -0.29%",
          "all/Healthcare/TFX -0.39%",
          "all/Consumer Defensive/TGT -0.03%",
          "all/Consumer Cyclical/TJX -0.61%",
          "all/Healthcare/TMO 1.57%",
          "all/Communication Services/TMUS -0.02%",
          "all/Consumer Cyclical/TPR -0.44%",
          "all/Energy/TRGP 0.89%",
          "all/Technology/TRMB 1.29%",
          "all/Financial Services/TROW -1.06%",
          "all/Financial Services/TRV -0.08%",
          "all/Consumer Cyclical/TSCO 0.41%",
          "all/Consumer Cyclical/TSLA -4.06%",
          "all/Consumer Defensive/TSN -2.15%",
          "all/Industrials/TT -0.93%",
          "all/Communication Services/TTWO -3.83%",
          "all/Technology/TXN 0.02%",
          "all/Industrials/TXT 0.25%",
          "all/Technology/TYL -2.14%",
          "all/Industrials/UAL 2.68%",
          "all/Technology/UBER -0.24%",
          "all/Real Estate/UDR -1.01%",
          "all/Healthcare/UHS 2.73%",
          "all/Consumer Cyclical/ULTA -0.7%",
          "all/Healthcare/UNH 0.11%",
          "all/Industrials/UNP 0.23%",
          "all/Industrials/UPS 0.62%",
          "all/Industrials/URI 0.21%",
          "all/Financial Services/USB -0.06%",
          "all/Financial Services/V -0.44%",
          "all/Real Estate/VICI -1.05%",
          "all/Energy/VLO 1.53%",
          "all/Industrials/VLTO 0.47%",
          "all/Basic Materials/VMC -2.1%",
          "all/Industrials/VRSK 0.19%",
          "all/Technology/VRSN -0.69%",
          "all/Healthcare/VRTX 1.45%",
          "all/Utilities/VST -0.35%",
          "all/Real Estate/VTR 0.3%",
          "all/Healthcare/VTRS 0.42%",
          "all/Communication Services/VZ -1.74%",
          "all/Industrials/WAB -1.61%",
          "all/Healthcare/WAT -0.02%",
          "all/Healthcare/WBA 2.11%",
          "all/Communication Services/WBD -2.95%",
          "all/Technology/WDC -1.19%",
          "all/Utilities/WEC 1.16%",
          "all/Real Estate/WELL 0.15%",
          "all/Financial Services/WFC -0.61%",
          "all/Industrials/WM 0.81%",
          "all/Energy/WMB -0.47%",
          "all/Consumer Defensive/WMT -0.68%",
          "all/Financial Services/WRB 0.49%",
          "all/Healthcare/WST -0.06%",
          "all/Financial Services/WTW 0.78%",
          "all/Real Estate/WY -1.72%",
          "all/Consumer Cyclical/WYNN -2.55%",
          "all/Utilities/XEL 0.77%",
          "all/Energy/XOM 0.94%",
          "all/Industrials/XYL -0.91%",
          "all/Consumer Cyclical/YUM -1.24%",
          "all/Healthcare/ZBH -0.42%",
          "all/Technology/ZBRA 0.2%",
          "all/Healthcare/ZTS -1.45%",
          "all/Basic Materials",
          "all/Communication Services",
          "all/Consumer Cyclical",
          "all/Consumer Defensive",
          "all/Energy",
          "all/Financial Services",
          "all/Healthcare",
          "all/Industrials",
          "all/Real Estate",
          "all/Technology",
          "all/Utilities",
          "all"
         ],
         "labels": [
          "AAL 0.97%",
          "AAPL -1.14%",
          "ABBV -0.32%",
          "ABNB -2.89%",
          "ABT 0.32%",
          "ACGL 1.66%",
          "ACN 1.44%",
          "ADBE -1.98%",
          "ADI -0.98%",
          "ADM -0.4%",
          "ADP 0.44%",
          "ADSK -0.58%",
          "AEE 1.25%",
          "AEP 0.17%",
          "AES -0.46%",
          "AFL 1.03%",
          "AIG 0.17%",
          "AIZ -0.32%",
          "AJG 1.21%",
          "AKAM -0.91%",
          "ALB -0.23%",
          "ALGN -0.6%",
          "ALL 0.07%",
          "ALLE -1.32%",
          "AMAT 0.19%",
          "AMCR 0.74%",
          "AMD -1.71%",
          "AME -0.41%",
          "AMGN 1.34%",
          "AMP -0.37%",
          "AMT -1.71%",
          "AMZN -2.42%",
          "ANET -3.1%",
          "ANSS -0.82%",
          "AON -0.01%",
          "AOS -0.87%",
          "APA 0.0%",
          "APD 1.09%",
          "APH 0.46%",
          "APTV 0.72%",
          "ARE -0.38%",
          "ATO 0.09%",
          "AVB -0.73%",
          "AVGO -3.29%",
          "AVY -0.72%",
          "AWK -0.28%",
          "AXON -1.52%",
          "AXP 0.05%",
          "AZO -1.02%",
          "BA 1.01%",
          "BAC 1.5%",
          "BALL -0.61%",
          "BAX -0.27%",
          "BBWI 0.82%",
          "BBY -0.58%",
          "BDX 0.63%",
          "BEN -1.3%",
          "BG -0.22%",
          "BIIB -0.08%",
          "BIO 0.15%",
          "BK 0.05%",
          "BKNG -2.32%",
          "BKR 1.33%",
          "BLDR -1.6%",
          "BLK -3.16%",
          "BMY 0.81%",
          "BR 0.39%",
          "BRO 0.15%",
          "BSX 0.77%",
          "BWA 0.59%",
          "BX -1.97%",
          "BXP -2.31%",
          "C 1.29%",
          "CAG -0.97%",
          "CAH 1.48%",
          "CARR -0.73%",
          "CAT -0.33%",
          "CB 0.54%",
          "CBOE -0.48%",
          "CBRE -2.83%",
          "CCI -1.22%",
          "CCL -1.2%",
          "CDNS -2.1%",
          "CDW 0.94%",
          "CE 0.38%",
          "CEG -3.27%",
          "CF -1.13%",
          "CFG -0.22%",
          "CHD 1.11%",
          "CHRW 0.51%",
          "CHTR -0.55%",
          "CI 0.1%",
          "CINF 0.4%",
          "CL -0.17%",
          "CLX 1.34%",
          "CMCSA -0.83%",
          "CME 0.53%",
          "CMG -1.38%",
          "CMI 0.54%",
          "CMS 0.44%",
          "CNC -0.13%",
          "CNP -0.58%",
          "COF -0.89%",
          "COO -0.34%",
          "COP 1.68%",
          "COR 2.34%",
          "COST -0.15%",
          "CPAY 1.54%",
          "CPB -1.36%",
          "CPRT -0.6%",
          "CPT -2.78%",
          "CRL 0.12%",
          "CRM -1.69%",
          "CRWD -1.76%",
          "CSCO 0.27%",
          "CSGP -1.19%",
          "CSX 0.59%",
          "CTAS 1.96%",
          "CTLT 0.0%",
          "CTRA 0.46%",
          "CTSH -0.38%",
          "CTVA 0.16%",
          "CVS -0.09%",
          "CVX 1.58%",
          "CZR -1.02%",
          "D 0.69%",
          "DAL 1.9%",
          "DAY -3.4%",
          "DD -0.24%",
          "DE -1.13%",
          "DECK -1.62%",
          "DFS -0.9%",
          "DG -1.45%",
          "DGX 0.9%",
          "DHI -1.09%",
          "DHR 0.38%",
          "DIS 0.31%",
          "DLR 0.16%",
          "DLTR -2.09%",
          "DOC -0.55%",
          "DOV -0.03%",
          "DOW -0.86%",
          "DPZ -3.2%",
          "DRI 0.21%",
          "DTE 0.59%",
          "DUK 0.41%",
          "DVA 0.77%",
          "DVN 2.79%",
          "DXCM -0.66%",
          "EA -0.4%",
          "EBAY 0.37%",
          "ECL 0.03%",
          "ED -0.42%",
          "EFX -1.31%",
          "EG 2.59%",
          "EIX -0.3%",
          "EL 0.82%",
          "ELV 0.29%",
          "EMN -0.19%",
          "EMR -1.15%",
          "ENPH 2.98%",
          "EOG 0.93%",
          "EPAM -1.1%",
          "EQIX 0.01%",
          "EQR -1.37%",
          "EQT 1.07%",
          "ES -0.27%",
          "ESS -1.0%",
          "ETN -1.33%",
          "ETR 0.93%",
          "ETSY -4.65%",
          "EVRG 0.45%",
          "EW 0.14%",
          "EXC -0.71%",
          "EXPD 0.26%",
          "EXPE -1.44%",
          "EXR -0.09%",
          "F -1.61%",
          "FANG 1.64%",
          "FAST 0.47%",
          "FCX 0.44%",
          "FDS -1.15%",
          "FDX 0.38%",
          "FE 0.1%",
          "FFIV -0.93%",
          "FI -0.88%",
          "FICO -1.67%",
          "FIS 0.15%",
          "FITB -0.19%",
          "FMC 2.94%",
          "FOX -0.55%",
          "FOXA -0.81%",
          "FRT -1.54%",
          "FSLR 3.38%",
          "FTNT -2.05%",
          "FTV 0.17%",
          "GD 0.64%",
          "GDDY -1.89%",
          "GE -0.08%",
          "GEHC 2.02%",
          "GEN -1.64%",
          "GEV -0.75%",
          "GILD -0.66%",
          "GIS -0.99%",
          "GL 0.26%",
          "GLW -1.01%",
          "GM -2.9%",
          "GNRC 0.59%",
          "GOOG -0.63%",
          "GPC -0.65%",
          "GPN -0.66%",
          "GRMN 0.35%",
          "GS -0.56%",
          "GWW 0.83%",
          "HAL 0.33%",
          "HAS 0.39%",
          "HBAN 0.12%",
          "HCA 3.8%",
          "HD -1.32%",
          "HES 1.98%",
          "HIG 0.34%",
          "HII 1.26%",
          "HLT -0.89%",
          "HOLX -1.46%",
          "HON -0.5%",
          "HPE -2.49%",
          "HPQ -0.59%",
          "HRL -1.76%",
          "HSIC -0.13%",
          "HST -1.33%",
          "HSY -0.73%",
          "HUBB -1.5%",
          "HUM 1.1%",
          "HWM -0.72%",
          "IBM 0.58%",
          "ICE -0.1%",
          "IDXX -0.44%",
          "IEX -0.63%",
          "IFF 0.55%",
          "INCY 1.78%",
          "INTC 0.7%",
          "INTU -1.56%",
          "INVH -0.74%",
          "IP 0.21%",
          "IPG -1.04%",
          "IQV 1.69%",
          "IR -2.31%",
          "IRM -2.65%",
          "ISRG -1.93%",
          "IT -0.05%",
          "ITW -0.71%",
          "IVZ -1.44%",
          "J -0.77%",
          "JBHT 0.05%",
          "JBL 0.47%",
          "JCI -0.13%",
          "JKHY 1.01%",
          "JNJ 1.79%",
          "JNPR 0.87%",
          "JPM 0.96%",
          "K 0.16%",
          "KDP -1.29%",
          "KEY -1.09%",
          "KEYS 0.53%",
          "KHC -0.93%",
          "KIM -1.66%",
          "KKR -2.73%",
          "KLAC -0.14%",
          "KMB 0.94%",
          "KMI -0.07%",
          "KMX -0.79%",
          "KO 0.05%",
          "KR -2.44%",
          "KVUE -0.28%",
          "LDOS -0.63%",
          "LEN -1.42%",
          "LH 2.25%",
          "LHX -0.63%",
          "LIN 0.49%",
          "LKQ -0.73%",
          "LLY 1.07%",
          "LMT -0.44%",
          "LNT 0.09%",
          "LOW -1.27%",
          "LRCX -0.59%",
          "LULU -0.47%",
          "LUV -2.81%",
          "LVS -2.81%",
          "LW -2.17%",
          "LYB 0.05%",
          "LYV 0.29%",
          "MA -0.1%",
          "MAA -1.01%",
          "MAR -1.04%",
          "MAS -1.92%",
          "MCD -0.97%",
          "MCHP -1.41%",
          "MCK 0.83%",
          "MCO -1.93%",
          "MDLZ 0.12%",
          "MDT 0.04%",
          "MET 0.18%",
          "META -1.95%",
          "MGM -2.09%",
          "MHK -0.4%",
          "MKC 0.26%",
          "MKTX -1.4%",
          "MLM -1.69%",
          "MMC 0.72%",
          "MMM 1.9%",
          "MNST -0.62%",
          "MO -1.21%",
          "MOH -0.61%",
          "MOS -0.55%",
          "MPC 0.8%",
          "MPWR -0.99%",
          "MRK 1.3%",
          "MRNA 11.65%",
          "MRO -1.28%",
          "MS -1.37%",
          "MSCI -0.89%",
          "MSFT -1.28%",
          "MSI -0.28%",
          "MTB -0.63%",
          "MTCH -2.94%",
          "MTD 0.22%",
          "MU 2.67%",
          "NCLH -0.51%",
          "NDAQ -0.6%",
          "NDSN -0.74%",
          "NEE -1.14%",
          "NEM 0.98%",
          "NFLX -0.29%",
          "NI 0.56%",
          "NKE 0.12%",
          "NOC -0.6%",
          "NOW -2.13%",
          "NRG -2.02%",
          "NSC 0.34%",
          "NTAP -0.69%",
          "NTRS -0.45%",
          "NUE 0.55%",
          "NVDA -6.22%",
          "NVR -1.15%",
          "NWS 0.63%",
          "NWSA 0.58%",
          "NXPI -0.39%",
          "O -0.42%",
          "ODFL -1.11%",
          "OKE -0.01%",
          "OMC -0.55%",
          "ON -2.76%",
          "ORCL -2.21%",
          "ORLY -0.89%",
          "OTIS -0.18%",
          "OXY 1.54%",
          "PANW -2.22%",
          "PARA -0.37%",
          "PAYC -2.38%",
          "PAYX 2.35%",
          "PCAR 2.16%",
          "PCG 0.6%",
          "PEG -0.34%",
          "PEP -0.59%",
          "PFE 0.89%",
          "PFG 0.62%",
          "PG 0.44%",
          "PGR 1.12%",
          "PH -0.9%",
          "PHM -1.01%",
          "PKG -0.48%",
          "PLD -0.08%",
          "PM 0.33%",
          "PNC -0.42%",
          "PNR -0.84%",
          "PNW 0.13%",
          "PODD -1.03%",
          "POOL -1.37%",
          "PPG 0.69%",
          "PPL 0.85%",
          "PRU 0.46%",
          "PSA 0.8%",
          "PSX 0.02%",
          "PTC -0.94%",
          "PWR -2.51%",
          "PYPL -1.74%",
          "QCOM 0.42%",
          "QRVO 2.07%",
          "RCL -1.35%",
          "REG -1.29%",
          "REGN 1.96%",
          "RF 0.29%",
          "RJF -0.56%",
          "RL -0.18%",
          "RMD 0.56%",
          "ROK -0.05%",
          "ROL 0.22%",
          "ROP 0.0%",
          "ROST -2.19%",
          "RSG 1.05%",
          "RTX 0.61%",
          "RVTY 0.87%",
          "SBAC -1.53%",
          "SBUX -0.31%",
          "SCHW -2.98%",
          "SHW -1.01%",
          "SJM -1.55%",
          "SLB 1.57%",
          "SMCI -5.68%",
          "SNA 0.32%",
          "SNPS -2.68%",
          "SO 0.16%",
          "SOLV 1.37%",
          "SPG -0.14%",
          "SPGI -0.57%",
          "SRE -0.33%",
          "STE 1.22%",
          "STLD 0.99%",
          "STT -0.72%",
          "STX 0.55%",
          "STZ -1.98%",
          "SW -2.32%",
          "SWK -1.21%",
          "SWKS 1.93%",
          "SYF -1.61%",
          "SYK -1.71%",
          "SYY -0.25%",
          "T -1.77%",
          "TAP -1.38%",
          "TDG 0.06%",
          "TDY 0.72%",
          "TECH 0.7%",
          "TEL 0.22%",
          "TER -0.84%",
          "TFC -0.29%",
          "TFX -0.39%",
          "TGT -0.03%",
          "TJX -0.61%",
          "TMO 1.57%",
          "TMUS -0.02%",
          "TPR -0.44%",
          "TRGP 0.89%",
          "TRMB 1.29%",
          "TROW -1.06%",
          "TRV -0.08%",
          "TSCO 0.41%",
          "TSLA -4.06%",
          "TSN -2.15%",
          "TT -0.93%",
          "TTWO -3.83%",
          "TXN 0.02%",
          "TXT 0.25%",
          "TYL -2.14%",
          "UAL 2.68%",
          "UBER -0.24%",
          "UDR -1.01%",
          "UHS 2.73%",
          "ULTA -0.7%",
          "UNH 0.11%",
          "UNP 0.23%",
          "UPS 0.62%",
          "URI 0.21%",
          "USB -0.06%",
          "V -0.44%",
          "VICI -1.05%",
          "VLO 1.53%",
          "VLTO 0.47%",
          "VMC -2.1%",
          "VRSK 0.19%",
          "VRSN -0.69%",
          "VRTX 1.45%",
          "VST -0.35%",
          "VTR 0.3%",
          "VTRS 0.42%",
          "VZ -1.74%",
          "WAB -1.61%",
          "WAT -0.02%",
          "WBA 2.11%",
          "WBD -2.95%",
          "WDC -1.19%",
          "WEC 1.16%",
          "WELL 0.15%",
          "WFC -0.61%",
          "WM 0.81%",
          "WMB -0.47%",
          "WMT -0.68%",
          "WRB 0.49%",
          "WST -0.06%",
          "WTW 0.78%",
          "WY -1.72%",
          "WYNN -2.55%",
          "XEL 0.77%",
          "XOM 0.94%",
          "XYL -0.91%",
          "YUM -1.24%",
          "ZBH -0.42%",
          "ZBRA 0.2%",
          "ZTS -1.45%",
          "Basic Materials",
          "Communication Services",
          "Consumer Cyclical",
          "Consumer Defensive",
          "Energy",
          "Financial Services",
          "Healthcare",
          "Industrials",
          "Real Estate",
          "Technology",
          "Utilities",
          "all"
         ],
         "marker": {
          "coloraxis": "coloraxis",
          "colors": [
           5,
           4,
           4,
           4,
           5,
           6,
           6,
           4,
           4,
           4,
           5,
           4,
           6,
           5,
           4,
           6,
           5,
           4,
           6,
           4,
           4,
           4,
           5,
           4,
           5,
           5,
           4,
           4,
           6,
           4,
           4,
           4,
           4,
           4,
           5,
           4,
           5,
           6,
           5,
           5,
           4,
           5,
           4,
           4,
           4,
           4,
           4,
           5,
           4,
           6,
           6,
           4,
           4,
           5,
           4,
           5,
           4,
           4,
           4,
           5,
           5,
           4,
           6,
           4,
           4,
           5,
           5,
           5,
           5,
           5,
           4,
           4,
           6,
           4,
           6,
           4,
           4,
           5,
           4,
           4,
           4,
           4,
           4,
           5,
           5,
           4,
           4,
           4,
           6,
           5,
           4,
           5,
           5,
           4,
           6,
           4,
           5,
           4,
           5,
           5,
           4,
           4,
           4,
           4,
           6,
           6,
           4,
           6,
           4,
           4,
           4,
           5,
           4,
           4,
           5,
           4,
           5,
           6,
           5,
           5,
           4,
           5,
           4,
           6,
           4,
           5,
           6,
           4,
           4,
           4,
           4,
           4,
           4,
           5,
           4,
           5,
           5,
           5,
           4,
           4,
           4,
           4,
           4,
           5,
           5,
           5,
           5,
           6,
           4,
           4,
           5,
           5,
           4,
           4,
           6,
           4,
           5,
           5,
           4,
           4,
           6,
           5,
           4,
           5,
           4,
           6,
           4,
           4,
           4,
           5,
           4,
           5,
           5,
           4,
           5,
           4,
           4,
           4,
           6,
           5,
           5,
           4,
           5,
           5,
           4,
           4,
           4,
           5,
           4,
           6,
           4,
           4,
           4,
           6,
           4,
           5,
           5,
           4,
           4,
           6,
           4,
           4,
           4,
           4,
           5,
           4,
           4,
           5,
           4,
           4,
           4,
           5,
           4,
           5,
           5,
           5,
           5,
           6,
           4,
           6,
           5,
           6,
           4,
           4,
           4,
           4,
           4,
           4,
           4,
           4,
           4,
           4,
           6,
           4,
           5,
           4,
           4,
           4,
           5,
           6,
           5,
           4,
           4,
           5,
           4,
           6,
           4,
           4,
           4,
           4,
           4,
           4,
           4,
           5,
           5,
           4,
           6,
           6,
           5,
           5,
           5,
           4,
           4,
           5,
           4,
           4,
           4,
           4,
           5,
           4,
           4,
           5,
           4,
           4,
           4,
           4,
           6,
           4,
           5,
           4,
           6,
           4,
           5,
           4,
           4,
           4,
           4,
           4,
           4,
           5,
           5,
           4,
           4,
           4,
           4,
           4,
           4,
           5,
           4,
           5,
           5,
           5,
           4,
           4,
           4,
           5,
           4,
           4,
           5,
           6,
           4,
           4,
           4,
           4,
           5,
           4,
           6,
           8,
           4,
           4,
           4,
           4,
           4,
           4,
           4,
           5,
           6,
           4,
           4,
           4,
           4,
           5,
           4,
           5,
           5,
           4,
           4,
           4,
           5,
           4,
           4,
           5,
           3,
           4,
           5,
           5,
           4,
           4,
           4,
           5,
           4,
           4,
           4,
           4,
           4,
           6,
           4,
           4,
           4,
           6,
           6,
           5,
           4,
           4,
           5,
           5,
           5,
           6,
           4,
           4,
           4,
           4,
           5,
           4,
           4,
           5,
           4,
           4,
           5,
           5,
           5,
           5,
           5,
           4,
           4,
           4,
           5,
           6,
           4,
           4,
           6,
           5,
           4,
           4,
           5,
           4,
           5,
           5,
           4,
           6,
           5,
           5,
           4,
           4,
           4,
           4,
           4,
           6,
           3,
           5,
           4,
           5,
           6,
           4,
           4,
           4,
           6,
           5,
           4,
           5,
           4,
           4,
           4,
           6,
           4,
           4,
           4,
           4,
           4,
           5,
           5,
           5,
           5,
           4,
           4,
           4,
           4,
           4,
           6,
           4,
           4,
           5,
           6,
           4,
           4,
           5,
           4,
           4,
           4,
           4,
           5,
           5,
           4,
           6,
           4,
           4,
           6,
           4,
           5,
           5,
           5,
           5,
           4,
           4,
           4,
           6,
           5,
           4,
           5,
           4,
           6,
           4,
           5,
           5,
           4,
           4,
           4,
           6,
           4,
           4,
           6,
           5,
           4,
           5,
           4,
           4,
           5,
           4,
           5,
           4,
           4,
           5,
           5,
           4,
           4,
           4,
           5,
           4,
           4.785943415984684,
           4.047634814613096,
           4.044940196926343,
           4.354744188967903,
           5.3493997198369385,
           4.549261645239168,
           5.199068159171019,
           4.5670282038700805,
           4.2853612148463895,
           3.949250824673315,
           4.514028575294182,
           4.3178264700862625
          ]
         },
         "name": "",
         "parents": [
          "all/Industrials",
          "all/Technology",
          "all/Healthcare",
          "all/Consumer Cyclical",
          "all/Healthcare",
          "all/Financial Services",
          "all/Technology",
          "all/Technology",
          "all/Technology",
          "all/Consumer Defensive",
          "all/Technology",
          "all/Technology",
          "all/Utilities",
          "all/Utilities",
          "all/Utilities",
          "all/Financial Services",
          "all/Financial Services",
          "all/Financial Services",
          "all/Financial Services",
          "all/Technology",
          "all/Basic Materials",
          "all/Healthcare",
          "all/Financial Services",
          "all/Industrials",
          "all/Technology",
          "all/Consumer Cyclical",
          "all/Technology",
          "all/Industrials",
          "all/Healthcare",
          "all/Financial Services",
          "all/Real Estate",
          "all/Consumer Cyclical",
          "all/Technology",
          "all/Technology",
          "all/Financial Services",
          "all/Industrials",
          "all/Energy",
          "all/Basic Materials",
          "all/Technology",
          "all/Consumer Cyclical",
          "all/Real Estate",
          "all/Utilities",
          "all/Real Estate",
          "all/Technology",
          "all/Consumer Cyclical",
          "all/Utilities",
          "all/Industrials",
          "all/Financial Services",
          "all/Consumer Cyclical",
          "all/Industrials",
          "all/Financial Services",
          "all/Consumer Cyclical",
          "all/Healthcare",
          "all/Consumer Cyclical",
          "all/Consumer Cyclical",
          "all/Healthcare",
          "all/Financial Services",
          "all/Consumer Defensive",
          "all/Healthcare",
          "all/Healthcare",
          "all/Financial Services",
          "all/Consumer Cyclical",
          "all/Energy",
          "all/Industrials",
          "all/Financial Services",
          "all/Healthcare",
          "all/Technology",
          "all/Financial Services",
          "all/Healthcare",
          "all/Consumer Cyclical",
          "all/Financial Services",
          "all/Real Estate",
          "all/Financial Services",
          "all/Consumer Defensive",
          "all/Healthcare",
          "all/Industrials",
          "all/Industrials",
          "all/Financial Services",
          "all/Financial Services",
          "all/Real Estate",
          "all/Real Estate",
          "all/Consumer Cyclical",
          "all/Technology",
          "all/Technology",
          "all/Basic Materials",
          "all/Utilities",
          "all/Basic Materials",
          "all/Financial Services",
          "all/Consumer Defensive",
          "all/Industrials",
          "all/Communication Services",
          "all/Healthcare",
          "all/Financial Services",
          "all/Consumer Defensive",
          "all/Consumer Defensive",
          "all/Communication Services",
          "all/Financial Services",
          "all/Consumer Cyclical",
          "all/Industrials",
          "all/Utilities",
          "all/Healthcare",
          "all/Utilities",
          "all/Financial Services",
          "all/Healthcare",
          "all/Energy",
          "all/Healthcare",
          "all/Consumer Defensive",
          "all/Technology",
          "all/Consumer Defensive",
          "all/Industrials",
          "all/Real Estate",
          "all/Healthcare",
          "all/Technology",
          "all/Technology",
          "all/Technology",
          "all/Real Estate",
          "all/Industrials",
          "all/Industrials",
          "all/Healthcare",
          "all/Energy",
          "all/Technology",
          "all/Basic Materials",
          "all/Healthcare",
          "all/Energy",
          "all/Consumer Cyclical",
          "all/Utilities",
          "all/Industrials",
          "all/Technology",
          "all/Basic Materials",
          "all/Industrials",
          "all/Consumer Cyclical",
          "all/Financial Services",
          "all/Consumer Defensive",
          "all/Healthcare",
          "all/Consumer Cyclical",
          "all/Healthcare",
          "all/Communication Services",
          "all/Real Estate",
          "all/Consumer Defensive",
          "all/Real Estate",
          "all/Industrials",
          "all/Basic Materials",
          "all/Consumer Cyclical",
          "all/Consumer Cyclical",
          "all/Utilities",
          "all/Utilities",
          "all/Healthcare",
          "all/Energy",
          "all/Healthcare",
          "all/Communication Services",
          "all/Consumer Cyclical",
          "all/Basic Materials",
          "all/Utilities",
          "all/Industrials",
          "all/Financial Services",
          "all/Utilities",
          "all/Consumer Defensive",
          "all/Healthcare",
          "all/Basic Materials",
          "all/Industrials",
          "all/Technology",
          "all/Energy",
          "all/Technology",
          "all/Real Estate",
          "all/Real Estate",
          "all/Energy",
          "all/Utilities",
          "all/Real Estate",
          "all/Industrials",
          "all/Utilities",
          "all/Consumer Cyclical",
          "all/Utilities",
          "all/Healthcare",
          "all/Utilities",
          "all/Industrials",
          "all/Consumer Cyclical",
          "all/Real Estate",
          "all/Consumer Cyclical",
          "all/Energy",
          "all/Industrials",
          "all/Basic Materials",
          "all/Financial Services",
          "all/Industrials",
          "all/Utilities",
          "all/Technology",
          "all/Technology",
          "all/Technology",
          "all/Technology",
          "all/Financial Services",
          "all/Basic Materials",
          "all/Communication Services",
          "all/Communication Services",
          "all/Real Estate",
          "all/Technology",
          "all/Technology",
          "all/Technology",
          "all/Industrials",
          "all/Technology",
          "all/Industrials",
          "all/Healthcare",
          "all/Technology",
          "all/Utilities",
          "all/Healthcare",
          "all/Consumer Defensive",
          "all/Financial Services",
          "all/Technology",
          "all/Consumer Cyclical",
          "all/Industrials",
          "all/Communication Services",
          "all/Consumer Cyclical",
          "all/Industrials",
          "all/Technology",
          "all/Financial Services",
          "all/Industrials",
          "all/Energy",
          "all/Consumer Cyclical",
          "all/Financial Services",
          "all/Healthcare",
          "all/Consumer Cyclical",
          "all/Energy",
          "all/Financial Services",
          "all/Industrials",
          "all/Consumer Cyclical",
          "all/Healthcare",
          "all/Industrials",
          "all/Technology",
          "all/Technology",
          "all/Consumer Defensive",
          "all/Healthcare",
          "all/Real Estate",
          "all/Consumer Defensive",
          "all/Industrials",
          "all/Healthcare",
          "all/Industrials",
          "all/Technology",
          "all/Financial Services",
          "all/Healthcare",
          "all/Industrials",
          "all/Basic Materials",
          "all/Healthcare",
          "all/Technology",
          "all/Technology",
          "all/Real Estate",
          "all/Consumer Cyclical",
          "all/Communication Services",
          "all/Healthcare",
          "all/Industrials",
          "all/Real Estate",
          "all/Healthcare",
          "all/Technology",
          "all/Industrials",
          "all/Financial Services",
          "all/Industrials",
          "all/Industrials",
          "all/Technology",
          "all/Industrials",
          "all/Technology",
          "all/Healthcare",
          "all/Technology",
          "all/Financial Services",
          "all/Consumer Defensive",
          "all/Consumer Defensive",
          "all/Financial Services",
          "all/Technology",
          "all/Consumer Defensive",
          "all/Real Estate",
          "all/Financial Services",
          "all/Technology",
          "all/Consumer Defensive",
          "all/Energy",
          "all/Consumer Cyclical",
          "all/Consumer Defensive",
          "all/Consumer Defensive",
          "all/Consumer Defensive",
          "all/Technology",
          "all/Consumer Cyclical",
          "all/Healthcare",
          "all/Industrials",
          "all/Basic Materials",
          "all/Consumer Cyclical",
          "all/Healthcare",
          "all/Industrials",
          "all/Utilities",
          "all/Consumer Cyclical",
          "all/Technology",
          "all/Consumer Cyclical",
          "all/Industrials",
          "all/Consumer Cyclical",
          "all/Consumer Defensive",
          "all/Basic Materials",
          "all/Communication Services",
          "all/Financial Services",
          "all/Real Estate",
          "all/Consumer Cyclical",
          "all/Industrials",
          "all/Consumer Cyclical",
          "all/Technology",
          "all/Healthcare",
          "all/Financial Services",
          "all/Consumer Defensive",
          "all/Healthcare",
          "all/Financial Services",
          "all/Communication Services",
          "all/Consumer Cyclical",
          "all/Consumer Cyclical",
          "all/Consumer Defensive",
          "all/Financial Services",
          "all/Basic Materials",
          "all/Financial Services",
          "all/Industrials",
          "all/Consumer Defensive",
          "all/Consumer Defensive",
          "all/Healthcare",
          "all/Basic Materials",
          "all/Energy",
          "all/Technology",
          "all/Healthcare",
          "all/Healthcare",
          "all/Energy",
          "all/Financial Services",
          "all/Financial Services",
          "all/Technology",
          "all/Technology",
          "all/Financial Services",
          "all/Communication Services",
          "all/Healthcare",
          "all/Technology",
          "all/Consumer Cyclical",
          "all/Financial Services",
          "all/Industrials",
          "all/Utilities",
          "all/Basic Materials",
          "all/Communication Services",
          "all/Utilities",
          "all/Consumer Cyclical",
          "all/Industrials",
          "all/Technology",
          "all/Utilities",
          "all/Industrials",
          "all/Technology",
          "all/Financial Services",
          "all/Basic Materials",
          "all/Technology",
          "all/Consumer Cyclical",
          "all/Communication Services",
          "all/Communication Services",
          "all/Technology",
          "all/Real Estate",
          "all/Industrials",
          "all/Energy",
          "all/Communication Services",
          "all/Technology",
          "all/Technology",
          "all/Consumer Cyclical",
          "all/Industrials",
          "all/Energy",
          "all/Technology",
          "all/Communication Services",
          "all/Technology",
          "all/Technology",
          "all/Industrials",
          "all/Utilities",
          "all/Utilities",
          "all/Consumer Defensive",
          "all/Healthcare",
          "all/Financial Services",
          "all/Consumer Defensive",
          "all/Financial Services",
          "all/Industrials",
          "all/Consumer Cyclical",
          "all/Consumer Cyclical",
          "all/Real Estate",
          "all/Consumer Defensive",
          "all/Financial Services",
          "all/Industrials",
          "all/Utilities",
          "all/Healthcare",
          "all/Industrials",
          "all/Basic Materials",
          "all/Utilities",
          "all/Financial Services",
          "all/Real Estate",
          "all/Energy",
          "all/Technology",
          "all/Industrials",
          "all/Financial Services",
          "all/Technology",
          "all/Technology",
          "all/Consumer Cyclical",
          "all/Real Estate",
          "all/Healthcare",
          "all/Financial Services",
          "all/Financial Services",
          "all/Consumer Cyclical",
          "all/Healthcare",
          "all/Industrials",
          "all/Consumer Cyclical",
          "all/Technology",
          "all/Consumer Cyclical",
          "all/Industrials",
          "all/Industrials",
          "all/Healthcare",
          "all/Real Estate",
          "all/Consumer Cyclical",
          "all/Financial Services",
          "all/Basic Materials",
          "all/Consumer Defensive",
          "all/Energy",
          "all/Technology",
          "all/Industrials",
          "all/Technology",
          "all/Utilities",
          "all/Healthcare",
          "all/Real Estate",
          "all/Financial Services",
          "all/Utilities",
          "all/Healthcare",
          "all/Basic Materials",
          "all/Financial Services",
          "all/Technology",
          "all/Consumer Defensive",
          "all/Consumer Cyclical",
          "all/Industrials",
          "all/Technology",
          "all/Financial Services",
          "all/Healthcare",
          "all/Consumer Defensive",
          "all/Communication Services",
          "all/Consumer Defensive",
          "all/Industrials",
          "all/Technology",
          "all/Healthcare",
          "all/Technology",
          "all/Technology",
          "all/Financial Services",
          "all/Healthcare",
          "all/Consumer Defensive",
          "all/Consumer Cyclical",
          "all/Healthcare",
          "all/Communication Services",
          "all/Consumer Cyclical",
          "all/Energy",
          "all/Technology",
          "all/Financial Services",
          "all/Financial Services",
          "all/Consumer Cyclical",
          "all/Consumer Cyclical",
          "all/Consumer Defensive",
          "all/Industrials",
          "all/Communication Services",
          "all/Technology",
          "all/Industrials",
          "all/Technology",
          "all/Industrials",
          "all/Technology",
          "all/Real Estate",
          "all/Healthcare",
          "all/Consumer Cyclical",
          "all/Healthcare",
          "all/Industrials",
          "all/Industrials",
          "all/Industrials",
          "all/Financial Services",
          "all/Financial Services",
          "all/Real Estate",
          "all/Energy",
          "all/Industrials",
          "all/Basic Materials",
          "all/Industrials",
          "all/Technology",
          "all/Healthcare",
          "all/Utilities",
          "all/Real Estate",
          "all/Healthcare",
          "all/Communication Services",
          "all/Industrials",
          "all/Healthcare",
          "all/Healthcare",
          "all/Communication Services",
          "all/Technology",
          "all/Utilities",
          "all/Real Estate",
          "all/Financial Services",
          "all/Industrials",
          "all/Energy",
          "all/Consumer Defensive",
          "all/Financial Services",
          "all/Healthcare",
          "all/Financial Services",
          "all/Real Estate",
          "all/Consumer Cyclical",
          "all/Utilities",
          "all/Energy",
          "all/Industrials",
          "all/Consumer Cyclical",
          "all/Healthcare",
          "all/Technology",
          "all/Healthcare",
          "all",
          "all",
          "all",
          "all",
          "all",
          "all",
          "all",
          "all",
          "all",
          "all",
          "all",
          ""
         ],
         "type": "treemap",
         "values": [
          11624647680,
          3661198000128,
          317254631424,
          82026307584,
          196687773696,
          34708324352,
          222914822144,
          186041729024,
          107135631360,
          23653937152,
          117510594560,
          62674325504,
          23478986752,
          48181153792,
          9207799808,
          57130496000,
          45279391744,
          10616492032,
          69887385600,
          13902007296,
          10576249856,
          16241528832,
          49263951872,
          11076531200,
          144689463296,
          13730729984,
          206632402944,
          41332428800,
          140865896448,
          51304230912,
          82789588992,
          2335486771200,
          145237737472,
          29370955776,
          75355725824,
          9903159296,
          8752946176,
          63673778176,
          86152888320,
          14529925120,
          17014828032,
          21235308544,
          30044719104,
          1071718006784,
          14999869440,
          23704956928,
          42857488384,
          212756463616,
          54708461568,
          129067835392,
          353566326784,
          16022491136,
          15103193088,
          7981046272,
          18018725888,
          67325353984,
          10343424000,
          10864376832,
          22316865536,
          9537294336,
          56682999808,
          158735089664,
          42945429504,
          16493982720,
          151899144192,
          115890200576,
          26454319104,
          28901777408,
          135577616384,
          7057448960,
          207814852608,
          12404383744,
          139348033536,
          12711030784,
          29380014080,
          61199851520,
          175257124864,
          108336619520,
          19978276864,
          39366152192,
          38009942016,
          31182721024,
          82736922624,
          24118118400,
          7247386112,
          79952633856,
          15444275200,
          19699335168,
          25185796096,
          12299230208,
          49427423232,
          77863362560,
          22245187584,
          71398588416,
          19767824384,
          142270758912,
          81805770752,
          79016591360,
          49382776832,
          19633162240,
          31609597952,
          20118812672,
          69341929472,
          18499348480,
          131516252160,
          45273907200,
          408995233792,
          24233635840,
          11909454848,
          54188814336,
          11767981056,
          9703605248,
          310957998080,
          88654716928,
          234704044032,
          28844785664,
          62075834368,
          76147769344,
          11522381824,
          19412690944,
          37494210560,
          39196319744,
          57610006528,
          266706993152,
          7022464000,
          45385740288,
          39478292480,
          11232971776,
          31380062208,
          112233799680,
          31159203840,
          44632838144,
          16311911424,
          17148528640,
          44223066112,
          172695961600,
          201720610816,
          60819046400,
          16130076672,
          13925910528,
          25789351936,
          27590627328,
          14189198336,
          21594877952,
          24930816000,
          82508800000,
          12524244992,
          22787858432,
          30993713152,
          37943033856,
          30258429952,
          65535008768,
          30488301568,
          30430216192,
          15945919488,
          29957666816,
          26625396736,
          88304689152,
          10255982592,
          68731002880,
          9931716608,
          71746117632,
          12958003200,
          90705666048,
          26379220992,
          28730337280,
          20547823616,
          17985968128,
          135913234432,
          32572862464,
          6072317952,
          13922747392,
          43432869888,
          37711269888,
          15593326592,
          23401326592,
          32737865728,
          38789070848,
          50344742912,
          41425387520,
          55666671616,
          17500680192,
          66234028032,
          22655021056,
          15081028608,
          115957071872,
          47117082624,
          42616102912,
          28453982208,
          6382864896,
          21915037696,
          21915029504,
          8978663424,
          21168578560,
          73525837824,
          26593640448,
          71395696640,
          27456270336,
          186489389056,
          38089502720,
          16627665920,
          101583634432,
          112949444608,
          33564452864,
          9359039488,
          40969601024,
          57157206016,
          9579065344,
          2399744032768,
          16212987904,
          28574699520,
          40046813184,
          182105473024,
          51756138496,
          24378431488,
          7966901760,
          24044003328,
          78068662272,
          381679894528,
          42708238336,
          31603916800,
          7397394432,
          58843619328,
          16496340992,
          143463989248,
          29305554944,
          31575658496,
          16547251200,
          8935886848,
          12080418816,
          33493800960,
          23290849280,
          32175022080,
          45363105792,
          207083503616,
          84082483200,
          34986057728,
          15750445056,
          21109104640,
          14100054016,
          86303129600,
          172269305856,
          18966282240,
          18624542720,
          10318665728,
          36780974080,
          35932553216,
          29548488704,
          189444489216,
          37909966848,
          73408626688,
          7707895808,
          16351642624,
          17794478080,
          17058871296,
          52425187328,
          12500845568,
          352066273280,
          12684019712,
          684606226432,
          28041181184,
          41615888384,
          19021252608,
          28769230848,
          35996991488,
          14809560064,
          135300636672,
          92200763392,
          42452639744,
          61783805952,
          12168656896,
          262086557696,
          42794057728,
          40358322176,
          19654680576,
          35996131328,
          19663599616,
          38502604800,
          197581766656,
          9485940736,
          695432052736,
          109974757376,
          14718519296,
          139225743360,
          99744210944,
          47917129728,
          19719354368,
          35888787456,
          8798096384,
          23999541248,
          29894854656,
          469378760704,
          17784676352,
          74969972736,
          15469202432,
          207346843648,
          30861965312,
          74290364416,
          84091191296,
          77944807424,
          102416506880,
          56875376640,
          1559857201152,
          9893900288,
          7404128768,
          19945555968,
          8265558528,
          31087720448,
          103125794816,
          72301101056,
          50133405696,
          87214923776,
          16958656512,
          8020535808,
          45527965696,
          30481158144,
          255544213504,
          18290399232,
          15971154944,
          204408750080,
          46343299072,
          3140270161920,
          76065120256,
          31863465984,
          8135349248,
          26483677184,
          113545068544,
          11216951296,
          43888521216,
          11712796672,
          144832249856,
          43443253248,
          375816781824,
          16696685568,
          106630471680,
          65910968320,
          217489063936,
          19594209280,
          53790822400,
          23823396864,
          20366899200,
          28478119936,
          3432028569600,
          24195461120,
          16211938304,
          16211936256,
          54028484608,
          45957328896,
          38566277120,
          59233857536,
          16622263296,
          26710245376,
          453191434240,
          69260673024,
          36798349312,
          48371580928,
          115169656832,
          7739991040,
          11653490688,
          50142371840,
          57442414592,
          43826327552,
          42553397248,
          199487340544,
          153745440768,
          17909245952,
          379867955200,
          141930283008,
          81766801408,
          22113992704,
          20294109184,
          98711732224,
          188756361216,
          77281427456,
          16304996352,
          9459840000,
          18633965568,
          12481061888,
          26879520768,
          23615039488,
          42419859456,
          52239577088,
          47572201472,
          22035980288,
          47207792640,
          88193449984,
          178337742848,
          6960001024,
          60585607168,
          12811357184,
          80252665856,
          21676406784,
          32439072768,
          15060079616,
          34702573568,
          31797313536,
          22156953600,
          54375825408,
          50004037632,
          63585513472,
          152801099776,
          14190452736,
          21062680576,
          105261981696,
          132276273152,
          84219641856,
          11436527616,
          55596343296,
          20131725312,
          17618726912,
          75375321088,
          88848687104,
          11991063552,
          65396129792,
          152465899520,
          53351198720,
          20382070784,
          18240473088,
          28646717440,
          18953086976,
          39678574592,
          27105329152,
          12587491328,
          14818279424,
          25922525184,
          135400292352,
          36620898304,
          159291441152,
          11375928320,
          70407774208,
          21380202496,
          11880354816,
          43007524864,
          22608363520,
          58371055616,
          8350112256,
          63806021632,
          135056580608,
          208711139328,
          246412656640,
          15697305600,
          40956596224,
          17587859456,
          25130627072,
          54865952768,
          28777084928,
          1265919197184,
          19796094976,
          85500116992,
          31920207872,
          175337242624,
          14024707072,
          24118722560,
          33285539840,
          139292721152,
          15428356096,
          12269601792,
          19859949568,
          473256067072,
          139766497280,
          106654187520,
          44978245632,
          75973459968,
          603539636224,
          30834472960,
          39253372928,
          25138857984,
          33276729344,
          38624034816,
          20106041344,
          105154240512,
          55582715904,
          23941492736,
          14323080192,
          163838787584,
          32511275008,
          22386608128,
          8349928960,
          25782816768,
          22426079232,
          29481027584,
          77363003392,
          238358167552,
          81633837056,
          67716005888,
          729512148992,
          21911468032,
          24082620416,
          31124025344,
          20351561728,
          9054246912,
          37693243392,
          477966041088,
          28128169984,
          35874705408,
          20530501632,
          20431353856,
          73760964608,
          849285633536,
          5542990818304,
          6215113240064,
          3144879411200,
          1669978963968,
          6099673657856,
          5258888508416,
          3724702064640,
          1069061840896,
          16905618918400,
          1268030639104,
          51748223696384
         ]
        }
       ],
       "layout": {
        "coloraxis": {
         "cmid": 5,
         "colorbar": {
          "title": {
           "text": "daily_return2"
          }
         },
         "colorscale": [
          [
           0,
           "darkred"
          ],
          [
           0.25,
           "red"
          ],
          [
           0.5,
           "lightgreen"
          ],
          [
           0.75,
           "green"
          ],
          [
           1,
           "darkgreen"
          ]
         ],
         "showscale": false
        },
        "legend": {
         "tracegroupgap": 0
        },
        "margin": {
         "b": 25,
         "l": 25,
         "r": 25,
         "t": 50
        },
        "template": {
         "data": {
          "bar": [
           {
            "error_x": {
             "color": "#2a3f5f"
            },
            "error_y": {
             "color": "#2a3f5f"
            },
            "marker": {
             "line": {
              "color": "#E5ECF6",
              "width": 0.5
             },
             "pattern": {
              "fillmode": "overlay",
              "size": 10,
              "solidity": 0.2
             }
            },
            "type": "bar"
           }
          ],
          "barpolar": [
           {
            "marker": {
             "line": {
              "color": "#E5ECF6",
              "width": 0.5
             },
             "pattern": {
              "fillmode": "overlay",
              "size": 10,
              "solidity": 0.2
             }
            },
            "type": "barpolar"
           }
          ],
          "carpet": [
           {
            "aaxis": {
             "endlinecolor": "#2a3f5f",
             "gridcolor": "white",
             "linecolor": "white",
             "minorgridcolor": "white",
             "startlinecolor": "#2a3f5f"
            },
            "baxis": {
             "endlinecolor": "#2a3f5f",
             "gridcolor": "white",
             "linecolor": "white",
             "minorgridcolor": "white",
             "startlinecolor": "#2a3f5f"
            },
            "type": "carpet"
           }
          ],
          "choropleth": [
           {
            "colorbar": {
             "outlinewidth": 0,
             "ticks": ""
            },
            "type": "choropleth"
           }
          ],
          "contour": [
           {
            "colorbar": {
             "outlinewidth": 0,
             "ticks": ""
            },
            "colorscale": [
             [
              0,
              "#0d0887"
             ],
             [
              0.1111111111111111,
              "#46039f"
             ],
             [
              0.2222222222222222,
              "#7201a8"
             ],
             [
              0.3333333333333333,
              "#9c179e"
             ],
             [
              0.4444444444444444,
              "#bd3786"
             ],
             [
              0.5555555555555556,
              "#d8576b"
             ],
             [
              0.6666666666666666,
              "#ed7953"
             ],
             [
              0.7777777777777778,
              "#fb9f3a"
             ],
             [
              0.8888888888888888,
              "#fdca26"
             ],
             [
              1,
              "#f0f921"
             ]
            ],
            "type": "contour"
           }
          ],
          "contourcarpet": [
           {
            "colorbar": {
             "outlinewidth": 0,
             "ticks": ""
            },
            "type": "contourcarpet"
           }
          ],
          "heatmap": [
           {
            "colorbar": {
             "outlinewidth": 0,
             "ticks": ""
            },
            "colorscale": [
             [
              0,
              "#0d0887"
             ],
             [
              0.1111111111111111,
              "#46039f"
             ],
             [
              0.2222222222222222,
              "#7201a8"
             ],
             [
              0.3333333333333333,
              "#9c179e"
             ],
             [
              0.4444444444444444,
              "#bd3786"
             ],
             [
              0.5555555555555556,
              "#d8576b"
             ],
             [
              0.6666666666666666,
              "#ed7953"
             ],
             [
              0.7777777777777778,
              "#fb9f3a"
             ],
             [
              0.8888888888888888,
              "#fdca26"
             ],
             [
              1,
              "#f0f921"
             ]
            ],
            "type": "heatmap"
           }
          ],
          "heatmapgl": [
           {
            "colorbar": {
             "outlinewidth": 0,
             "ticks": ""
            },
            "colorscale": [
             [
              0,
              "#0d0887"
             ],
             [
              0.1111111111111111,
              "#46039f"
             ],
             [
              0.2222222222222222,
              "#7201a8"
             ],
             [
              0.3333333333333333,
              "#9c179e"
             ],
             [
              0.4444444444444444,
              "#bd3786"
             ],
             [
              0.5555555555555556,
              "#d8576b"
             ],
             [
              0.6666666666666666,
              "#ed7953"
             ],
             [
              0.7777777777777778,
              "#fb9f3a"
             ],
             [
              0.8888888888888888,
              "#fdca26"
             ],
             [
              1,
              "#f0f921"
             ]
            ],
            "type": "heatmapgl"
           }
          ],
          "histogram": [
           {
            "marker": {
             "pattern": {
              "fillmode": "overlay",
              "size": 10,
              "solidity": 0.2
             }
            },
            "type": "histogram"
           }
          ],
          "histogram2d": [
           {
            "colorbar": {
             "outlinewidth": 0,
             "ticks": ""
            },
            "colorscale": [
             [
              0,
              "#0d0887"
             ],
             [
              0.1111111111111111,
              "#46039f"
             ],
             [
              0.2222222222222222,
              "#7201a8"
             ],
             [
              0.3333333333333333,
              "#9c179e"
             ],
             [
              0.4444444444444444,
              "#bd3786"
             ],
             [
              0.5555555555555556,
              "#d8576b"
             ],
             [
              0.6666666666666666,
              "#ed7953"
             ],
             [
              0.7777777777777778,
              "#fb9f3a"
             ],
             [
              0.8888888888888888,
              "#fdca26"
             ],
             [
              1,
              "#f0f921"
             ]
            ],
            "type": "histogram2d"
           }
          ],
          "histogram2dcontour": [
           {
            "colorbar": {
             "outlinewidth": 0,
             "ticks": ""
            },
            "colorscale": [
             [
              0,
              "#0d0887"
             ],
             [
              0.1111111111111111,
              "#46039f"
             ],
             [
              0.2222222222222222,
              "#7201a8"
             ],
             [
              0.3333333333333333,
              "#9c179e"
             ],
             [
              0.4444444444444444,
              "#bd3786"
             ],
             [
              0.5555555555555556,
              "#d8576b"
             ],
             [
              0.6666666666666666,
              "#ed7953"
             ],
             [
              0.7777777777777778,
              "#fb9f3a"
             ],
             [
              0.8888888888888888,
              "#fdca26"
             ],
             [
              1,
              "#f0f921"
             ]
            ],
            "type": "histogram2dcontour"
           }
          ],
          "mesh3d": [
           {
            "colorbar": {
             "outlinewidth": 0,
             "ticks": ""
            },
            "type": "mesh3d"
           }
          ],
          "parcoords": [
           {
            "line": {
             "colorbar": {
              "outlinewidth": 0,
              "ticks": ""
             }
            },
            "type": "parcoords"
           }
          ],
          "pie": [
           {
            "automargin": true,
            "type": "pie"
           }
          ],
          "scatter": [
           {
            "fillpattern": {
             "fillmode": "overlay",
             "size": 10,
             "solidity": 0.2
            },
            "type": "scatter"
           }
          ],
          "scatter3d": [
           {
            "line": {
             "colorbar": {
              "outlinewidth": 0,
              "ticks": ""
             }
            },
            "marker": {
             "colorbar": {
              "outlinewidth": 0,
              "ticks": ""
             }
            },
            "type": "scatter3d"
           }
          ],
          "scattercarpet": [
           {
            "marker": {
             "colorbar": {
              "outlinewidth": 0,
              "ticks": ""
             }
            },
            "type": "scattercarpet"
           }
          ],
          "scattergeo": [
           {
            "marker": {
             "colorbar": {
              "outlinewidth": 0,
              "ticks": ""
             }
            },
            "type": "scattergeo"
           }
          ],
          "scattergl": [
           {
            "marker": {
             "colorbar": {
              "outlinewidth": 0,
              "ticks": ""
             }
            },
            "type": "scattergl"
           }
          ],
          "scattermapbox": [
           {
            "marker": {
             "colorbar": {
              "outlinewidth": 0,
              "ticks": ""
             }
            },
            "type": "scattermapbox"
           }
          ],
          "scatterpolar": [
           {
            "marker": {
             "colorbar": {
              "outlinewidth": 0,
              "ticks": ""
             }
            },
            "type": "scatterpolar"
           }
          ],
          "scatterpolargl": [
           {
            "marker": {
             "colorbar": {
              "outlinewidth": 0,
              "ticks": ""
             }
            },
            "type": "scatterpolargl"
           }
          ],
          "scatterternary": [
           {
            "marker": {
             "colorbar": {
              "outlinewidth": 0,
              "ticks": ""
             }
            },
            "type": "scatterternary"
           }
          ],
          "surface": [
           {
            "colorbar": {
             "outlinewidth": 0,
             "ticks": ""
            },
            "colorscale": [
             [
              0,
              "#0d0887"
             ],
             [
              0.1111111111111111,
              "#46039f"
             ],
             [
              0.2222222222222222,
              "#7201a8"
             ],
             [
              0.3333333333333333,
              "#9c179e"
             ],
             [
              0.4444444444444444,
              "#bd3786"
             ],
             [
              0.5555555555555556,
              "#d8576b"
             ],
             [
              0.6666666666666666,
              "#ed7953"
             ],
             [
              0.7777777777777778,
              "#fb9f3a"
             ],
             [
              0.8888888888888888,
              "#fdca26"
             ],
             [
              1,
              "#f0f921"
             ]
            ],
            "type": "surface"
           }
          ],
          "table": [
           {
            "cells": {
             "fill": {
              "color": "#EBF0F8"
             },
             "line": {
              "color": "white"
             }
            },
            "header": {
             "fill": {
              "color": "#C8D4E3"
             },
             "line": {
              "color": "white"
             }
            },
            "type": "table"
           }
          ]
         },
         "layout": {
          "annotationdefaults": {
           "arrowcolor": "#2a3f5f",
           "arrowhead": 0,
           "arrowwidth": 1
          },
          "autotypenumbers": "strict",
          "coloraxis": {
           "colorbar": {
            "outlinewidth": 0,
            "ticks": ""
           }
          },
          "colorscale": {
           "diverging": [
            [
             0,
             "#8e0152"
            ],
            [
             0.1,
             "#c51b7d"
            ],
            [
             0.2,
             "#de77ae"
            ],
            [
             0.3,
             "#f1b6da"
            ],
            [
             0.4,
             "#fde0ef"
            ],
            [
             0.5,
             "#f7f7f7"
            ],
            [
             0.6,
             "#e6f5d0"
            ],
            [
             0.7,
             "#b8e186"
            ],
            [
             0.8,
             "#7fbc41"
            ],
            [
             0.9,
             "#4d9221"
            ],
            [
             1,
             "#276419"
            ]
           ],
           "sequential": [
            [
             0,
             "#0d0887"
            ],
            [
             0.1111111111111111,
             "#46039f"
            ],
            [
             0.2222222222222222,
             "#7201a8"
            ],
            [
             0.3333333333333333,
             "#9c179e"
            ],
            [
             0.4444444444444444,
             "#bd3786"
            ],
            [
             0.5555555555555556,
             "#d8576b"
            ],
            [
             0.6666666666666666,
             "#ed7953"
            ],
            [
             0.7777777777777778,
             "#fb9f3a"
            ],
            [
             0.8888888888888888,
             "#fdca26"
            ],
            [
             1,
             "#f0f921"
            ]
           ],
           "sequentialminus": [
            [
             0,
             "#0d0887"
            ],
            [
             0.1111111111111111,
             "#46039f"
            ],
            [
             0.2222222222222222,
             "#7201a8"
            ],
            [
             0.3333333333333333,
             "#9c179e"
            ],
            [
             0.4444444444444444,
             "#bd3786"
            ],
            [
             0.5555555555555556,
             "#d8576b"
            ],
            [
             0.6666666666666666,
             "#ed7953"
            ],
            [
             0.7777777777777778,
             "#fb9f3a"
            ],
            [
             0.8888888888888888,
             "#fdca26"
            ],
            [
             1,
             "#f0f921"
            ]
           ]
          },
          "colorway": [
           "#636efa",
           "#EF553B",
           "#00cc96",
           "#ab63fa",
           "#FFA15A",
           "#19d3f3",
           "#FF6692",
           "#B6E880",
           "#FF97FF",
           "#FECB52"
          ],
          "font": {
           "color": "#2a3f5f"
          },
          "geo": {
           "bgcolor": "white",
           "lakecolor": "white",
           "landcolor": "#E5ECF6",
           "showlakes": true,
           "showland": true,
           "subunitcolor": "white"
          },
          "hoverlabel": {
           "align": "left"
          },
          "hovermode": "closest",
          "mapbox": {
           "style": "light"
          },
          "paper_bgcolor": "white",
          "plot_bgcolor": "#E5ECF6",
          "polar": {
           "angularaxis": {
            "gridcolor": "white",
            "linecolor": "white",
            "ticks": ""
           },
           "bgcolor": "#E5ECF6",
           "radialaxis": {
            "gridcolor": "white",
            "linecolor": "white",
            "ticks": ""
           }
          },
          "scene": {
           "xaxis": {
            "backgroundcolor": "#E5ECF6",
            "gridcolor": "white",
            "gridwidth": 2,
            "linecolor": "white",
            "showbackground": true,
            "ticks": "",
            "zerolinecolor": "white"
           },
           "yaxis": {
            "backgroundcolor": "#E5ECF6",
            "gridcolor": "white",
            "gridwidth": 2,
            "linecolor": "white",
            "showbackground": true,
            "ticks": "",
            "zerolinecolor": "white"
           },
           "zaxis": {
            "backgroundcolor": "#E5ECF6",
            "gridcolor": "white",
            "gridwidth": 2,
            "linecolor": "white",
            "showbackground": true,
            "ticks": "",
            "zerolinecolor": "white"
           }
          },
          "shapedefaults": {
           "line": {
            "color": "#2a3f5f"
           }
          },
          "ternary": {
           "aaxis": {
            "gridcolor": "white",
            "linecolor": "white",
            "ticks": ""
           },
           "baxis": {
            "gridcolor": "white",
            "linecolor": "white",
            "ticks": ""
           },
           "bgcolor": "#E5ECF6",
           "caxis": {
            "gridcolor": "white",
            "linecolor": "white",
            "ticks": ""
           }
          },
          "title": {
           "x": 0.05
          },
          "xaxis": {
           "automargin": true,
           "gridcolor": "white",
           "linecolor": "white",
           "ticks": "",
           "title": {
            "standoff": 15
           },
           "zerolinecolor": "white",
           "zerolinewidth": 2
          },
          "yaxis": {
           "automargin": true,
           "gridcolor": "white",
           "linecolor": "white",
           "ticks": "",
           "title": {
            "standoff": 15
           },
           "zerolinecolor": "white",
           "zerolinewidth": 2
          }
         }
        }
       }
      },
      "text/html": [
       "<div>                            <div id=\"68668eec-451b-4110-ac77-7db1270cdbd2\" class=\"plotly-graph-div\" style=\"height:525px; width:100%;\"></div>            <script type=\"text/javascript\">                require([\"plotly\"], function(Plotly) {                    window.PLOTLYENV=window.PLOTLYENV || {};                                    if (document.getElementById(\"68668eec-451b-4110-ac77-7db1270cdbd2\")) {                    Plotly.newPlot(                        \"68668eec-451b-4110-ac77-7db1270cdbd2\",                        [{\"branchvalues\":\"total\",\"customdata\":[[0.9703196347031984,5.0],[-1.138775510204082,4.0],[-0.3164908384230891,4.0],[-2.892011834319519,4.0],[0.31847133757960666,5.0],[1.6640952171038226,6.0],[1.4402413685139281,6.0],[-1.9829305626420601,4.0],[-0.9770642201834878,4.0],[-0.4029820672980078,4.0],[0.44230836206595736,5.0],[-0.5777580253666481,4.0],[1.2547484747323479,6.0],[0.16607617360495652,5.0],[-0.4611837048424272,4.0],[1.0315355142941351,6.0],[0.1655857596246868,5.0],[-0.31782721756717924,4.0],[1.21192388394471,6.0],[-0.9101616875468399,4.0],[-0.23284177846767395,4.0],[-0.6030701754385914,4.0],[0.06992630842881375,5.0],[-1.3166047087980193,4.0],[0.19157088122605526,5.0],[0.7423117709437932,5.0],[-1.7136240833655059,4.0],[-0.41241709858999,4.0],[1.3418925712517904,6.0],[-0.3730148263973776,4.0],[-1.7141906135581975,4.0],[-2.4164140415623203,4.0],[-3.1013615733736732,4.0],[-0.8238594419016532,4.0],[-0.008609062473108331,5.0],[-0.8708272859216382,4.0],[0.0,5.0],[1.0909476062702872,6.0],[0.4639392661324404,5.0],[0.7168458781362075,5.0],[-0.37859408574645315,4.0],[0.08790564793788036,5.0],[-0.7284519221731456,4.0],[-3.2866630007190922,4.0],[-0.7179323548181182,4.0],[-0.2787570714110066,4.0],[-1.5209125475285301,4.0],[0.046376043460982785,5.0],[-1.0186855161441244,4.0],[1.0129991802318772,6.0],[1.497797356828201,6.0],[-0.6108848574602144,4.0],[-0.2697235333782966,4.0],[0.8207934336525335,5.0],[-0.578034682080919,4.0],[0.628521889900302,5.0],[-1.3000000000000123,4.0],[-0.2180046165683569,4.0],[-0.07829320806420625,4.0],[0.15139604623402025,5.0],[0.05133470225870962,5.0],[-2.315577651997325,4.0],[1.3308428671491956,6.0],[-1.5997253690353652,4.0],[-3.157770010071692,4.0],[0.8115737473535667,5.0],[0.3903477643719011,5.0],[0.14863258026158732,5.0],[0.7667871617920818,5.0],[0.5922693266833035,5.0],[-1.9737971279821465,4.0],[-2.3058758160855675,4.0],[1.2922738520759092,6.0],[-0.9669021941242195,4.0],[1.479561982780253,6.0],[-0.7276961141027494,4.0],[-0.32948929159801743,4.0],[0.5424413602184597,5.0],[-0.479766374634949,4.0],[-2.832540222071156,4.0],[-1.2197876665913876,4.0],[-1.2018234562784835,4.0],[-2.099694943856678,4.0],[0.9426069496346612,5.0],[0.37850113550341735,5.0],[-3.2730437414862923,4.0],[-1.125222816399296,4.0],[-0.22321428571426827,4.0],[1.111438969214129,6.0],[0.5119783616692519,5.0],[-0.5492776426834545,4.0],[0.0965458056211066,5.0],[0.39506172839507414,5.0],[-0.17135023989034437,4.0],[1.3389174440002538,6.0],[-0.8268871699119829,4.0],[0.526968381897075,5.0],[-1.377551020408152,4.0],[0.5418389006814905,5.0],[0.4432895139101056,5.0],[-0.12761205933961017,4.0],[-0.5797101449275366,4.0],[-0.8881865736704575,4.0],[-0.3440490269863483,4.0],[1.6801680168016864,6.0],[2.341838518000694,6.0],[-0.1452243933630304,4.0],[1.536349563337902,6.0],[-1.3580246913580174,4.0],[-0.6009190526687802,4.0],[-2.7763088313061846,4.0],[0.11607048644086682,5.0],[-1.6942486309865834,4.0],[-1.7551042690250096,4.0],[0.27224774544836183,5.0],[-1.1936525768852624,4.0],[0.5937499999999929,5.0],[1.9556996218260458,6.0],[0.0,5.0],[0.45731707317073766,5.0],[-0.382031352917922,4.0],[0.15806111696523573,5.0],[-0.08729812309035134,4.0],[1.5822355018334955,6.0],[-1.0182689427972513,4.0],[0.6895266492732199,5.0],[1.8987341772152,6.0],[-3.4038513696772354,4.0],[-0.23917087430243011,4.0],[-1.131578947368428,4.0],[-1.6165395500551627,4.0],[-0.8983873667764097,4.0],[-1.448312516609096,4.0],[0.8997176068824997,5.0],[-1.0907003444316943,4.0],[0.37783375314861534,5.0],[0.3061683926159464,5.0],[0.15590200445434466,5.0],[-2.088500195796883,4.0],[-0.5494505494505475,4.0],[-0.026591501356176828,4.0],[-0.8553459119496898,4.0],[-3.2037691401649027,4.0],[0.20656664492280097,5.0],[0.5932982368179074,5.0],[0.4136504653567741,5.0],[0.7655249785520901,5.0],[2.7851851851851794,6.0],[-0.6634952428642982,4.0],[-0.3993115318416618,4.0],[0.3654273911662065,5.0],[0.025931368311860048,5.0],[-0.41869412696616815,4.0],[-1.3105000803987799,4.0],[2.5852296292199872,6.0],[-0.29956514736673157,4.0],[0.8155498165012931,5.0],[0.28974055050705605,5.0],[-0.19176536943034117,4.0],[-1.1548857400278445,4.0],[2.984029139815081,6.0],[0.9257061476382722,5.0],[-1.0996147019351588,4.0],[0.00744680851063606,5.0],[-1.3744699517473258,4.0],[1.0705289672544138,6.0],[-0.2667615152054048,4.0],[-1.000769822940728,4.0],[-1.3340601331191082,4.0],[0.93010895562049,5.0],[-4.645822292881119,4.0],[0.44798407167745413,5.0],[0.13598041881968115,5.0],[-0.7142857142857006,4.0],[0.2610026100261065,5.0],[-1.4379155630034002,4.0],[-0.08750673128702369,4.0],[-1.6129032258064502,4.0],[1.6387644423484948,6.0],[0.4724190634986858,5.0],[0.44075706507649137,5.0],[-1.1479947642855537,4.0],[0.37595357155892906,5.0],[0.10185892538834285,5.0],[-0.9279938390450382,4.0],[-0.8802217575256566,4.0],[-1.6691988353717657,4.0],[0.15182186234816708,5.0],[-0.18630647414997759,4.0],[2.9394000402657605,6.0],[-0.5523688124070447,4.0],[-0.8059641345960267,4.0],[-1.539327951942937,4.0],[3.377424583050126,6.0],[-2.0522769042270683,4.0],[0.16989022477784665,5.0],[0.6434357920849454,5.0],[-1.8912410956155368,4.0],[-0.08118295158016098,4.0],[2.0190895741556636,6.0],[-1.6405395552314905,4.0],[-0.7540665733060448,4.0],[-0.6576783952647269,4.0],[-0.9918699186991842,4.0],[0.2607913669064654,5.0],[-1.0136532892014882,4.0],[-2.895572576125549,4.0],[0.5872797700862131,5.0],[-0.6314406950899132,4.0],[-0.6475249211894019,4.0],[-0.6635406529239996,4.0],[0.3464369917721255,5.0],[-0.5605169783506669,4.0],[0.8292141440783274,5.0],[0.32537960954446277,5.0],[0.38671119704694057,5.0],[0.1209921355111998,5.0],[3.8023710090259843,6.0],[-1.3200811567403714,4.0],[1.9791053560918481,6.0],[0.3405430280717825,5.0],[1.258703802892347,6.0],[-0.890987476904137,4.0],[-1.464009760065066,4.0],[-0.5005862722107013,4.0],[-2.494529540481405,4.0],[-0.5904930617065096,4.0],[-1.7601043024771834,4.0],[-0.12541806020067714,4.0],[-1.331018518518523,4.0],[-0.731678061652874,4.0],[-1.4958574509136402,4.0],[1.1048469484278511,6.0],[-0.7201920512136639,4.0],[0.579332644720898,5.0],[-0.09551098376314737,4.0],[-0.4427253238885376,4.0],[-0.6306134148671871,4.0],[0.5480453050785483,5.0],[1.7800027812543417,6.0],[0.7045797684952282,5.0],[-1.556401561200338,4.0],[-0.7374158384097496,4.0],[0.20560747663551648,5.0],[-1.0360843158270794,4.0],[1.6910879164993897,6.0],[-2.3118220663964073,4.0],[-2.649134680460219,4.0],[-1.9341040249276298,4.0],[-0.048808264866184725,4.0],[-0.7069819459977644,4.0],[-1.4367816091954033,4.0],[-0.7676676450666164,4.0],[0.0453514739228833,5.0],[0.46704381002498074,5.0],[-0.1261511290525985,4.0],[1.008076401579916,6.0],[1.788946122789925,6.0],[0.8688783570300229,5.0],[0.9632551380527321,5.0],[0.16005909874414748,5.0],[-1.287001287001277,4.0],[-1.0932105868814546,4.0],[0.5325264750378089,5.0],[-0.9317803660565782,4.0],[-1.6562220232766434,4.0],[-2.7331829640440564,4.0],[-0.1448645516442082,4.0],[0.9356168728195335,5.0],[-0.07186489399928497,4.0],[-0.7899686520376092,4.0],[0.049333991119882015,5.0],[-2.4414384691520907,4.0],[-0.28422548555187,4.0],[-0.6341068537506711,4.0],[-1.4215904042647831,4.0],[2.252957550452339,6.0],[-0.6314552841548693,4.0],[0.4940543944200737,5.0],[-0.7344940152339441,4.0],[1.0704483074107873,6.0],[-0.43776824034335027,4.0],[0.08724480893387287,5.0],[-1.2693200928966197,4.0],[-0.5898948448320174,4.0],[-0.4679871493258547,4.0],[-2.808158439255082,4.0],[-2.8077753779697567,4.0],[-2.172878667724021,4.0],[0.05415651232061336,5.0],[0.28622263479536336,5.0],[-0.10352977946204156,4.0],[-1.008212592642066,4.0],[-1.041743085613689,4.0],[-1.9151846785225635,4.0],[-0.9720035594496634,4.0],[-1.4067593069137074,4.0],[0.828695966783255,5.0],[-1.9317749503318216,4.0],[0.12023359670216838,5.0],[0.0375751503006061,5.0],[0.18294914013905483,5.0],[-1.9533481434465316,4.0],[-2.0919269298762533,4.0],[-0.399082958308572,4.0],[0.25630648860111016,5.0],[-1.4032562741746912,4.0],[-1.685447552042063,4.0],[0.719493476592481,5.0],[1.9034461585693663,6.0],[-0.6169269327164106,4.0],[-1.2094451910155568,4.0],[-0.6134558010123636,4.0],[-0.5513981882630969,4.0],[0.8040987689461376,5.0],[-0.9871652669941389,4.0],[1.3036502206177358,6.0],[11.651397697909328,8.0],[-1.279391424619647,4.0],[-1.3681592039800905,4.0],[-0.8933060704588769,4.0],[-1.2808227182423804,4.0],[-0.28480666009420563,4.0],[-0.6261319534282106,4.0],[-2.9358897543439344,4.0],[0.21880614893192707,5.0],[2.669756195849282,6.0],[-0.5070202808112323,4.0],[-0.5988023952095745,4.0],[-0.7392732895245446,4.0],[-1.1370016844469255,4.0],[0.9790949986768993,5.0],[-0.2948547840188609,4.0],[0.5622715771717912,5.0],[0.12499999999999734,5.0],[-0.6042096937206143,4.0],[-2.1261779861659003,4.0],[-2.015802269043754,4.0],[0.33760972316001503,5.0],[-0.6949152542372827,4.0],[-0.4456932467784114,4.0],[0.5471729398109693,5.0],[-6.216957772870257,3.0],[-1.1475001470833024,4.0],[0.6276841757515639,5.0],[0.5830903790087438,5.0],[-0.38892273089358165,4.0],[-0.41721979897590966,4.0],[-1.1112935895330356,4.0],[-0.00984058256249254,5.0],[-0.5522914218566433,4.0],[-2.759262129902351,4.0],[-2.2089444142676107,4.0],[-0.8880847935099578,4.0],[-0.18420197204463973,4.0],[1.5363403584794044,6.0],[-2.2228412256267482,4.0],[-0.36596523330282293,4.0],[-2.3812973965125828,4.0],[2.3519035719535397,6.0],[2.1633718761656207,6.0],[0.6042296072507503,5.0],[-0.3383897316219464,4.0],[-0.5947904560060224,4.0],[0.8925251022684932,5.0],[0.6168080185042557,5.0],[0.4358655043586568,5.0],[1.122751366918484,6.0],[-0.9001560062402492,4.0],[-1.0098228219957872,4.0],[-0.48441078034173746,4.0],[-0.07500468779298997,4.0],[0.33057851239670644,5.0],[-0.41924433764507496,4.0],[-0.8440514469453264,4.0],[0.132386568780829,5.0],[-1.0282776349614609,4.0],[-1.3653724700008918,4.0],[0.6865386286608155,5.0],[0.8509297195083532,5.0],[0.45515846257586645,5.0],[0.801135787445495,5.0],[0.01736563341148134,5.0],[-0.9414056159714357,4.0],[-2.5147838809973733,4.0],[-1.7424327041215215,4.0],[0.41914294651237416,5.0],[2.065428333795394,6.0],[-1.348452344468276,4.0],[-1.294316263365225,4.0],[1.9601820567950234,6.0],[0.2943650126156383,5.0],[-0.556702320635527,4.0],[-0.18109976950938522,4.0],[0.5572333999744883,5.0],[-0.05329354082284077,4.0],[0.21905805038335835,5.0],[0.0,5.0],[-2.18780251694094,4.0],[1.0450360786265378,6.0],[0.6134969325153339,5.0],[0.8737780084782321,5.0],[-1.528175740210136,4.0],[-0.3113926769032438,4.0],[-2.9806659505907662,4.0],[-1.0123734533183382,4.0],[-1.5481861487724458,4.0],[1.573787409700711,6.0],[-5.679012345679013,3.0],[0.3227927550959464,5.0],[-2.6823134953897765,4.0],[0.16057312252966138,5.0],[1.372864028041465,6.0],[-0.13760678860157416,4.0],[-0.5746777555191263,4.0],[-0.3313217370725319,4.0],[1.215626684966442,6.0],[0.9861766689143625,5.0],[-0.7213247993497984,4.0],[0.54988216810683,5.0],[-1.9826851478042529,4.0],[-2.324273664479859,4.0],[-1.2099213551119203,4.0],[1.9305868764094347,6.0],[-1.6107580907344543,4.0],[-1.7102058888642913,4.0],[-0.25421461065024964,4.0],[-1.7699115044247926,4.0],[-1.375982844889212,4.0],[0.0647316433846079,5.0],[0.7178766657153446,5.0],[0.70033670033669,5.0],[0.2230897936419396,5.0],[-0.8428571428571452,4.0],[-0.2947845804988747,4.0],[-0.38783312094853306,4.0],[-0.028717065115935192,4.0],[-0.6121773659827912,4.0],[1.5748617807479492,6.0],[-0.021188435822572238,4.0],[-0.4433934377771176,4.0],[0.8917060593038206,5.0],[1.293952180028124,6.0],[-1.058339893291349,4.0],[-0.08268562923763323,4.0],[0.41006523765143577,5.0],[-4.060333292786766,4.0],[-2.1478873239436647,4.0],[-0.928243637880688,4.0],[-3.82580167213461,4.0],[0.015610365282547889,5.0],[0.25195597400875513,5.0],[-2.1360100027785656,4.0],[2.678299685502683,6.0],[-0.24129090634895656,4.0],[-1.0122921185827916,4.0],[2.728377333480614,6.0],[-0.7025272432181873,4.0],[0.11291295968229864,5.0],[0.2304247641406798,5.0],[0.6199178810079697,5.0],[0.20614035087718197,5.0],[-0.06156371844858732,4.0],[-0.4376437515972387,4.0],[-1.048714479025703,4.0],[1.531280707500815,6.0],[0.4744489473164082,5.0],[-2.098065117724768,4.0],[0.19047619047618536,5.0],[-0.6929941142965634,4.0],[1.448483192129002,6.0],[-0.35376639219273365,4.0],[0.2987697715290061,5.0],[0.4184100418409997,5.0],[-1.7419843473870156,4.0],[-1.6074494095614678,4.0],[-0.01856271546010202,4.0],[2.11193241816261,6.0],[-2.9547553093259515,4.0],[-1.1881188118811892,4.0],[1.161528441163684,6.0],[0.15316404675533857,5.0],[-0.6108565875329708,4.0],[0.8078905630451994,5.0],[-0.465866332198539,4.0],[-0.6781144044624376,4.0],[0.4893393918210531,5.0],[-0.05710507333495096,4.0],[0.7794918626267799,5.0],[-1.7192982456140316,4.0],[-2.552889729346408,4.0],[0.7675775253300543,5.0],[0.9374419899758735,5.0],[-0.9072235535775408,4.0],[-1.2445263885687785,4.0],[-0.4152182309772212,4.0],[0.19730351857942807,5.0],[-1.4526823387582821,4.0],[\"(?)\",4.785943415984684],[\"(?)\",4.047634814613096],[\"(?)\",4.044940196926343],[\"(?)\",4.354744188967903],[\"(?)\",5.3493997198369385],[\"(?)\",4.549261645239168],[\"(?)\",5.199068159171019],[\"(?)\",4.5670282038700805],[\"(?)\",4.2853612148463895],[\"(?)\",3.949250824673315],[\"(?)\",4.514028575294182],[\"(?)\",4.3178264700862625]],\"domain\":{\"x\":[0.0,1.0],\"y\":[0.0,1.0]},\"hovertemplate\":\"labels=%{label}<br>mkt_cap=%{value}<br>parent=%{parent}<br>id=%{id}<br>daily_return=%{customdata[0]}<br>daily_return2=%{color}<extra></extra>\",\"ids\":[\"all/Industrials/AAL 0.97%\",\"all/Technology/AAPL -1.14%\",\"all/Healthcare/ABBV -0.32%\",\"all/Consumer Cyclical/ABNB -2.89%\",\"all/Healthcare/ABT 0.32%\",\"all/Financial Services/ACGL 1.66%\",\"all/Technology/ACN 1.44%\",\"all/Technology/ADBE -1.98%\",\"all/Technology/ADI -0.98%\",\"all/Consumer Defensive/ADM -0.4%\",\"all/Technology/ADP 0.44%\",\"all/Technology/ADSK -0.58%\",\"all/Utilities/AEE 1.25%\",\"all/Utilities/AEP 0.17%\",\"all/Utilities/AES -0.46%\",\"all/Financial Services/AFL 1.03%\",\"all/Financial Services/AIG 0.17%\",\"all/Financial Services/AIZ -0.32%\",\"all/Financial Services/AJG 1.21%\",\"all/Technology/AKAM -0.91%\",\"all/Basic Materials/ALB -0.23%\",\"all/Healthcare/ALGN -0.6%\",\"all/Financial Services/ALL 0.07%\",\"all/Industrials/ALLE -1.32%\",\"all/Technology/AMAT 0.19%\",\"all/Consumer Cyclical/AMCR 0.74%\",\"all/Technology/AMD -1.71%\",\"all/Industrials/AME -0.41%\",\"all/Healthcare/AMGN 1.34%\",\"all/Financial Services/AMP -0.37%\",\"all/Real Estate/AMT -1.71%\",\"all/Consumer Cyclical/AMZN -2.42%\",\"all/Technology/ANET -3.1%\",\"all/Technology/ANSS -0.82%\",\"all/Financial Services/AON -0.01%\",\"all/Industrials/AOS -0.87%\",\"all/Energy/APA 0.0%\",\"all/Basic Materials/APD 1.09%\",\"all/Technology/APH 0.46%\",\"all/Consumer Cyclical/APTV 0.72%\",\"all/Real Estate/ARE -0.38%\",\"all/Utilities/ATO 0.09%\",\"all/Real Estate/AVB -0.73%\",\"all/Technology/AVGO -3.29%\",\"all/Consumer Cyclical/AVY -0.72%\",\"all/Utilities/AWK -0.28%\",\"all/Industrials/AXON -1.52%\",\"all/Financial Services/AXP 0.05%\",\"all/Consumer Cyclical/AZO -1.02%\",\"all/Industrials/BA 1.01%\",\"all/Financial Services/BAC 1.5%\",\"all/Consumer Cyclical/BALL -0.61%\",\"all/Healthcare/BAX -0.27%\",\"all/Consumer Cyclical/BBWI 0.82%\",\"all/Consumer Cyclical/BBY -0.58%\",\"all/Healthcare/BDX 0.63%\",\"all/Financial Services/BEN -1.3%\",\"all/Consumer Defensive/BG -0.22%\",\"all/Healthcare/BIIB -0.08%\",\"all/Healthcare/BIO 0.15%\",\"all/Financial Services/BK 0.05%\",\"all/Consumer Cyclical/BKNG -2.32%\",\"all/Energy/BKR 1.33%\",\"all/Industrials/BLDR -1.6%\",\"all/Financial Services/BLK -3.16%\",\"all/Healthcare/BMY 0.81%\",\"all/Technology/BR 0.39%\",\"all/Financial Services/BRO 0.15%\",\"all/Healthcare/BSX 0.77%\",\"all/Consumer Cyclical/BWA 0.59%\",\"all/Financial Services/BX -1.97%\",\"all/Real Estate/BXP -2.31%\",\"all/Financial Services/C 1.29%\",\"all/Consumer Defensive/CAG -0.97%\",\"all/Healthcare/CAH 1.48%\",\"all/Industrials/CARR -0.73%\",\"all/Industrials/CAT -0.33%\",\"all/Financial Services/CB 0.54%\",\"all/Financial Services/CBOE -0.48%\",\"all/Real Estate/CBRE -2.83%\",\"all/Real Estate/CCI -1.22%\",\"all/Consumer Cyclical/CCL -1.2%\",\"all/Technology/CDNS -2.1%\",\"all/Technology/CDW 0.94%\",\"all/Basic Materials/CE 0.38%\",\"all/Utilities/CEG -3.27%\",\"all/Basic Materials/CF -1.13%\",\"all/Financial Services/CFG -0.22%\",\"all/Consumer Defensive/CHD 1.11%\",\"all/Industrials/CHRW 0.51%\",\"all/Communication Services/CHTR -0.55%\",\"all/Healthcare/CI 0.1%\",\"all/Financial Services/CINF 0.4%\",\"all/Consumer Defensive/CL -0.17%\",\"all/Consumer Defensive/CLX 1.34%\",\"all/Communication Services/CMCSA -0.83%\",\"all/Financial Services/CME 0.53%\",\"all/Consumer Cyclical/CMG -1.38%\",\"all/Industrials/CMI 0.54%\",\"all/Utilities/CMS 0.44%\",\"all/Healthcare/CNC -0.13%\",\"all/Utilities/CNP -0.58%\",\"all/Financial Services/COF -0.89%\",\"all/Healthcare/COO -0.34%\",\"all/Energy/COP 1.68%\",\"all/Healthcare/COR 2.34%\",\"all/Consumer Defensive/COST -0.15%\",\"all/Technology/CPAY 1.54%\",\"all/Consumer Defensive/CPB -1.36%\",\"all/Industrials/CPRT -0.6%\",\"all/Real Estate/CPT -2.78%\",\"all/Healthcare/CRL 0.12%\",\"all/Technology/CRM -1.69%\",\"all/Technology/CRWD -1.76%\",\"all/Technology/CSCO 0.27%\",\"all/Real Estate/CSGP -1.19%\",\"all/Industrials/CSX 0.59%\",\"all/Industrials/CTAS 1.96%\",\"all/Healthcare/CTLT 0.0%\",\"all/Energy/CTRA 0.46%\",\"all/Technology/CTSH -0.38%\",\"all/Basic Materials/CTVA 0.16%\",\"all/Healthcare/CVS -0.09%\",\"all/Energy/CVX 1.58%\",\"all/Consumer Cyclical/CZR -1.02%\",\"all/Utilities/D 0.69%\",\"all/Industrials/DAL 1.9%\",\"all/Technology/DAY -3.4%\",\"all/Basic Materials/DD -0.24%\",\"all/Industrials/DE -1.13%\",\"all/Consumer Cyclical/DECK -1.62%\",\"all/Financial Services/DFS -0.9%\",\"all/Consumer Defensive/DG -1.45%\",\"all/Healthcare/DGX 0.9%\",\"all/Consumer Cyclical/DHI -1.09%\",\"all/Healthcare/DHR 0.38%\",\"all/Communication Services/DIS 0.31%\",\"all/Real Estate/DLR 0.16%\",\"all/Consumer Defensive/DLTR -2.09%\",\"all/Real Estate/DOC -0.55%\",\"all/Industrials/DOV -0.03%\",\"all/Basic Materials/DOW -0.86%\",\"all/Consumer Cyclical/DPZ -3.2%\",\"all/Consumer Cyclical/DRI 0.21%\",\"all/Utilities/DTE 0.59%\",\"all/Utilities/DUK 0.41%\",\"all/Healthcare/DVA 0.77%\",\"all/Energy/DVN 2.79%\",\"all/Healthcare/DXCM -0.66%\",\"all/Communication Services/EA -0.4%\",\"all/Consumer Cyclical/EBAY 0.37%\",\"all/Basic Materials/ECL 0.03%\",\"all/Utilities/ED -0.42%\",\"all/Industrials/EFX -1.31%\",\"all/Financial Services/EG 2.59%\",\"all/Utilities/EIX -0.3%\",\"all/Consumer Defensive/EL 0.82%\",\"all/Healthcare/ELV 0.29%\",\"all/Basic Materials/EMN -0.19%\",\"all/Industrials/EMR -1.15%\",\"all/Technology/ENPH 2.98%\",\"all/Energy/EOG 0.93%\",\"all/Technology/EPAM -1.1%\",\"all/Real Estate/EQIX 0.01%\",\"all/Real Estate/EQR -1.37%\",\"all/Energy/EQT 1.07%\",\"all/Utilities/ES -0.27%\",\"all/Real Estate/ESS -1.0%\",\"all/Industrials/ETN -1.33%\",\"all/Utilities/ETR 0.93%\",\"all/Consumer Cyclical/ETSY -4.65%\",\"all/Utilities/EVRG 0.45%\",\"all/Healthcare/EW 0.14%\",\"all/Utilities/EXC -0.71%\",\"all/Industrials/EXPD 0.26%\",\"all/Consumer Cyclical/EXPE -1.44%\",\"all/Real Estate/EXR -0.09%\",\"all/Consumer Cyclical/F -1.61%\",\"all/Energy/FANG 1.64%\",\"all/Industrials/FAST 0.47%\",\"all/Basic Materials/FCX 0.44%\",\"all/Financial Services/FDS -1.15%\",\"all/Industrials/FDX 0.38%\",\"all/Utilities/FE 0.1%\",\"all/Technology/FFIV -0.93%\",\"all/Technology/FI -0.88%\",\"all/Technology/FICO -1.67%\",\"all/Technology/FIS 0.15%\",\"all/Financial Services/FITB -0.19%\",\"all/Basic Materials/FMC 2.94%\",\"all/Communication Services/FOX -0.55%\",\"all/Communication Services/FOXA -0.81%\",\"all/Real Estate/FRT -1.54%\",\"all/Technology/FSLR 3.38%\",\"all/Technology/FTNT -2.05%\",\"all/Technology/FTV 0.17%\",\"all/Industrials/GD 0.64%\",\"all/Technology/GDDY -1.89%\",\"all/Industrials/GE -0.08%\",\"all/Healthcare/GEHC 2.02%\",\"all/Technology/GEN -1.64%\",\"all/Utilities/GEV -0.75%\",\"all/Healthcare/GILD -0.66%\",\"all/Consumer Defensive/GIS -0.99%\",\"all/Financial Services/GL 0.26%\",\"all/Technology/GLW -1.01%\",\"all/Consumer Cyclical/GM -2.9%\",\"all/Industrials/GNRC 0.59%\",\"all/Communication Services/GOOG -0.63%\",\"all/Consumer Cyclical/GPC -0.65%\",\"all/Industrials/GPN -0.66%\",\"all/Technology/GRMN 0.35%\",\"all/Financial Services/GS -0.56%\",\"all/Industrials/GWW 0.83%\",\"all/Energy/HAL 0.33%\",\"all/Consumer Cyclical/HAS 0.39%\",\"all/Financial Services/HBAN 0.12%\",\"all/Healthcare/HCA 3.8%\",\"all/Consumer Cyclical/HD -1.32%\",\"all/Energy/HES 1.98%\",\"all/Financial Services/HIG 0.34%\",\"all/Industrials/HII 1.26%\",\"all/Consumer Cyclical/HLT -0.89%\",\"all/Healthcare/HOLX -1.46%\",\"all/Industrials/HON -0.5%\",\"all/Technology/HPE -2.49%\",\"all/Technology/HPQ -0.59%\",\"all/Consumer Defensive/HRL -1.76%\",\"all/Healthcare/HSIC -0.13%\",\"all/Real Estate/HST -1.33%\",\"all/Consumer Defensive/HSY -0.73%\",\"all/Industrials/HUBB -1.5%\",\"all/Healthcare/HUM 1.1%\",\"all/Industrials/HWM -0.72%\",\"all/Technology/IBM 0.58%\",\"all/Financial Services/ICE -0.1%\",\"all/Healthcare/IDXX -0.44%\",\"all/Industrials/IEX -0.63%\",\"all/Basic Materials/IFF 0.55%\",\"all/Healthcare/INCY 1.78%\",\"all/Technology/INTC 0.7%\",\"all/Technology/INTU -1.56%\",\"all/Real Estate/INVH -0.74%\",\"all/Consumer Cyclical/IP 0.21%\",\"all/Communication Services/IPG -1.04%\",\"all/Healthcare/IQV 1.69%\",\"all/Industrials/IR -2.31%\",\"all/Real Estate/IRM -2.65%\",\"all/Healthcare/ISRG -1.93%\",\"all/Technology/IT -0.05%\",\"all/Industrials/ITW -0.71%\",\"all/Financial Services/IVZ -1.44%\",\"all/Industrials/J -0.77%\",\"all/Industrials/JBHT 0.05%\",\"all/Technology/JBL 0.47%\",\"all/Industrials/JCI -0.13%\",\"all/Technology/JKHY 1.01%\",\"all/Healthcare/JNJ 1.79%\",\"all/Technology/JNPR 0.87%\",\"all/Financial Services/JPM 0.96%\",\"all/Consumer Defensive/K 0.16%\",\"all/Consumer Defensive/KDP -1.29%\",\"all/Financial Services/KEY -1.09%\",\"all/Technology/KEYS 0.53%\",\"all/Consumer Defensive/KHC -0.93%\",\"all/Real Estate/KIM -1.66%\",\"all/Financial Services/KKR -2.73%\",\"all/Technology/KLAC -0.14%\",\"all/Consumer Defensive/KMB 0.94%\",\"all/Energy/KMI -0.07%\",\"all/Consumer Cyclical/KMX -0.79%\",\"all/Consumer Defensive/KO 0.05%\",\"all/Consumer Defensive/KR -2.44%\",\"all/Consumer Defensive/KVUE -0.28%\",\"all/Technology/LDOS -0.63%\",\"all/Consumer Cyclical/LEN -1.42%\",\"all/Healthcare/LH 2.25%\",\"all/Industrials/LHX -0.63%\",\"all/Basic Materials/LIN 0.49%\",\"all/Consumer Cyclical/LKQ -0.73%\",\"all/Healthcare/LLY 1.07%\",\"all/Industrials/LMT -0.44%\",\"all/Utilities/LNT 0.09%\",\"all/Consumer Cyclical/LOW -1.27%\",\"all/Technology/LRCX -0.59%\",\"all/Consumer Cyclical/LULU -0.47%\",\"all/Industrials/LUV -2.81%\",\"all/Consumer Cyclical/LVS -2.81%\",\"all/Consumer Defensive/LW -2.17%\",\"all/Basic Materials/LYB 0.05%\",\"all/Communication Services/LYV 0.29%\",\"all/Financial Services/MA -0.1%\",\"all/Real Estate/MAA -1.01%\",\"all/Consumer Cyclical/MAR -1.04%\",\"all/Industrials/MAS -1.92%\",\"all/Consumer Cyclical/MCD -0.97%\",\"all/Technology/MCHP -1.41%\",\"all/Healthcare/MCK 0.83%\",\"all/Financial Services/MCO -1.93%\",\"all/Consumer Defensive/MDLZ 0.12%\",\"all/Healthcare/MDT 0.04%\",\"all/Financial Services/MET 0.18%\",\"all/Communication Services/META -1.95%\",\"all/Consumer Cyclical/MGM -2.09%\",\"all/Consumer Cyclical/MHK -0.4%\",\"all/Consumer Defensive/MKC 0.26%\",\"all/Financial Services/MKTX -1.4%\",\"all/Basic Materials/MLM -1.69%\",\"all/Financial Services/MMC 0.72%\",\"all/Industrials/MMM 1.9%\",\"all/Consumer Defensive/MNST -0.62%\",\"all/Consumer Defensive/MO -1.21%\",\"all/Healthcare/MOH -0.61%\",\"all/Basic Materials/MOS -0.55%\",\"all/Energy/MPC 0.8%\",\"all/Technology/MPWR -0.99%\",\"all/Healthcare/MRK 1.3%\",\"all/Healthcare/MRNA 11.65%\",\"all/Energy/MRO -1.28%\",\"all/Financial Services/MS -1.37%\",\"all/Financial Services/MSCI -0.89%\",\"all/Technology/MSFT -1.28%\",\"all/Technology/MSI -0.28%\",\"all/Financial Services/MTB -0.63%\",\"all/Communication Services/MTCH -2.94%\",\"all/Healthcare/MTD 0.22%\",\"all/Technology/MU 2.67%\",\"all/Consumer Cyclical/NCLH -0.51%\",\"all/Financial Services/NDAQ -0.6%\",\"all/Industrials/NDSN -0.74%\",\"all/Utilities/NEE -1.14%\",\"all/Basic Materials/NEM 0.98%\",\"all/Communication Services/NFLX -0.29%\",\"all/Utilities/NI 0.56%\",\"all/Consumer Cyclical/NKE 0.12%\",\"all/Industrials/NOC -0.6%\",\"all/Technology/NOW -2.13%\",\"all/Utilities/NRG -2.02%\",\"all/Industrials/NSC 0.34%\",\"all/Technology/NTAP -0.69%\",\"all/Financial Services/NTRS -0.45%\",\"all/Basic Materials/NUE 0.55%\",\"all/Technology/NVDA -6.22%\",\"all/Consumer Cyclical/NVR -1.15%\",\"all/Communication Services/NWS 0.63%\",\"all/Communication Services/NWSA 0.58%\",\"all/Technology/NXPI -0.39%\",\"all/Real Estate/O -0.42%\",\"all/Industrials/ODFL -1.11%\",\"all/Energy/OKE -0.01%\",\"all/Communication Services/OMC -0.55%\",\"all/Technology/ON -2.76%\",\"all/Technology/ORCL -2.21%\",\"all/Consumer Cyclical/ORLY -0.89%\",\"all/Industrials/OTIS -0.18%\",\"all/Energy/OXY 1.54%\",\"all/Technology/PANW -2.22%\",\"all/Communication Services/PARA -0.37%\",\"all/Technology/PAYC -2.38%\",\"all/Technology/PAYX 2.35%\",\"all/Industrials/PCAR 2.16%\",\"all/Utilities/PCG 0.6%\",\"all/Utilities/PEG -0.34%\",\"all/Consumer Defensive/PEP -0.59%\",\"all/Healthcare/PFE 0.89%\",\"all/Financial Services/PFG 0.62%\",\"all/Consumer Defensive/PG 0.44%\",\"all/Financial Services/PGR 1.12%\",\"all/Industrials/PH -0.9%\",\"all/Consumer Cyclical/PHM -1.01%\",\"all/Consumer Cyclical/PKG -0.48%\",\"all/Real Estate/PLD -0.08%\",\"all/Consumer Defensive/PM 0.33%\",\"all/Financial Services/PNC -0.42%\",\"all/Industrials/PNR -0.84%\",\"all/Utilities/PNW 0.13%\",\"all/Healthcare/PODD -1.03%\",\"all/Industrials/POOL -1.37%\",\"all/Basic Materials/PPG 0.69%\",\"all/Utilities/PPL 0.85%\",\"all/Financial Services/PRU 0.46%\",\"all/Real Estate/PSA 0.8%\",\"all/Energy/PSX 0.02%\",\"all/Technology/PTC -0.94%\",\"all/Industrials/PWR -2.51%\",\"all/Financial Services/PYPL -1.74%\",\"all/Technology/QCOM 0.42%\",\"all/Technology/QRVO 2.07%\",\"all/Consumer Cyclical/RCL -1.35%\",\"all/Real Estate/REG -1.29%\",\"all/Healthcare/REGN 1.96%\",\"all/Financial Services/RF 0.29%\",\"all/Financial Services/RJF -0.56%\",\"all/Consumer Cyclical/RL -0.18%\",\"all/Healthcare/RMD 0.56%\",\"all/Industrials/ROK -0.05%\",\"all/Consumer Cyclical/ROL 0.22%\",\"all/Technology/ROP 0.0%\",\"all/Consumer Cyclical/ROST -2.19%\",\"all/Industrials/RSG 1.05%\",\"all/Industrials/RTX 0.61%\",\"all/Healthcare/RVTY 0.87%\",\"all/Real Estate/SBAC -1.53%\",\"all/Consumer Cyclical/SBUX -0.31%\",\"all/Financial Services/SCHW -2.98%\",\"all/Basic Materials/SHW -1.01%\",\"all/Consumer Defensive/SJM -1.55%\",\"all/Energy/SLB 1.57%\",\"all/Technology/SMCI -5.68%\",\"all/Industrials/SNA 0.32%\",\"all/Technology/SNPS -2.68%\",\"all/Utilities/SO 0.16%\",\"all/Healthcare/SOLV 1.37%\",\"all/Real Estate/SPG -0.14%\",\"all/Financial Services/SPGI -0.57%\",\"all/Utilities/SRE -0.33%\",\"all/Healthcare/STE 1.22%\",\"all/Basic Materials/STLD 0.99%\",\"all/Financial Services/STT -0.72%\",\"all/Technology/STX 0.55%\",\"all/Consumer Defensive/STZ -1.98%\",\"all/Consumer Cyclical/SW -2.32%\",\"all/Industrials/SWK -1.21%\",\"all/Technology/SWKS 1.93%\",\"all/Financial Services/SYF -1.61%\",\"all/Healthcare/SYK -1.71%\",\"all/Consumer Defensive/SYY -0.25%\",\"all/Communication Services/T -1.77%\",\"all/Consumer Defensive/TAP -1.38%\",\"all/Industrials/TDG 0.06%\",\"all/Technology/TDY 0.72%\",\"all/Healthcare/TECH 0.7%\",\"all/Technology/TEL 0.22%\",\"all/Technology/TER -0.84%\",\"all/Financial Services/TFC -0.29%\",\"all/Healthcare/TFX -0.39%\",\"all/Consumer Defensive/TGT -0.03%\",\"all/Consumer Cyclical/TJX -0.61%\",\"all/Healthcare/TMO 1.57%\",\"all/Communication Services/TMUS -0.02%\",\"all/Consumer Cyclical/TPR -0.44%\",\"all/Energy/TRGP 0.89%\",\"all/Technology/TRMB 1.29%\",\"all/Financial Services/TROW -1.06%\",\"all/Financial Services/TRV -0.08%\",\"all/Consumer Cyclical/TSCO 0.41%\",\"all/Consumer Cyclical/TSLA -4.06%\",\"all/Consumer Defensive/TSN -2.15%\",\"all/Industrials/TT -0.93%\",\"all/Communication Services/TTWO -3.83%\",\"all/Technology/TXN 0.02%\",\"all/Industrials/TXT 0.25%\",\"all/Technology/TYL -2.14%\",\"all/Industrials/UAL 2.68%\",\"all/Technology/UBER -0.24%\",\"all/Real Estate/UDR -1.01%\",\"all/Healthcare/UHS 2.73%\",\"all/Consumer Cyclical/ULTA -0.7%\",\"all/Healthcare/UNH 0.11%\",\"all/Industrials/UNP 0.23%\",\"all/Industrials/UPS 0.62%\",\"all/Industrials/URI 0.21%\",\"all/Financial Services/USB -0.06%\",\"all/Financial Services/V -0.44%\",\"all/Real Estate/VICI -1.05%\",\"all/Energy/VLO 1.53%\",\"all/Industrials/VLTO 0.47%\",\"all/Basic Materials/VMC -2.1%\",\"all/Industrials/VRSK 0.19%\",\"all/Technology/VRSN -0.69%\",\"all/Healthcare/VRTX 1.45%\",\"all/Utilities/VST -0.35%\",\"all/Real Estate/VTR 0.3%\",\"all/Healthcare/VTRS 0.42%\",\"all/Communication Services/VZ -1.74%\",\"all/Industrials/WAB -1.61%\",\"all/Healthcare/WAT -0.02%\",\"all/Healthcare/WBA 2.11%\",\"all/Communication Services/WBD -2.95%\",\"all/Technology/WDC -1.19%\",\"all/Utilities/WEC 1.16%\",\"all/Real Estate/WELL 0.15%\",\"all/Financial Services/WFC -0.61%\",\"all/Industrials/WM 0.81%\",\"all/Energy/WMB -0.47%\",\"all/Consumer Defensive/WMT -0.68%\",\"all/Financial Services/WRB 0.49%\",\"all/Healthcare/WST -0.06%\",\"all/Financial Services/WTW 0.78%\",\"all/Real Estate/WY -1.72%\",\"all/Consumer Cyclical/WYNN -2.55%\",\"all/Utilities/XEL 0.77%\",\"all/Energy/XOM 0.94%\",\"all/Industrials/XYL -0.91%\",\"all/Consumer Cyclical/YUM -1.24%\",\"all/Healthcare/ZBH -0.42%\",\"all/Technology/ZBRA 0.2%\",\"all/Healthcare/ZTS -1.45%\",\"all/Basic Materials\",\"all/Communication Services\",\"all/Consumer Cyclical\",\"all/Consumer Defensive\",\"all/Energy\",\"all/Financial Services\",\"all/Healthcare\",\"all/Industrials\",\"all/Real Estate\",\"all/Technology\",\"all/Utilities\",\"all\"],\"labels\":[\"AAL 0.97%\",\"AAPL -1.14%\",\"ABBV -0.32%\",\"ABNB -2.89%\",\"ABT 0.32%\",\"ACGL 1.66%\",\"ACN 1.44%\",\"ADBE -1.98%\",\"ADI -0.98%\",\"ADM -0.4%\",\"ADP 0.44%\",\"ADSK -0.58%\",\"AEE 1.25%\",\"AEP 0.17%\",\"AES -0.46%\",\"AFL 1.03%\",\"AIG 0.17%\",\"AIZ -0.32%\",\"AJG 1.21%\",\"AKAM -0.91%\",\"ALB -0.23%\",\"ALGN -0.6%\",\"ALL 0.07%\",\"ALLE -1.32%\",\"AMAT 0.19%\",\"AMCR 0.74%\",\"AMD -1.71%\",\"AME -0.41%\",\"AMGN 1.34%\",\"AMP -0.37%\",\"AMT -1.71%\",\"AMZN -2.42%\",\"ANET -3.1%\",\"ANSS -0.82%\",\"AON -0.01%\",\"AOS -0.87%\",\"APA 0.0%\",\"APD 1.09%\",\"APH 0.46%\",\"APTV 0.72%\",\"ARE -0.38%\",\"ATO 0.09%\",\"AVB -0.73%\",\"AVGO -3.29%\",\"AVY -0.72%\",\"AWK -0.28%\",\"AXON -1.52%\",\"AXP 0.05%\",\"AZO -1.02%\",\"BA 1.01%\",\"BAC 1.5%\",\"BALL -0.61%\",\"BAX -0.27%\",\"BBWI 0.82%\",\"BBY -0.58%\",\"BDX 0.63%\",\"BEN -1.3%\",\"BG -0.22%\",\"BIIB -0.08%\",\"BIO 0.15%\",\"BK 0.05%\",\"BKNG -2.32%\",\"BKR 1.33%\",\"BLDR -1.6%\",\"BLK -3.16%\",\"BMY 0.81%\",\"BR 0.39%\",\"BRO 0.15%\",\"BSX 0.77%\",\"BWA 0.59%\",\"BX -1.97%\",\"BXP -2.31%\",\"C 1.29%\",\"CAG -0.97%\",\"CAH 1.48%\",\"CARR -0.73%\",\"CAT -0.33%\",\"CB 0.54%\",\"CBOE -0.48%\",\"CBRE -2.83%\",\"CCI -1.22%\",\"CCL -1.2%\",\"CDNS -2.1%\",\"CDW 0.94%\",\"CE 0.38%\",\"CEG -3.27%\",\"CF -1.13%\",\"CFG -0.22%\",\"CHD 1.11%\",\"CHRW 0.51%\",\"CHTR -0.55%\",\"CI 0.1%\",\"CINF 0.4%\",\"CL -0.17%\",\"CLX 1.34%\",\"CMCSA -0.83%\",\"CME 0.53%\",\"CMG -1.38%\",\"CMI 0.54%\",\"CMS 0.44%\",\"CNC -0.13%\",\"CNP -0.58%\",\"COF -0.89%\",\"COO -0.34%\",\"COP 1.68%\",\"COR 2.34%\",\"COST -0.15%\",\"CPAY 1.54%\",\"CPB -1.36%\",\"CPRT -0.6%\",\"CPT -2.78%\",\"CRL 0.12%\",\"CRM -1.69%\",\"CRWD -1.76%\",\"CSCO 0.27%\",\"CSGP -1.19%\",\"CSX 0.59%\",\"CTAS 1.96%\",\"CTLT 0.0%\",\"CTRA 0.46%\",\"CTSH -0.38%\",\"CTVA 0.16%\",\"CVS -0.09%\",\"CVX 1.58%\",\"CZR -1.02%\",\"D 0.69%\",\"DAL 1.9%\",\"DAY -3.4%\",\"DD -0.24%\",\"DE -1.13%\",\"DECK -1.62%\",\"DFS -0.9%\",\"DG -1.45%\",\"DGX 0.9%\",\"DHI -1.09%\",\"DHR 0.38%\",\"DIS 0.31%\",\"DLR 0.16%\",\"DLTR -2.09%\",\"DOC -0.55%\",\"DOV -0.03%\",\"DOW -0.86%\",\"DPZ -3.2%\",\"DRI 0.21%\",\"DTE 0.59%\",\"DUK 0.41%\",\"DVA 0.77%\",\"DVN 2.79%\",\"DXCM -0.66%\",\"EA -0.4%\",\"EBAY 0.37%\",\"ECL 0.03%\",\"ED -0.42%\",\"EFX -1.31%\",\"EG 2.59%\",\"EIX -0.3%\",\"EL 0.82%\",\"ELV 0.29%\",\"EMN -0.19%\",\"EMR -1.15%\",\"ENPH 2.98%\",\"EOG 0.93%\",\"EPAM -1.1%\",\"EQIX 0.01%\",\"EQR -1.37%\",\"EQT 1.07%\",\"ES -0.27%\",\"ESS -1.0%\",\"ETN -1.33%\",\"ETR 0.93%\",\"ETSY -4.65%\",\"EVRG 0.45%\",\"EW 0.14%\",\"EXC -0.71%\",\"EXPD 0.26%\",\"EXPE -1.44%\",\"EXR -0.09%\",\"F -1.61%\",\"FANG 1.64%\",\"FAST 0.47%\",\"FCX 0.44%\",\"FDS -1.15%\",\"FDX 0.38%\",\"FE 0.1%\",\"FFIV -0.93%\",\"FI -0.88%\",\"FICO -1.67%\",\"FIS 0.15%\",\"FITB -0.19%\",\"FMC 2.94%\",\"FOX -0.55%\",\"FOXA -0.81%\",\"FRT -1.54%\",\"FSLR 3.38%\",\"FTNT -2.05%\",\"FTV 0.17%\",\"GD 0.64%\",\"GDDY -1.89%\",\"GE -0.08%\",\"GEHC 2.02%\",\"GEN -1.64%\",\"GEV -0.75%\",\"GILD -0.66%\",\"GIS -0.99%\",\"GL 0.26%\",\"GLW -1.01%\",\"GM -2.9%\",\"GNRC 0.59%\",\"GOOG -0.63%\",\"GPC -0.65%\",\"GPN -0.66%\",\"GRMN 0.35%\",\"GS -0.56%\",\"GWW 0.83%\",\"HAL 0.33%\",\"HAS 0.39%\",\"HBAN 0.12%\",\"HCA 3.8%\",\"HD -1.32%\",\"HES 1.98%\",\"HIG 0.34%\",\"HII 1.26%\",\"HLT -0.89%\",\"HOLX -1.46%\",\"HON -0.5%\",\"HPE -2.49%\",\"HPQ -0.59%\",\"HRL -1.76%\",\"HSIC -0.13%\",\"HST -1.33%\",\"HSY -0.73%\",\"HUBB -1.5%\",\"HUM 1.1%\",\"HWM -0.72%\",\"IBM 0.58%\",\"ICE -0.1%\",\"IDXX -0.44%\",\"IEX -0.63%\",\"IFF 0.55%\",\"INCY 1.78%\",\"INTC 0.7%\",\"INTU -1.56%\",\"INVH -0.74%\",\"IP 0.21%\",\"IPG -1.04%\",\"IQV 1.69%\",\"IR -2.31%\",\"IRM -2.65%\",\"ISRG -1.93%\",\"IT -0.05%\",\"ITW -0.71%\",\"IVZ -1.44%\",\"J -0.77%\",\"JBHT 0.05%\",\"JBL 0.47%\",\"JCI -0.13%\",\"JKHY 1.01%\",\"JNJ 1.79%\",\"JNPR 0.87%\",\"JPM 0.96%\",\"K 0.16%\",\"KDP -1.29%\",\"KEY -1.09%\",\"KEYS 0.53%\",\"KHC -0.93%\",\"KIM -1.66%\",\"KKR -2.73%\",\"KLAC -0.14%\",\"KMB 0.94%\",\"KMI -0.07%\",\"KMX -0.79%\",\"KO 0.05%\",\"KR -2.44%\",\"KVUE -0.28%\",\"LDOS -0.63%\",\"LEN -1.42%\",\"LH 2.25%\",\"LHX -0.63%\",\"LIN 0.49%\",\"LKQ -0.73%\",\"LLY 1.07%\",\"LMT -0.44%\",\"LNT 0.09%\",\"LOW -1.27%\",\"LRCX -0.59%\",\"LULU -0.47%\",\"LUV -2.81%\",\"LVS -2.81%\",\"LW -2.17%\",\"LYB 0.05%\",\"LYV 0.29%\",\"MA -0.1%\",\"MAA -1.01%\",\"MAR -1.04%\",\"MAS -1.92%\",\"MCD -0.97%\",\"MCHP -1.41%\",\"MCK 0.83%\",\"MCO -1.93%\",\"MDLZ 0.12%\",\"MDT 0.04%\",\"MET 0.18%\",\"META -1.95%\",\"MGM -2.09%\",\"MHK -0.4%\",\"MKC 0.26%\",\"MKTX -1.4%\",\"MLM -1.69%\",\"MMC 0.72%\",\"MMM 1.9%\",\"MNST -0.62%\",\"MO -1.21%\",\"MOH -0.61%\",\"MOS -0.55%\",\"MPC 0.8%\",\"MPWR -0.99%\",\"MRK 1.3%\",\"MRNA 11.65%\",\"MRO -1.28%\",\"MS -1.37%\",\"MSCI -0.89%\",\"MSFT -1.28%\",\"MSI -0.28%\",\"MTB -0.63%\",\"MTCH -2.94%\",\"MTD 0.22%\",\"MU 2.67%\",\"NCLH -0.51%\",\"NDAQ -0.6%\",\"NDSN -0.74%\",\"NEE -1.14%\",\"NEM 0.98%\",\"NFLX -0.29%\",\"NI 0.56%\",\"NKE 0.12%\",\"NOC -0.6%\",\"NOW -2.13%\",\"NRG -2.02%\",\"NSC 0.34%\",\"NTAP -0.69%\",\"NTRS -0.45%\",\"NUE 0.55%\",\"NVDA -6.22%\",\"NVR -1.15%\",\"NWS 0.63%\",\"NWSA 0.58%\",\"NXPI -0.39%\",\"O -0.42%\",\"ODFL -1.11%\",\"OKE -0.01%\",\"OMC -0.55%\",\"ON -2.76%\",\"ORCL -2.21%\",\"ORLY -0.89%\",\"OTIS -0.18%\",\"OXY 1.54%\",\"PANW -2.22%\",\"PARA -0.37%\",\"PAYC -2.38%\",\"PAYX 2.35%\",\"PCAR 2.16%\",\"PCG 0.6%\",\"PEG -0.34%\",\"PEP -0.59%\",\"PFE 0.89%\",\"PFG 0.62%\",\"PG 0.44%\",\"PGR 1.12%\",\"PH -0.9%\",\"PHM -1.01%\",\"PKG -0.48%\",\"PLD -0.08%\",\"PM 0.33%\",\"PNC -0.42%\",\"PNR -0.84%\",\"PNW 0.13%\",\"PODD -1.03%\",\"POOL -1.37%\",\"PPG 0.69%\",\"PPL 0.85%\",\"PRU 0.46%\",\"PSA 0.8%\",\"PSX 0.02%\",\"PTC -0.94%\",\"PWR -2.51%\",\"PYPL -1.74%\",\"QCOM 0.42%\",\"QRVO 2.07%\",\"RCL -1.35%\",\"REG -1.29%\",\"REGN 1.96%\",\"RF 0.29%\",\"RJF -0.56%\",\"RL -0.18%\",\"RMD 0.56%\",\"ROK -0.05%\",\"ROL 0.22%\",\"ROP 0.0%\",\"ROST -2.19%\",\"RSG 1.05%\",\"RTX 0.61%\",\"RVTY 0.87%\",\"SBAC -1.53%\",\"SBUX -0.31%\",\"SCHW -2.98%\",\"SHW -1.01%\",\"SJM -1.55%\",\"SLB 1.57%\",\"SMCI -5.68%\",\"SNA 0.32%\",\"SNPS -2.68%\",\"SO 0.16%\",\"SOLV 1.37%\",\"SPG -0.14%\",\"SPGI -0.57%\",\"SRE -0.33%\",\"STE 1.22%\",\"STLD 0.99%\",\"STT -0.72%\",\"STX 0.55%\",\"STZ -1.98%\",\"SW -2.32%\",\"SWK -1.21%\",\"SWKS 1.93%\",\"SYF -1.61%\",\"SYK -1.71%\",\"SYY -0.25%\",\"T -1.77%\",\"TAP -1.38%\",\"TDG 0.06%\",\"TDY 0.72%\",\"TECH 0.7%\",\"TEL 0.22%\",\"TER -0.84%\",\"TFC -0.29%\",\"TFX -0.39%\",\"TGT -0.03%\",\"TJX -0.61%\",\"TMO 1.57%\",\"TMUS -0.02%\",\"TPR -0.44%\",\"TRGP 0.89%\",\"TRMB 1.29%\",\"TROW -1.06%\",\"TRV -0.08%\",\"TSCO 0.41%\",\"TSLA -4.06%\",\"TSN -2.15%\",\"TT -0.93%\",\"TTWO -3.83%\",\"TXN 0.02%\",\"TXT 0.25%\",\"TYL -2.14%\",\"UAL 2.68%\",\"UBER -0.24%\",\"UDR -1.01%\",\"UHS 2.73%\",\"ULTA -0.7%\",\"UNH 0.11%\",\"UNP 0.23%\",\"UPS 0.62%\",\"URI 0.21%\",\"USB -0.06%\",\"V -0.44%\",\"VICI -1.05%\",\"VLO 1.53%\",\"VLTO 0.47%\",\"VMC -2.1%\",\"VRSK 0.19%\",\"VRSN -0.69%\",\"VRTX 1.45%\",\"VST -0.35%\",\"VTR 0.3%\",\"VTRS 0.42%\",\"VZ -1.74%\",\"WAB -1.61%\",\"WAT -0.02%\",\"WBA 2.11%\",\"WBD -2.95%\",\"WDC -1.19%\",\"WEC 1.16%\",\"WELL 0.15%\",\"WFC -0.61%\",\"WM 0.81%\",\"WMB -0.47%\",\"WMT -0.68%\",\"WRB 0.49%\",\"WST -0.06%\",\"WTW 0.78%\",\"WY -1.72%\",\"WYNN -2.55%\",\"XEL 0.77%\",\"XOM 0.94%\",\"XYL -0.91%\",\"YUM -1.24%\",\"ZBH -0.42%\",\"ZBRA 0.2%\",\"ZTS -1.45%\",\"Basic Materials\",\"Communication Services\",\"Consumer Cyclical\",\"Consumer Defensive\",\"Energy\",\"Financial Services\",\"Healthcare\",\"Industrials\",\"Real Estate\",\"Technology\",\"Utilities\",\"all\"],\"marker\":{\"coloraxis\":\"coloraxis\",\"colors\":[5.0,4.0,4.0,4.0,5.0,6.0,6.0,4.0,4.0,4.0,5.0,4.0,6.0,5.0,4.0,6.0,5.0,4.0,6.0,4.0,4.0,4.0,5.0,4.0,5.0,5.0,4.0,4.0,6.0,4.0,4.0,4.0,4.0,4.0,5.0,4.0,5.0,6.0,5.0,5.0,4.0,5.0,4.0,4.0,4.0,4.0,4.0,5.0,4.0,6.0,6.0,4.0,4.0,5.0,4.0,5.0,4.0,4.0,4.0,5.0,5.0,4.0,6.0,4.0,4.0,5.0,5.0,5.0,5.0,5.0,4.0,4.0,6.0,4.0,6.0,4.0,4.0,5.0,4.0,4.0,4.0,4.0,4.0,5.0,5.0,4.0,4.0,4.0,6.0,5.0,4.0,5.0,5.0,4.0,6.0,4.0,5.0,4.0,5.0,5.0,4.0,4.0,4.0,4.0,6.0,6.0,4.0,6.0,4.0,4.0,4.0,5.0,4.0,4.0,5.0,4.0,5.0,6.0,5.0,5.0,4.0,5.0,4.0,6.0,4.0,5.0,6.0,4.0,4.0,4.0,4.0,4.0,4.0,5.0,4.0,5.0,5.0,5.0,4.0,4.0,4.0,4.0,4.0,5.0,5.0,5.0,5.0,6.0,4.0,4.0,5.0,5.0,4.0,4.0,6.0,4.0,5.0,5.0,4.0,4.0,6.0,5.0,4.0,5.0,4.0,6.0,4.0,4.0,4.0,5.0,4.0,5.0,5.0,4.0,5.0,4.0,4.0,4.0,6.0,5.0,5.0,4.0,5.0,5.0,4.0,4.0,4.0,5.0,4.0,6.0,4.0,4.0,4.0,6.0,4.0,5.0,5.0,4.0,4.0,6.0,4.0,4.0,4.0,4.0,5.0,4.0,4.0,5.0,4.0,4.0,4.0,5.0,4.0,5.0,5.0,5.0,5.0,6.0,4.0,6.0,5.0,6.0,4.0,4.0,4.0,4.0,4.0,4.0,4.0,4.0,4.0,4.0,6.0,4.0,5.0,4.0,4.0,4.0,5.0,6.0,5.0,4.0,4.0,5.0,4.0,6.0,4.0,4.0,4.0,4.0,4.0,4.0,4.0,5.0,5.0,4.0,6.0,6.0,5.0,5.0,5.0,4.0,4.0,5.0,4.0,4.0,4.0,4.0,5.0,4.0,4.0,5.0,4.0,4.0,4.0,4.0,6.0,4.0,5.0,4.0,6.0,4.0,5.0,4.0,4.0,4.0,4.0,4.0,4.0,5.0,5.0,4.0,4.0,4.0,4.0,4.0,4.0,5.0,4.0,5.0,5.0,5.0,4.0,4.0,4.0,5.0,4.0,4.0,5.0,6.0,4.0,4.0,4.0,4.0,5.0,4.0,6.0,8.0,4.0,4.0,4.0,4.0,4.0,4.0,4.0,5.0,6.0,4.0,4.0,4.0,4.0,5.0,4.0,5.0,5.0,4.0,4.0,4.0,5.0,4.0,4.0,5.0,3.0,4.0,5.0,5.0,4.0,4.0,4.0,5.0,4.0,4.0,4.0,4.0,4.0,6.0,4.0,4.0,4.0,6.0,6.0,5.0,4.0,4.0,5.0,5.0,5.0,6.0,4.0,4.0,4.0,4.0,5.0,4.0,4.0,5.0,4.0,4.0,5.0,5.0,5.0,5.0,5.0,4.0,4.0,4.0,5.0,6.0,4.0,4.0,6.0,5.0,4.0,4.0,5.0,4.0,5.0,5.0,4.0,6.0,5.0,5.0,4.0,4.0,4.0,4.0,4.0,6.0,3.0,5.0,4.0,5.0,6.0,4.0,4.0,4.0,6.0,5.0,4.0,5.0,4.0,4.0,4.0,6.0,4.0,4.0,4.0,4.0,4.0,5.0,5.0,5.0,5.0,4.0,4.0,4.0,4.0,4.0,6.0,4.0,4.0,5.0,6.0,4.0,4.0,5.0,4.0,4.0,4.0,4.0,5.0,5.0,4.0,6.0,4.0,4.0,6.0,4.0,5.0,5.0,5.0,5.0,4.0,4.0,4.0,6.0,5.0,4.0,5.0,4.0,6.0,4.0,5.0,5.0,4.0,4.0,4.0,6.0,4.0,4.0,6.0,5.0,4.0,5.0,4.0,4.0,5.0,4.0,5.0,4.0,4.0,5.0,5.0,4.0,4.0,4.0,5.0,4.0,4.785943415984684,4.047634814613096,4.044940196926343,4.354744188967903,5.3493997198369385,4.549261645239168,5.199068159171019,4.5670282038700805,4.2853612148463895,3.949250824673315,4.514028575294182,4.3178264700862625]},\"name\":\"\",\"parents\":[\"all/Industrials\",\"all/Technology\",\"all/Healthcare\",\"all/Consumer Cyclical\",\"all/Healthcare\",\"all/Financial Services\",\"all/Technology\",\"all/Technology\",\"all/Technology\",\"all/Consumer Defensive\",\"all/Technology\",\"all/Technology\",\"all/Utilities\",\"all/Utilities\",\"all/Utilities\",\"all/Financial Services\",\"all/Financial Services\",\"all/Financial Services\",\"all/Financial Services\",\"all/Technology\",\"all/Basic Materials\",\"all/Healthcare\",\"all/Financial Services\",\"all/Industrials\",\"all/Technology\",\"all/Consumer Cyclical\",\"all/Technology\",\"all/Industrials\",\"all/Healthcare\",\"all/Financial Services\",\"all/Real Estate\",\"all/Consumer Cyclical\",\"all/Technology\",\"all/Technology\",\"all/Financial Services\",\"all/Industrials\",\"all/Energy\",\"all/Basic Materials\",\"all/Technology\",\"all/Consumer Cyclical\",\"all/Real Estate\",\"all/Utilities\",\"all/Real Estate\",\"all/Technology\",\"all/Consumer Cyclical\",\"all/Utilities\",\"all/Industrials\",\"all/Financial Services\",\"all/Consumer Cyclical\",\"all/Industrials\",\"all/Financial Services\",\"all/Consumer Cyclical\",\"all/Healthcare\",\"all/Consumer Cyclical\",\"all/Consumer Cyclical\",\"all/Healthcare\",\"all/Financial Services\",\"all/Consumer Defensive\",\"all/Healthcare\",\"all/Healthcare\",\"all/Financial Services\",\"all/Consumer Cyclical\",\"all/Energy\",\"all/Industrials\",\"all/Financial Services\",\"all/Healthcare\",\"all/Technology\",\"all/Financial Services\",\"all/Healthcare\",\"all/Consumer Cyclical\",\"all/Financial Services\",\"all/Real Estate\",\"all/Financial Services\",\"all/Consumer Defensive\",\"all/Healthcare\",\"all/Industrials\",\"all/Industrials\",\"all/Financial Services\",\"all/Financial Services\",\"all/Real Estate\",\"all/Real Estate\",\"all/Consumer Cyclical\",\"all/Technology\",\"all/Technology\",\"all/Basic Materials\",\"all/Utilities\",\"all/Basic Materials\",\"all/Financial Services\",\"all/Consumer Defensive\",\"all/Industrials\",\"all/Communication Services\",\"all/Healthcare\",\"all/Financial Services\",\"all/Consumer Defensive\",\"all/Consumer Defensive\",\"all/Communication Services\",\"all/Financial Services\",\"all/Consumer Cyclical\",\"all/Industrials\",\"all/Utilities\",\"all/Healthcare\",\"all/Utilities\",\"all/Financial Services\",\"all/Healthcare\",\"all/Energy\",\"all/Healthcare\",\"all/Consumer Defensive\",\"all/Technology\",\"all/Consumer Defensive\",\"all/Industrials\",\"all/Real Estate\",\"all/Healthcare\",\"all/Technology\",\"all/Technology\",\"all/Technology\",\"all/Real Estate\",\"all/Industrials\",\"all/Industrials\",\"all/Healthcare\",\"all/Energy\",\"all/Technology\",\"all/Basic Materials\",\"all/Healthcare\",\"all/Energy\",\"all/Consumer Cyclical\",\"all/Utilities\",\"all/Industrials\",\"all/Technology\",\"all/Basic Materials\",\"all/Industrials\",\"all/Consumer Cyclical\",\"all/Financial Services\",\"all/Consumer Defensive\",\"all/Healthcare\",\"all/Consumer Cyclical\",\"all/Healthcare\",\"all/Communication Services\",\"all/Real Estate\",\"all/Consumer Defensive\",\"all/Real Estate\",\"all/Industrials\",\"all/Basic Materials\",\"all/Consumer Cyclical\",\"all/Consumer Cyclical\",\"all/Utilities\",\"all/Utilities\",\"all/Healthcare\",\"all/Energy\",\"all/Healthcare\",\"all/Communication Services\",\"all/Consumer Cyclical\",\"all/Basic Materials\",\"all/Utilities\",\"all/Industrials\",\"all/Financial Services\",\"all/Utilities\",\"all/Consumer Defensive\",\"all/Healthcare\",\"all/Basic Materials\",\"all/Industrials\",\"all/Technology\",\"all/Energy\",\"all/Technology\",\"all/Real Estate\",\"all/Real Estate\",\"all/Energy\",\"all/Utilities\",\"all/Real Estate\",\"all/Industrials\",\"all/Utilities\",\"all/Consumer Cyclical\",\"all/Utilities\",\"all/Healthcare\",\"all/Utilities\",\"all/Industrials\",\"all/Consumer Cyclical\",\"all/Real Estate\",\"all/Consumer Cyclical\",\"all/Energy\",\"all/Industrials\",\"all/Basic Materials\",\"all/Financial Services\",\"all/Industrials\",\"all/Utilities\",\"all/Technology\",\"all/Technology\",\"all/Technology\",\"all/Technology\",\"all/Financial Services\",\"all/Basic Materials\",\"all/Communication Services\",\"all/Communication Services\",\"all/Real Estate\",\"all/Technology\",\"all/Technology\",\"all/Technology\",\"all/Industrials\",\"all/Technology\",\"all/Industrials\",\"all/Healthcare\",\"all/Technology\",\"all/Utilities\",\"all/Healthcare\",\"all/Consumer Defensive\",\"all/Financial Services\",\"all/Technology\",\"all/Consumer Cyclical\",\"all/Industrials\",\"all/Communication Services\",\"all/Consumer Cyclical\",\"all/Industrials\",\"all/Technology\",\"all/Financial Services\",\"all/Industrials\",\"all/Energy\",\"all/Consumer Cyclical\",\"all/Financial Services\",\"all/Healthcare\",\"all/Consumer Cyclical\",\"all/Energy\",\"all/Financial Services\",\"all/Industrials\",\"all/Consumer Cyclical\",\"all/Healthcare\",\"all/Industrials\",\"all/Technology\",\"all/Technology\",\"all/Consumer Defensive\",\"all/Healthcare\",\"all/Real Estate\",\"all/Consumer Defensive\",\"all/Industrials\",\"all/Healthcare\",\"all/Industrials\",\"all/Technology\",\"all/Financial Services\",\"all/Healthcare\",\"all/Industrials\",\"all/Basic Materials\",\"all/Healthcare\",\"all/Technology\",\"all/Technology\",\"all/Real Estate\",\"all/Consumer Cyclical\",\"all/Communication Services\",\"all/Healthcare\",\"all/Industrials\",\"all/Real Estate\",\"all/Healthcare\",\"all/Technology\",\"all/Industrials\",\"all/Financial Services\",\"all/Industrials\",\"all/Industrials\",\"all/Technology\",\"all/Industrials\",\"all/Technology\",\"all/Healthcare\",\"all/Technology\",\"all/Financial Services\",\"all/Consumer Defensive\",\"all/Consumer Defensive\",\"all/Financial Services\",\"all/Technology\",\"all/Consumer Defensive\",\"all/Real Estate\",\"all/Financial Services\",\"all/Technology\",\"all/Consumer Defensive\",\"all/Energy\",\"all/Consumer Cyclical\",\"all/Consumer Defensive\",\"all/Consumer Defensive\",\"all/Consumer Defensive\",\"all/Technology\",\"all/Consumer Cyclical\",\"all/Healthcare\",\"all/Industrials\",\"all/Basic Materials\",\"all/Consumer Cyclical\",\"all/Healthcare\",\"all/Industrials\",\"all/Utilities\",\"all/Consumer Cyclical\",\"all/Technology\",\"all/Consumer Cyclical\",\"all/Industrials\",\"all/Consumer Cyclical\",\"all/Consumer Defensive\",\"all/Basic Materials\",\"all/Communication Services\",\"all/Financial Services\",\"all/Real Estate\",\"all/Consumer Cyclical\",\"all/Industrials\",\"all/Consumer Cyclical\",\"all/Technology\",\"all/Healthcare\",\"all/Financial Services\",\"all/Consumer Defensive\",\"all/Healthcare\",\"all/Financial Services\",\"all/Communication Services\",\"all/Consumer Cyclical\",\"all/Consumer Cyclical\",\"all/Consumer Defensive\",\"all/Financial Services\",\"all/Basic Materials\",\"all/Financial Services\",\"all/Industrials\",\"all/Consumer Defensive\",\"all/Consumer Defensive\",\"all/Healthcare\",\"all/Basic Materials\",\"all/Energy\",\"all/Technology\",\"all/Healthcare\",\"all/Healthcare\",\"all/Energy\",\"all/Financial Services\",\"all/Financial Services\",\"all/Technology\",\"all/Technology\",\"all/Financial Services\",\"all/Communication Services\",\"all/Healthcare\",\"all/Technology\",\"all/Consumer Cyclical\",\"all/Financial Services\",\"all/Industrials\",\"all/Utilities\",\"all/Basic Materials\",\"all/Communication Services\",\"all/Utilities\",\"all/Consumer Cyclical\",\"all/Industrials\",\"all/Technology\",\"all/Utilities\",\"all/Industrials\",\"all/Technology\",\"all/Financial Services\",\"all/Basic Materials\",\"all/Technology\",\"all/Consumer Cyclical\",\"all/Communication Services\",\"all/Communication Services\",\"all/Technology\",\"all/Real Estate\",\"all/Industrials\",\"all/Energy\",\"all/Communication Services\",\"all/Technology\",\"all/Technology\",\"all/Consumer Cyclical\",\"all/Industrials\",\"all/Energy\",\"all/Technology\",\"all/Communication Services\",\"all/Technology\",\"all/Technology\",\"all/Industrials\",\"all/Utilities\",\"all/Utilities\",\"all/Consumer Defensive\",\"all/Healthcare\",\"all/Financial Services\",\"all/Consumer Defensive\",\"all/Financial Services\",\"all/Industrials\",\"all/Consumer Cyclical\",\"all/Consumer Cyclical\",\"all/Real Estate\",\"all/Consumer Defensive\",\"all/Financial Services\",\"all/Industrials\",\"all/Utilities\",\"all/Healthcare\",\"all/Industrials\",\"all/Basic Materials\",\"all/Utilities\",\"all/Financial Services\",\"all/Real Estate\",\"all/Energy\",\"all/Technology\",\"all/Industrials\",\"all/Financial Services\",\"all/Technology\",\"all/Technology\",\"all/Consumer Cyclical\",\"all/Real Estate\",\"all/Healthcare\",\"all/Financial Services\",\"all/Financial Services\",\"all/Consumer Cyclical\",\"all/Healthcare\",\"all/Industrials\",\"all/Consumer Cyclical\",\"all/Technology\",\"all/Consumer Cyclical\",\"all/Industrials\",\"all/Industrials\",\"all/Healthcare\",\"all/Real Estate\",\"all/Consumer Cyclical\",\"all/Financial Services\",\"all/Basic Materials\",\"all/Consumer Defensive\",\"all/Energy\",\"all/Technology\",\"all/Industrials\",\"all/Technology\",\"all/Utilities\",\"all/Healthcare\",\"all/Real Estate\",\"all/Financial Services\",\"all/Utilities\",\"all/Healthcare\",\"all/Basic Materials\",\"all/Financial Services\",\"all/Technology\",\"all/Consumer Defensive\",\"all/Consumer Cyclical\",\"all/Industrials\",\"all/Technology\",\"all/Financial Services\",\"all/Healthcare\",\"all/Consumer Defensive\",\"all/Communication Services\",\"all/Consumer Defensive\",\"all/Industrials\",\"all/Technology\",\"all/Healthcare\",\"all/Technology\",\"all/Technology\",\"all/Financial Services\",\"all/Healthcare\",\"all/Consumer Defensive\",\"all/Consumer Cyclical\",\"all/Healthcare\",\"all/Communication Services\",\"all/Consumer Cyclical\",\"all/Energy\",\"all/Technology\",\"all/Financial Services\",\"all/Financial Services\",\"all/Consumer Cyclical\",\"all/Consumer Cyclical\",\"all/Consumer Defensive\",\"all/Industrials\",\"all/Communication Services\",\"all/Technology\",\"all/Industrials\",\"all/Technology\",\"all/Industrials\",\"all/Technology\",\"all/Real Estate\",\"all/Healthcare\",\"all/Consumer Cyclical\",\"all/Healthcare\",\"all/Industrials\",\"all/Industrials\",\"all/Industrials\",\"all/Financial Services\",\"all/Financial Services\",\"all/Real Estate\",\"all/Energy\",\"all/Industrials\",\"all/Basic Materials\",\"all/Industrials\",\"all/Technology\",\"all/Healthcare\",\"all/Utilities\",\"all/Real Estate\",\"all/Healthcare\",\"all/Communication Services\",\"all/Industrials\",\"all/Healthcare\",\"all/Healthcare\",\"all/Communication Services\",\"all/Technology\",\"all/Utilities\",\"all/Real Estate\",\"all/Financial Services\",\"all/Industrials\",\"all/Energy\",\"all/Consumer Defensive\",\"all/Financial Services\",\"all/Healthcare\",\"all/Financial Services\",\"all/Real Estate\",\"all/Consumer Cyclical\",\"all/Utilities\",\"all/Energy\",\"all/Industrials\",\"all/Consumer Cyclical\",\"all/Healthcare\",\"all/Technology\",\"all/Healthcare\",\"all\",\"all\",\"all\",\"all\",\"all\",\"all\",\"all\",\"all\",\"all\",\"all\",\"all\",\"\"],\"values\":[11624647680,3661198000128,317254631424,82026307584,196687773696,34708324352,222914822144,186041729024,107135631360,23653937152,117510594560,62674325504,23478986752,48181153792,9207799808,57130496000,45279391744,10616492032,69887385600,13902007296,10576249856,16241528832,49263951872,11076531200,144689463296,13730729984,206632402944,41332428800,140865896448,51304230912,82789588992,2335486771200,145237737472,29370955776,75355725824,9903159296,8752946176,63673778176,86152888320,14529925120,17014828032,21235308544,30044719104,1071718006784,14999869440,23704956928,42857488384,212756463616,54708461568,129067835392,353566326784,16022491136,15103193088,7981046272,18018725888,67325353984,10343424000,10864376832,22316865536,9537294336,56682999808,158735089664,42945429504,16493982720,151899144192,115890200576,26454319104,28901777408,135577616384,7057448960,207814852608,12404383744,139348033536,12711030784,29380014080,61199851520,175257124864,108336619520,19978276864,39366152192,38009942016,31182721024,82736922624,24118118400,7247386112,79952633856,15444275200,19699335168,25185796096,12299230208,49427423232,77863362560,22245187584,71398588416,19767824384,142270758912,81805770752,79016591360,49382776832,19633162240,31609597952,20118812672,69341929472,18499348480,131516252160,45273907200,408995233792,24233635840,11909454848,54188814336,11767981056,9703605248,310957998080,88654716928,234704044032,28844785664,62075834368,76147769344,11522381824,19412690944,37494210560,39196319744,57610006528,266706993152,7022464000,45385740288,39478292480,11232971776,31380062208,112233799680,31159203840,44632838144,16311911424,17148528640,44223066112,172695961600,201720610816,60819046400,16130076672,13925910528,25789351936,27590627328,14189198336,21594877952,24930816000,82508800000,12524244992,22787858432,30993713152,37943033856,30258429952,65535008768,30488301568,30430216192,15945919488,29957666816,26625396736,88304689152,10255982592,68731002880,9931716608,71746117632,12958003200,90705666048,26379220992,28730337280,20547823616,17985968128,135913234432,32572862464,6072317952,13922747392,43432869888,37711269888,15593326592,23401326592,32737865728,38789070848,50344742912,41425387520,55666671616,17500680192,66234028032,22655021056,15081028608,115957071872,47117082624,42616102912,28453982208,6382864896,21915037696,21915029504,8978663424,21168578560,73525837824,26593640448,71395696640,27456270336,186489389056,38089502720,16627665920,101583634432,112949444608,33564452864,9359039488,40969601024,57157206016,9579065344,2399744032768,16212987904,28574699520,40046813184,182105473024,51756138496,24378431488,7966901760,24044003328,78068662272,381679894528,42708238336,31603916800,7397394432,58843619328,16496340992,143463989248,29305554944,31575658496,16547251200,8935886848,12080418816,33493800960,23290849280,32175022080,45363105792,207083503616,84082483200,34986057728,15750445056,21109104640,14100054016,86303129600,172269305856,18966282240,18624542720,10318665728,36780974080,35932553216,29548488704,189444489216,37909966848,73408626688,7707895808,16351642624,17794478080,17058871296,52425187328,12500845568,352066273280,12684019712,684606226432,28041181184,41615888384,19021252608,28769230848,35996991488,14809560064,135300636672,92200763392,42452639744,61783805952,12168656896,262086557696,42794057728,40358322176,19654680576,35996131328,19663599616,38502604800,197581766656,9485940736,695432052736,109974757376,14718519296,139225743360,99744210944,47917129728,19719354368,35888787456,8798096384,23999541248,29894854656,469378760704,17784676352,74969972736,15469202432,207346843648,30861965312,74290364416,84091191296,77944807424,102416506880,56875376640,1559857201152,9893900288,7404128768,19945555968,8265558528,31087720448,103125794816,72301101056,50133405696,87214923776,16958656512,8020535808,45527965696,30481158144,255544213504,18290399232,15971154944,204408750080,46343299072,3140270161920,76065120256,31863465984,8135349248,26483677184,113545068544,11216951296,43888521216,11712796672,144832249856,43443253248,375816781824,16696685568,106630471680,65910968320,217489063936,19594209280,53790822400,23823396864,20366899200,28478119936,3432028569600,24195461120,16211938304,16211936256,54028484608,45957328896,38566277120,59233857536,16622263296,26710245376,453191434240,69260673024,36798349312,48371580928,115169656832,7739991040,11653490688,50142371840,57442414592,43826327552,42553397248,199487340544,153745440768,17909245952,379867955200,141930283008,81766801408,22113992704,20294109184,98711732224,188756361216,77281427456,16304996352,9459840000,18633965568,12481061888,26879520768,23615039488,42419859456,52239577088,47572201472,22035980288,47207792640,88193449984,178337742848,6960001024,60585607168,12811357184,80252665856,21676406784,32439072768,15060079616,34702573568,31797313536,22156953600,54375825408,50004037632,63585513472,152801099776,14190452736,21062680576,105261981696,132276273152,84219641856,11436527616,55596343296,20131725312,17618726912,75375321088,88848687104,11991063552,65396129792,152465899520,53351198720,20382070784,18240473088,28646717440,18953086976,39678574592,27105329152,12587491328,14818279424,25922525184,135400292352,36620898304,159291441152,11375928320,70407774208,21380202496,11880354816,43007524864,22608363520,58371055616,8350112256,63806021632,135056580608,208711139328,246412656640,15697305600,40956596224,17587859456,25130627072,54865952768,28777084928,1265919197184,19796094976,85500116992,31920207872,175337242624,14024707072,24118722560,33285539840,139292721152,15428356096,12269601792,19859949568,473256067072,139766497280,106654187520,44978245632,75973459968,603539636224,30834472960,39253372928,25138857984,33276729344,38624034816,20106041344,105154240512,55582715904,23941492736,14323080192,163838787584,32511275008,22386608128,8349928960,25782816768,22426079232,29481027584,77363003392,238358167552,81633837056,67716005888,729512148992,21911468032,24082620416,31124025344,20351561728,9054246912,37693243392,477966041088,28128169984,35874705408,20530501632,20431353856,73760964608,849285633536,5542990818304,6215113240064,3144879411200,1669978963968,6099673657856,5258888508416,3724702064640,1069061840896,16905618918400,1268030639104,51748223696384],\"type\":\"treemap\"}],                        {\"template\":{\"data\":{\"histogram2dcontour\":[{\"type\":\"histogram2dcontour\",\"colorbar\":{\"outlinewidth\":0,\"ticks\":\"\"},\"colorscale\":[[0.0,\"#0d0887\"],[0.1111111111111111,\"#46039f\"],[0.2222222222222222,\"#7201a8\"],[0.3333333333333333,\"#9c179e\"],[0.4444444444444444,\"#bd3786\"],[0.5555555555555556,\"#d8576b\"],[0.6666666666666666,\"#ed7953\"],[0.7777777777777778,\"#fb9f3a\"],[0.8888888888888888,\"#fdca26\"],[1.0,\"#f0f921\"]]}],\"choropleth\":[{\"type\":\"choropleth\",\"colorbar\":{\"outlinewidth\":0,\"ticks\":\"\"}}],\"histogram2d\":[{\"type\":\"histogram2d\",\"colorbar\":{\"outlinewidth\":0,\"ticks\":\"\"},\"colorscale\":[[0.0,\"#0d0887\"],[0.1111111111111111,\"#46039f\"],[0.2222222222222222,\"#7201a8\"],[0.3333333333333333,\"#9c179e\"],[0.4444444444444444,\"#bd3786\"],[0.5555555555555556,\"#d8576b\"],[0.6666666666666666,\"#ed7953\"],[0.7777777777777778,\"#fb9f3a\"],[0.8888888888888888,\"#fdca26\"],[1.0,\"#f0f921\"]]}],\"heatmap\":[{\"type\":\"heatmap\",\"colorbar\":{\"outlinewidth\":0,\"ticks\":\"\"},\"colorscale\":[[0.0,\"#0d0887\"],[0.1111111111111111,\"#46039f\"],[0.2222222222222222,\"#7201a8\"],[0.3333333333333333,\"#9c179e\"],[0.4444444444444444,\"#bd3786\"],[0.5555555555555556,\"#d8576b\"],[0.6666666666666666,\"#ed7953\"],[0.7777777777777778,\"#fb9f3a\"],[0.8888888888888888,\"#fdca26\"],[1.0,\"#f0f921\"]]}],\"heatmapgl\":[{\"type\":\"heatmapgl\",\"colorbar\":{\"outlinewidth\":0,\"ticks\":\"\"},\"colorscale\":[[0.0,\"#0d0887\"],[0.1111111111111111,\"#46039f\"],[0.2222222222222222,\"#7201a8\"],[0.3333333333333333,\"#9c179e\"],[0.4444444444444444,\"#bd3786\"],[0.5555555555555556,\"#d8576b\"],[0.6666666666666666,\"#ed7953\"],[0.7777777777777778,\"#fb9f3a\"],[0.8888888888888888,\"#fdca26\"],[1.0,\"#f0f921\"]]}],\"contourcarpet\":[{\"type\":\"contourcarpet\",\"colorbar\":{\"outlinewidth\":0,\"ticks\":\"\"}}],\"contour\":[{\"type\":\"contour\",\"colorbar\":{\"outlinewidth\":0,\"ticks\":\"\"},\"colorscale\":[[0.0,\"#0d0887\"],[0.1111111111111111,\"#46039f\"],[0.2222222222222222,\"#7201a8\"],[0.3333333333333333,\"#9c179e\"],[0.4444444444444444,\"#bd3786\"],[0.5555555555555556,\"#d8576b\"],[0.6666666666666666,\"#ed7953\"],[0.7777777777777778,\"#fb9f3a\"],[0.8888888888888888,\"#fdca26\"],[1.0,\"#f0f921\"]]}],\"surface\":[{\"type\":\"surface\",\"colorbar\":{\"outlinewidth\":0,\"ticks\":\"\"},\"colorscale\":[[0.0,\"#0d0887\"],[0.1111111111111111,\"#46039f\"],[0.2222222222222222,\"#7201a8\"],[0.3333333333333333,\"#9c179e\"],[0.4444444444444444,\"#bd3786\"],[0.5555555555555556,\"#d8576b\"],[0.6666666666666666,\"#ed7953\"],[0.7777777777777778,\"#fb9f3a\"],[0.8888888888888888,\"#fdca26\"],[1.0,\"#f0f921\"]]}],\"mesh3d\":[{\"type\":\"mesh3d\",\"colorbar\":{\"outlinewidth\":0,\"ticks\":\"\"}}],\"scatter\":[{\"fillpattern\":{\"fillmode\":\"overlay\",\"size\":10,\"solidity\":0.2},\"type\":\"scatter\"}],\"parcoords\":[{\"type\":\"parcoords\",\"line\":{\"colorbar\":{\"outlinewidth\":0,\"ticks\":\"\"}}}],\"scatterpolargl\":[{\"type\":\"scatterpolargl\",\"marker\":{\"colorbar\":{\"outlinewidth\":0,\"ticks\":\"\"}}}],\"bar\":[{\"error_x\":{\"color\":\"#2a3f5f\"},\"error_y\":{\"color\":\"#2a3f5f\"},\"marker\":{\"line\":{\"color\":\"#E5ECF6\",\"width\":0.5},\"pattern\":{\"fillmode\":\"overlay\",\"size\":10,\"solidity\":0.2}},\"type\":\"bar\"}],\"scattergeo\":[{\"type\":\"scattergeo\",\"marker\":{\"colorbar\":{\"outlinewidth\":0,\"ticks\":\"\"}}}],\"scatterpolar\":[{\"type\":\"scatterpolar\",\"marker\":{\"colorbar\":{\"outlinewidth\":0,\"ticks\":\"\"}}}],\"histogram\":[{\"marker\":{\"pattern\":{\"fillmode\":\"overlay\",\"size\":10,\"solidity\":0.2}},\"type\":\"histogram\"}],\"scattergl\":[{\"type\":\"scattergl\",\"marker\":{\"colorbar\":{\"outlinewidth\":0,\"ticks\":\"\"}}}],\"scatter3d\":[{\"type\":\"scatter3d\",\"line\":{\"colorbar\":{\"outlinewidth\":0,\"ticks\":\"\"}},\"marker\":{\"colorbar\":{\"outlinewidth\":0,\"ticks\":\"\"}}}],\"scattermapbox\":[{\"type\":\"scattermapbox\",\"marker\":{\"colorbar\":{\"outlinewidth\":0,\"ticks\":\"\"}}}],\"scatterternary\":[{\"type\":\"scatterternary\",\"marker\":{\"colorbar\":{\"outlinewidth\":0,\"ticks\":\"\"}}}],\"scattercarpet\":[{\"type\":\"scattercarpet\",\"marker\":{\"colorbar\":{\"outlinewidth\":0,\"ticks\":\"\"}}}],\"carpet\":[{\"aaxis\":{\"endlinecolor\":\"#2a3f5f\",\"gridcolor\":\"white\",\"linecolor\":\"white\",\"minorgridcolor\":\"white\",\"startlinecolor\":\"#2a3f5f\"},\"baxis\":{\"endlinecolor\":\"#2a3f5f\",\"gridcolor\":\"white\",\"linecolor\":\"white\",\"minorgridcolor\":\"white\",\"startlinecolor\":\"#2a3f5f\"},\"type\":\"carpet\"}],\"table\":[{\"cells\":{\"fill\":{\"color\":\"#EBF0F8\"},\"line\":{\"color\":\"white\"}},\"header\":{\"fill\":{\"color\":\"#C8D4E3\"},\"line\":{\"color\":\"white\"}},\"type\":\"table\"}],\"barpolar\":[{\"marker\":{\"line\":{\"color\":\"#E5ECF6\",\"width\":0.5},\"pattern\":{\"fillmode\":\"overlay\",\"size\":10,\"solidity\":0.2}},\"type\":\"barpolar\"}],\"pie\":[{\"automargin\":true,\"type\":\"pie\"}]},\"layout\":{\"autotypenumbers\":\"strict\",\"colorway\":[\"#636efa\",\"#EF553B\",\"#00cc96\",\"#ab63fa\",\"#FFA15A\",\"#19d3f3\",\"#FF6692\",\"#B6E880\",\"#FF97FF\",\"#FECB52\"],\"font\":{\"color\":\"#2a3f5f\"},\"hovermode\":\"closest\",\"hoverlabel\":{\"align\":\"left\"},\"paper_bgcolor\":\"white\",\"plot_bgcolor\":\"#E5ECF6\",\"polar\":{\"bgcolor\":\"#E5ECF6\",\"angularaxis\":{\"gridcolor\":\"white\",\"linecolor\":\"white\",\"ticks\":\"\"},\"radialaxis\":{\"gridcolor\":\"white\",\"linecolor\":\"white\",\"ticks\":\"\"}},\"ternary\":{\"bgcolor\":\"#E5ECF6\",\"aaxis\":{\"gridcolor\":\"white\",\"linecolor\":\"white\",\"ticks\":\"\"},\"baxis\":{\"gridcolor\":\"white\",\"linecolor\":\"white\",\"ticks\":\"\"},\"caxis\":{\"gridcolor\":\"white\",\"linecolor\":\"white\",\"ticks\":\"\"}},\"coloraxis\":{\"colorbar\":{\"outlinewidth\":0,\"ticks\":\"\"}},\"colorscale\":{\"sequential\":[[0.0,\"#0d0887\"],[0.1111111111111111,\"#46039f\"],[0.2222222222222222,\"#7201a8\"],[0.3333333333333333,\"#9c179e\"],[0.4444444444444444,\"#bd3786\"],[0.5555555555555556,\"#d8576b\"],[0.6666666666666666,\"#ed7953\"],[0.7777777777777778,\"#fb9f3a\"],[0.8888888888888888,\"#fdca26\"],[1.0,\"#f0f921\"]],\"sequentialminus\":[[0.0,\"#0d0887\"],[0.1111111111111111,\"#46039f\"],[0.2222222222222222,\"#7201a8\"],[0.3333333333333333,\"#9c179e\"],[0.4444444444444444,\"#bd3786\"],[0.5555555555555556,\"#d8576b\"],[0.6666666666666666,\"#ed7953\"],[0.7777777777777778,\"#fb9f3a\"],[0.8888888888888888,\"#fdca26\"],[1.0,\"#f0f921\"]],\"diverging\":[[0,\"#8e0152\"],[0.1,\"#c51b7d\"],[0.2,\"#de77ae\"],[0.3,\"#f1b6da\"],[0.4,\"#fde0ef\"],[0.5,\"#f7f7f7\"],[0.6,\"#e6f5d0\"],[0.7,\"#b8e186\"],[0.8,\"#7fbc41\"],[0.9,\"#4d9221\"],[1,\"#276419\"]]},\"xaxis\":{\"gridcolor\":\"white\",\"linecolor\":\"white\",\"ticks\":\"\",\"title\":{\"standoff\":15},\"zerolinecolor\":\"white\",\"automargin\":true,\"zerolinewidth\":2},\"yaxis\":{\"gridcolor\":\"white\",\"linecolor\":\"white\",\"ticks\":\"\",\"title\":{\"standoff\":15},\"zerolinecolor\":\"white\",\"automargin\":true,\"zerolinewidth\":2},\"scene\":{\"xaxis\":{\"backgroundcolor\":\"#E5ECF6\",\"gridcolor\":\"white\",\"linecolor\":\"white\",\"showbackground\":true,\"ticks\":\"\",\"zerolinecolor\":\"white\",\"gridwidth\":2},\"yaxis\":{\"backgroundcolor\":\"#E5ECF6\",\"gridcolor\":\"white\",\"linecolor\":\"white\",\"showbackground\":true,\"ticks\":\"\",\"zerolinecolor\":\"white\",\"gridwidth\":2},\"zaxis\":{\"backgroundcolor\":\"#E5ECF6\",\"gridcolor\":\"white\",\"linecolor\":\"white\",\"showbackground\":true,\"ticks\":\"\",\"zerolinecolor\":\"white\",\"gridwidth\":2}},\"shapedefaults\":{\"line\":{\"color\":\"#2a3f5f\"}},\"annotationdefaults\":{\"arrowcolor\":\"#2a3f5f\",\"arrowhead\":0,\"arrowwidth\":1},\"geo\":{\"bgcolor\":\"white\",\"landcolor\":\"#E5ECF6\",\"subunitcolor\":\"white\",\"showland\":true,\"showlakes\":true,\"lakecolor\":\"white\"},\"title\":{\"x\":0.05},\"mapbox\":{\"style\":\"light\"}}},\"coloraxis\":{\"colorbar\":{\"title\":{\"text\":\"daily_return2\"}},\"colorscale\":[[0.0,\"darkred\"],[0.25,\"red\"],[0.5,\"lightgreen\"],[0.75,\"green\"],[1.0,\"darkgreen\"]],\"cmid\":5,\"showscale\":false},\"legend\":{\"tracegroupgap\":0},\"margin\":{\"t\":50,\"l\":25,\"r\":25,\"b\":25}},                        {\"responsive\": true}                    ).then(function(){\n",
       "                            \n",
       "var gd = document.getElementById('68668eec-451b-4110-ac77-7db1270cdbd2');\n",
       "var x = new MutationObserver(function (mutations, observer) {{\n",
       "        var display = window.getComputedStyle(gd).display;\n",
       "        if (!display || display === 'none') {{\n",
       "            console.log([gd, 'removed!']);\n",
       "            Plotly.purge(gd);\n",
       "            observer.disconnect();\n",
       "        }}\n",
       "}});\n",
       "\n",
       "// Listen for the removal of the full notebook cells\n",
       "var notebookContainer = gd.closest('#notebook-container');\n",
       "if (notebookContainer) {{\n",
       "    x.observe(notebookContainer, {childList: true});\n",
       "}}\n",
       "\n",
       "// Listen for the clearing of the current output cell\n",
       "var outputEl = gd.closest('.output');\n",
       "if (outputEl) {{\n",
       "    x.observe(outputEl, {childList: true});\n",
       "}}\n",
       "\n",
       "                        })                };                });            </script>        </div>"
      ]
     },
     "metadata": {},
     "output_type": "display_data"
    }
   ],
   "source": [
    "fig = px.treemap(df2,\n",
    "                 path=['all','sector','ticker_plus_return'], \n",
    "                 values='mkt_cap',\n",
    "                 color='daily_return2',\n",
    "                 hover_data=['daily_return'],\n",
    "                 color_continuous_scale=[\"darkred\",\"red\",\"lightgreen\",\"green\",\"darkgreen\"],  \n",
    "                 color_continuous_midpoint=5\n",
    "                )\n",
    "\n",
    "\n",
    "fig.update_layout(margin = dict(t=50, l=25, r=25, b=25))\n",
    "fig.update(layout_coloraxis_showscale=False)\n",
    "fig.show()"
   ]
  },
  {
   "cell_type": "markdown",
   "metadata": {},
   "source": [
    "If this content is helpful and you want to make a donation please click on the button\n",
    "\n",
    "[![paypal](https://www.paypalobjects.com/en_US/i/btn/btn_donateCC_LG.gif)](https://www.paypal.com/cgi-bin/webscr?cmd=_s-xclick&hosted_button_id=29CVY97MEQ9BY)"
   ]
  }
 ],
 "metadata": {
  "kernelspec": {
   "display_name": "Python 3 (ipykernel)",
   "language": "python",
   "name": "python3"
  },
  "language_info": {
   "codemirror_mode": {
    "name": "ipython",
    "version": 3
   },
   "file_extension": ".py",
   "mimetype": "text/x-python",
   "name": "python",
   "nbconvert_exporter": "python",
   "pygments_lexer": "ipython3",
   "version": "3.9.12"
  }
 },
 "nbformat": 4,
 "nbformat_minor": 2
}
