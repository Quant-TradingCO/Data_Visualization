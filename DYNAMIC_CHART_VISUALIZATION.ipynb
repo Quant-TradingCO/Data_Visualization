{
 "cells": [
  {
   "cell_type": "markdown",
   "id": "319336a1",
   "metadata": {},
   "source": [
    "![This is an image](Quant-Trading.jpg)"
   ]
  },
  {
   "cell_type": "markdown",
   "id": "0ff11273",
   "metadata": {},
   "source": [
    "<font size=\"3\">\n",
    "Please visit our website <a href=\"https://www.quant-trading.co\" target=\"_blank\">quant-trading.co</a> for more tools on quantitative finance and data science.\n",
    "</font>"
   ]
  },
  {
   "cell_type": "markdown",
   "id": "8cf9b865",
   "metadata": {},
   "source": [
    "# **HOW TO MAKE A DYNAMIC CHART FOR THE EVOLUTION OF STOCK RETURNS**\n",
    "\n",
    "## **Dynamic chart**\n",
    "\n",
    "<font size=\"3\"> Python allows us to create dynamic charts. This means that we can create kind of videos with financial data. An interesting application of this type of charts is to visualize how financial returns evolve through time.<br><br> \n",
    "    \n",
    "<font size=\"3\"> In this notebook we will use Yahoo Finance Data to make a dynamic chart for the returns of 3 different stocks. \n",
    "<br><br>"
   ]
  },
  {
   "cell_type": "code",
   "execution_count": 1,
   "id": "712f2d39",
   "metadata": {},
   "outputs": [],
   "source": [
    "import warnings\n",
    "warnings.filterwarnings('ignore')\n",
    "\n",
    "import numpy as np\n",
    "import pandas as pd\n",
    "import datetime\n",
    "import yfinance as yf\n",
    "\n",
    "\n",
    "import plotly.express as px\n",
    "import plotly.graph_objects as go\n",
    "import plotly.io as pio\n",
    "\n",
    "# Set Plotly to render charts using the web browser, optionally \"jupyterlab\"\n",
    "pio.renderers.default = \"browser\""
   ]
  },
  {
   "cell_type": "markdown",
   "id": "b36d099c",
   "metadata": {},
   "source": [
    "## **Download the data**\n",
    "\n",
    "<font size=\"3\"> We do as usual with the yahoo finance API. Here we are getting 3 years of data for the APPLE, AMAZON and NVIDIA stocks. Then we calculate the total returns as we explained in a previous <a href=\"https://quant-trading.co/how-to-calculate-cumulative-returns-using-python/\" target=\"_blank\">notebook</a>. And after that we modify a little bit the DataFrame to have it in an appropiate format.\n",
    "<br><br>"
   ]
  },
  {
   "cell_type": "code",
   "execution_count": 2,
   "id": "fb47e939",
   "metadata": {},
   "outputs": [
    {
     "name": "stdout",
     "output_type": "stream",
     "text": [
      "[*********************100%***********************]  3 of 3 completed\n"
     ]
    }
   ],
   "source": [
    "#ASSET\n",
    "tickers_list = ['AAPL', 'AMZN','NVDA']\n",
    "\n",
    "multiple_prices = yf.download(tickers_list,period='3y')['Adj Close']\n",
    "\n",
    "\n",
    "for elem in tickers_list:    \n",
    "    multiple_prices['Return '+ elem] = multiple_prices[elem]/multiple_prices[elem].shift(1) - 1\n",
    "    multiple_prices['Return '+ elem].iloc[0] = 0"
   ]
  },
  {
   "cell_type": "code",
   "execution_count": 3,
   "id": "fa08bd81",
   "metadata": {
    "scrolled": false
   },
   "outputs": [
    {
     "data": {
      "text/html": [
       "<div>\n",
       "<style scoped>\n",
       "    .dataframe tbody tr th:only-of-type {\n",
       "        vertical-align: middle;\n",
       "    }\n",
       "\n",
       "    .dataframe tbody tr th {\n",
       "        vertical-align: top;\n",
       "    }\n",
       "\n",
       "    .dataframe thead th {\n",
       "        text-align: right;\n",
       "    }\n",
       "</style>\n",
       "<table border=\"1\" class=\"dataframe\">\n",
       "  <thead>\n",
       "    <tr style=\"text-align: right;\">\n",
       "      <th></th>\n",
       "      <th>Date</th>\n",
       "      <th>Return AAPL</th>\n",
       "      <th>Return AMZN</th>\n",
       "      <th>Return NVDA</th>\n",
       "      <th>Cum_Return AAPL</th>\n",
       "      <th>Cum_Return AMZN</th>\n",
       "      <th>Cum_Return NVDA</th>\n",
       "    </tr>\n",
       "  </thead>\n",
       "  <tbody>\n",
       "    <tr>\n",
       "      <th>0</th>\n",
       "      <td>2021-05-10</td>\n",
       "      <td>0.000000</td>\n",
       "      <td>0.000000</td>\n",
       "      <td>0.000000</td>\n",
       "      <td>0.000000</td>\n",
       "      <td>0.000000</td>\n",
       "      <td>0.000000</td>\n",
       "    </tr>\n",
       "    <tr>\n",
       "      <th>1</th>\n",
       "      <td>2021-05-11</td>\n",
       "      <td>-0.007410</td>\n",
       "      <td>0.010475</td>\n",
       "      <td>0.002839</td>\n",
       "      <td>-0.007410</td>\n",
       "      <td>0.010475</td>\n",
       "      <td>0.002839</td>\n",
       "    </tr>\n",
       "    <tr>\n",
       "      <th>2</th>\n",
       "      <td>2021-05-12</td>\n",
       "      <td>-0.024938</td>\n",
       "      <td>-0.022324</td>\n",
       "      <td>-0.038288</td>\n",
       "      <td>-0.032164</td>\n",
       "      <td>-0.012083</td>\n",
       "      <td>-0.035557</td>\n",
       "    </tr>\n",
       "    <tr>\n",
       "      <th>3</th>\n",
       "      <td>2021-05-13</td>\n",
       "      <td>0.017920</td>\n",
       "      <td>0.003024</td>\n",
       "      <td>-0.006778</td>\n",
       "      <td>-0.014821</td>\n",
       "      <td>-0.009096</td>\n",
       "      <td>-0.042094</td>\n",
       "    </tr>\n",
       "    <tr>\n",
       "      <th>4</th>\n",
       "      <td>2021-05-14</td>\n",
       "      <td>0.019845</td>\n",
       "      <td>0.019431</td>\n",
       "      <td>0.042279</td>\n",
       "      <td>0.004730</td>\n",
       "      <td>0.010158</td>\n",
       "      <td>-0.001595</td>\n",
       "    </tr>\n",
       "  </tbody>\n",
       "</table>\n",
       "</div>"
      ],
      "text/plain": [
       "        Date  Return AAPL  Return AMZN  Return NVDA  Cum_Return AAPL  \\\n",
       "0 2021-05-10     0.000000     0.000000     0.000000         0.000000   \n",
       "1 2021-05-11    -0.007410     0.010475     0.002839        -0.007410   \n",
       "2 2021-05-12    -0.024938    -0.022324    -0.038288        -0.032164   \n",
       "3 2021-05-13     0.017920     0.003024    -0.006778        -0.014821   \n",
       "4 2021-05-14     0.019845     0.019431     0.042279         0.004730   \n",
       "\n",
       "   Cum_Return AMZN  Cum_Return NVDA  \n",
       "0         0.000000         0.000000  \n",
       "1         0.010475         0.002839  \n",
       "2        -0.012083        -0.035557  \n",
       "3        -0.009096        -0.042094  \n",
       "4         0.010158        -0.001595  "
      ]
     },
     "execution_count": 3,
     "metadata": {},
     "output_type": "execute_result"
    }
   ],
   "source": [
    "multiple_returns = multiple_prices[['Return '+tickers_list[0],'Return '+tickers_list[1],'Return '+tickers_list[2]]]\n",
    "multiple_returns2 = multiple_returns.copy()\n",
    "\n",
    "for elem in tickers_list:    \n",
    "    multiple_returns2['Cum_Return '+ elem] = (1 + multiple_returns['Return '+ elem]).cumprod() - 1\n",
    "\n",
    "multiple_returns2.reset_index(inplace=True)\n",
    "multiple_returns2.head(5)"
   ]
  },
  {
   "cell_type": "code",
   "execution_count": 4,
   "id": "fe943e07",
   "metadata": {
    "scrolled": true
   },
   "outputs": [
    {
     "data": {
      "text/html": [
       "<div>\n",
       "<style scoped>\n",
       "    .dataframe tbody tr th:only-of-type {\n",
       "        vertical-align: middle;\n",
       "    }\n",
       "\n",
       "    .dataframe tbody tr th {\n",
       "        vertical-align: top;\n",
       "    }\n",
       "\n",
       "    .dataframe thead th {\n",
       "        text-align: right;\n",
       "    }\n",
       "</style>\n",
       "<table border=\"1\" class=\"dataframe\">\n",
       "  <thead>\n",
       "    <tr style=\"text-align: right;\">\n",
       "      <th></th>\n",
       "      <th>Date</th>\n",
       "      <th>Return AAPL</th>\n",
       "      <th>Return AMZN</th>\n",
       "      <th>Return NVDA</th>\n",
       "      <th>Cum_Return AAPL</th>\n",
       "      <th>Cum_Return AMZN</th>\n",
       "      <th>Cum_Return NVDA</th>\n",
       "    </tr>\n",
       "  </thead>\n",
       "  <tbody>\n",
       "    <tr>\n",
       "      <th>0</th>\n",
       "      <td>2021-05-10</td>\n",
       "      <td>0.000000</td>\n",
       "      <td>0.000000</td>\n",
       "      <td>0.000000</td>\n",
       "      <td>0.000000</td>\n",
       "      <td>0.000000</td>\n",
       "      <td>0.000000</td>\n",
       "    </tr>\n",
       "    <tr>\n",
       "      <th>1</th>\n",
       "      <td>2021-05-11</td>\n",
       "      <td>-0.007410</td>\n",
       "      <td>0.010475</td>\n",
       "      <td>0.002839</td>\n",
       "      <td>-0.007410</td>\n",
       "      <td>0.010475</td>\n",
       "      <td>0.002839</td>\n",
       "    </tr>\n",
       "    <tr>\n",
       "      <th>2</th>\n",
       "      <td>2021-05-12</td>\n",
       "      <td>-0.024938</td>\n",
       "      <td>-0.022324</td>\n",
       "      <td>-0.038288</td>\n",
       "      <td>-0.032164</td>\n",
       "      <td>-0.012083</td>\n",
       "      <td>-0.035557</td>\n",
       "    </tr>\n",
       "    <tr>\n",
       "      <th>3</th>\n",
       "      <td>2021-05-13</td>\n",
       "      <td>0.017920</td>\n",
       "      <td>0.003024</td>\n",
       "      <td>-0.006778</td>\n",
       "      <td>-0.014821</td>\n",
       "      <td>-0.009096</td>\n",
       "      <td>-0.042094</td>\n",
       "    </tr>\n",
       "    <tr>\n",
       "      <th>4</th>\n",
       "      <td>2021-05-14</td>\n",
       "      <td>0.019845</td>\n",
       "      <td>0.019431</td>\n",
       "      <td>0.042279</td>\n",
       "      <td>0.004730</td>\n",
       "      <td>0.010158</td>\n",
       "      <td>-0.001595</td>\n",
       "    </tr>\n",
       "  </tbody>\n",
       "</table>\n",
       "</div>"
      ],
      "text/plain": [
       "        Date  Return AAPL  Return AMZN  Return NVDA  Cum_Return AAPL  \\\n",
       "0 2021-05-10     0.000000     0.000000     0.000000         0.000000   \n",
       "1 2021-05-11    -0.007410     0.010475     0.002839        -0.007410   \n",
       "2 2021-05-12    -0.024938    -0.022324    -0.038288        -0.032164   \n",
       "3 2021-05-13     0.017920     0.003024    -0.006778        -0.014821   \n",
       "4 2021-05-14     0.019845     0.019431     0.042279         0.004730   \n",
       "\n",
       "   Cum_Return AMZN  Cum_Return NVDA  \n",
       "0         0.000000         0.000000  \n",
       "1         0.010475         0.002839  \n",
       "2        -0.012083        -0.035557  \n",
       "3        -0.009096        -0.042094  \n",
       "4         0.010158        -0.001595  "
      ]
     },
     "execution_count": 4,
     "metadata": {},
     "output_type": "execute_result"
    }
   ],
   "source": [
    "multiple_returns2['Date'] = multiple_returns2['Date'].apply(lambda x: x.strftime('%Y-%m-%d'))\n",
    "multiple_returns2['Date'] = pd.to_datetime(multiple_returns2['Date'])\n",
    "multiple_returns2.head(5)"
   ]
  },
  {
   "cell_type": "code",
   "execution_count": 5,
   "id": "78d79072",
   "metadata": {
    "scrolled": false
   },
   "outputs": [
    {
     "data": {
      "text/html": [
       "<div>\n",
       "<style scoped>\n",
       "    .dataframe tbody tr th:only-of-type {\n",
       "        vertical-align: middle;\n",
       "    }\n",
       "\n",
       "    .dataframe tbody tr th {\n",
       "        vertical-align: top;\n",
       "    }\n",
       "\n",
       "    .dataframe thead th {\n",
       "        text-align: right;\n",
       "    }\n",
       "</style>\n",
       "<table border=\"1\" class=\"dataframe\">\n",
       "  <thead>\n",
       "    <tr style=\"text-align: right;\">\n",
       "      <th></th>\n",
       "      <th>Date</th>\n",
       "      <th>Cum_Return AAPL</th>\n",
       "      <th>Cum_Return AMZN</th>\n",
       "      <th>Cum_Return NVDA</th>\n",
       "    </tr>\n",
       "  </thead>\n",
       "  <tbody>\n",
       "    <tr>\n",
       "      <th>0</th>\n",
       "      <td>2021-05-10</td>\n",
       "      <td>0.000000</td>\n",
       "      <td>0.000000</td>\n",
       "      <td>0.000000</td>\n",
       "    </tr>\n",
       "    <tr>\n",
       "      <th>1</th>\n",
       "      <td>2021-05-11</td>\n",
       "      <td>-0.007410</td>\n",
       "      <td>0.010475</td>\n",
       "      <td>0.002839</td>\n",
       "    </tr>\n",
       "    <tr>\n",
       "      <th>2</th>\n",
       "      <td>2021-05-12</td>\n",
       "      <td>-0.032164</td>\n",
       "      <td>-0.012083</td>\n",
       "      <td>-0.035557</td>\n",
       "    </tr>\n",
       "    <tr>\n",
       "      <th>3</th>\n",
       "      <td>2021-05-13</td>\n",
       "      <td>-0.014821</td>\n",
       "      <td>-0.009096</td>\n",
       "      <td>-0.042094</td>\n",
       "    </tr>\n",
       "    <tr>\n",
       "      <th>4</th>\n",
       "      <td>2021-05-14</td>\n",
       "      <td>0.004730</td>\n",
       "      <td>0.010158</td>\n",
       "      <td>-0.001595</td>\n",
       "    </tr>\n",
       "  </tbody>\n",
       "</table>\n",
       "</div>"
      ],
      "text/plain": [
       "        Date  Cum_Return AAPL  Cum_Return AMZN  Cum_Return NVDA\n",
       "0 2021-05-10         0.000000         0.000000         0.000000\n",
       "1 2021-05-11        -0.007410         0.010475         0.002839\n",
       "2 2021-05-12        -0.032164        -0.012083        -0.035557\n",
       "3 2021-05-13        -0.014821        -0.009096        -0.042094\n",
       "4 2021-05-14         0.004730         0.010158        -0.001595"
      ]
     },
     "execution_count": 5,
     "metadata": {},
     "output_type": "execute_result"
    }
   ],
   "source": [
    "df_returns = multiple_returns2[['Date','Cum_Return '+tickers_list[0],'Cum_Return '+tickers_list[1],'Cum_Return '+tickers_list[2]]]\n",
    "df_returns.head(5)"
   ]
  },
  {
   "cell_type": "markdown",
   "id": "7641e9d0",
   "metadata": {},
   "source": [
    "## **Melt the DataFrame**\n",
    "\n",
    "<font size=\"3\"> Here we use the melt method from the pandas library. That allows us to have the data with a single field which we called value and that contains the cumulative returns for the different dates. You can observe that in the following script.\n",
    "<br><br>"
   ]
  },
  {
   "cell_type": "code",
   "execution_count": 6,
   "id": "e429892a",
   "metadata": {
    "scrolled": true
   },
   "outputs": [
    {
     "data": {
      "text/html": [
       "<div>\n",
       "<style scoped>\n",
       "    .dataframe tbody tr th:only-of-type {\n",
       "        vertical-align: middle;\n",
       "    }\n",
       "\n",
       "    .dataframe tbody tr th {\n",
       "        vertical-align: top;\n",
       "    }\n",
       "\n",
       "    .dataframe thead th {\n",
       "        text-align: right;\n",
       "    }\n",
       "</style>\n",
       "<table border=\"1\" class=\"dataframe\">\n",
       "  <thead>\n",
       "    <tr style=\"text-align: right;\">\n",
       "      <th></th>\n",
       "      <th>Date</th>\n",
       "      <th>variable</th>\n",
       "      <th>value</th>\n",
       "    </tr>\n",
       "  </thead>\n",
       "  <tbody>\n",
       "    <tr>\n",
       "      <th>0</th>\n",
       "      <td>2021-05-10</td>\n",
       "      <td>Cum_Return AAPL</td>\n",
       "      <td>0.000000</td>\n",
       "    </tr>\n",
       "    <tr>\n",
       "      <th>1</th>\n",
       "      <td>2021-05-11</td>\n",
       "      <td>Cum_Return AAPL</td>\n",
       "      <td>-0.007410</td>\n",
       "    </tr>\n",
       "    <tr>\n",
       "      <th>2</th>\n",
       "      <td>2021-05-12</td>\n",
       "      <td>Cum_Return AAPL</td>\n",
       "      <td>-0.032164</td>\n",
       "    </tr>\n",
       "    <tr>\n",
       "      <th>3</th>\n",
       "      <td>2021-05-13</td>\n",
       "      <td>Cum_Return AAPL</td>\n",
       "      <td>-0.014821</td>\n",
       "    </tr>\n",
       "    <tr>\n",
       "      <th>4</th>\n",
       "      <td>2021-05-14</td>\n",
       "      <td>Cum_Return AAPL</td>\n",
       "      <td>0.004730</td>\n",
       "    </tr>\n",
       "  </tbody>\n",
       "</table>\n",
       "</div>"
      ],
      "text/plain": [
       "        Date         variable     value\n",
       "0 2021-05-10  Cum_Return AAPL  0.000000\n",
       "1 2021-05-11  Cum_Return AAPL -0.007410\n",
       "2 2021-05-12  Cum_Return AAPL -0.032164\n",
       "3 2021-05-13  Cum_Return AAPL -0.014821\n",
       "4 2021-05-14  Cum_Return AAPL  0.004730"
      ]
     },
     "execution_count": 6,
     "metadata": {},
     "output_type": "execute_result"
    }
   ],
   "source": [
    "df_returns2 = pd.melt(df_returns, id_vars='Date', value_vars=['Cum_Return '+tickers_list[0], 'Cum_Return '+tickers_list[1], 'Cum_Return '+tickers_list[2]])\n",
    "df_returns2.head(5)"
   ]
  },
  {
   "cell_type": "markdown",
   "id": "868f6a83",
   "metadata": {},
   "source": [
    "## **Assign names for each stock**\n",
    "\n",
    "<font size=\"3\"> Because we used the melt method, we lost the name of each stock which were stored in the columns. Therefore, we need to assign the names again. We can do that with the following script.\n",
    "<br><br>"
   ]
  },
  {
   "cell_type": "code",
   "execution_count": 7,
   "id": "c0e8d437",
   "metadata": {
    "scrolled": true
   },
   "outputs": [
    {
     "data": {
      "text/html": [
       "<div>\n",
       "<style scoped>\n",
       "    .dataframe tbody tr th:only-of-type {\n",
       "        vertical-align: middle;\n",
       "    }\n",
       "\n",
       "    .dataframe tbody tr th {\n",
       "        vertical-align: top;\n",
       "    }\n",
       "\n",
       "    .dataframe thead th {\n",
       "        text-align: right;\n",
       "    }\n",
       "</style>\n",
       "<table border=\"1\" class=\"dataframe\">\n",
       "  <thead>\n",
       "    <tr style=\"text-align: right;\">\n",
       "      <th></th>\n",
       "      <th>Date</th>\n",
       "      <th>variable</th>\n",
       "      <th>value</th>\n",
       "      <th>stock</th>\n",
       "    </tr>\n",
       "  </thead>\n",
       "  <tbody>\n",
       "    <tr>\n",
       "      <th>0</th>\n",
       "      <td>2021-05-10</td>\n",
       "      <td>Cum_Return AAPL</td>\n",
       "      <td>0.000000</td>\n",
       "      <td>AAPL</td>\n",
       "    </tr>\n",
       "    <tr>\n",
       "      <th>1</th>\n",
       "      <td>2021-05-10</td>\n",
       "      <td>Cum_Return AMZN</td>\n",
       "      <td>0.000000</td>\n",
       "      <td>AMZN</td>\n",
       "    </tr>\n",
       "    <tr>\n",
       "      <th>2</th>\n",
       "      <td>2021-05-10</td>\n",
       "      <td>Cum_Return NVDA</td>\n",
       "      <td>0.000000</td>\n",
       "      <td>NVDA</td>\n",
       "    </tr>\n",
       "    <tr>\n",
       "      <th>3</th>\n",
       "      <td>2021-05-11</td>\n",
       "      <td>Cum_Return AAPL</td>\n",
       "      <td>-0.007410</td>\n",
       "      <td>AAPL</td>\n",
       "    </tr>\n",
       "    <tr>\n",
       "      <th>4</th>\n",
       "      <td>2021-05-11</td>\n",
       "      <td>Cum_Return AMZN</td>\n",
       "      <td>0.010475</td>\n",
       "      <td>AMZN</td>\n",
       "    </tr>\n",
       "  </tbody>\n",
       "</table>\n",
       "</div>"
      ],
      "text/plain": [
       "        Date         variable     value stock\n",
       "0 2021-05-10  Cum_Return AAPL  0.000000  AAPL\n",
       "1 2021-05-10  Cum_Return AMZN  0.000000  AMZN\n",
       "2 2021-05-10  Cum_Return NVDA  0.000000  NVDA\n",
       "3 2021-05-11  Cum_Return AAPL -0.007410  AAPL\n",
       "4 2021-05-11  Cum_Return AMZN  0.010475  AMZN"
      ]
     },
     "execution_count": 7,
     "metadata": {},
     "output_type": "execute_result"
    }
   ],
   "source": [
    "df_returns2['stock'] = np.nan\n",
    "\n",
    "\n",
    "conditions = [ (df_returns2['variable'].str.contains(tickers_list[0])) , \n",
    "               (df_returns2['variable'].str.contains(tickers_list[1])) , \n",
    "               (df_returns2['variable'].str.contains(tickers_list[2]))               \n",
    "               ]     \n",
    "\n",
    "\n",
    "choices = [tickers_list[0], tickers_list[1], tickers_list[2]]\n",
    "\n",
    "df_returns2['stock'] = np.select(conditions, choices, default='null')\n",
    "df_returns2 = df_returns2.sort_values(['Date', 'stock'], ignore_index=True)\n",
    "df_returns2.head(5)"
   ]
  },
  {
   "cell_type": "markdown",
   "id": "498141aa",
   "metadata": {},
   "source": [
    "## **Define some parameters**\n",
    "\n",
    "<font size=\"3\"> Next we define two parameters.<br><br>\n",
    "    - The first one is the group of colors that we are going to use for the chart.<br><br>\n",
    "    - The second one one is the number of stocks that we are going to use. In this case, we are using only 3 stocks.\n",
    "<br><br>"
   ]
  },
  {
   "cell_type": "code",
   "execution_count": 8,
   "id": "10295b04",
   "metadata": {},
   "outputs": [],
   "source": [
    "# Adjust colors according to your preference\n",
    "STOCK_GROUP_COLORS = ['darkblue', 'royalblue', 'dodgerblue'] \n",
    "N_UNIQUE_STOCK_GROUPS = df_returns2['stock'].nunique()"
   ]
  },
  {
   "cell_type": "markdown",
   "id": "df64cab2",
   "metadata": {},
   "source": [
    "## **Create 2 new DataFrames**\n",
    "\n",
    "<font size=\"3\"> What we are about to do is a small trick to be able to show the data as a movie. We have the cumulative returns for the past 3 years, and all of them are in a single DataFrame. Now we are going to create a new DataFrame that contains a new column which will be called frame. Frame contains the cumulative returns up to a specific date. The first Frame contains only one date, which is the first date on our data sample. The last frame contains all the history.<br><br>\n",
    "    \n",
    "<font size=\"3\"> To do that we are going to iterate through all the dates and all the stocks in our DataFrame as follows. You can observe that at the end we will get the df_indexed DataFrame which is the one we will use for our charts<br><br>\n"
   ]
  },
  {
   "cell_type": "code",
   "execution_count": 9,
   "id": "47cfa9c5",
   "metadata": {
    "scrolled": true
   },
   "outputs": [],
   "source": [
    "df_indexed = pd.DataFrame()\n",
    "\n",
    "for index in np.arange(start=0,\n",
    "                       stop=len(df_returns2)+1,\n",
    "                       step=N_UNIQUE_STOCK_GROUPS):\n",
    "    df_slicing = df_returns2.iloc[:index].copy()\n",
    "    df_slicing['frame'] = (index//N_UNIQUE_STOCK_GROUPS)\n",
    "    df_indexed = pd.concat([df_indexed, df_slicing])"
   ]
  },
  {
   "cell_type": "markdown",
   "id": "a67d0253",
   "metadata": {},
   "source": [
    "df_slicing is an intermediate step to built the df_indexed DataFrame. Here, the last observations have the total number of frames that we are going to use. "
   ]
  },
  {
   "cell_type": "code",
   "execution_count": 10,
   "id": "08873b0a",
   "metadata": {},
   "outputs": [
    {
     "data": {
      "text/html": [
       "<div>\n",
       "<style scoped>\n",
       "    .dataframe tbody tr th:only-of-type {\n",
       "        vertical-align: middle;\n",
       "    }\n",
       "\n",
       "    .dataframe tbody tr th {\n",
       "        vertical-align: top;\n",
       "    }\n",
       "\n",
       "    .dataframe thead th {\n",
       "        text-align: right;\n",
       "    }\n",
       "</style>\n",
       "<table border=\"1\" class=\"dataframe\">\n",
       "  <thead>\n",
       "    <tr style=\"text-align: right;\">\n",
       "      <th></th>\n",
       "      <th>Date</th>\n",
       "      <th>variable</th>\n",
       "      <th>value</th>\n",
       "      <th>stock</th>\n",
       "      <th>frame</th>\n",
       "    </tr>\n",
       "  </thead>\n",
       "  <tbody>\n",
       "    <tr>\n",
       "      <th>2265</th>\n",
       "      <td>2024-05-09</td>\n",
       "      <td>Cum_Return AAPL</td>\n",
       "      <td>0.477330</td>\n",
       "      <td>AAPL</td>\n",
       "      <td>756</td>\n",
       "    </tr>\n",
       "    <tr>\n",
       "      <th>2266</th>\n",
       "      <td>2024-05-09</td>\n",
       "      <td>Cum_Return AMZN</td>\n",
       "      <td>0.190384</td>\n",
       "      <td>AMZN</td>\n",
       "      <td>756</td>\n",
       "    </tr>\n",
       "    <tr>\n",
       "      <th>2267</th>\n",
       "      <td>2024-05-09</td>\n",
       "      <td>Cum_Return NVDA</td>\n",
       "      <td>5.241118</td>\n",
       "      <td>NVDA</td>\n",
       "      <td>756</td>\n",
       "    </tr>\n",
       "  </tbody>\n",
       "</table>\n",
       "</div>"
      ],
      "text/plain": [
       "           Date         variable     value stock  frame\n",
       "2265 2024-05-09  Cum_Return AAPL  0.477330  AAPL    756\n",
       "2266 2024-05-09  Cum_Return AMZN  0.190384  AMZN    756\n",
       "2267 2024-05-09  Cum_Return NVDA  5.241118  NVDA    756"
      ]
     },
     "execution_count": 10,
     "metadata": {},
     "output_type": "execute_result"
    }
   ],
   "source": [
    "df_slicing.tail(3)"
   ]
  },
  {
   "cell_type": "code",
   "execution_count": 11,
   "id": "e3854955",
   "metadata": {
    "scrolled": false
   },
   "outputs": [
    {
     "data": {
      "text/html": [
       "<div>\n",
       "<style scoped>\n",
       "    .dataframe tbody tr th:only-of-type {\n",
       "        vertical-align: middle;\n",
       "    }\n",
       "\n",
       "    .dataframe tbody tr th {\n",
       "        vertical-align: top;\n",
       "    }\n",
       "\n",
       "    .dataframe thead th {\n",
       "        text-align: right;\n",
       "    }\n",
       "</style>\n",
       "<table border=\"1\" class=\"dataframe\">\n",
       "  <thead>\n",
       "    <tr style=\"text-align: right;\">\n",
       "      <th></th>\n",
       "      <th>Date</th>\n",
       "      <th>variable</th>\n",
       "      <th>value</th>\n",
       "      <th>stock</th>\n",
       "      <th>frame</th>\n",
       "    </tr>\n",
       "  </thead>\n",
       "  <tbody>\n",
       "    <tr>\n",
       "      <th>0</th>\n",
       "      <td>2021-05-10</td>\n",
       "      <td>Cum_Return AAPL</td>\n",
       "      <td>0.000000</td>\n",
       "      <td>AAPL</td>\n",
       "      <td>1</td>\n",
       "    </tr>\n",
       "    <tr>\n",
       "      <th>1</th>\n",
       "      <td>2021-05-10</td>\n",
       "      <td>Cum_Return AMZN</td>\n",
       "      <td>0.000000</td>\n",
       "      <td>AMZN</td>\n",
       "      <td>1</td>\n",
       "    </tr>\n",
       "    <tr>\n",
       "      <th>2</th>\n",
       "      <td>2021-05-10</td>\n",
       "      <td>Cum_Return NVDA</td>\n",
       "      <td>0.000000</td>\n",
       "      <td>NVDA</td>\n",
       "      <td>1</td>\n",
       "    </tr>\n",
       "    <tr>\n",
       "      <th>0</th>\n",
       "      <td>2021-05-10</td>\n",
       "      <td>Cum_Return AAPL</td>\n",
       "      <td>0.000000</td>\n",
       "      <td>AAPL</td>\n",
       "      <td>2</td>\n",
       "    </tr>\n",
       "    <tr>\n",
       "      <th>1</th>\n",
       "      <td>2021-05-10</td>\n",
       "      <td>Cum_Return AMZN</td>\n",
       "      <td>0.000000</td>\n",
       "      <td>AMZN</td>\n",
       "      <td>2</td>\n",
       "    </tr>\n",
       "    <tr>\n",
       "      <th>2</th>\n",
       "      <td>2021-05-10</td>\n",
       "      <td>Cum_Return NVDA</td>\n",
       "      <td>0.000000</td>\n",
       "      <td>NVDA</td>\n",
       "      <td>2</td>\n",
       "    </tr>\n",
       "    <tr>\n",
       "      <th>3</th>\n",
       "      <td>2021-05-11</td>\n",
       "      <td>Cum_Return AAPL</td>\n",
       "      <td>-0.007410</td>\n",
       "      <td>AAPL</td>\n",
       "      <td>2</td>\n",
       "    </tr>\n",
       "    <tr>\n",
       "      <th>4</th>\n",
       "      <td>2021-05-11</td>\n",
       "      <td>Cum_Return AMZN</td>\n",
       "      <td>0.010475</td>\n",
       "      <td>AMZN</td>\n",
       "      <td>2</td>\n",
       "    </tr>\n",
       "    <tr>\n",
       "      <th>5</th>\n",
       "      <td>2021-05-11</td>\n",
       "      <td>Cum_Return NVDA</td>\n",
       "      <td>0.002839</td>\n",
       "      <td>NVDA</td>\n",
       "      <td>2</td>\n",
       "    </tr>\n",
       "    <tr>\n",
       "      <th>0</th>\n",
       "      <td>2021-05-10</td>\n",
       "      <td>Cum_Return AAPL</td>\n",
       "      <td>0.000000</td>\n",
       "      <td>AAPL</td>\n",
       "      <td>3</td>\n",
       "    </tr>\n",
       "    <tr>\n",
       "      <th>1</th>\n",
       "      <td>2021-05-10</td>\n",
       "      <td>Cum_Return AMZN</td>\n",
       "      <td>0.000000</td>\n",
       "      <td>AMZN</td>\n",
       "      <td>3</td>\n",
       "    </tr>\n",
       "    <tr>\n",
       "      <th>2</th>\n",
       "      <td>2021-05-10</td>\n",
       "      <td>Cum_Return NVDA</td>\n",
       "      <td>0.000000</td>\n",
       "      <td>NVDA</td>\n",
       "      <td>3</td>\n",
       "    </tr>\n",
       "  </tbody>\n",
       "</table>\n",
       "</div>"
      ],
      "text/plain": [
       "        Date         variable     value stock  frame\n",
       "0 2021-05-10  Cum_Return AAPL  0.000000  AAPL      1\n",
       "1 2021-05-10  Cum_Return AMZN  0.000000  AMZN      1\n",
       "2 2021-05-10  Cum_Return NVDA  0.000000  NVDA      1\n",
       "0 2021-05-10  Cum_Return AAPL  0.000000  AAPL      2\n",
       "1 2021-05-10  Cum_Return AMZN  0.000000  AMZN      2\n",
       "2 2021-05-10  Cum_Return NVDA  0.000000  NVDA      2\n",
       "3 2021-05-11  Cum_Return AAPL -0.007410  AAPL      2\n",
       "4 2021-05-11  Cum_Return AMZN  0.010475  AMZN      2\n",
       "5 2021-05-11  Cum_Return NVDA  0.002839  NVDA      2\n",
       "0 2021-05-10  Cum_Return AAPL  0.000000  AAPL      3\n",
       "1 2021-05-10  Cum_Return AMZN  0.000000  AMZN      3\n",
       "2 2021-05-10  Cum_Return NVDA  0.000000  NVDA      3"
      ]
     },
     "execution_count": 11,
     "metadata": {},
     "output_type": "execute_result"
    }
   ],
   "source": [
    "df_indexed.head(12)"
   ]
  },
  {
   "cell_type": "markdown",
   "id": "55e3a63e",
   "metadata": {},
   "source": [
    "## **Create a scatter plot**\n",
    "\n",
    "<font size=\"3\"> We will use the library ploty to create these charts.In this case we will use the scatter chart on the df_indexed DataFrame that we already explained. Here is an example of how this chart looks like. We named it scatter_plot_initial, but that's not the one we are using at the end. Is just for illustration purposes<br><br>"
   ]
  },
  {
   "cell_type": "code",
   "execution_count": 12,
   "id": "b9919408",
   "metadata": {
    "scrolled": true
   },
   "outputs": [],
   "source": [
    "scatter_plot_initial = px.scatter(\n",
    "    df_indexed,\n",
    "    x='Date',\n",
    "    y='value',\n",
    "    color='stock',    \n",
    "    color_discrete_sequence=STOCK_GROUP_COLORS\n",
    ")\n",
    "# scatter_plot_initial.show()"
   ]
  },
  {
   "cell_type": "markdown",
   "id": "03eb0671",
   "metadata": {},
   "source": [
    "## **Using the animation frame parameter**\n",
    "\n",
    "<font size=\"3\"> The scatter plot in plotly has the parameter animation_frame. That parameter allows us to create a movie using the field frame that we created some steps above. We named this chart scatter_plot and is the one we are using at the end in this example <br><br>"
   ]
  },
  {
   "cell_type": "code",
   "execution_count": 13,
   "id": "67972f6f",
   "metadata": {},
   "outputs": [],
   "source": [
    "scatter_plot = px.scatter(\n",
    "    df_indexed,\n",
    "    x='Date',\n",
    "    y='value',\n",
    "    color='stock',\n",
    "    animation_frame='frame',\n",
    "    color_discrete_sequence=STOCK_GROUP_COLORS\n",
    ")"
   ]
  },
  {
   "cell_type": "markdown",
   "id": "ddae569a",
   "metadata": {},
   "source": [
    "<font size=\"3\"> We can observe the information contained in each frame from the object scatter_plot below. It is a dictionary with different information. Each frame contains information of the times series for each stock. You can see that the first frame has only one date, the second one two dates and so on<br><br>"
   ]
  },
  {
   "cell_type": "code",
   "execution_count": 14,
   "id": "b18ed753",
   "metadata": {
    "scrolled": false
   },
   "outputs": [
    {
     "data": {
      "text/plain": [
       "(Frame({\n",
       "     'data': [{'hovertemplate': 'stock=AAPL<br>frame=1<br>Date=%{x}<br>value=%{y}<extra></extra>',\n",
       "               'legendgroup': 'AAPL',\n",
       "               'marker': {'color': 'darkblue', 'symbol': 'circle'},\n",
       "               'mode': 'markers',\n",
       "               'name': 'AAPL',\n",
       "               'orientation': 'v',\n",
       "               'showlegend': True,\n",
       "               'type': 'scatter',\n",
       "               'x': array([datetime.datetime(2021, 5, 10, 0, 0)], dtype=object),\n",
       "               'xaxis': 'x',\n",
       "               'y': array([0.]),\n",
       "               'yaxis': 'y'},\n",
       "              {'hovertemplate': 'stock=AMZN<br>frame=1<br>Date=%{x}<br>value=%{y}<extra></extra>',\n",
       "               'legendgroup': 'AMZN',\n",
       "               'marker': {'color': 'royalblue', 'symbol': 'circle'},\n",
       "               'mode': 'markers',\n",
       "               'name': 'AMZN',\n",
       "               'orientation': 'v',\n",
       "               'showlegend': True,\n",
       "               'type': 'scatter',\n",
       "               'x': array([datetime.datetime(2021, 5, 10, 0, 0)], dtype=object),\n",
       "               'xaxis': 'x',\n",
       "               'y': array([0.]),\n",
       "               'yaxis': 'y'},\n",
       "              {'hovertemplate': 'stock=NVDA<br>frame=1<br>Date=%{x}<br>value=%{y}<extra></extra>',\n",
       "               'legendgroup': 'NVDA',\n",
       "               'marker': {'color': 'dodgerblue', 'symbol': 'circle'},\n",
       "               'mode': 'markers',\n",
       "               'name': 'NVDA',\n",
       "               'orientation': 'v',\n",
       "               'showlegend': True,\n",
       "               'type': 'scatter',\n",
       "               'x': array([datetime.datetime(2021, 5, 10, 0, 0)], dtype=object),\n",
       "               'xaxis': 'x',\n",
       "               'y': array([0.]),\n",
       "               'yaxis': 'y'}],\n",
       "     'name': '1'\n",
       " }),)"
      ]
     },
     "execution_count": 14,
     "metadata": {},
     "output_type": "execute_result"
    }
   ],
   "source": [
    "scatter_plot.frames[0:1]"
   ]
  },
  {
   "cell_type": "markdown",
   "id": "d3d0fc56",
   "metadata": {},
   "source": [
    "<font size=\"3\"> If we select the first frame, using the field data. "
   ]
  },
  {
   "cell_type": "code",
   "execution_count": 15,
   "id": "fe469f6b",
   "metadata": {
    "scrolled": true
   },
   "outputs": [
    {
     "data": {
      "text/plain": [
       "(Scatter({\n",
       "     'hovertemplate': 'stock=AAPL<br>frame=1<br>Date=%{x}<br>value=%{y}<extra></extra>',\n",
       "     'legendgroup': 'AAPL',\n",
       "     'marker': {'color': 'darkblue', 'symbol': 'circle'},\n",
       "     'mode': 'markers',\n",
       "     'name': 'AAPL',\n",
       "     'orientation': 'v',\n",
       "     'showlegend': True,\n",
       "     'x': array([datetime.datetime(2021, 5, 10, 0, 0)], dtype=object),\n",
       "     'xaxis': 'x',\n",
       "     'y': array([0.]),\n",
       "     'yaxis': 'y'\n",
       " }),\n",
       " Scatter({\n",
       "     'hovertemplate': 'stock=AMZN<br>frame=1<br>Date=%{x}<br>value=%{y}<extra></extra>',\n",
       "     'legendgroup': 'AMZN',\n",
       "     'marker': {'color': 'royalblue', 'symbol': 'circle'},\n",
       "     'mode': 'markers',\n",
       "     'name': 'AMZN',\n",
       "     'orientation': 'v',\n",
       "     'showlegend': True,\n",
       "     'x': array([datetime.datetime(2021, 5, 10, 0, 0)], dtype=object),\n",
       "     'xaxis': 'x',\n",
       "     'y': array([0.]),\n",
       "     'yaxis': 'y'\n",
       " }),\n",
       " Scatter({\n",
       "     'hovertemplate': 'stock=NVDA<br>frame=1<br>Date=%{x}<br>value=%{y}<extra></extra>',\n",
       "     'legendgroup': 'NVDA',\n",
       "     'marker': {'color': 'dodgerblue', 'symbol': 'circle'},\n",
       "     'mode': 'markers',\n",
       "     'name': 'NVDA',\n",
       "     'orientation': 'v',\n",
       "     'showlegend': True,\n",
       "     'x': array([datetime.datetime(2021, 5, 10, 0, 0)], dtype=object),\n",
       "     'xaxis': 'x',\n",
       "     'y': array([0.]),\n",
       "     'yaxis': 'y'\n",
       " }))"
      ]
     },
     "execution_count": 15,
     "metadata": {},
     "output_type": "execute_result"
    }
   ],
   "source": [
    "scatter_plot.frames[0]['data']"
   ]
  },
  {
   "cell_type": "markdown",
   "id": "020d6aa7",
   "metadata": {},
   "source": [
    "<font size=\"3\">We can see that for x we have the first date and for y we have the first cumulative return of the first stock."
   ]
  },
  {
   "cell_type": "code",
   "execution_count": 16,
   "id": "046931a4",
   "metadata": {
    "scrolled": true
   },
   "outputs": [
    {
     "name": "stdout",
     "output_type": "stream",
     "text": [
      "[datetime.datetime(2021, 5, 10, 0, 0)]\n",
      "[0.]\n"
     ]
    }
   ],
   "source": [
    "print(scatter_plot.frames[0]['data'][0]['x'])\n",
    "print(scatter_plot.frames[0]['data'][0]['y'])"
   ]
  },
  {
   "cell_type": "markdown",
   "id": "64cca1d1",
   "metadata": {},
   "source": [
    "<font size=\"3\">If we take the 3rd frame, we will have the time series of the dates and the returns of the first stock."
   ]
  },
  {
   "cell_type": "code",
   "execution_count": 17,
   "id": "6ace4302",
   "metadata": {},
   "outputs": [
    {
     "name": "stdout",
     "output_type": "stream",
     "text": [
      "[datetime.datetime(2021, 5, 10, 0, 0) datetime.datetime(2021, 5, 11, 0, 0)\n",
      " datetime.datetime(2021, 5, 12, 0, 0) datetime.datetime(2021, 5, 13, 0, 0)]\n",
      "[ 0.         -0.00741023 -0.03216389 -0.01482053]\n"
     ]
    }
   ],
   "source": [
    "print(scatter_plot.frames[3]['data'][0]['x'])\n",
    "print(scatter_plot.frames[3]['data'][0]['y'])"
   ]
  },
  {
   "cell_type": "markdown",
   "id": "8347ffb2",
   "metadata": {},
   "source": [
    "<font size=\"3\">And here we can observe the same for the second stock"
   ]
  },
  {
   "cell_type": "code",
   "execution_count": 18,
   "id": "e7c3ec97",
   "metadata": {
    "scrolled": true
   },
   "outputs": [
    {
     "name": "stdout",
     "output_type": "stream",
     "text": [
      "[datetime.datetime(2021, 5, 10, 0, 0) datetime.datetime(2021, 5, 11, 0, 0)\n",
      " datetime.datetime(2021, 5, 12, 0, 0) datetime.datetime(2021, 5, 13, 0, 0)]\n",
      "[ 0.          0.01047482 -0.01208282 -0.00909581]\n"
     ]
    }
   ],
   "source": [
    "print(scatter_plot.frames[3]['data'][1]['x'])\n",
    "print(scatter_plot.frames[3]['data'][1]['y'])"
   ]
  },
  {
   "cell_type": "markdown",
   "id": "7c3ac5ad",
   "metadata": {},
   "source": [
    "<font size=\"3\">You can corroborate the information from the original DataFrame as shown below"
   ]
  },
  {
   "cell_type": "code",
   "execution_count": 19,
   "id": "394fd8d7",
   "metadata": {
    "scrolled": false
   },
   "outputs": [
    {
     "data": {
      "text/html": [
       "<div>\n",
       "<style scoped>\n",
       "    .dataframe tbody tr th:only-of-type {\n",
       "        vertical-align: middle;\n",
       "    }\n",
       "\n",
       "    .dataframe tbody tr th {\n",
       "        vertical-align: top;\n",
       "    }\n",
       "\n",
       "    .dataframe thead th {\n",
       "        text-align: right;\n",
       "    }\n",
       "</style>\n",
       "<table border=\"1\" class=\"dataframe\">\n",
       "  <thead>\n",
       "    <tr style=\"text-align: right;\">\n",
       "      <th></th>\n",
       "      <th>Date</th>\n",
       "      <th>variable</th>\n",
       "      <th>value</th>\n",
       "      <th>stock</th>\n",
       "    </tr>\n",
       "  </thead>\n",
       "  <tbody>\n",
       "    <tr>\n",
       "      <th>0</th>\n",
       "      <td>2021-05-10</td>\n",
       "      <td>Cum_Return AAPL</td>\n",
       "      <td>0.000000</td>\n",
       "      <td>AAPL</td>\n",
       "    </tr>\n",
       "    <tr>\n",
       "      <th>1</th>\n",
       "      <td>2021-05-10</td>\n",
       "      <td>Cum_Return AMZN</td>\n",
       "      <td>0.000000</td>\n",
       "      <td>AMZN</td>\n",
       "    </tr>\n",
       "    <tr>\n",
       "      <th>2</th>\n",
       "      <td>2021-05-10</td>\n",
       "      <td>Cum_Return NVDA</td>\n",
       "      <td>0.000000</td>\n",
       "      <td>NVDA</td>\n",
       "    </tr>\n",
       "    <tr>\n",
       "      <th>3</th>\n",
       "      <td>2021-05-11</td>\n",
       "      <td>Cum_Return AAPL</td>\n",
       "      <td>-0.007410</td>\n",
       "      <td>AAPL</td>\n",
       "    </tr>\n",
       "    <tr>\n",
       "      <th>4</th>\n",
       "      <td>2021-05-11</td>\n",
       "      <td>Cum_Return AMZN</td>\n",
       "      <td>0.010475</td>\n",
       "      <td>AMZN</td>\n",
       "    </tr>\n",
       "    <tr>\n",
       "      <th>5</th>\n",
       "      <td>2021-05-11</td>\n",
       "      <td>Cum_Return NVDA</td>\n",
       "      <td>0.002839</td>\n",
       "      <td>NVDA</td>\n",
       "    </tr>\n",
       "    <tr>\n",
       "      <th>6</th>\n",
       "      <td>2021-05-12</td>\n",
       "      <td>Cum_Return AAPL</td>\n",
       "      <td>-0.032164</td>\n",
       "      <td>AAPL</td>\n",
       "    </tr>\n",
       "    <tr>\n",
       "      <th>7</th>\n",
       "      <td>2021-05-12</td>\n",
       "      <td>Cum_Return AMZN</td>\n",
       "      <td>-0.012083</td>\n",
       "      <td>AMZN</td>\n",
       "    </tr>\n",
       "    <tr>\n",
       "      <th>8</th>\n",
       "      <td>2021-05-12</td>\n",
       "      <td>Cum_Return NVDA</td>\n",
       "      <td>-0.035557</td>\n",
       "      <td>NVDA</td>\n",
       "    </tr>\n",
       "    <tr>\n",
       "      <th>9</th>\n",
       "      <td>2021-05-13</td>\n",
       "      <td>Cum_Return AAPL</td>\n",
       "      <td>-0.014821</td>\n",
       "      <td>AAPL</td>\n",
       "    </tr>\n",
       "    <tr>\n",
       "      <th>10</th>\n",
       "      <td>2021-05-13</td>\n",
       "      <td>Cum_Return AMZN</td>\n",
       "      <td>-0.009096</td>\n",
       "      <td>AMZN</td>\n",
       "    </tr>\n",
       "    <tr>\n",
       "      <th>11</th>\n",
       "      <td>2021-05-13</td>\n",
       "      <td>Cum_Return NVDA</td>\n",
       "      <td>-0.042094</td>\n",
       "      <td>NVDA</td>\n",
       "    </tr>\n",
       "  </tbody>\n",
       "</table>\n",
       "</div>"
      ],
      "text/plain": [
       "         Date         variable     value stock\n",
       "0  2021-05-10  Cum_Return AAPL  0.000000  AAPL\n",
       "1  2021-05-10  Cum_Return AMZN  0.000000  AMZN\n",
       "2  2021-05-10  Cum_Return NVDA  0.000000  NVDA\n",
       "3  2021-05-11  Cum_Return AAPL -0.007410  AAPL\n",
       "4  2021-05-11  Cum_Return AMZN  0.010475  AMZN\n",
       "5  2021-05-11  Cum_Return NVDA  0.002839  NVDA\n",
       "6  2021-05-12  Cum_Return AAPL -0.032164  AAPL\n",
       "7  2021-05-12  Cum_Return AMZN -0.012083  AMZN\n",
       "8  2021-05-12  Cum_Return NVDA -0.035557  NVDA\n",
       "9  2021-05-13  Cum_Return AAPL -0.014821  AAPL\n",
       "10 2021-05-13  Cum_Return AMZN -0.009096  AMZN\n",
       "11 2021-05-13  Cum_Return NVDA -0.042094  NVDA"
      ]
     },
     "execution_count": 19,
     "metadata": {},
     "output_type": "execute_result"
    }
   ],
   "source": [
    "df_returns2.head(12)"
   ]
  },
  {
   "cell_type": "markdown",
   "id": "5b630112",
   "metadata": {},
   "source": [
    "<font size=\"3\"> Now we can iterate through plot’s properties: data, frames, and layout. Here comes the magic trick: instead of using all data records, update the array and keep only the last value from each iteration using np.take() function. This applies only to the scatter plot. Numpy's take(~) method is used to access values, rows and columns of an array. Here an example on how it works"
   ]
  },
  {
   "cell_type": "code",
   "execution_count": 20,
   "id": "d4bfbe08",
   "metadata": {},
   "outputs": [
    {
     "data": {
      "text/plain": [
       "9"
      ]
     },
     "execution_count": 20,
     "metadata": {},
     "output_type": "execute_result"
    }
   ],
   "source": [
    "a = [[4,5,6,9]]\n",
    "np.take(a, -1)"
   ]
  },
  {
   "cell_type": "markdown",
   "id": "13329b5b",
   "metadata": {},
   "source": [
    "<font size=\"3\"> Now we apply it to our data taking only the last part of the array"
   ]
  },
  {
   "cell_type": "code",
   "execution_count": 21,
   "id": "c0bda0ee",
   "metadata": {},
   "outputs": [],
   "source": [
    "for frame in scatter_plot.frames:\n",
    "    for data in frame.data:\n",
    "        data.update(mode='markers',\n",
    "                    showlegend=True,\n",
    "                    opacity=1)\n",
    "        data['x'] = np.take(data['x'], [-1])\n",
    "        data['y'] = np.take(data['y'], [-1])"
   ]
  },
  {
   "cell_type": "markdown",
   "id": "ccfe6538",
   "metadata": {},
   "source": [
    "## **Line plot**\n",
    "\n",
    "<font size=\"3\"> Now we built a line plot. Here is an example of what we get. We named it line_plot_initial but it is not the one we are using at the end. Is just for illustration purposes. <br><br>"
   ]
  },
  {
   "cell_type": "code",
   "execution_count": 22,
   "id": "8b9667ac",
   "metadata": {
    "scrolled": true
   },
   "outputs": [],
   "source": [
    "line_plot_initial = px.line(\n",
    "    df_indexed,\n",
    "    x='Date',\n",
    "    y='value',\n",
    "    color='stock',\n",
    "    animation_frame='frame',\n",
    "    color_discrete_sequence=STOCK_GROUP_COLORS,\n",
    "    width=1000,\n",
    "    height=500,\n",
    "    line_shape='spline' # Make a line graph curvy\n",
    ")\n",
    "# Hide line plot legend to avoid duplication with scatter plot's legend\n",
    "line_plot_initial.update_traces(showlegend=False)  \n",
    "\n",
    "for frame in line_plot_initial.frames:\n",
    "    for data in frame.data:\n",
    "        data.update(mode='lines', opacity=0.8, showlegend=False)\n",
    "\n",
    "\n",
    "# line_plot_initial.show()"
   ]
  },
  {
   "cell_type": "markdown",
   "id": "60f86763",
   "metadata": {},
   "source": [
    "<font size=\"3\"> Let's built the chart line_plot, which is the one we are using at the end. Here we can set the width and height of graph, which will be inherited by combined plot later. Notice, that argument showlegend=False is mentioned here twice, once when graph is initialised, then during each interation."
   ]
  },
  {
   "cell_type": "code",
   "execution_count": 23,
   "id": "c1db0282",
   "metadata": {},
   "outputs": [],
   "source": [
    "line_plot = px.line(\n",
    "    df_indexed,\n",
    "    x='Date',\n",
    "    y='value',\n",
    "    color='stock',\n",
    "    animation_frame='frame',\n",
    "    color_discrete_sequence=STOCK_GROUP_COLORS,\n",
    "    width=1000,\n",
    "    height=500,\n",
    "    line_shape='spline' # Make a line graph curvy\n",
    ")\n",
    "# Hide line plot legend to avoid duplication with scatter plot's legend\n",
    "line_plot.update_traces(showlegend=False)  \n",
    "\n",
    "for frame in line_plot.frames:\n",
    "    for data in frame.data:\n",
    "        data.update(mode='lines', opacity=0.8, showlegend=False)"
   ]
  },
  {
   "cell_type": "markdown",
   "id": "a112a367",
   "metadata": {},
   "source": [
    "## **Combined plot**\n",
    "\n",
    "<font size=\"3\"> The last step in creating animated graphs is to join the scatter plot with the line plot. We used Plotly Graph Objects go.Figure module to create a new, combined plot, where layout from the line plot is inherited. Here we will use the zip function to iterate throgh the tuple which contains infor from the scatter_plot and the line_plot.<br><br>\n",
    "    \n",
    "<font size=\"3\">The zip() function returns a zip object, which is an iterator of tuples where the first item in each passed iterator is paired together, and then the second item in each passed iterator are paired together etc. If the passed iterables have different lengths, the iterable with the least items decides the length of the new iterator. Here is an example of zip"
   ]
  },
  {
   "cell_type": "code",
   "execution_count": 24,
   "id": "d5b5f2ec",
   "metadata": {},
   "outputs": [
    {
     "name": "stdout",
     "output_type": "stream",
     "text": [
      "('John', 'Jenny')\n",
      "('Charles', 'Christy')\n",
      "('Mike', 'Monica')\n"
     ]
    }
   ],
   "source": [
    "a = (\"John\", \"Charles\", \"Mike\")\n",
    "b = (\"Jenny\", \"Christy\", \"Monica\")\n",
    "\n",
    "c = zip(a, b)\n",
    "\n",
    "\n",
    "for i in c:\n",
    "    print(i)"
   ]
  },
  {
   "cell_type": "code",
   "execution_count": 25,
   "id": "acfffd47",
   "metadata": {
    "scrolled": true
   },
   "outputs": [],
   "source": [
    "combined_plot = go.Figure(\n",
    "    data=line_plot.data + scatter_plot.data,\n",
    "    frames=[\n",
    "        go.Frame(data=line_plot.data + scatter_plot.data, name=scatter_plot.name)\n",
    "        for line_plot, scatter_plot in zip(line_plot.frames, scatter_plot.frames)\n",
    "    ],\n",
    "    layout=line_plot.layout\n",
    ")\n",
    "\n",
    "# combined_plot.show()"
   ]
  },
  {
   "cell_type": "markdown",
   "id": "ce8c5c7b",
   "metadata": {},
   "source": [
    "## **Final adjustments**\n",
    "\n",
    "<font size=\"3\"> Now, customize the graph to your preferences setting the layout. At the end, set the animation speed. <br><br>"
   ]
  },
  {
   "cell_type": "code",
   "execution_count": 27,
   "id": "8fe77392",
   "metadata": {
    "scrolled": true
   },
   "outputs": [],
   "source": [
    "combined_plot.update_yaxes(\n",
    "    gridcolor='white',\n",
    "    griddash='dot',\n",
    "    gridwidth=0.5,\n",
    "    linewidth=2,\n",
    "    tickwidth=2\n",
    ")\n",
    "\n",
    "combined_plot.update_xaxes(\n",
    "    title_font=dict(size=16),\n",
    "    linewidth=2,\n",
    "    tickwidth=2\n",
    ")\n",
    "\n",
    "combined_plot.update_traces(\n",
    "    line=dict(width=5),\n",
    "    marker=dict(size=10)) # Play with marker size and line width\n",
    "\n",
    "combined_plot.update_layout(\n",
    "    font=dict(size=18),\n",
    "    yaxis=dict(tickfont=dict(size=16)),\n",
    "    xaxis=dict(tickfont=dict(size=16)),\n",
    "    showlegend=True,\n",
    "    legend=dict(title='Stock'),\n",
    "    template='simple_white',\n",
    "    title=\"<b>Total cumulative returns</b>\",\n",
    "    yaxis_title=\"<b>Cumulative Return</b>\",\n",
    "    xaxis_title=\"<b>Date</b>\",\n",
    "    yaxis_showgrid=True,\n",
    "    xaxis_range=[df_indexed['Date'].min() ,\n",
    "                 df_indexed['Date'].max() ],\n",
    "    yaxis_range=[df_indexed['value'].min(),\n",
    "                 df_indexed['value'].max()*1.25],\n",
    "    plot_bgcolor='white',\n",
    "    paper_bgcolor='white',\n",
    "    title_x=0.5\n",
    ")\n",
    "\n",
    "combined_plot['layout'].pop(\"sliders\")\n",
    "combined_plot.layout.updatemenus[0].buttons[0]['args'][1]['frame']['duration'] = 60\n",
    "combined_plot.layout.updatemenus[0].buttons[0]['args'][1]['transition']['duration'] = 25\n",
    "combined_plot.layout.updatemenus[0].buttons[0]['args'][1]['transition']['redraw'] = False\n",
    "combined_plot.show()"
   ]
  },
  {
   "cell_type": "markdown",
   "id": "01e201da",
   "metadata": {},
   "source": [
    "<font size=\"3\"> Many of the ideas explained in this nothebook were taken from <a href=\"https://blog.stackademic.com/bringing-data-to-life-crafting-animated-timeline-graphs-from-dust-0cbb40ff8737\" target=\"_blank\">this link</a> . We would like to thank them and give them the credit for their amazing explanation."
   ]
  },
  {
   "cell_type": "markdown",
   "id": "a330672f",
   "metadata": {},
   "source": [
    "If this content is helpful and you want to make a donation please click on the button below. It helps us maintain this site.\n",
    "\n",
    "[![paypal](https://www.paypalobjects.com/en_US/i/btn/btn_donateCC_LG.gif)](https://www.paypal.com/cgi-bin/webscr?cmd=_s-xclick&hosted_button_id=29CVY97MEQ9BY)"
   ]
  }
 ],
 "metadata": {
  "kernelspec": {
   "display_name": "Python 3 (ipykernel)",
   "language": "python",
   "name": "python3"
  },
  "language_info": {
   "codemirror_mode": {
    "name": "ipython",
    "version": 3
   },
   "file_extension": ".py",
   "mimetype": "text/x-python",
   "name": "python",
   "nbconvert_exporter": "python",
   "pygments_lexer": "ipython3",
   "version": "3.9.12"
  }
 },
 "nbformat": 4,
 "nbformat_minor": 5
}
