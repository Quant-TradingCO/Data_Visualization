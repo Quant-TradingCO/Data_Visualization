{
 "cells": [
  {
   "cell_type": "markdown",
   "metadata": {},
   "source": [
    "![This is an image](Quant-Trading.jpg)"
   ]
  },
  {
   "cell_type": "markdown",
   "metadata": {},
   "source": [
    "<font size=\"3\">\n",
    "Please visit our website <a href=\"https://www.quant-trading.co\" target=\"_blank\">quant-trading.co</a> for more tools on quantitative finance and data science.\n",
    "</font>"
   ]
  },
  {
   "cell_type": "markdown",
   "metadata": {},
   "source": [
    "# **HOW TO MAKE A BOXPLOT FOR FINANCIAL RETURNS?**\n",
    "\n",
    "## **Histogram**\n",
    "\n",
    "<font size=\"3\"> In descriptive statistics, a box plot or boxplot is a method for graphically demonstrating the locality, spread and skewness groups of numerical data through their quartiles. In this notebook we will show how to make a boxplot for financial returns. In addition to the box on a box plot, there can be lines (which are called whiskers) extending from the box indicating variability outside the upper and lower quartiles, thus, the plot is also called the box-and-whisker plot and the box-and-whisker diagram. Outliers that differ significantly from the rest of the dataset may be plotted as individual points beyond the whiskers on the box-plot. Box plots are non-parametric: they display variation in samples of a statistical population without making any assumptions of the underlying statistical distribution<br><br> \n",
    "    \n",
    "<font size=\"3\"> In this notebook we will use Yahoo Finance Data for the NVIDIA stock and then calculate monthly returns . Then we will classify them according to the month in the year and will later use the boxplot function from seaborn to plot the results. If you want to know how to download the data from the yahoo finance API please take a look  <a href=\"https://quant-trading.co/how-to-download-data-from-yahoo-finance-api/\" target=\"_blank\">here</a>\n",
    "<br><br>"
   ]
  },
  {
   "cell_type": "code",
   "execution_count": 1,
   "metadata": {},
   "outputs": [],
   "source": [
    "import warnings\n",
    "warnings.filterwarnings('ignore')\n",
    "\n",
    "import numpy as np\n",
    "import pandas as pd\n",
    "import seaborn as sns\n",
    "import datetime\n",
    "import yfinance as yf\n",
    "from scipy import stats\n",
    "import matplotlib.pyplot as plt\n",
    "from matplotlib.ticker import FormatStrFormatter, PercentFormatter"
   ]
  },
  {
   "cell_type": "markdown",
   "metadata": {},
   "source": [
    "## **Download the data**\n",
    "\n",
    "<font size=\"3\"> We do as usual with the yahoo finance API. \n",
    "<br><br>"
   ]
  },
  {
   "cell_type": "code",
   "execution_count": 2,
   "metadata": {
    "scrolled": true
   },
   "outputs": [],
   "source": [
    "Ticker = '^SPX'\n",
    "my_ticker = yf.Ticker(Ticker)\n",
    "\n",
    "#DATES\n",
    "start_date = datetime.datetime(1970, 12, 31)\n",
    "end_date = datetime.datetime(2024, 4, 15)\n",
    "\n",
    "prices_hist = my_ticker.history(start=start_date,end=end_date)"
   ]
  },
  {
   "cell_type": "markdown",
   "metadata": {},
   "source": [
    "## **Calculate monthly returns**\n",
    "\n",
    "<font size=\"3\"> In another notebook we showed how to do this in detail. Please look at this  <a href=\"https://quant-trading.co/mean-and-median-return-calculations-using-python/\" target=\"_blank\">link</a>\n",
    "<br><br>"
   ]
  },
  {
   "cell_type": "code",
   "execution_count": 3,
   "metadata": {},
   "outputs": [
    {
     "data": {
      "text/html": [
       "<div>\n",
       "<style scoped>\n",
       "    .dataframe tbody tr th:only-of-type {\n",
       "        vertical-align: middle;\n",
       "    }\n",
       "\n",
       "    .dataframe tbody tr th {\n",
       "        vertical-align: top;\n",
       "    }\n",
       "\n",
       "    .dataframe thead th {\n",
       "        text-align: right;\n",
       "    }\n",
       "</style>\n",
       "<table border=\"1\" class=\"dataframe\">\n",
       "  <thead>\n",
       "    <tr style=\"text-align: right;\">\n",
       "      <th></th>\n",
       "      <th>Open</th>\n",
       "      <th>High</th>\n",
       "      <th>Low</th>\n",
       "      <th>Close</th>\n",
       "      <th>Volume</th>\n",
       "      <th>Dividends</th>\n",
       "      <th>Stock Splits</th>\n",
       "      <th>Monthly_Return</th>\n",
       "      <th>Date</th>\n",
       "      <th>Month</th>\n",
       "    </tr>\n",
       "    <tr>\n",
       "      <th>Date</th>\n",
       "      <th></th>\n",
       "      <th></th>\n",
       "      <th></th>\n",
       "      <th></th>\n",
       "      <th></th>\n",
       "      <th></th>\n",
       "      <th></th>\n",
       "      <th></th>\n",
       "      <th></th>\n",
       "      <th></th>\n",
       "    </tr>\n",
       "  </thead>\n",
       "  <tbody>\n",
       "    <tr>\n",
       "      <th>1970-12-31</th>\n",
       "      <td>0.000000</td>\n",
       "      <td>92.790001</td>\n",
       "      <td>91.360001</td>\n",
       "      <td>92.150002</td>\n",
       "      <td>13390000</td>\n",
       "      <td>0</td>\n",
       "      <td>0</td>\n",
       "      <td>NaN</td>\n",
       "      <td>1970-12-31</td>\n",
       "      <td>12</td>\n",
       "    </tr>\n",
       "    <tr>\n",
       "      <th>1971-01-31</th>\n",
       "      <td>0.000000</td>\n",
       "      <td>96.489998</td>\n",
       "      <td>94.790001</td>\n",
       "      <td>95.879997</td>\n",
       "      <td>20960000</td>\n",
       "      <td>0</td>\n",
       "      <td>0</td>\n",
       "      <td>0.040477</td>\n",
       "      <td>1971-01-31</td>\n",
       "      <td>1</td>\n",
       "    </tr>\n",
       "    <tr>\n",
       "      <th>1971-02-28</th>\n",
       "      <td>0.000000</td>\n",
       "      <td>97.540001</td>\n",
       "      <td>95.839996</td>\n",
       "      <td>96.750000</td>\n",
       "      <td>17250000</td>\n",
       "      <td>0</td>\n",
       "      <td>0</td>\n",
       "      <td>0.009074</td>\n",
       "      <td>1971-02-28</td>\n",
       "      <td>2</td>\n",
       "    </tr>\n",
       "    <tr>\n",
       "      <th>1971-03-31</th>\n",
       "      <td>0.000000</td>\n",
       "      <td>101.050003</td>\n",
       "      <td>99.690002</td>\n",
       "      <td>100.309998</td>\n",
       "      <td>17610000</td>\n",
       "      <td>0</td>\n",
       "      <td>0</td>\n",
       "      <td>0.036796</td>\n",
       "      <td>1971-03-31</td>\n",
       "      <td>3</td>\n",
       "    </tr>\n",
       "    <tr>\n",
       "      <th>1971-04-30</th>\n",
       "      <td>0.000000</td>\n",
       "      <td>104.959999</td>\n",
       "      <td>103.250000</td>\n",
       "      <td>103.949997</td>\n",
       "      <td>17490000</td>\n",
       "      <td>0</td>\n",
       "      <td>0</td>\n",
       "      <td>0.036288</td>\n",
       "      <td>1971-04-30</td>\n",
       "      <td>4</td>\n",
       "    </tr>\n",
       "    <tr>\n",
       "      <th>...</th>\n",
       "      <td>...</td>\n",
       "      <td>...</td>\n",
       "      <td>...</td>\n",
       "      <td>...</td>\n",
       "      <td>...</td>\n",
       "      <td>...</td>\n",
       "      <td>...</td>\n",
       "      <td>...</td>\n",
       "      <td>...</td>\n",
       "      <td>...</td>\n",
       "    </tr>\n",
       "    <tr>\n",
       "      <th>2023-12-31</th>\n",
       "      <td>4782.879883</td>\n",
       "      <td>4788.430176</td>\n",
       "      <td>4751.990234</td>\n",
       "      <td>4769.830078</td>\n",
       "      <td>3126060000</td>\n",
       "      <td>0</td>\n",
       "      <td>0</td>\n",
       "      <td>0.044229</td>\n",
       "      <td>2023-12-31</td>\n",
       "      <td>12</td>\n",
       "    </tr>\n",
       "    <tr>\n",
       "      <th>2024-01-31</th>\n",
       "      <td>4899.189941</td>\n",
       "      <td>4906.750000</td>\n",
       "      <td>4845.149902</td>\n",
       "      <td>4845.649902</td>\n",
       "      <td>4696120000</td>\n",
       "      <td>0</td>\n",
       "      <td>0</td>\n",
       "      <td>0.015896</td>\n",
       "      <td>2024-01-31</td>\n",
       "      <td>1</td>\n",
       "    </tr>\n",
       "    <tr>\n",
       "      <th>2024-02-29</th>\n",
       "      <td>5085.359863</td>\n",
       "      <td>5104.990234</td>\n",
       "      <td>5061.890137</td>\n",
       "      <td>5096.270020</td>\n",
       "      <td>5219740000</td>\n",
       "      <td>0</td>\n",
       "      <td>0</td>\n",
       "      <td>0.051721</td>\n",
       "      <td>2024-02-29</td>\n",
       "      <td>2</td>\n",
       "    </tr>\n",
       "    <tr>\n",
       "      <th>2024-03-31</th>\n",
       "      <td>5248.029785</td>\n",
       "      <td>5264.850098</td>\n",
       "      <td>5245.819824</td>\n",
       "      <td>5254.350098</td>\n",
       "      <td>3998270000</td>\n",
       "      <td>0</td>\n",
       "      <td>0</td>\n",
       "      <td>0.031019</td>\n",
       "      <td>2024-03-31</td>\n",
       "      <td>3</td>\n",
       "    </tr>\n",
       "    <tr>\n",
       "      <th>2024-04-30</th>\n",
       "      <td>5171.509766</td>\n",
       "      <td>5175.029785</td>\n",
       "      <td>5107.939941</td>\n",
       "      <td>5123.410156</td>\n",
       "      <td>3963220000</td>\n",
       "      <td>0</td>\n",
       "      <td>0</td>\n",
       "      <td>-0.024920</td>\n",
       "      <td>2024-04-30</td>\n",
       "      <td>4</td>\n",
       "    </tr>\n",
       "  </tbody>\n",
       "</table>\n",
       "<p>641 rows × 10 columns</p>\n",
       "</div>"
      ],
      "text/plain": [
       "                   Open         High          Low        Close      Volume  \\\n",
       "Date                                                                         \n",
       "1970-12-31     0.000000    92.790001    91.360001    92.150002    13390000   \n",
       "1971-01-31     0.000000    96.489998    94.790001    95.879997    20960000   \n",
       "1971-02-28     0.000000    97.540001    95.839996    96.750000    17250000   \n",
       "1971-03-31     0.000000   101.050003    99.690002   100.309998    17610000   \n",
       "1971-04-30     0.000000   104.959999   103.250000   103.949997    17490000   \n",
       "...                 ...          ...          ...          ...         ...   \n",
       "2023-12-31  4782.879883  4788.430176  4751.990234  4769.830078  3126060000   \n",
       "2024-01-31  4899.189941  4906.750000  4845.149902  4845.649902  4696120000   \n",
       "2024-02-29  5085.359863  5104.990234  5061.890137  5096.270020  5219740000   \n",
       "2024-03-31  5248.029785  5264.850098  5245.819824  5254.350098  3998270000   \n",
       "2024-04-30  5171.509766  5175.029785  5107.939941  5123.410156  3963220000   \n",
       "\n",
       "            Dividends  Stock Splits  Monthly_Return       Date  Month  \n",
       "Date                                                                   \n",
       "1970-12-31          0             0             NaN 1970-12-31     12  \n",
       "1971-01-31          0             0        0.040477 1971-01-31      1  \n",
       "1971-02-28          0             0        0.009074 1971-02-28      2  \n",
       "1971-03-31          0             0        0.036796 1971-03-31      3  \n",
       "1971-04-30          0             0        0.036288 1971-04-30      4  \n",
       "...               ...           ...             ...        ...    ...  \n",
       "2023-12-31          0             0        0.044229 2023-12-31     12  \n",
       "2024-01-31          0             0        0.015896 2024-01-31      1  \n",
       "2024-02-29          0             0        0.051721 2024-02-29      2  \n",
       "2024-03-31          0             0        0.031019 2024-03-31      3  \n",
       "2024-04-30          0             0       -0.024920 2024-04-30      4  \n",
       "\n",
       "[641 rows x 10 columns]"
      ]
     },
     "execution_count": 3,
     "metadata": {},
     "output_type": "execute_result"
    }
   ],
   "source": [
    "prices_hist_month = prices_hist.resample('M')\n",
    "prices_hist_month = prices_hist_month.apply(lambda x : x.iloc[-1])\n",
    "prices_hist_month['Monthly_Return'] = prices_hist_month['Close']/prices_hist_month['Close'].shift(1) - 1\n",
    "prices_hist_month['Date'] = prices_hist_month.index\n",
    "prices_hist_month['Date'] = pd.to_datetime(prices_hist_month['Date'])\n",
    "prices_hist_month['Month'] = prices_hist_month['Date'].dt.month\n",
    "prices_hist_month"
   ]
  },
  {
   "cell_type": "markdown",
   "metadata": {},
   "source": [
    "## **Calculate maximum and minimum return**\n",
    "\n",
    "<font size=\"3\"> Here we calculate maximum and minimum return to adjust the chart. We also track the initial year of the database for the chart's title.\n",
    "<br><br>"
   ]
  },
  {
   "cell_type": "code",
   "execution_count": 4,
   "metadata": {},
   "outputs": [
    {
     "data": {
      "text/plain": [
       "1970"
      ]
     },
     "execution_count": 4,
     "metadata": {},
     "output_type": "execute_result"
    }
   ],
   "source": [
    "min_value = prices_hist_month['Monthly_Return'].min()\n",
    "max_value = prices_hist_month['Monthly_Return'].max()\n",
    "\n",
    "prices_hist_month['Year'] = prices_hist_month['Date'].dt.year\n",
    "prices_hist_month['Year'].iloc[0]"
   ]
  },
  {
   "cell_type": "markdown",
   "metadata": {},
   "source": [
    "## **Create the boxplot**\n",
    "\n",
    "   \n",
    "<font size=\"3\"> We will use the boxplot function of the seaborn library. Below you can find an example on how to do that.\n",
    "<br><br>"
   ]
  },
  {
   "cell_type": "code",
   "execution_count": 5,
   "metadata": {
    "scrolled": false
   },
   "outputs": [
    {
     "data": {
      "text/plain": [
       "Text(9, -0.21763041421998008, 'Source: Yahoo Finance')"
      ]
     },
     "execution_count": 5,
     "metadata": {},
     "output_type": "execute_result"
    },
    {
     "data": {
      "image/png": "[encoded data removed]",
      "text/plain": [
       "<Figure size 640x480 with 1 Axes>"
      ]
     },
     "metadata": {},
     "output_type": "display_data"
    }
   ],
   "source": [
    "fig = plt.figure()\n",
    "\n",
    "ax = sns.boxplot(x = 'Month', y = 'Monthly_Return', data  = prices_hist_month, orient=\"vertical\", showfliers=False, palette=\"Blues\") \n",
    "ax.yaxis.set_major_formatter(PercentFormatter(1,decimals=2))\n",
    "plt.xticks(rotation=90)\n",
    "plt.title(\"Monthly returns  since \" + str(prices_hist_month['Year'].iloc[0]) + \"- Calendar effects\")\n",
    "plt.box(on=None)\n",
    "\n",
    "plt.text(-2, min_value,'www.quant-trading.co' , color='black', fontsize=15,family='Impact')\n",
    "plt.text(9, min_value,'Source: Yahoo Finance' , color='black', fontsize=10)"
   ]
  },
  {
   "cell_type": "markdown",
   "metadata": {},
   "source": [
    "## **Test if the means are equal**\n",
    "\n",
    "   \n",
    "<font size=\"3\"> From a visual inspection the month with the lowest mean return seems to be september. On the other hand, the month with the highest mean return seems to be november. We can run an statistical test to see if those means are different. Below we show how to do that. Since the p-value is very low (below 0.05) it means the results are significant, and we can conclude that the mean returns of september and november are indeed different from an statistical point of view.\n",
    "<br><br>"
   ]
  },
  {
   "cell_type": "code",
   "execution_count": 6,
   "metadata": {},
   "outputs": [
    {
     "name": "stdout",
     "output_type": "stream",
     "text": [
      "t = -3.043023116128223\n",
      "p = 0.0029657084412194707\n"
     ]
    }
   ],
   "source": [
    "#### A simple t test for difference of means\n",
    "t2, p2 = stats.ttest_ind(prices_hist_month.loc[prices_hist_month['Month'] == 9, 'Monthly_Return'],\n",
    "                         prices_hist_month.loc[prices_hist_month['Month'] == 11, 'Monthly_Return']\n",
    "                         )\n",
    "\n",
    "\n",
    "print(\"t = \" + str(t2))\n",
    "print(\"p = \" + str(p2))"
   ]
  },
  {
   "cell_type": "markdown",
   "metadata": {},
   "source": [
    "If this content is helpful and you want to make a donation please click on the button below. It helps us maintain this site.\n",
    "\n",
    "[![paypal](https://www.paypalobjects.com/en_US/i/btn/btn_donateCC_LG.gif)](https://www.paypal.com/cgi-bin/webscr?cmd=_s-xclick&hosted_button_id=29CVY97MEQ9BY)"
   ]
  }
 ],
 "metadata": {
  "kernelspec": {
   "display_name": "Python 3 (ipykernel)",
   "language": "python",
   "name": "python3"
  },
  "language_info": {
   "codemirror_mode": {
    "name": "ipython",
    "version": 3
   },
   "file_extension": ".py",
   "mimetype": "text/x-python",
   "name": "python",
   "nbconvert_exporter": "python",
   "pygments_lexer": "ipython3",
   "version": "3.9.12"
  }
 },
 "nbformat": 4,
 "nbformat_minor": 2
}
