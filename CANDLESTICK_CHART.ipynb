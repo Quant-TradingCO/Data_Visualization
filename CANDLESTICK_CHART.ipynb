{
 "cells": [
  {
   "cell_type": "markdown",
   "metadata": {},
   "source": [
    "![This is an image](Quant-Trading.jpg)"
   ]
  },
  {
   "cell_type": "markdown",
   "metadata": {},
   "source": [
    "<font size=\"3\">\n",
    "Please visit our website <a href=\"https://www.quant-trading.co\" target=\"_blank\">quant-trading.co</a> for more tools on quantitative finance and data science.\n",
    "</font>"
   ]
  },
  {
   "cell_type": "code",
   "execution_count": 1,
   "metadata": {},
   "outputs": [],
   "source": [
    "# !pip install plotly"
   ]
  },
  {
   "cell_type": "markdown",
   "metadata": {},
   "source": [
    "# **HOW TO MAKE A CANDLESTICK CHART FOR STOCKS' PRICES?**\n",
    "\n",
    "## **Candlestick chart**\n",
    "\n",
    "<font size=\"3\"> Candlestick charts are a very useful way to visualize financial markets data. There, you can see the low, high, open and close for a particular asset. Candlestick charts originated in Japan over 100 years before the West developed the bar and point-and-figure charts. The candlestick has a wide part called the \"real body\". This real body represents the price range between the open and close of that day's trading. When the real body is filled in or black (also red), it means the close was lower than the open. If the real body is white (or light color), it means the close was higher than the open. Just above and below the real body are often seen the vertical lines called shadows. The shadows show the high and low prices of that day's trading. If the upper shadow on a down candle is short, it indicates that the open on that day was near the day's high. A short upper shadow on an up day dictates that the close was near the high. The relationship between the days open, high, low, and close determines the look of the daily candlestick. Real bodies can be long or short and black or white. Shadows can be long or short.<br><br> \n",
    "    \n",
    "<font size=\"3\"> In this notebook we will use Yahoo Finance Data and then plot it into a CandleStick chart. If you want to know how to download the data from the yahoo finance API please take a look  <a href=\"https://quant-trading.co/how-to-download-data-from-yahoo-finance-api/\" target=\"_blank\">here</a>\n",
    "<br><br>"
   ]
  },
  {
   "cell_type": "code",
   "execution_count": 1,
   "metadata": {},
   "outputs": [],
   "source": [
    "import warnings\n",
    "warnings.filterwarnings('ignore')\n",
    "\n",
    "import plotly.graph_objects as go\n",
    "import datetime\n",
    "import yfinance as yf "
   ]
  },
  {
   "cell_type": "markdown",
   "metadata": {},
   "source": [
    "## **Download the date**\n",
    "\n",
    "<font size=\"3\"> We do as usual with the yahoo finance API. \n",
    "<br><br>"
   ]
  },
  {
   "cell_type": "code",
   "execution_count": 7,
   "metadata": {},
   "outputs": [
    {
     "data": {
      "text/html": [
       "<div>\n",
       "<style scoped>\n",
       "    .dataframe tbody tr th:only-of-type {\n",
       "        vertical-align: middle;\n",
       "    }\n",
       "\n",
       "    .dataframe tbody tr th {\n",
       "        vertical-align: top;\n",
       "    }\n",
       "\n",
       "    .dataframe thead th {\n",
       "        text-align: right;\n",
       "    }\n",
       "</style>\n",
       "<table border=\"1\" class=\"dataframe\">\n",
       "  <thead>\n",
       "    <tr style=\"text-align: right;\">\n",
       "      <th></th>\n",
       "      <th>Date</th>\n",
       "      <th>Open</th>\n",
       "      <th>High</th>\n",
       "      <th>Low</th>\n",
       "      <th>Close</th>\n",
       "      <th>Volume</th>\n",
       "      <th>Dividends</th>\n",
       "      <th>Stock Splits</th>\n",
       "    </tr>\n",
       "  </thead>\n",
       "  <tbody>\n",
       "    <tr>\n",
       "      <th>0</th>\n",
       "      <td>2024-01-02</td>\n",
       "      <td>186.911482</td>\n",
       "      <td>188.199846</td>\n",
       "      <td>183.655642</td>\n",
       "      <td>185.403412</td>\n",
       "      <td>82488700</td>\n",
       "      <td>0.0</td>\n",
       "      <td>0</td>\n",
       "    </tr>\n",
       "    <tr>\n",
       "      <th>1</th>\n",
       "      <td>2024-01-03</td>\n",
       "      <td>183.985237</td>\n",
       "      <td>185.643125</td>\n",
       "      <td>183.196235</td>\n",
       "      <td>184.015198</td>\n",
       "      <td>58414500</td>\n",
       "      <td>0.0</td>\n",
       "      <td>0</td>\n",
       "    </tr>\n",
       "    <tr>\n",
       "      <th>2</th>\n",
       "      <td>2024-01-04</td>\n",
       "      <td>181.917861</td>\n",
       "      <td>182.856666</td>\n",
       "      <td>180.649491</td>\n",
       "      <td>181.678177</td>\n",
       "      <td>71983600</td>\n",
       "      <td>0.0</td>\n",
       "      <td>0</td>\n",
       "    </tr>\n",
       "    <tr>\n",
       "      <th>3</th>\n",
       "      <td>2024-01-05</td>\n",
       "      <td>181.758077</td>\n",
       "      <td>182.527085</td>\n",
       "      <td>179.940389</td>\n",
       "      <td>180.949097</td>\n",
       "      <td>62303300</td>\n",
       "      <td>0.0</td>\n",
       "      <td>0</td>\n",
       "    </tr>\n",
       "    <tr>\n",
       "      <th>4</th>\n",
       "      <td>2024-01-08</td>\n",
       "      <td>181.857938</td>\n",
       "      <td>185.363474</td>\n",
       "      <td>181.268693</td>\n",
       "      <td>185.323517</td>\n",
       "      <td>59144500</td>\n",
       "      <td>0.0</td>\n",
       "      <td>0</td>\n",
       "    </tr>\n",
       "    <tr>\n",
       "      <th>...</th>\n",
       "      <td>...</td>\n",
       "      <td>...</td>\n",
       "      <td>...</td>\n",
       "      <td>...</td>\n",
       "      <td>...</td>\n",
       "      <td>...</td>\n",
       "      <td>...</td>\n",
       "      <td>...</td>\n",
       "    </tr>\n",
       "    <tr>\n",
       "      <th>56</th>\n",
       "      <td>2024-03-22</td>\n",
       "      <td>171.759995</td>\n",
       "      <td>173.050003</td>\n",
       "      <td>170.059998</td>\n",
       "      <td>172.279999</td>\n",
       "      <td>71106600</td>\n",
       "      <td>0.0</td>\n",
       "      <td>0</td>\n",
       "    </tr>\n",
       "    <tr>\n",
       "      <th>57</th>\n",
       "      <td>2024-03-25</td>\n",
       "      <td>170.570007</td>\n",
       "      <td>171.940002</td>\n",
       "      <td>169.449997</td>\n",
       "      <td>170.850006</td>\n",
       "      <td>54288300</td>\n",
       "      <td>0.0</td>\n",
       "      <td>0</td>\n",
       "    </tr>\n",
       "    <tr>\n",
       "      <th>58</th>\n",
       "      <td>2024-03-26</td>\n",
       "      <td>170.000000</td>\n",
       "      <td>171.419998</td>\n",
       "      <td>169.580002</td>\n",
       "      <td>169.710007</td>\n",
       "      <td>57388400</td>\n",
       "      <td>0.0</td>\n",
       "      <td>0</td>\n",
       "    </tr>\n",
       "    <tr>\n",
       "      <th>59</th>\n",
       "      <td>2024-03-27</td>\n",
       "      <td>170.410004</td>\n",
       "      <td>173.600006</td>\n",
       "      <td>170.110001</td>\n",
       "      <td>173.309998</td>\n",
       "      <td>60273300</td>\n",
       "      <td>0.0</td>\n",
       "      <td>0</td>\n",
       "    </tr>\n",
       "    <tr>\n",
       "      <th>60</th>\n",
       "      <td>2024-03-28</td>\n",
       "      <td>171.750000</td>\n",
       "      <td>172.229996</td>\n",
       "      <td>170.509995</td>\n",
       "      <td>171.479996</td>\n",
       "      <td>65672700</td>\n",
       "      <td>0.0</td>\n",
       "      <td>0</td>\n",
       "    </tr>\n",
       "  </tbody>\n",
       "</table>\n",
       "<p>61 rows × 8 columns</p>\n",
       "</div>"
      ],
      "text/plain": [
       "         Date        Open        High         Low       Close    Volume  \\\n",
       "0  2024-01-02  186.911482  188.199846  183.655642  185.403412  82488700   \n",
       "1  2024-01-03  183.985237  185.643125  183.196235  184.015198  58414500   \n",
       "2  2024-01-04  181.917861  182.856666  180.649491  181.678177  71983600   \n",
       "3  2024-01-05  181.758077  182.527085  179.940389  180.949097  62303300   \n",
       "4  2024-01-08  181.857938  185.363474  181.268693  185.323517  59144500   \n",
       "..        ...         ...         ...         ...         ...       ...   \n",
       "56 2024-03-22  171.759995  173.050003  170.059998  172.279999  71106600   \n",
       "57 2024-03-25  170.570007  171.940002  169.449997  170.850006  54288300   \n",
       "58 2024-03-26  170.000000  171.419998  169.580002  169.710007  57388400   \n",
       "59 2024-03-27  170.410004  173.600006  170.110001  173.309998  60273300   \n",
       "60 2024-03-28  171.750000  172.229996  170.509995  171.479996  65672700   \n",
       "\n",
       "    Dividends  Stock Splits  \n",
       "0         0.0             0  \n",
       "1         0.0             0  \n",
       "2         0.0             0  \n",
       "3         0.0             0  \n",
       "4         0.0             0  \n",
       "..        ...           ...  \n",
       "56        0.0             0  \n",
       "57        0.0             0  \n",
       "58        0.0             0  \n",
       "59        0.0             0  \n",
       "60        0.0             0  \n",
       "\n",
       "[61 rows x 8 columns]"
      ]
     },
     "execution_count": 7,
     "metadata": {},
     "output_type": "execute_result"
    }
   ],
   "source": [
    "Ticker = 'AAPL'\n",
    "my_ticker = yf.Ticker(Ticker)\n",
    "\n",
    "#DATES\n",
    "start_date = datetime.datetime(2023, 12, 31)\n",
    "end_date = datetime.datetime(2024, 3, 31)\n",
    "\n",
    "prices_hist = my_ticker.history(start=start_date,end=end_date)\n",
    "prices_hist.reset_index(inplace=True)\n",
    "prices_hist"
   ]
  },
  {
   "cell_type": "markdown",
   "metadata": {},
   "source": [
    "## **Create the candlestick chart**\n",
    "\n",
    "   \n",
    "<font size=\"3\"> We will use the plotly library, paticularly the graph objects module. The plotly.graph_objects module provides an automatically-generated hierarchy of classes called \"graph objects\" that may be used to represent figures, with a top-level class plotly.graph_objects.Figure. Graph objects have several benefits compared to plain Python dictionaries. Below you can find an example on how to do that.\n",
    "<br><br>"
   ]
  },
  {
   "cell_type": "code",
   "execution_count": 8,
   "metadata": {},
   "outputs": [
    {
     "data": {
      "application/vnd.plotly.v1+json": {
       "config": {
        "plotlyServerURL": "https://plot.ly"
       },
       "data": [
        {
         "close": [
          185.40341186523438,
          184.01519775390625,
          181.6781768798828,
          180.9490966796875,
          185.32351684570312,
          184.904052734375,
          185.9527130126953,
          185.35348510742188,
          185.6830596923828,
          183.39598083496094,
          182.4471893310547,
          188.38961791992188,
          191.3158721923828,
          193.6428985595703,
          194.93125915527344,
          194.2521209716797,
          193.92254638671875,
          192.17477416992188,
          191.48565673828125,
          187.80035400390625,
          184.1649932861328,
          186.6218719482422,
          185.6131591796875,
          187.44081115722656,
          189.0587615966797,
          189.1686248779297,
          188.08001708984375,
          188.85000610351562,
          187.14999389648438,
          185.0399932861328,
          184.14999389648438,
          183.86000061035156,
          182.30999755859375,
          181.55999755859375,
          182.32000732421875,
          184.3699951171875,
          182.52000427246094,
          181.16000366210938,
          182.6300048828125,
          181.4199981689453,
          180.75,
          179.66000366210938,
          175.10000610351562,
          170.1199951171875,
          169.1199951171875,
          169,
          170.72999572753906,
          172.75,
          173.22999572753906,
          171.1300048828125,
          173,
          172.6199951171875,
          173.72000122070312,
          176.0800018310547,
          178.6699981689453,
          171.3699951171875,
          172.27999877929688,
          170.85000610351562,
          169.7100067138672,
          173.30999755859375,
          171.47999572753906
         ],
         "decreasing": {
          "line": {
           "color": "darkblue"
          }
         },
         "high": [
          188.1998464738089,
          185.6431254111685,
          182.85666576862886,
          182.52708495454746,
          185.3634744030773,
          184.91403450398255,
          186.16243684463709,
          186.8116312253992,
          186.50202199031025,
          184.0251675797272,
          182.69687073658068,
          188.89896249818113,
          191.70537456415155,
          195.0810658067958,
          195.50054007343732,
          196.12972989673594,
          196.0198762258377,
          194.5117883684032,
          191.95505899363846,
          191.55557199079496,
          186.8615645791857,
          186.71175359755597,
          187.09126880325115,
          189.0088176462439,
          189.06874336664646,
          190.80653429845782,
          189.2984483326332,
          189.99000549316406,
          188.6699981689453,
          186.2100067138672,
          185.52999877929688,
          184.49000549316406,
          184.85000610351562,
          182.42999267578125,
          182.88999938964844,
          184.9600067138672,
          185.0399932861328,
          182.75999450683594,
          183.9199981689453,
          183.1199951171875,
          182.57000732421875,
          180.52999877929688,
          176.89999389648438,
          172.0399932861328,
          171.24000549316406,
          170.72999572753906,
          173.6999969482422,
          174.3800048828125,
          174.02999877929688,
          173.19000244140625,
          174.30999755859375,
          172.6199951171875,
          177.7100067138672,
          176.61000061035156,
          178.6699981689453,
          177.49000549316406,
          173.0500030517578,
          171.94000244140625,
          171.4199981689453,
          173.60000610351562,
          172.22999572753906
         ],
         "increasing": {
          "line": {
           "color": "royalblue"
          }
         },
         "low": [
          183.65564213979312,
          183.19623542052352,
          180.64949073484405,
          179.94038931104083,
          181.26869341477496,
          182.4971204361262,
          183.68560174206004,
          183.38599440680028,
          184.95399427937303,
          180.69940961126105,
          180.07023271320108,
          185.59318314580958,
          188.57937382023323,
          192.01497101731607,
          193.5829887121662,
          194.09232122500623,
          192.86389969740193,
          191.6953901587997,
          189.3384027747614,
          187.2310883397439,
          184.1150691979485,
          183.58575273645212,
          179.02156411244593,
          185.603159731609,
          186.53198701483143,
          188.36964132757223,
          187.11125201406014,
          188,
          186.7899932861328,
          183.50999450683594,
          182.44000244140625,
          181.35000610351562,
          181.6699981689453,
          180,
          180.66000366210938,
          182.4600067138672,
          182.22999572753906,
          180.64999389648438,
          179.55999755859375,
          180.1300048828125,
          179.52999877929688,
          177.3800048828125,
          173.7899932861328,
          169.6199951171875,
          168.67999267578125,
          168.49000549316406,
          168.94000244140625,
          172.0500030517578,
          171.00999450683594,
          170.75999450683594,
          172.0500030517578,
          170.2899932861328,
          173.52000427246094,
          173.02999877929688,
          175.08999633789062,
          170.83999633789062,
          170.05999755859375,
          169.4499969482422,
          169.5800018310547,
          170.11000061035156,
          170.50999450683594
         ],
         "open": [
          186.91148197073747,
          183.9852372040843,
          181.9178612698145,
          181.75807721578164,
          181.85793785162858,
          183.68560631116787,
          184.1150616539879,
          186.30227140341125,
          185.82288066527983,
          181.92785303160176,
          181.03899778578935,
          185.85284631993997,
          189.08871838659448,
          192.05492857381827,
          194.7714746380085,
          195.17094665603798,
          194.9712113062782,
          194.02242258764994,
          191.7652986896417,
          190.6966673703197,
          186.80162824254683,
          183.75553426493718,
          179.63078733908293,
          187.9102134030252,
          186.62186866256275,
          190.39705313348986,
          189.14864558456094,
          188.64999389648438,
          188.4199981689453,
          185.77000427246094,
          185.32000732421875,
          183.5500030517578,
          183.4199981689453,
          181.7899932861328,
          181.94000244140625,
          183.47999572753906,
          185.00999450683594,
          182.24000549316406,
          181.10000610351562,
          182.50999450683594,
          181.27000427246094,
          179.5500030517578,
          176.14999389648438,
          170.75999450683594,
          171.05999755859375,
          169.14999389648438,
          169,
          172.94000244140625,
          173.14999389648438,
          172.77000427246094,
          172.91000366210938,
          171.1699981689453,
          175.57000732421875,
          174.33999633789062,
          175.72000122070312,
          177.0500030517578,
          171.75999450683594,
          170.57000732421875,
          170,
          170.41000366210938,
          171.75
         ],
         "type": "candlestick",
         "x": [
          "2024-01-02T00:00:00",
          "2024-01-03T00:00:00",
          "2024-01-04T00:00:00",
          "2024-01-05T00:00:00",
          "2024-01-08T00:00:00",
          "2024-01-09T00:00:00",
          "2024-01-10T00:00:00",
          "2024-01-11T00:00:00",
          "2024-01-12T00:00:00",
          "2024-01-16T00:00:00",
          "2024-01-17T00:00:00",
          "2024-01-18T00:00:00",
          "2024-01-19T00:00:00",
          "2024-01-22T00:00:00",
          "2024-01-23T00:00:00",
          "2024-01-24T00:00:00",
          "2024-01-25T00:00:00",
          "2024-01-26T00:00:00",
          "2024-01-29T00:00:00",
          "2024-01-30T00:00:00",
          "2024-01-31T00:00:00",
          "2024-02-01T00:00:00",
          "2024-02-02T00:00:00",
          "2024-02-05T00:00:00",
          "2024-02-06T00:00:00",
          "2024-02-07T00:00:00",
          "2024-02-08T00:00:00",
          "2024-02-09T00:00:00",
          "2024-02-12T00:00:00",
          "2024-02-13T00:00:00",
          "2024-02-14T00:00:00",
          "2024-02-15T00:00:00",
          "2024-02-16T00:00:00",
          "2024-02-20T00:00:00",
          "2024-02-21T00:00:00",
          "2024-02-22T00:00:00",
          "2024-02-23T00:00:00",
          "2024-02-26T00:00:00",
          "2024-02-27T00:00:00",
          "2024-02-28T00:00:00",
          "2024-02-29T00:00:00",
          "2024-03-01T00:00:00",
          "2024-03-04T00:00:00",
          "2024-03-05T00:00:00",
          "2024-03-06T00:00:00",
          "2024-03-07T00:00:00",
          "2024-03-08T00:00:00",
          "2024-03-11T00:00:00",
          "2024-03-12T00:00:00",
          "2024-03-13T00:00:00",
          "2024-03-14T00:00:00",
          "2024-03-15T00:00:00",
          "2024-03-18T00:00:00",
          "2024-03-19T00:00:00",
          "2024-03-20T00:00:00",
          "2024-03-21T00:00:00",
          "2024-03-22T00:00:00",
          "2024-03-25T00:00:00",
          "2024-03-26T00:00:00",
          "2024-03-27T00:00:00",
          "2024-03-28T00:00:00"
         ]
        }
       ],
       "layout": {
        "paper_bgcolor": "rgba(0,0,0,0)",
        "plot_bgcolor": "rgba(0,0,0,0)",
        "template": {
         "data": {
          "bar": [
           {
            "error_x": {
             "color": "#2a3f5f"
            },
            "error_y": {
             "color": "#2a3f5f"
            },
            "marker": {
             "line": {
              "color": "#E5ECF6",
              "width": 0.5
             },
             "pattern": {
              "fillmode": "overlay",
              "size": 10,
              "solidity": 0.2
             }
            },
            "type": "bar"
           }
          ],
          "barpolar": [
           {
            "marker": {
             "line": {
              "color": "#E5ECF6",
              "width": 0.5
             },
             "pattern": {
              "fillmode": "overlay",
              "size": 10,
              "solidity": 0.2
             }
            },
            "type": "barpolar"
           }
          ],
          "carpet": [
           {
            "aaxis": {
             "endlinecolor": "#2a3f5f",
             "gridcolor": "white",
             "linecolor": "white",
             "minorgridcolor": "white",
             "startlinecolor": "#2a3f5f"
            },
            "baxis": {
             "endlinecolor": "#2a3f5f",
             "gridcolor": "white",
             "linecolor": "white",
             "minorgridcolor": "white",
             "startlinecolor": "#2a3f5f"
            },
            "type": "carpet"
           }
          ],
          "choropleth": [
           {
            "colorbar": {
             "outlinewidth": 0,
             "ticks": ""
            },
            "type": "choropleth"
           }
          ],
          "contour": [
           {
            "colorbar": {
             "outlinewidth": 0,
             "ticks": ""
            },
            "colorscale": [
             [
              0,
              "#0d0887"
             ],
             [
              0.1111111111111111,
              "#46039f"
             ],
             [
              0.2222222222222222,
              "#7201a8"
             ],
             [
              0.3333333333333333,
              "#9c179e"
             ],
             [
              0.4444444444444444,
              "#bd3786"
             ],
             [
              0.5555555555555556,
              "#d8576b"
             ],
             [
              0.6666666666666666,
              "#ed7953"
             ],
             [
              0.7777777777777778,
              "#fb9f3a"
             ],
             [
              0.8888888888888888,
              "#fdca26"
             ],
             [
              1,
              "#f0f921"
             ]
            ],
            "type": "contour"
           }
          ],
          "contourcarpet": [
           {
            "colorbar": {
             "outlinewidth": 0,
             "ticks": ""
            },
            "type": "contourcarpet"
           }
          ],
          "heatmap": [
           {
            "colorbar": {
             "outlinewidth": 0,
             "ticks": ""
            },
            "colorscale": [
             [
              0,
              "#0d0887"
             ],
             [
              0.1111111111111111,
              "#46039f"
             ],
             [
              0.2222222222222222,
              "#7201a8"
             ],
             [
              0.3333333333333333,
              "#9c179e"
             ],
             [
              0.4444444444444444,
              "#bd3786"
             ],
             [
              0.5555555555555556,
              "#d8576b"
             ],
             [
              0.6666666666666666,
              "#ed7953"
             ],
             [
              0.7777777777777778,
              "#fb9f3a"
             ],
             [
              0.8888888888888888,
              "#fdca26"
             ],
             [
              1,
              "#f0f921"
             ]
            ],
            "type": "heatmap"
           }
          ],
          "heatmapgl": [
           {
            "colorbar": {
             "outlinewidth": 0,
             "ticks": ""
            },
            "colorscale": [
             [
              0,
              "#0d0887"
             ],
             [
              0.1111111111111111,
              "#46039f"
             ],
             [
              0.2222222222222222,
              "#7201a8"
             ],
             [
              0.3333333333333333,
              "#9c179e"
             ],
             [
              0.4444444444444444,
              "#bd3786"
             ],
             [
              0.5555555555555556,
              "#d8576b"
             ],
             [
              0.6666666666666666,
              "#ed7953"
             ],
             [
              0.7777777777777778,
              "#fb9f3a"
             ],
             [
              0.8888888888888888,
              "#fdca26"
             ],
             [
              1,
              "#f0f921"
             ]
            ],
            "type": "heatmapgl"
           }
          ],
          "histogram": [
           {
            "marker": {
             "pattern": {
              "fillmode": "overlay",
              "size": 10,
              "solidity": 0.2
             }
            },
            "type": "histogram"
           }
          ],
          "histogram2d": [
           {
            "colorbar": {
             "outlinewidth": 0,
             "ticks": ""
            },
            "colorscale": [
             [
              0,
              "#0d0887"
             ],
             [
              0.1111111111111111,
              "#46039f"
             ],
             [
              0.2222222222222222,
              "#7201a8"
             ],
             [
              0.3333333333333333,
              "#9c179e"
             ],
             [
              0.4444444444444444,
              "#bd3786"
             ],
             [
              0.5555555555555556,
              "#d8576b"
             ],
             [
              0.6666666666666666,
              "#ed7953"
             ],
             [
              0.7777777777777778,
              "#fb9f3a"
             ],
             [
              0.8888888888888888,
              "#fdca26"
             ],
             [
              1,
              "#f0f921"
             ]
            ],
            "type": "histogram2d"
           }
          ],
          "histogram2dcontour": [
           {
            "colorbar": {
             "outlinewidth": 0,
             "ticks": ""
            },
            "colorscale": [
             [
              0,
              "#0d0887"
             ],
             [
              0.1111111111111111,
              "#46039f"
             ],
             [
              0.2222222222222222,
              "#7201a8"
             ],
             [
              0.3333333333333333,
              "#9c179e"
             ],
             [
              0.4444444444444444,
              "#bd3786"
             ],
             [
              0.5555555555555556,
              "#d8576b"
             ],
             [
              0.6666666666666666,
              "#ed7953"
             ],
             [
              0.7777777777777778,
              "#fb9f3a"
             ],
             [
              0.8888888888888888,
              "#fdca26"
             ],
             [
              1,
              "#f0f921"
             ]
            ],
            "type": "histogram2dcontour"
           }
          ],
          "mesh3d": [
           {
            "colorbar": {
             "outlinewidth": 0,
             "ticks": ""
            },
            "type": "mesh3d"
           }
          ],
          "parcoords": [
           {
            "line": {
             "colorbar": {
              "outlinewidth": 0,
              "ticks": ""
             }
            },
            "type": "parcoords"
           }
          ],
          "pie": [
           {
            "automargin": true,
            "type": "pie"
           }
          ],
          "scatter": [
           {
            "fillpattern": {
             "fillmode": "overlay",
             "size": 10,
             "solidity": 0.2
            },
            "type": "scatter"
           }
          ],
          "scatter3d": [
           {
            "line": {
             "colorbar": {
              "outlinewidth": 0,
              "ticks": ""
             }
            },
            "marker": {
             "colorbar": {
              "outlinewidth": 0,
              "ticks": ""
             }
            },
            "type": "scatter3d"
           }
          ],
          "scattercarpet": [
           {
            "marker": {
             "colorbar": {
              "outlinewidth": 0,
              "ticks": ""
             }
            },
            "type": "scattercarpet"
           }
          ],
          "scattergeo": [
           {
            "marker": {
             "colorbar": {
              "outlinewidth": 0,
              "ticks": ""
             }
            },
            "type": "scattergeo"
           }
          ],
          "scattergl": [
           {
            "marker": {
             "colorbar": {
              "outlinewidth": 0,
              "ticks": ""
             }
            },
            "type": "scattergl"
           }
          ],
          "scattermapbox": [
           {
            "marker": {
             "colorbar": {
              "outlinewidth": 0,
              "ticks": ""
             }
            },
            "type": "scattermapbox"
           }
          ],
          "scatterpolar": [
           {
            "marker": {
             "colorbar": {
              "outlinewidth": 0,
              "ticks": ""
             }
            },
            "type": "scatterpolar"
           }
          ],
          "scatterpolargl": [
           {
            "marker": {
             "colorbar": {
              "outlinewidth": 0,
              "ticks": ""
             }
            },
            "type": "scatterpolargl"
           }
          ],
          "scatterternary": [
           {
            "marker": {
             "colorbar": {
              "outlinewidth": 0,
              "ticks": ""
             }
            },
            "type": "scatterternary"
           }
          ],
          "surface": [
           {
            "colorbar": {
             "outlinewidth": 0,
             "ticks": ""
            },
            "colorscale": [
             [
              0,
              "#0d0887"
             ],
             [
              0.1111111111111111,
              "#46039f"
             ],
             [
              0.2222222222222222,
              "#7201a8"
             ],
             [
              0.3333333333333333,
              "#9c179e"
             ],
             [
              0.4444444444444444,
              "#bd3786"
             ],
             [
              0.5555555555555556,
              "#d8576b"
             ],
             [
              0.6666666666666666,
              "#ed7953"
             ],
             [
              0.7777777777777778,
              "#fb9f3a"
             ],
             [
              0.8888888888888888,
              "#fdca26"
             ],
             [
              1,
              "#f0f921"
             ]
            ],
            "type": "surface"
           }
          ],
          "table": [
           {
            "cells": {
             "fill": {
              "color": "#EBF0F8"
             },
             "line": {
              "color": "white"
             }
            },
            "header": {
             "fill": {
              "color": "#C8D4E3"
             },
             "line": {
              "color": "white"
             }
            },
            "type": "table"
           }
          ]
         },
         "layout": {
          "annotationdefaults": {
           "arrowcolor": "#2a3f5f",
           "arrowhead": 0,
           "arrowwidth": 1
          },
          "autotypenumbers": "strict",
          "coloraxis": {
           "colorbar": {
            "outlinewidth": 0,
            "ticks": ""
           }
          },
          "colorscale": {
           "diverging": [
            [
             0,
             "#8e0152"
            ],
            [
             0.1,
             "#c51b7d"
            ],
            [
             0.2,
             "#de77ae"
            ],
            [
             0.3,
             "#f1b6da"
            ],
            [
             0.4,
             "#fde0ef"
            ],
            [
             0.5,
             "#f7f7f7"
            ],
            [
             0.6,
             "#e6f5d0"
            ],
            [
             0.7,
             "#b8e186"
            ],
            [
             0.8,
             "#7fbc41"
            ],
            [
             0.9,
             "#4d9221"
            ],
            [
             1,
             "#276419"
            ]
           ],
           "sequential": [
            [
             0,
             "#0d0887"
            ],
            [
             0.1111111111111111,
             "#46039f"
            ],
            [
             0.2222222222222222,
             "#7201a8"
            ],
            [
             0.3333333333333333,
             "#9c179e"
            ],
            [
             0.4444444444444444,
             "#bd3786"
            ],
            [
             0.5555555555555556,
             "#d8576b"
            ],
            [
             0.6666666666666666,
             "#ed7953"
            ],
            [
             0.7777777777777778,
             "#fb9f3a"
            ],
            [
             0.8888888888888888,
             "#fdca26"
            ],
            [
             1,
             "#f0f921"
            ]
           ],
           "sequentialminus": [
            [
             0,
             "#0d0887"
            ],
            [
             0.1111111111111111,
             "#46039f"
            ],
            [
             0.2222222222222222,
             "#7201a8"
            ],
            [
             0.3333333333333333,
             "#9c179e"
            ],
            [
             0.4444444444444444,
             "#bd3786"
            ],
            [
             0.5555555555555556,
             "#d8576b"
            ],
            [
             0.6666666666666666,
             "#ed7953"
            ],
            [
             0.7777777777777778,
             "#fb9f3a"
            ],
            [
             0.8888888888888888,
             "#fdca26"
            ],
            [
             1,
             "#f0f921"
            ]
           ]
          },
          "colorway": [
           "#636efa",
           "#EF553B",
           "#00cc96",
           "#ab63fa",
           "#FFA15A",
           "#19d3f3",
           "#FF6692",
           "#B6E880",
           "#FF97FF",
           "#FECB52"
          ],
          "font": {
           "color": "#2a3f5f"
          },
          "geo": {
           "bgcolor": "white",
           "lakecolor": "white",
           "landcolor": "#E5ECF6",
           "showlakes": true,
           "showland": true,
           "subunitcolor": "white"
          },
          "hoverlabel": {
           "align": "left"
          },
          "hovermode": "closest",
          "mapbox": {
           "style": "light"
          },
          "paper_bgcolor": "white",
          "plot_bgcolor": "#E5ECF6",
          "polar": {
           "angularaxis": {
            "gridcolor": "white",
            "linecolor": "white",
            "ticks": ""
           },
           "bgcolor": "#E5ECF6",
           "radialaxis": {
            "gridcolor": "white",
            "linecolor": "white",
            "ticks": ""
           }
          },
          "scene": {
           "xaxis": {
            "backgroundcolor": "#E5ECF6",
            "gridcolor": "white",
            "gridwidth": 2,
            "linecolor": "white",
            "showbackground": true,
            "ticks": "",
            "zerolinecolor": "white"
           },
           "yaxis": {
            "backgroundcolor": "#E5ECF6",
            "gridcolor": "white",
            "gridwidth": 2,
            "linecolor": "white",
            "showbackground": true,
            "ticks": "",
            "zerolinecolor": "white"
           },
           "zaxis": {
            "backgroundcolor": "#E5ECF6",
            "gridcolor": "white",
            "gridwidth": 2,
            "linecolor": "white",
            "showbackground": true,
            "ticks": "",
            "zerolinecolor": "white"
           }
          },
          "shapedefaults": {
           "line": {
            "color": "#2a3f5f"
           }
          },
          "ternary": {
           "aaxis": {
            "gridcolor": "white",
            "linecolor": "white",
            "ticks": ""
           },
           "baxis": {
            "gridcolor": "white",
            "linecolor": "white",
            "ticks": ""
           },
           "bgcolor": "#E5ECF6",
           "caxis": {
            "gridcolor": "white",
            "linecolor": "white",
            "ticks": ""
           }
          },
          "title": {
           "x": 0.05
          },
          "xaxis": {
           "automargin": true,
           "gridcolor": "white",
           "linecolor": "white",
           "ticks": "",
           "title": {
            "standoff": 15
           },
           "zerolinecolor": "white",
           "zerolinewidth": 2
          },
          "yaxis": {
           "automargin": true,
           "gridcolor": "white",
           "linecolor": "white",
           "ticks": "",
           "title": {
            "standoff": 15
           },
           "zerolinecolor": "white",
           "zerolinewidth": 2
          }
         }
        },
        "title": {
         "text": "Candle Chart for AAPL",
         "x": 0.5
        },
        "xaxis": {
         "rangeslider": {
          "visible": false
         }
        }
       }
      },
      "text/html": [
       "<div>                            <div id=\"1ece37cc-62c1-45aa-a415-c85874c0264f\" class=\"plotly-graph-div\" style=\"height:525px; width:100%;\"></div>            <script type=\"text/javascript\">                require([\"plotly\"], function(Plotly) {                    window.PLOTLYENV=window.PLOTLYENV || {};                                    if (document.getElementById(\"1ece37cc-62c1-45aa-a415-c85874c0264f\")) {                    Plotly.newPlot(                        \"1ece37cc-62c1-45aa-a415-c85874c0264f\",                        [{\"close\":[185.40341186523438,184.01519775390625,181.6781768798828,180.9490966796875,185.32351684570312,184.904052734375,185.9527130126953,185.35348510742188,185.6830596923828,183.39598083496094,182.4471893310547,188.38961791992188,191.3158721923828,193.6428985595703,194.93125915527344,194.2521209716797,193.92254638671875,192.17477416992188,191.48565673828125,187.80035400390625,184.1649932861328,186.6218719482422,185.6131591796875,187.44081115722656,189.0587615966797,189.1686248779297,188.08001708984375,188.85000610351562,187.14999389648438,185.0399932861328,184.14999389648438,183.86000061035156,182.30999755859375,181.55999755859375,182.32000732421875,184.3699951171875,182.52000427246094,181.16000366210938,182.6300048828125,181.4199981689453,180.75,179.66000366210938,175.10000610351562,170.1199951171875,169.1199951171875,169.0,170.72999572753906,172.75,173.22999572753906,171.1300048828125,173.0,172.6199951171875,173.72000122070312,176.0800018310547,178.6699981689453,171.3699951171875,172.27999877929688,170.85000610351562,169.7100067138672,173.30999755859375,171.47999572753906],\"decreasing\":{\"line\":{\"color\":\"darkblue\"}},\"high\":[188.1998464738089,185.6431254111685,182.85666576862886,182.52708495454746,185.3634744030773,184.91403450398255,186.16243684463709,186.8116312253992,186.50202199031025,184.0251675797272,182.69687073658068,188.89896249818113,191.70537456415155,195.0810658067958,195.50054007343732,196.12972989673594,196.0198762258377,194.5117883684032,191.95505899363846,191.55557199079496,186.8615645791857,186.71175359755597,187.09126880325115,189.0088176462439,189.06874336664646,190.80653429845782,189.2984483326332,189.99000549316406,188.6699981689453,186.2100067138672,185.52999877929688,184.49000549316406,184.85000610351562,182.42999267578125,182.88999938964844,184.9600067138672,185.0399932861328,182.75999450683594,183.9199981689453,183.1199951171875,182.57000732421875,180.52999877929688,176.89999389648438,172.0399932861328,171.24000549316406,170.72999572753906,173.6999969482422,174.3800048828125,174.02999877929688,173.19000244140625,174.30999755859375,172.6199951171875,177.7100067138672,176.61000061035156,178.6699981689453,177.49000549316406,173.0500030517578,171.94000244140625,171.4199981689453,173.60000610351562,172.22999572753906],\"increasing\":{\"line\":{\"color\":\"royalblue\"}},\"low\":[183.65564213979312,183.19623542052352,180.64949073484405,179.94038931104083,181.26869341477496,182.4971204361262,183.68560174206004,183.38599440680028,184.95399427937303,180.69940961126105,180.07023271320108,185.59318314580958,188.57937382023323,192.01497101731607,193.5829887121662,194.09232122500623,192.86389969740193,191.6953901587997,189.3384027747614,187.2310883397439,184.1150691979485,183.58575273645212,179.02156411244593,185.603159731609,186.53198701483143,188.36964132757223,187.11125201406014,188.0,186.7899932861328,183.50999450683594,182.44000244140625,181.35000610351562,181.6699981689453,180.0,180.66000366210938,182.4600067138672,182.22999572753906,180.64999389648438,179.55999755859375,180.1300048828125,179.52999877929688,177.3800048828125,173.7899932861328,169.6199951171875,168.67999267578125,168.49000549316406,168.94000244140625,172.0500030517578,171.00999450683594,170.75999450683594,172.0500030517578,170.2899932861328,173.52000427246094,173.02999877929688,175.08999633789062,170.83999633789062,170.05999755859375,169.4499969482422,169.5800018310547,170.11000061035156,170.50999450683594],\"open\":[186.91148197073747,183.9852372040843,181.9178612698145,181.75807721578164,181.85793785162858,183.68560631116787,184.1150616539879,186.30227140341125,185.82288066527983,181.92785303160176,181.03899778578935,185.85284631993997,189.08871838659448,192.05492857381827,194.7714746380085,195.17094665603798,194.9712113062782,194.02242258764994,191.7652986896417,190.6966673703197,186.80162824254683,183.75553426493718,179.63078733908293,187.9102134030252,186.62186866256275,190.39705313348986,189.14864558456094,188.64999389648438,188.4199981689453,185.77000427246094,185.32000732421875,183.5500030517578,183.4199981689453,181.7899932861328,181.94000244140625,183.47999572753906,185.00999450683594,182.24000549316406,181.10000610351562,182.50999450683594,181.27000427246094,179.5500030517578,176.14999389648438,170.75999450683594,171.05999755859375,169.14999389648438,169.0,172.94000244140625,173.14999389648438,172.77000427246094,172.91000366210938,171.1699981689453,175.57000732421875,174.33999633789062,175.72000122070312,177.0500030517578,171.75999450683594,170.57000732421875,170.0,170.41000366210938,171.75],\"x\":[\"2024-01-02T00:00:00\",\"2024-01-03T00:00:00\",\"2024-01-04T00:00:00\",\"2024-01-05T00:00:00\",\"2024-01-08T00:00:00\",\"2024-01-09T00:00:00\",\"2024-01-10T00:00:00\",\"2024-01-11T00:00:00\",\"2024-01-12T00:00:00\",\"2024-01-16T00:00:00\",\"2024-01-17T00:00:00\",\"2024-01-18T00:00:00\",\"2024-01-19T00:00:00\",\"2024-01-22T00:00:00\",\"2024-01-23T00:00:00\",\"2024-01-24T00:00:00\",\"2024-01-25T00:00:00\",\"2024-01-26T00:00:00\",\"2024-01-29T00:00:00\",\"2024-01-30T00:00:00\",\"2024-01-31T00:00:00\",\"2024-02-01T00:00:00\",\"2024-02-02T00:00:00\",\"2024-02-05T00:00:00\",\"2024-02-06T00:00:00\",\"2024-02-07T00:00:00\",\"2024-02-08T00:00:00\",\"2024-02-09T00:00:00\",\"2024-02-12T00:00:00\",\"2024-02-13T00:00:00\",\"2024-02-14T00:00:00\",\"2024-02-15T00:00:00\",\"2024-02-16T00:00:00\",\"2024-02-20T00:00:00\",\"2024-02-21T00:00:00\",\"2024-02-22T00:00:00\",\"2024-02-23T00:00:00\",\"2024-02-26T00:00:00\",\"2024-02-27T00:00:00\",\"2024-02-28T00:00:00\",\"2024-02-29T00:00:00\",\"2024-03-01T00:00:00\",\"2024-03-04T00:00:00\",\"2024-03-05T00:00:00\",\"2024-03-06T00:00:00\",\"2024-03-07T00:00:00\",\"2024-03-08T00:00:00\",\"2024-03-11T00:00:00\",\"2024-03-12T00:00:00\",\"2024-03-13T00:00:00\",\"2024-03-14T00:00:00\",\"2024-03-15T00:00:00\",\"2024-03-18T00:00:00\",\"2024-03-19T00:00:00\",\"2024-03-20T00:00:00\",\"2024-03-21T00:00:00\",\"2024-03-22T00:00:00\",\"2024-03-25T00:00:00\",\"2024-03-26T00:00:00\",\"2024-03-27T00:00:00\",\"2024-03-28T00:00:00\"],\"type\":\"candlestick\"}],                        {\"template\":{\"data\":{\"histogram2dcontour\":[{\"type\":\"histogram2dcontour\",\"colorbar\":{\"outlinewidth\":0,\"ticks\":\"\"},\"colorscale\":[[0.0,\"#0d0887\"],[0.1111111111111111,\"#46039f\"],[0.2222222222222222,\"#7201a8\"],[0.3333333333333333,\"#9c179e\"],[0.4444444444444444,\"#bd3786\"],[0.5555555555555556,\"#d8576b\"],[0.6666666666666666,\"#ed7953\"],[0.7777777777777778,\"#fb9f3a\"],[0.8888888888888888,\"#fdca26\"],[1.0,\"#f0f921\"]]}],\"choropleth\":[{\"type\":\"choropleth\",\"colorbar\":{\"outlinewidth\":0,\"ticks\":\"\"}}],\"histogram2d\":[{\"type\":\"histogram2d\",\"colorbar\":{\"outlinewidth\":0,\"ticks\":\"\"},\"colorscale\":[[0.0,\"#0d0887\"],[0.1111111111111111,\"#46039f\"],[0.2222222222222222,\"#7201a8\"],[0.3333333333333333,\"#9c179e\"],[0.4444444444444444,\"#bd3786\"],[0.5555555555555556,\"#d8576b\"],[0.6666666666666666,\"#ed7953\"],[0.7777777777777778,\"#fb9f3a\"],[0.8888888888888888,\"#fdca26\"],[1.0,\"#f0f921\"]]}],\"heatmap\":[{\"type\":\"heatmap\",\"colorbar\":{\"outlinewidth\":0,\"ticks\":\"\"},\"colorscale\":[[0.0,\"#0d0887\"],[0.1111111111111111,\"#46039f\"],[0.2222222222222222,\"#7201a8\"],[0.3333333333333333,\"#9c179e\"],[0.4444444444444444,\"#bd3786\"],[0.5555555555555556,\"#d8576b\"],[0.6666666666666666,\"#ed7953\"],[0.7777777777777778,\"#fb9f3a\"],[0.8888888888888888,\"#fdca26\"],[1.0,\"#f0f921\"]]}],\"heatmapgl\":[{\"type\":\"heatmapgl\",\"colorbar\":{\"outlinewidth\":0,\"ticks\":\"\"},\"colorscale\":[[0.0,\"#0d0887\"],[0.1111111111111111,\"#46039f\"],[0.2222222222222222,\"#7201a8\"],[0.3333333333333333,\"#9c179e\"],[0.4444444444444444,\"#bd3786\"],[0.5555555555555556,\"#d8576b\"],[0.6666666666666666,\"#ed7953\"],[0.7777777777777778,\"#fb9f3a\"],[0.8888888888888888,\"#fdca26\"],[1.0,\"#f0f921\"]]}],\"contourcarpet\":[{\"type\":\"contourcarpet\",\"colorbar\":{\"outlinewidth\":0,\"ticks\":\"\"}}],\"contour\":[{\"type\":\"contour\",\"colorbar\":{\"outlinewidth\":0,\"ticks\":\"\"},\"colorscale\":[[0.0,\"#0d0887\"],[0.1111111111111111,\"#46039f\"],[0.2222222222222222,\"#7201a8\"],[0.3333333333333333,\"#9c179e\"],[0.4444444444444444,\"#bd3786\"],[0.5555555555555556,\"#d8576b\"],[0.6666666666666666,\"#ed7953\"],[0.7777777777777778,\"#fb9f3a\"],[0.8888888888888888,\"#fdca26\"],[1.0,\"#f0f921\"]]}],\"surface\":[{\"type\":\"surface\",\"colorbar\":{\"outlinewidth\":0,\"ticks\":\"\"},\"colorscale\":[[0.0,\"#0d0887\"],[0.1111111111111111,\"#46039f\"],[0.2222222222222222,\"#7201a8\"],[0.3333333333333333,\"#9c179e\"],[0.4444444444444444,\"#bd3786\"],[0.5555555555555556,\"#d8576b\"],[0.6666666666666666,\"#ed7953\"],[0.7777777777777778,\"#fb9f3a\"],[0.8888888888888888,\"#fdca26\"],[1.0,\"#f0f921\"]]}],\"mesh3d\":[{\"type\":\"mesh3d\",\"colorbar\":{\"outlinewidth\":0,\"ticks\":\"\"}}],\"scatter\":[{\"fillpattern\":{\"fillmode\":\"overlay\",\"size\":10,\"solidity\":0.2},\"type\":\"scatter\"}],\"parcoords\":[{\"type\":\"parcoords\",\"line\":{\"colorbar\":{\"outlinewidth\":0,\"ticks\":\"\"}}}],\"scatterpolargl\":[{\"type\":\"scatterpolargl\",\"marker\":{\"colorbar\":{\"outlinewidth\":0,\"ticks\":\"\"}}}],\"bar\":[{\"error_x\":{\"color\":\"#2a3f5f\"},\"error_y\":{\"color\":\"#2a3f5f\"},\"marker\":{\"line\":{\"color\":\"#E5ECF6\",\"width\":0.5},\"pattern\":{\"fillmode\":\"overlay\",\"size\":10,\"solidity\":0.2}},\"type\":\"bar\"}],\"scattergeo\":[{\"type\":\"scattergeo\",\"marker\":{\"colorbar\":{\"outlinewidth\":0,\"ticks\":\"\"}}}],\"scatterpolar\":[{\"type\":\"scatterpolar\",\"marker\":{\"colorbar\":{\"outlinewidth\":0,\"ticks\":\"\"}}}],\"histogram\":[{\"marker\":{\"pattern\":{\"fillmode\":\"overlay\",\"size\":10,\"solidity\":0.2}},\"type\":\"histogram\"}],\"scattergl\":[{\"type\":\"scattergl\",\"marker\":{\"colorbar\":{\"outlinewidth\":0,\"ticks\":\"\"}}}],\"scatter3d\":[{\"type\":\"scatter3d\",\"line\":{\"colorbar\":{\"outlinewidth\":0,\"ticks\":\"\"}},\"marker\":{\"colorbar\":{\"outlinewidth\":0,\"ticks\":\"\"}}}],\"scattermapbox\":[{\"type\":\"scattermapbox\",\"marker\":{\"colorbar\":{\"outlinewidth\":0,\"ticks\":\"\"}}}],\"scatterternary\":[{\"type\":\"scatterternary\",\"marker\":{\"colorbar\":{\"outlinewidth\":0,\"ticks\":\"\"}}}],\"scattercarpet\":[{\"type\":\"scattercarpet\",\"marker\":{\"colorbar\":{\"outlinewidth\":0,\"ticks\":\"\"}}}],\"carpet\":[{\"aaxis\":{\"endlinecolor\":\"#2a3f5f\",\"gridcolor\":\"white\",\"linecolor\":\"white\",\"minorgridcolor\":\"white\",\"startlinecolor\":\"#2a3f5f\"},\"baxis\":{\"endlinecolor\":\"#2a3f5f\",\"gridcolor\":\"white\",\"linecolor\":\"white\",\"minorgridcolor\":\"white\",\"startlinecolor\":\"#2a3f5f\"},\"type\":\"carpet\"}],\"table\":[{\"cells\":{\"fill\":{\"color\":\"#EBF0F8\"},\"line\":{\"color\":\"white\"}},\"header\":{\"fill\":{\"color\":\"#C8D4E3\"},\"line\":{\"color\":\"white\"}},\"type\":\"table\"}],\"barpolar\":[{\"marker\":{\"line\":{\"color\":\"#E5ECF6\",\"width\":0.5},\"pattern\":{\"fillmode\":\"overlay\",\"size\":10,\"solidity\":0.2}},\"type\":\"barpolar\"}],\"pie\":[{\"automargin\":true,\"type\":\"pie\"}]},\"layout\":{\"autotypenumbers\":\"strict\",\"colorway\":[\"#636efa\",\"#EF553B\",\"#00cc96\",\"#ab63fa\",\"#FFA15A\",\"#19d3f3\",\"#FF6692\",\"#B6E880\",\"#FF97FF\",\"#FECB52\"],\"font\":{\"color\":\"#2a3f5f\"},\"hovermode\":\"closest\",\"hoverlabel\":{\"align\":\"left\"},\"paper_bgcolor\":\"white\",\"plot_bgcolor\":\"#E5ECF6\",\"polar\":{\"bgcolor\":\"#E5ECF6\",\"angularaxis\":{\"gridcolor\":\"white\",\"linecolor\":\"white\",\"ticks\":\"\"},\"radialaxis\":{\"gridcolor\":\"white\",\"linecolor\":\"white\",\"ticks\":\"\"}},\"ternary\":{\"bgcolor\":\"#E5ECF6\",\"aaxis\":{\"gridcolor\":\"white\",\"linecolor\":\"white\",\"ticks\":\"\"},\"baxis\":{\"gridcolor\":\"white\",\"linecolor\":\"white\",\"ticks\":\"\"},\"caxis\":{\"gridcolor\":\"white\",\"linecolor\":\"white\",\"ticks\":\"\"}},\"coloraxis\":{\"colorbar\":{\"outlinewidth\":0,\"ticks\":\"\"}},\"colorscale\":{\"sequential\":[[0.0,\"#0d0887\"],[0.1111111111111111,\"#46039f\"],[0.2222222222222222,\"#7201a8\"],[0.3333333333333333,\"#9c179e\"],[0.4444444444444444,\"#bd3786\"],[0.5555555555555556,\"#d8576b\"],[0.6666666666666666,\"#ed7953\"],[0.7777777777777778,\"#fb9f3a\"],[0.8888888888888888,\"#fdca26\"],[1.0,\"#f0f921\"]],\"sequentialminus\":[[0.0,\"#0d0887\"],[0.1111111111111111,\"#46039f\"],[0.2222222222222222,\"#7201a8\"],[0.3333333333333333,\"#9c179e\"],[0.4444444444444444,\"#bd3786\"],[0.5555555555555556,\"#d8576b\"],[0.6666666666666666,\"#ed7953\"],[0.7777777777777778,\"#fb9f3a\"],[0.8888888888888888,\"#fdca26\"],[1.0,\"#f0f921\"]],\"diverging\":[[0,\"#8e0152\"],[0.1,\"#c51b7d\"],[0.2,\"#de77ae\"],[0.3,\"#f1b6da\"],[0.4,\"#fde0ef\"],[0.5,\"#f7f7f7\"],[0.6,\"#e6f5d0\"],[0.7,\"#b8e186\"],[0.8,\"#7fbc41\"],[0.9,\"#4d9221\"],[1,\"#276419\"]]},\"xaxis\":{\"gridcolor\":\"white\",\"linecolor\":\"white\",\"ticks\":\"\",\"title\":{\"standoff\":15},\"zerolinecolor\":\"white\",\"automargin\":true,\"zerolinewidth\":2},\"yaxis\":{\"gridcolor\":\"white\",\"linecolor\":\"white\",\"ticks\":\"\",\"title\":{\"standoff\":15},\"zerolinecolor\":\"white\",\"automargin\":true,\"zerolinewidth\":2},\"scene\":{\"xaxis\":{\"backgroundcolor\":\"#E5ECF6\",\"gridcolor\":\"white\",\"linecolor\":\"white\",\"showbackground\":true,\"ticks\":\"\",\"zerolinecolor\":\"white\",\"gridwidth\":2},\"yaxis\":{\"backgroundcolor\":\"#E5ECF6\",\"gridcolor\":\"white\",\"linecolor\":\"white\",\"showbackground\":true,\"ticks\":\"\",\"zerolinecolor\":\"white\",\"gridwidth\":2},\"zaxis\":{\"backgroundcolor\":\"#E5ECF6\",\"gridcolor\":\"white\",\"linecolor\":\"white\",\"showbackground\":true,\"ticks\":\"\",\"zerolinecolor\":\"white\",\"gridwidth\":2}},\"shapedefaults\":{\"line\":{\"color\":\"#2a3f5f\"}},\"annotationdefaults\":{\"arrowcolor\":\"#2a3f5f\",\"arrowhead\":0,\"arrowwidth\":1},\"geo\":{\"bgcolor\":\"white\",\"landcolor\":\"#E5ECF6\",\"subunitcolor\":\"white\",\"showland\":true,\"showlakes\":true,\"lakecolor\":\"white\"},\"title\":{\"x\":0.05},\"mapbox\":{\"style\":\"light\"}}},\"title\":{\"text\":\"Candle Chart for AAPL\",\"x\":0.5},\"xaxis\":{\"rangeslider\":{\"visible\":false}},\"paper_bgcolor\":\"rgba(0,0,0,0)\",\"plot_bgcolor\":\"rgba(0,0,0,0)\"},                        {\"responsive\": true}                    ).then(function(){\n",
       "                            \n",
       "var gd = document.getElementById('1ece37cc-62c1-45aa-a415-c85874c0264f');\n",
       "var x = new MutationObserver(function (mutations, observer) {{\n",
       "        var display = window.getComputedStyle(gd).display;\n",
       "        if (!display || display === 'none') {{\n",
       "            console.log([gd, 'removed!']);\n",
       "            Plotly.purge(gd);\n",
       "            observer.disconnect();\n",
       "        }}\n",
       "}});\n",
       "\n",
       "// Listen for the removal of the full notebook cells\n",
       "var notebookContainer = gd.closest('#notebook-container');\n",
       "if (notebookContainer) {{\n",
       "    x.observe(notebookContainer, {childList: true});\n",
       "}}\n",
       "\n",
       "// Listen for the clearing of the current output cell\n",
       "var outputEl = gd.closest('.output');\n",
       "if (outputEl) {{\n",
       "    x.observe(outputEl, {childList: true});\n",
       "}}\n",
       "\n",
       "                        })                };                });            </script>        </div>"
      ]
     },
     "metadata": {},
     "output_type": "display_data"
    }
   ],
   "source": [
    "#Gráfico de velas acción particular\n",
    "\n",
    "layout = go.Figure(data=[go.Candlestick(\n",
    "    x=prices_hist['Date'],\n",
    "    open=prices_hist['Open'], high=prices_hist['High'],\n",
    "    low=prices_hist['Low'], close=prices_hist['Close'],\n",
    "    increasing_line_color= 'royalblue', decreasing_line_color= 'darkblue'\n",
    ")])\n",
    "\n",
    "\n",
    "layout.update_layout(title=\"Candle Chart for \"+Ticker,                     \n",
    "                     title_x=0.5,\n",
    "                     xaxis_rangeslider_visible=False,\n",
    "                     paper_bgcolor='rgba(0,0,0,0)', \n",
    "                     plot_bgcolor='rgba(0,0,0,0)')\n",
    "layout.show()"
   ]
  },
  {
   "cell_type": "markdown",
   "metadata": {},
   "source": [
    "If this content is helpful and you want to make a donation please click on the button\n",
    "\n",
    "[![paypal](https://www.paypalobjects.com/en_US/i/btn/btn_donateCC_LG.gif)](https://www.paypal.com/cgi-bin/webscr?cmd=_s-xclick&hosted_button_id=29CVY97MEQ9BY)"
   ]
  }
 ],
 "metadata": {
  "kernelspec": {
   "display_name": "Python 3 (ipykernel)",
   "language": "python",
   "name": "python3"
  },
  "language_info": {
   "codemirror_mode": {
    "name": "ipython",
    "version": 3
   },
   "file_extension": ".py",
   "mimetype": "text/x-python",
   "name": "python",
   "nbconvert_exporter": "python",
   "pygments_lexer": "ipython3",
   "version": "3.9.12"
  }
 },
 "nbformat": 4,
 "nbformat_minor": 2
}
